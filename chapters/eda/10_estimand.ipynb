{
 "cells": [
  {
   "attachments": {},
   "cell_type": "markdown",
   "id": "d9bcc0ff-7f75-47f2-bc0e-a0d7bb971e51",
   "metadata": {},
   "source": [
    "# Estimandi teorici e estimandi empirici {#sec-estimand}"
   ]
  },
  {
   "cell_type": "markdown",
   "metadata": {},
   "source": [
    "**Prerequisiti**\n",
    "\n",
    "- Leggere [What Is Your Estimand? Defining the Target Quantity Connects Statistical Evidence to Theory](https://journals.sagepub.com/doi/pdf/10.1177/00031224211004187?casa_token=Njy45xy38UcAAAAA:8tTWNVsV1VJO7KRabmAEqwqcs5ktVYq-csy9m8xYaDr4Z7faWNCbNT60xELtt3KlLKwF6YGltUJV) di @lundberg2021your. \n",
    "\n",
    "**Concetti e competenze chiave**\n",
    "\n",
    "- Distinzione tra estimando teorico e estimando empirico.\n",
    "- Distinzione tra estimando e stimatore statistico.\n",
    "- Benefici dell'utilizzo di estimandi chiaramente definiti."
   ]
  },
  {
   "cell_type": "markdown",
   "metadata": {},
   "source": [
    "## Introduzione {.unnumbered}\n",
    "\n",
    "In questo capitolo abbiamo esplorato diverse tecniche di analisi esplorativa dei dati, utili per sintetizzare grandi quantità di informazioni e visualizzare le distribuzioni delle variabili e le relazioni tra esse. Abbiamo presunto che le variabili siano state misurate correttamente per rispondere a una specifica domanda teorica. Tuttavia, invece di considerare questo legame tra estimandi empirici e teorici come scontato, è importante riflettere criticamente su tale relazione. A tal fine, esamineremo l'articolo di @lundberg2021your, intitolato *\"What Is Your Estimand? Defining the Target Quantity Connects Statistical Evidence to Theory\"*. Il punto centrale dell'articolo è l'importanza di definire con chiarezza l'estimando chiave in qualsiasi studio quantitativo, affinché questo possa rispondere in modo preciso alla domanda di ricerca.\n",
    "\n",
    "L'estimando è la quantità che uno studio intende stimare, fungendo da collegamento tra teoria ed evidenza statistica. Gli autori propongono un approccio metodologico articolato in tre fasi principali:\n",
    "\n",
    "1. **Definire un estimando teorico**, collegandolo chiaramente alla teoria che guida la ricerca.\n",
    "2. **Collegare l'estimando teorico a un estimando empirico**, ossia una misura ottenuta dai dati osservabili che fornisca informazioni sull'estimando teorico, considerando una serie di assunzioni di identificazione.\n",
    "3. **Apprendere dai dati**, scegliendo strategie di stima appropriate per ottenere l'estimando empirico in modo rigoroso.\n",
    "\n",
    "Questo approccio chiarisce come le evidenze empiriche possano rispondere alle domande teoriche alla base della ricerca. In sintesi, @lundberg2021your esortano i ricercatori a definire con precisione l'estimando teorico, indipendentemente dal modello statistico utilizzato, per rendere esplicito il collegamento tra teoria ed evidenza empirica.\n",
    "\n",
    "In altre parole, gli autori sottolineano che non è sufficiente affermare che lo scopo di uno studio è verificare se un coefficiente di regressione sia \"significativamente diverso da zero\", poiché in questo caso l'estimando è definito solo in relazione al modello statistico. Al contrario, è necessario distinguere tra estimando teorico (l'obiettivo concettuale della ricerca, ad esempio l'apprendimento associativo) ed estimando empirico (la misura osservabile). Ad esempio, l'estimando empirico potrebbe essere rappresentato dal tasso di apprendimento $\\alpha$ o dalla temperatura inversa $\\beta$, parametri del modello Rescorla-Wagner applicato ai dati di un compito di Probabilistic Reversal Learning (PRL). Questi parametri spiegano l'apprendimento associativo in termini di predisposizione del soggetto a modificare il valore attribuito agli stimoli o la sua strategia di scelta (esplorazione vs sfruttamento) — si veda la sezione @sec-rescorla-wagner.\n",
    "\n",
    "È cruciale riconoscere che gli estimandi empirici possono essere calcolati in modi diversi. Il modello Rescorla-Wagner è solo uno dei tanti modelli per rappresentare l'apprendimento associativo, e i parametri possono essere stimati attraverso vari metodi. Inoltre, i dati su cui si basano queste analisi possono essere raccolti in esperimenti progettati in modi differenti o applicati a popolazioni diverse. Pertanto, l'estimando empirico, ossia il valore numerico che rappresenta la capacità di apprendimento associativo, può variare a seconda del modello, delle tecniche di stima e del design sperimentale utilizzati.\n",
    "\n",
    "In definitiva, @lundberg2021your sottolineano che i ricercatori devono definire la loro domanda di ricerca in termini di un estimando teorico che sia indipendente dal metodo di analisi dei dati. Successivamente, devono giustificare la scelta di uno specifico estimando empirico, spiegando perché, dati i dati disponibili, hanno optato per una particolare strategia di stima piuttosto che per altre, visto che molteplici opzioni sono generalmente disponibili.\n",
    "\n",
    "::: {.callout-note}\n",
    "In italiano, la traduzione comunemente usata di \"estimand\" nella letteratura scientifica è *estimando*. Questo termine viene utilizzato per riferirsi alla quantità o al parametro che si desidera stimare in un'analisi statistica.\n",
    "\n",
    "*Stimatore*, invece, è la traduzione di \"estimator\" e si riferisce alla regola o alla funzione utilizzata per calcolare una stima basata sui dati osservati. Quindi, \"estimando\" e \"stimatore\" sono termini distinti: l'\"estimando\" è l'oggetto dell'inferenza statistica, mentre lo \"stimatore\" è il metodo o la formula usata per ottenere l'inferenza.\n",
    ":::"
   ]
  },
  {
   "cell_type": "markdown",
   "metadata": {},
   "source": [
    "## Limiti dell'Approccio Attuale\n",
    "\n",
    "@lundberg2021your osservano che spesso i ricercatori sociali omettono il passaggio cruciale della definizione dell'estimando, concentrandosi direttamente sui dati e sulle procedure statistiche. Questo approccio può causare una mancanza di chiarezza riguardo a ciò che si intende effettivamente stimare, limitando anche l'uso di modelli statistici alternativi che potrebbero essere più adatti a rispondere alla domanda di ricerca. Sebbene @lundberg2021your facciano riferimento alla letteratura sociologica, questi stessi argomenti sono applicabili anche alla psicologia.\n",
    "\n",
    "Il problema del collegamento tra estimandi teorici ed empirici (si veda la figura seguente) può essere illustrato con un esempio in psicologia riguardante l'intelligenza. La distinzione tra estimandi teorici ed empirici è cruciale: gli estimandi teorici possono includere quantità non osservabili, come i costrutti latenti, ad esempio l'intelligenza come concetto astratto. Gli estimandi empirici, invece, riguardano esclusivamente dati osservabili, come i punteggi ottenuti in un test di intelligenza.\n",
    "\n",
    "Nel caso dell'intelligenza, la scelta dell'estimando teorico richiede un'argomentazione sostanziale riguardo alla teoria dell'intelligenza adottata e agli obiettivi della ricerca. Ad esempio, se si vuole studiare l'intelligenza generale (fattore g), bisogna chiarire come questo costrutto viene teoricamente definito e perché è rilevante per lo studio.\n",
    "\n",
    "D'altra parte, la scelta dell'estimando empirico richiede un'argomentazione concettuale su come i dati osservabili, come i risultati dei test di intelligenza, possano rappresentare il costrutto latente di interesse. È necessario spiegare quali dati vengono utilizzati per inferire il costrutto teorico e quali assunzioni si fanno riguardo al rapporto tra le misure osservate e il costrutto latente.\n",
    "\n",
    "Infine, la scelta delle strategie di stima, come l'uso di modelli di equazioni strutturali per stimare l'intelligenza generale da diversi test, è una decisione separata, che può essere in parte guidata dai dati disponibili e dalle caratteristiche della misurazione. Separare chiaramente questi passaggi aiuta i ricercatori a fare scelte informate e fondate, consente ai lettori di valutare in modo critico le affermazioni fatte e permette alla comunità scientifica di costruire su basi solide per futuri sviluppi della ricerca.\n",
    "\n",
    "![**Tre Scelte Critiche nelle Argomentazioni delle Scienze Sociali Quantitative.** La prima scelta riguarda gli estimandi teorici, che definiscono gli obiettivi dell'inferenza. È necessario un argomento che colleghi gli estimandi teorici alla teoria più ampia. La seconda scelta riguarda gli estimandi empirici, che collegano questi obiettivi ai dati osservabili. Questo collegamento richiede delle assunzioni sostanziali, che possono essere formalizzate attraverso grafici aciclici diretti. La terza scelta riguarda le strategie di stima, che determinano come verranno effettivamente utilizzati i dati. La selezione delle strategie di stima si basa sui dati disponibili (figura tratta da @lundberg2021your).](../../figures/lundberg2021_fig1.png)"
   ]
  },
  {
   "cell_type": "markdown",
   "metadata": {},
   "source": [
    "## Definizione dell'Estimando Teorico\n",
    "\n",
    "La definizione dell'estimando teorico è cruciale per determinare la natura dello studio perché specifica chiaramente quale tipo di relazione tra le variabili stiamo cercando di indagare. In altre parole, l'estimando teorico indica se lo studio mira a descrivere, prevedere o stabilire una relazione causale. Vediamo come questo funziona in pratica con esempi legati all'intelligenza e all'allenamento cognitivo.\n",
    "\n",
    "### 1. Estimando Teorico in uno Studio Descrittivo\n",
    "\n",
    "Uno **studio descrittivo** ha come obiettivo semplicemente quello di caratterizzare o descrivere una certa realtà o fenomeno senza inferire relazioni di causa-effetto. In questo caso, l'estimando teorico potrebbe essere una misura che riassume una caratteristica della popolazione.\n",
    "\n",
    "**Esempio**: *Qual è il punteggio medio di intelligenza tra le persone che hanno partecipato a un programma di allenamento cognitivo rispetto a quelle che non l'hanno fatto?*\n",
    "\n",
    "**Estimando Teorico**: La differenza media nei punteggi di intelligenza tra i due gruppi. Questo tipo di estimando descrive la distribuzione dei punteggi di intelligenza nei gruppi, ma non implica che l'allenamento abbia causato le differenze osservate.\n",
    "\n",
    "### 2. Estimando Teorico in uno Studio Predittivo\n",
    "\n",
    "Uno **studio predittivo** si concentra sulla capacità di prevedere un risultato basato su dati osservabili. Qui, l'estimando teorico riguarda la capacità del modello di predire correttamente i risultati futuri, ma senza implicazioni causali.\n",
    "\n",
    "**Esempio**: *In che misura la partecipazione a un programma di allenamento cognitivo può prevedere il punteggio di intelligenza futuro di una persona?*\n",
    "\n",
    "**Estimando Teorico**: La previsione del punteggio di intelligenza basata sulla partecipazione all'allenamento cognitivo. Questo estimando si basa su modelli statistici che utilizzano variabili osservabili per fare previsioni, ma non determinano la causalità tra allenamento e punteggi di intelligenza.\n",
    "\n",
    "### 3. Estimando Teorico in uno Studio Causale\n",
    "\n",
    "Uno **studio causale** cerca di stabilire un nesso diretto di causa-effetto tra variabili. L'estimando teorico in questo caso riguarda l'effetto diretto di una variabile indipendente su una variabile dipendente, tenendo conto di altre variabili confondenti.\n",
    "\n",
    "**Esempio**: *L'allenamento cognitivo causa un aumento nei punteggi di intelligenza?*\n",
    "\n",
    "**Estimando Teorico**: La differenza media nei punteggi di intelligenza che si attribuisce direttamente all'effetto dell'allenamento cognitivo, controllando per tutte le altre variabili confondenti. Questo estimando implica l'uso di un disegno di ricerca che isola l'effetto dell'allenamento, come un esperimento con assegnazione casuale.\n",
    "\n",
    "### Come l'Estimando Teorico Chiarisce la Natura dello Studio\n",
    "\n",
    "Definire l'estimando teorico in modo preciso aiuta a chiarire la natura dello studio perché specifica esattamente quale relazione tra le variabili viene studiata:\n",
    "\n",
    "- **Studi Descrittivi**: L'estimando teorico è una semplice descrizione di dati, come una media o una differenza, senza inferire causalità.\n",
    "- **Studi Predittivi**: L'estimando teorico si concentra sulla capacità di un modello di fare previsioni basate sui dati, senza implicazioni causali.\n",
    "- **Studi Causali**: L'estimando teorico cerca di determinare l'effetto diretto di una variabile su un'altra, richiedendo un disegno di studio che possa controllare variabili confondenti per isolare la causalità.\n",
    "\n",
    "In sintesi, l'estimando teorico orienta il ricercatore nel definire chiaramente se lo scopo dello studio è descrittivo, predittivo o causale, e guida il disegno dello studio e l'analisi dei dati di conseguenza.\n",
    "\n",
    "### Importanza dei DAG nel Contesto degli Estimandi Teorici\n",
    "\n",
    "Nella figura 2 dell'articolo di @lundberg2021your, i Grafici Aciclici Diretti (DAG) vengono utilizzati per illustrare le relazioni causali tra variabili all'interno di uno studio. I DAG sono strumenti visivi che aiutano i ricercatori a rappresentare e comprendere le assunzioni causali sottostanti ai loro studi, fornendo una chiara rappresentazione grafica di come le variabili si influenzano a vicenda. Questo è particolarmente importante quando si definiscono estimandi teorici, perché i DAG consentono di identificare chiaramente le variabili confondenti e di stabilire le relazioni di causalità.\n",
    "\n",
    "I DAG possono contribuire alla definizione degli estimandi teorici in molti modi.\n",
    "\n",
    "1. **Chiarificazione delle Relazioni Causali**: \n",
    "   I DAG aiutano a chiarire quali variabili sono considerate come cause potenziali e quali come effetti. Questo è fondamentale per definire l'estimando teorico, soprattutto in uno studio causale, dove è importante distinguere tra correlazione e causalità. Ad esempio, se si studia l'effetto dell'allenamento cognitivo sull'intelligenza, un DAG può mostrare come l'allenamento influisce direttamente sull'intelligenza, identificando al contempo variabili confondenti come il background educativo o la motivazione.\n",
    "\n",
    "2. **Identificazione delle Variabili Confondenti**:\n",
    "   Uno dei principali vantaggi dell'utilizzo dei DAG è la loro capacità di identificare le variabili confondenti che possono influenzare entrambe le variabili di interesse. Nel contesto degli estimandi teorici, riconoscere e controllare queste variabili confondenti è cruciale per stabilire una relazione causale valida. Ad esempio, un DAG potrebbe rivelare che la motivazione personale influisce sia sulla partecipazione all'allenamento cognitivo che sui punteggi di intelligenza, indicando che questa variabile deve essere controllata per ottenere un estimando causale corretto.\n",
    "\n",
    "3. **Guida nella Costruzione del Disegno di Ricerca**:\n",
    "   I DAG sono strumenti utili nella pianificazione del disegno di ricerca perché aiutano a determinare quali variabili devono essere misurate e controllate. Definendo chiaramente le relazioni tra le variabili, i ricercatori possono progettare esperimenti o studi osservazionali che minimizzano i bias e migliorano la validità interna dello studio. Ad esempio, un DAG può suggerire la necessità di randomizzare l'assegnazione all'allenamento cognitivo per garantire che l'effetto osservato sui punteggi di intelligenza sia realmente causato dall'allenamento e non da un'altra variabile.\n",
    "\n",
    "4. **Supporto nella Selezione delle Strategie di Stima**:\n",
    "   Una volta definite le relazioni tra le variabili attraverso un DAG, i ricercatori possono scegliere strategie di stima appropriate per gli estimandi teorici ed empirici. Per esempio, se un DAG indica che non ci sono percorsi diretti tra alcune variabili, si possono utilizzare metodi statistici che presuppongono l'indipendenza condizionale, come la regressione lineare o i modelli di equazioni strutturali.\n",
    "\n",
    "In sintesi, nel contesto della definizione degli estimandi teorici, i DAG sono strumenti essenziali che consentono ai ricercatori di visualizzare e comprendere le relazioni causali e le variabili confondenti all'interno di uno studio. Essi facilitano la costruzione di disegni di ricerca solidi, la selezione di strategie di stima appropriate e la comunicazione chiara delle assunzioni causali sottostanti. Utilizzando i DAG, i ricercatori possono garantire che gli estimandi teorici siano ben definiti e che le inferenze tratte dai dati siano valide e affidabili."
   ]
  },
  {
   "cell_type": "markdown",
   "metadata": {},
   "source": [
    "## Collegamento tra Estimando Teorico ed Empirico\n",
    "\n",
    "@lundberg2021your sottolineano l’importanza di collegare chiaramente l’estimando teorico all’estimando empirico, utilizzando assunzioni sostanziali e metodi appropriati per garantire che le conclusioni tratte dai dati siano valide. \n",
    "\n",
    "**Estimando Empirico**: L’estimando empirico è la quantità che viene effettivamente calcolata dai dati osservati. Mentre l’estimando teorico rappresenta l’obiettivo concettuale dello studio (come l’effetto dell’allenamento cognitivo sull’intelligenza), l’estimando empirico è ciò che viene effettivamente misurato nel contesto dei dati disponibili.\n",
    "\n",
    "Per tradurre un estimando teorico in uno empirico, è essenziale formulare assunzioni che rendano possibile l’inferenza causale. Queste assunzioni possono essere formalizzate attraverso l'uso dei Grafici Aciclici Diretti (DAG) per garantire che le variabili confondenti siano adeguatamente controllate. L'identificazione corretta assicura che le conclusioni derivate dai dati osservati siano valide rispetto all’effetto causale che si sta cercando di stimare.\n",
    "\n",
    "Consideriamo uno studio psicologico sull’effetto dell’allenamento cognitivo sui punteggi di intelligenza:\n",
    "\n",
    "1. **Estimando Teorico**: Il nostro obiettivo teorico potrebbe essere stimare l’effetto causale dell’allenamento cognitivo sull’aumento del punteggio di intelligenza in una popolazione adulta. L’estimando teorico qui sarebbe la differenza media nei punteggi di intelligenza tra gli individui che hanno partecipato all’allenamento e quelli che non lo hanno fatto, supponendo che l’unica differenza tra i gruppi sia l’allenamento stesso.\n",
    "\n",
    "2. **Estimando Empirico**: Per passare all’estimando empirico, dobbiamo considerare cosa possiamo effettivamente misurare. Supponiamo di avere dati da un campione di adulti, alcuni dei quali hanno partecipato all’allenamento cognitivo e altri no. L’estimando empirico potrebbe essere la differenza osservata nei punteggi di intelligenza tra questi due gruppi nel campione disponibile.\n",
    "\n",
    "3. **Assunzioni per l’Identificazione**:\n",
    "\n",
    "   - **Assunzione di Nessuna Confusione (No Confounding)**: Dobbiamo assumere che non vi siano variabili non misurate che influenzano sia la partecipazione all’allenamento che i punteggi di intelligenza. Per esempio, la motivazione personale potrebbe influenzare sia la decisione di partecipare all’allenamento che il punteggio di intelligenza. Se questa variabile non è controllata, l’estimando empirico potrebbe sovrastimare o sottostimare l’effetto dell’allenamento.\n",
    "   - **Assunzione di Non-Interferenza (Stable Unit Treatment Value Assumption, SUTVA)**: Dobbiamo assumere che la partecipazione di un individuo all’allenamento non influisca sui punteggi di intelligenza di altri individui. Questa assunzione potrebbe essere violata, ad esempio, se i partecipanti condividono tecniche apprese con amici che non hanno partecipato.\n",
    "\n",
    "4. **Utilizzo dei DAG per la Chiarificazione**:\n",
    "\n",
    "   - Un DAG può aiutare a visualizzare queste assunzioni mostrando le relazioni tra le variabili. In un DAG ben costruito, l’allenamento cognitivo influenzerebbe direttamente il punteggio di intelligenza, mentre altre variabili come l'educazione o la motivazione sarebbero rappresentate come confondenti da controllare. Se il DAG indica che ci sono variabili confondenti che non possiamo osservare o misurare, dovremo usare metodi statistici specifici, come i modelli di equazioni strutturali o l’uso di variabili strumentali, per isolare l’effetto dell’allenamento cognitivo.\n",
    "\n",
    "In sintesi, collegare correttamente l’estimando teorico a uno empirico è un passo cruciale per garantire la validità delle inferenze causali in uno studio. Utilizzando l'esempio relativo all'effetto dell'allenamento cognitivo sull'intelligenza, possiamo vedere come le assunzioni sostanziali e gli strumenti come i DAG siano essenziali per identificare correttamente le relazioni causali e assicurare che i risultati siano interpretabili in modo affidabile."
   ]
  },
  {
   "cell_type": "markdown",
   "metadata": {},
   "source": [
    "## Dedurre l'Estimando Empirico dai Dati Osservati\n",
    "\n",
    "Dopo aver chiaramente definito l’estimando teorico e stabilito il collegamento con l’estimando empirico attraverso l’identificazione, il passo successivo è utilizzare tecniche statistiche per ottenere stime valide dai dati raccolti.\n",
    "\n",
    "Riprendiamo l'esempio psicologico sull'effetto dell'allenamento cognitivo sui punteggi di intelligenza per illustrare come l'approccio bayesiano può essere utilizzato per stimare l’estimando empirico:\n",
    "\n",
    "1. **Definizione dell'Estimando Empirico**:\n",
    "\n",
    "   - L’estimando empirico in questo contesto è la differenza media nei punteggi di intelligenza tra il gruppo di individui che ha partecipato all’allenamento cognitivo e il gruppo che non ha partecipato.\n",
    "\n",
    "2. **Strategie di Stima Appropriate**:\n",
    "\n",
    "   - **Regressione Lineare**: Se ipotizziamo che i punteggi di intelligenza dipendano linearmente dalla partecipazione all'allenamento cognitivo e da altre variabili confondenti controllate, potremmo utilizzare una regressione lineare per stimare l’effetto dell’allenamento. In questa regressione, la partecipazione all’allenamento sarebbe una variabile indipendente, e i punteggi di intelligenza la variabile dipendente.\n",
    "   - **Matching**: Se i dati disponibili includono molte variabili confondenti misurate, potremmo utilizzare una tecnica di matching per creare coppie di individui simili (matchati) tra i gruppi di trattamento e controllo, basati su queste variabili. Questo metodo aiuta a bilanciare le differenze tra i gruppi che potrebbero influenzare i risultati, cercando di rendere le stime dell’effetto più affidabili.\n",
    "   - **Propensity Score Matching**: Invece di confrontare direttamente individui basandosi su caratteristiche osservabili, possiamo calcolare un punteggio di propensione per ciascun individuo, che rappresenta la probabilità di partecipare all’allenamento in base alle covariate osservate. Gli individui con punteggi di propensione simili vengono quindi confrontati, aiutando a controllare per le variabili confondenti.\n",
    "   - **Modelli di Equazioni Strutturali (SEM)**: Se ci sono molteplici relazioni tra variabili latenti e osservate, un modello di equazioni strutturali può essere utilizzato per stimare simultaneamente questi effetti complessi e isolare l’effetto diretto dell’allenamento cognitivo sui punteggi di intelligenza.\n",
    "   - **Randomizzazione**: In un disegno sperimentale ideale, l’assegnazione casuale dell’allenamento cognitivo elimina l’influenza delle variabili confondenti, permettendo una stima non distorta dell’effetto causale. Se i dati derivano da un esperimento randomizzato, potremmo semplicemente confrontare le medie dei due gruppi.\n",
    "\n",
    "3. **Interpreting the Results**:\n",
    "\n",
    "   - **Stime Non Distorte**: Utilizzando la strategia di stima appropriata, possiamo ottenere una stima non distorta dell’effetto dell’allenamento cognitivo sui punteggi di intelligenza. Ad esempio, se utilizziamo una regressione lineare e controlliamo correttamente per tutte le variabili confondenti, l’effetto stimato rappresenterà l’effetto causale dell’allenamento.\n",
    "\n",
    "La fase di stima è cruciale per trasformare i dati osservati in stime valide dell’estimando empirico. Nel contesto psicologico dell’allenamento cognitivo e dell’intelligenza, la scelta della strategia di stima appropriata dipende dalle assunzioni fatte sulla causalità e dalla natura dei dati disponibili. Utilizzando tecniche come la regressione, il matching, o i modelli di equazioni strutturali, i ricercatori possono ottenere stime precise e affidabili, garantendo che le conclusioni tratte siano valide e scientificamente robuste."
   ]
  },
  {
   "cell_type": "markdown",
   "metadata": {},
   "source": [
    "## Implicazioni per la Ricerca\n",
    "\n",
    "@lundberg2021your sottolineano l'importanza di una chiara comunicazione e dell'uso del framework presentato per migliorare la pratica della ricerca quantitativa. \n",
    "\n",
    "### Importanza della Trasparenza e della Chiarezza nella Ricerca\n",
    "\n",
    "Gli autori sottolineano che per garantire la validità e la replicabilità dei risultati di ricerca, è fondamentale che i ricercatori siano trasparenti e chiari su tutte le fasi del loro lavoro. Questo significa esplicitare le assunzioni fatte, il modo in cui l’estimando teorico è stato tradotto in un estimando empirico, e come i dati sono stati analizzati.\n",
    "\n",
    "Per esempio, in uno studio sull'effetto di una terapia cognitivo-comportamentale (CBT) sui livelli di ansia, è essenziale che i ricercatori definiscano chiaramente l’estimando teorico, ad esempio, \"l'effetto medio della CBT sulla riduzione dell'ansia nella popolazione target di adulti con disturbo d'ansia generalizzato\". Devono poi descrivere come questo estimando è stato misurato empiricamente, ad esempio, utilizzando questionari standardizzati per l'ansia prima e dopo l'intervento. Infine, devono spiegare le assunzioni fatte e le tecniche utilizzate per l'analisi dei dati, come un modello bayesiano per gestire la variabilità individuale nella risposta alla terapia.\n",
    "\n",
    "### Benefici dell’Utilizzo di Estimandi Chiaramente Definiti\n",
    "\n",
    "L'articolo discute come l'uso di estimandi chiaramente definiti può migliorare la comprensione dei risultati e facilitare il confronto tra studi diversi. Quando i ricercatori definiscono in modo preciso ciò che stanno stimando, diventa più facile per altri replicare lo studio, confrontare risultati e costruire un corpus di conoscenza cumulativo.\n",
    "\n",
    "Per esempio, consideriamo due studi sull'efficacia di diversi tipi di training di memoria per migliorare le funzioni cognitive negli anziani. Se entrambi gli studi definiscono chiaramente il loro estimando teorico (ad esempio, \"l'effetto del training di memoria verbale sul punteggio del test di memoria a lungo termine\") e empirico (ad esempio, \"la differenza media nei punteggi del test di memoria tra il gruppo che ha ricevuto il training e un gruppo di controllo\"), sarà più semplice confrontare i risultati e capire quale tipo di training è più efficace.\n",
    "\n",
    "### Adattabilità e Flessibilità del Framework\n",
    "\n",
    "Il framework proposto dagli autori è adattabile a diversi contesti di ricerca, permettendo ai ricercatori di applicare questi principi in una varietà di studi quantitativi, indipendentemente dal dominio specifico.\n",
    "\n",
    "Per esempio, in uno studio che esplora l’effetto della privazione del sonno sulla capacità di attenzione nei bambini, il framework potrebbe essere utilizzato per definire l’estimando teorico come “l’effetto della privazione di 8 ore di sonno sulla capacità di mantenere l’attenzione in attività ripetitive”, e l’estimando empirico potrebbe essere \"la differenza media nei punteggi di attenzione tra bambini che hanno dormito 8 ore e quelli che non hanno dormito\". Questo approccio garantisce che le conclusioni siano fondate su basi metodologiche solide e che altri ricercatori possano replicare lo studio per verificare i risultati."
   ]
  },
  {
   "cell_type": "markdown",
   "metadata": {},
   "source": [
    "## Conclusioni e Implicazioni per la Ricerca Futura\n",
    "\n",
    "L'adozione del framework proposto da @lundberg2021your per la definizione degli estimandi teorici ed empirici, la chiara identificazione delle assunzioni e l'utilizzo di metodi di stima appropriati può migliorare la qualità e l'affidabilità della ricerca quantitativa nelle scienze sociali. Questo approccio promuove una pratica di ricerca più rigorosa e trasparente.\n",
    "\n",
    "Se la comunità psicologica integrasse questo framework, studi sugli interventi psicologici, come quelli sulla terapia cognitivo-comportamentale (CBT) discusso nell'esempio sopra, potrebbero diventare più comparabili e replicabili. Ciò migliorerebbe la nostra comprensione dell'efficacia e dei limiti di tali interventi. Ad esempio, definendo chiaramente cosa si intende per \"efficacia\" della CBT (come la riduzione del punteggio su una scala di ansia standardizzata) e utilizzando metodi bayesiani per incorporare dati preesistenti e nuove osservazioni, è possibile ottenere stime più robuste e interpretabili. Queste stime rifletterebbero meglio l'efficacia reale della terapia nella pratica clinica.\n",
    "\n",
    "Le proposte di @lundberg2021your sono in linea con le raccomandazioni di altri studiosi. Andrew Gelman, ad esempio, sottolinea spesso l'importanza di definire con precisione cosa si sta cercando di stimare in un'analisi statistica. Gelman sostiene che una definizione vaga o mal definita dell'estimando teorico può portare a interpretazioni errate e conclusioni fuorvianti. La chiara definizione dell’estimando teorico, come evidenziato nell’articolo di Lundberg et al., è cruciale per determinare se uno studio è descrittivo, predittivo o causale, e per comprendere la natura dell'inferenza da trarre dai dati [@gelman2013ask].\n",
    "\n",
    "Sia @McElreath_rethinking, nel suo testo \"Statistical Rethinking,\" sia Andrew Gelman, enfatizzano l'importanza dell'utilizzo dei Grafici Aciclici Diretti (DAG) per rappresentare visivamente le assunzioni causali e le relazioni tra variabili in un modello statistico. Questo tipo di approccio aiuta i ricercatori a identificare variabili confondenti e a chiarire le relazioni causali, migliorando così la validità delle inferenze.\n",
    "\n",
    "Gelman discute anche frequentemente l'importanza della trasparenza nella comunicazione dei risultati di ricerca, un principio centrale anche nell’articolo di Lundberg et al. Egli insiste sul fatto che i ricercatori dovrebbero essere espliciti riguardo alle assunzioni fatte, ai metodi utilizzati e alle limitazioni dei loro studi [@gelman1995bayesian].\n",
    "\n",
    "In sintesi, sia Lundberg et al. che altri ricercatori evidenziano l'importanza di una chiara definizione degli estimandi, dell'uso dei DAG per rappresentare le assunzioni causali e della scelta di strategie di stima appropriate. L'approccio bayesiano, in particolare, offre un metodo potente e flessibile per gestire l'incertezza e aggiornare le inferenze alla luce di nuove evidenze. Adottando queste pratiche, i ricercatori nelle scienze sociali e nella psicologia possono migliorare la validità, la replicabilità e la trasparenza delle loro ricerche, contribuendo a una conoscenza scientifica più solida e affidabile."
   ]
  },
  {
   "cell_type": "markdown",
   "metadata": {},
   "source": [
    "## Considerazioni Conclusive\n",
    "\n",
    "In questo capitolo abbiamo esaminato l'importanza della definizione dell'estimando in uno studio quantitativo, come evidenziato nell'articolo di @lundberg2021your. Il concetto centrale è la distinzione tra estimando teorico ed estimando empirico e il loro collegamento, che facilita l'interpretazione dei risultati e rende l'inferenza statistica più rigorosa.\n",
    "\n",
    "L'articolo propone un framework strutturato in tre fasi principali:\n",
    "\n",
    "- Definire un estimando teorico collegato alla teoria sottostante.\n",
    "- Tradurre questo estimando in un estimando empirico, basato su dati osservabili e assunzioni di identificazione.\n",
    "- Scegliere le strategie di stima adeguate per ottenere stime affidabili.\n",
    "\n",
    "L'adozione di questo approccio consente di migliorare la chiarezza e la trasparenza nella ricerca, rendendo più facili il confronto tra studi diversi e la replicabilità dei risultati. La corretta definizione dell’estimando guida l’intero processo di ricerca, dalla progettazione dello studio alla scelta delle tecniche di stima e all’interpretazione dei risultati, garantendo che la teoria e le evidenze empiriche siano strettamente collegate."
   ]
  }
 ],
 "metadata": {
  "kernelspec": {
   "display_name": "pymc",
   "language": "python",
   "name": "python3"
  },
  "language_info": {
   "codemirror_mode": {
    "name": "ipython",
    "version": 3
   },
   "file_extension": ".py",
   "mimetype": "text/x-python",
   "name": "python",
   "nbconvert_exporter": "python",
   "pygments_lexer": "ipython3",
   "version": "3.12.4"
  },
  "vscode": {
   "interpreter": {
    "hash": "030ae53b1150d0ca6a72bb4a7a0454cbd9dab0eb2818ba119bbca0111e46e432"
   }
  }
 },
 "nbformat": 4,
 "nbformat_minor": 2
}

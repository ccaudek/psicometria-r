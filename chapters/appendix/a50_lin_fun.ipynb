{
 "cells": [
  {
   "cell_type": "markdown",
   "id": "541a4ae0-f6d0-47a3-900d-5de0e120b886",
   "metadata": {},
   "source": [
    "# La funzione lineare {#sec-lin-fun}"
   ]
  },
  {
   "cell_type": "markdown",
   "id": "0255163e-1507-48d4-bbb9-636d2f6232e7",
   "metadata": {},
   "source": [
    "La funzione lineare è definita come:\n",
    "\n",
    "$$\n",
    "f(x) = a + b x,\n",
    "$$\n",
    "\n",
    "dove $a$ e $b$ sono costanti. Il grafico di questa funzione è una retta, dove il parametro $b$ rappresenta il coefficiente angolare e il parametro $a$ rappresenta l'intercetta con l'asse delle $y$. In altre parole, la retta interseca l'asse $y$ nel punto $(0,a)$ se $b \\neq 0$.\n",
    "\n",
    "Possiamo dare un'interpretazione geometrica alle costanti $a$ e $b$ considerando la funzione:\n",
    "\n",
    "$$\n",
    "y = b x.\n",
    "$$\n",
    "\n",
    "Questa funzione rappresenta un caso speciale, la proporzionalità diretta tra $x$ e $y$. Nel caso generale della funzione lineare:\n",
    "\n",
    "$$\n",
    "y = a + b x,\n",
    "$$\n",
    "\n",
    "aggiungiamo una costante $a$ a ciascun valore $y = b x$. Nella funzione lineare, se il coefficiente $b$ è positivo, il valore di $y$ aumenta al crescere di $x$; se $b$ è negativo, il valore di $y$ diminuisce al crescere di $x$; se $b=0$, la retta è orizzontale e il valore di $y$ non varia al variare di $x$.\n",
    "\n",
    "Consideriamo ora il coefficiente $b$ in modo più dettagliato. Prendiamo un punto $x_0$ e un incremento arbitrario $\\varepsilon$, come mostrato nella figura. Le differenze $\\Delta x = (x_0 + \\varepsilon) - x_0$ e $\\Delta y = f(x_0 + \\varepsilon) - f(x_0)$ sono chiamate \"incrementi\" di $x$ e $y$. Il coefficiente angolare $b$ è definito come il rapporto\n",
    "\n",
    "$$\n",
    "b = \\frac{\\Delta y}{\\Delta x} = \\frac{f(x_0 + \\varepsilon) - f(x_0)}{(x_0 + \\varepsilon) - x_0},\n",
    "$$\n",
    "\n",
    "indipendentemente dalla grandezza degli incrementi $\\Delta x$ e $\\Delta y$. Per dare un'interpretazione geometrica al coefficiente angolare (o pendenza) della retta, possiamo semplificare assumendo $\\Delta x = 1$. In questo caso, $b$ è uguale a $\\Delta y$.\n",
    "\n",
    "::: {#fig-linear-fun}\n",
    "![](../../figures/linear_function.png){width=\"57%\"}\n",
    "\n",
    "La funzione lineare $y = a + bx$.\n",
    ":::\n",
    "\n",
    "Possiamo dunque dire che la pendenza $b$ di un retta è uguale all'incremento $\\Delta y$ associato ad un incremento unitario nella $x$."
   ]
  }
 ],
 "metadata": {
  "kernelspec": {
   "display_name": "pymc_env",
   "language": "python",
   "name": "python3"
  },
  "language_info": {
   "name": "python",
   "version": "3.12.3"
  }
 },
 "nbformat": 4,
 "nbformat_minor": 2
}

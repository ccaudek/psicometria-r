{
 "cells": [
  {
   "attachments": {},
   "cell_type": "markdown",
   "id": "1048479f-ed67-4784-9204-29486e36d33f",
   "metadata": {},
   "source": [
    "# Insiemi {#sec-set-theory}"
   ]
  },
  {
   "attachments": {},
   "cell_type": "markdown",
   "id": "0f02d0c5-5a1b-4f16-aec5-5dbee41ac893",
   "metadata": {},
   "source": [
    "Un insieme (o collezione, classe, gruppo, ...) è stato definito da Georg Cantor nel modo seguente: *un insieme è una collezione di oggetti, determinati e distinti, della nostra percezione o del nostro pensiero, concepiti come un tutto unico; tali oggetti si dicono elementi dell'insieme.*\n",
    "\n",
    "Mentre non è rilevante la natura degli oggetti che costituiscono l'insieme, ciò che importa è distinguere se un dato oggetto appartenga o meno ad un insieme. Deve essere vera una delle due possibilità: il dato oggetto è un elemento dell'insieme considerato oppure non è elemento dell'insieme considerato. Due insiemi $A$ e $B$ si dicono uguali se sono formati dagli stessi elementi, anche se disposti in ordine diverso: $A=B$. Due insiemi $A$ e $B$ si dicono diversi se non contengono gli stessi elementi: $A \\neq B$. Ad esempio, i seguenti insiemi sono uguali:\n",
    "\n",
    "$$\n",
    "\\{1, 2, 3\\} = \\{3, 1, 2\\} = \\{1, 3, 2\\}= \\{1, 1, 1, 2, 3, 3, 3\\}.\n",
    "$$\n",
    "\n",
    "Gli insiemi sono denotati da una lettera maiuscola, mentre le lettere minuscole, di solito, designano gli elementi di un insieme. Per esempio, un generico insieme $A$ si indica con\n",
    "\n",
    "$$\n",
    "A = \\{a_1, a_2, \\dots, a_n\\}, \\quad \\text{con } n > 0.\n",
    "$$\n",
    "\n",
    "La scrittura $a \\in A$ dice che $a$ è un elemento di $A$. Per dire che $b$ non è un elemento di $A$ si scrive $b \\notin A.$\n",
    "\n",
    "Per quegli insiemi i cui elementi soddisfano una certa proprietà che li caratterizza, tale proprietà può essere usata per descrivere più sinteticamente l'insieme:\n",
    "\n",
    "$$\n",
    "A = \\{x ~\\vert~ \\text{proprietà posseduta da } x\\},\n",
    "$$\n",
    "\n",
    "che si legge come \"$A$ è l'insieme degli elementi $x$ per cui è vera la proprietà indicata.\" Per esempio, per indicare l'insieme $A$ delle coppie di numeri reali $(x,y)$ che appartengono alla parabola $y = x^2 + 1$ si può scrivere:\n",
    "\n",
    "$$\n",
    "A = \\{(x,y) ~\\vert~ y = x^2 + 1\\}.\n",
    "$$\n",
    "\n",
    "Dati due insiemi $A$ e $B$, diremo che $A$ è un *sottoinsieme* di $B$ se e solo se tutti gli elementi di $A$ sono anche elementi di $B$:\n",
    "\n",
    "$$\n",
    "A \\subseteq B \\iff (\\forall x \\in A \\Rightarrow x \\in B).\n",
    "$$\n",
    "\n",
    "Se esiste almeno un elemento di $B$ che non appartiene ad $A$ allora diremo che $A$ è un *sottoinsieme proprio* di $B$:\n",
    "\n",
    "$$\n",
    "A \\subset B \\iff (A \\subseteq B, \\exists~ x \\in B ~\\vert~ x \\notin A).\n",
    "$$\n",
    "\n",
    "Un altro insieme, detto *insieme delle parti*, o insieme potenza, che si associa all'insieme $A$ è l'insieme di tutti i sottoinsiemi di $A$, inclusi l'insieme vuoto e $A$ stesso. Per esempio, per l'insieme $A = \\{a, b, c\\}$, l'insieme delle parti è:\n",
    "\n",
    "$$\n",
    "\\mathcal{P}(A) = \\{\n",
    "\\emptyset, \\{a\\}, \\{b\\}, \\{c\\},\n",
    " \\{a, b\\}, \\{a, c\\}, \\{c, b\\},\n",
    " \\{a, b, c\\}\n",
    "\\}.\n",
    "$$\n",
    "\n",
    "## Diagrammi di Eulero-Venn\n",
    "\n",
    "I diagrammi di Venn sono uno strumento grafico molto utile per rappresentare gli insiemi e per verificare le proprietà delle operazioni tra di essi. Questi diagrammi prendono il nome dal matematico inglese del 19° secolo John Venn, anche se rappresentazioni simili erano già state utilizzate in precedenza da Leibniz e Eulero.\n",
    "\n",
    "I diagrammi di Venn rappresentano gli insiemi come regioni del piano delimitate da una curva chiusa. Nel caso di insiemi finiti, è possibile evidenziare alcuni elementi di un insieme tramite punti, e in alcuni casi possono essere evidenziati tutti gli elementi degli insiemi considerati.\n",
    "\n",
    "In sostanza, questi diagrammi sono un modo visuale per rappresentare le proprietà degli insiemi e delle operazioni tra di essi. Sono uno strumento molto utile per visualizzare la relazione tra gli insiemi e per capire meglio come si combinano gli elementi all'interno di essi.\n",
    "\n",
    "\n",
    "## Appartenenza ad un insieme\n",
    "\n",
    "Usiamo ora Python."
   ]
  },
  {
   "cell_type": "code",
   "execution_count": 1,
   "id": "7f1a5b19-133b-4509-b699-cf156ff04ffd",
   "metadata": {},
   "outputs": [
    {
     "name": "stdout",
     "output_type": "stream",
     "text": [
      "{1, 2}\n",
      "<class 'set'>\n"
     ]
    }
   ],
   "source": [
    "Set1 = {1, 2}\n",
    "print(Set1)\n",
    "print(type(Set1))\n"
   ]
  },
  {
   "cell_type": "code",
   "execution_count": 2,
   "id": "52bc7ea9-2215-4975-bdd9-22dc5227b30a",
   "metadata": {},
   "outputs": [
    {
     "name": "stdout",
     "output_type": "stream",
     "text": [
      "{1, 2, 3, 4}\n"
     ]
    }
   ],
   "source": [
    "my_list = [1, 2, 3, 4]\n",
    "my_set_from_list = set(my_list)\n",
    "print(my_set_from_list)\n"
   ]
  },
  {
   "attachments": {},
   "cell_type": "markdown",
   "id": "02ad3b2a-1346-4dd0-b248-9337c332d481",
   "metadata": {},
   "source": [
    "L'appartenenza ad un insieme si verifica con `in` e `not in`."
   ]
  },
  {
   "cell_type": "code",
   "execution_count": 4,
   "id": "c0b4e22e-223a-4a1b-b033-be8018ff995e",
   "metadata": {},
   "outputs": [
    {
     "name": "stdout",
     "output_type": "stream",
     "text": [
      "Ecco il mio insieme: {1, 3, 5}\n",
      "1 appartiene all'insieme: True\n",
      "2 non appartiene all'insieme: False\n",
      "4 NON appartiene all'insieme: True\n"
     ]
    }
   ],
   "source": [
    "my_set = set([1, 3, 5])\n",
    "print(\"Ecco il mio insieme:\", my_set)\n",
    "print(\"1 appartiene all'insieme:\", 1 in my_set)\n",
    "print(\"2 non appartiene all'insieme:\", 2 in my_set)\n",
    "print(\"4 NON appartiene all'insieme:\", 4 not in my_set)\n"
   ]
  },
  {
   "attachments": {},
   "cell_type": "markdown",
   "id": "fa5fc98d-8ebf-4f4f-bfad-caca798baf4d",
   "metadata": {},
   "source": [
    "## Relazioni tra insiemi\n",
    "\n",
    "Esaminiamo le funzioni Python per descrivere le relazioni tra insiemi. In particolare, dopo avere definito l'insieme universo e l'insieme vuoto, considereremo la relazione di inclusione che conduce al concetto di sottoinsieme. Analogamente si definisce il concetto di sovrainsieme. Mostreremo anche come valutare se due insiemi sono disgiunti (si dicono disgiunti gli insiemi con intersezione vuota)."
   ]
  },
  {
   "cell_type": "code",
   "execution_count": 10,
   "id": "7872ac9f-2538-41d3-96c3-9261810f10d1",
   "metadata": {},
   "outputs": [],
   "source": [
    "Univ = set([x for x in range(11)])\n",
    "Super = set([x for x in range(11) if x % 2 == 0])\n",
    "Disj = set([x for x in range(11) if x % 2 == 1])\n",
    "Sub = set([4, 6])\n",
    "Null = set([x for x in range(11) if x > 10])\n"
   ]
  },
  {
   "cell_type": "code",
   "execution_count": 11,
   "id": "19f7d218-0bc4-47b2-8b9a-73db486ca13e",
   "metadata": {},
   "outputs": [
    {
     "name": "stdout",
     "output_type": "stream",
     "text": [
      "Insieme Universo (tutti gli interi positivi fino a 10): {0, 1, 2, 3, 4, 5, 6, 7, 8, 9, 10}\n",
      "Tutti gli interi positivi pari fino a 10: {0, 2, 4, 6, 8, 10}\n",
      "Tutti gli interi positivi dispari fino a 10: {1, 3, 5, 7, 9}\n",
      "Insieme di due elementi, 4 e 6: {4, 6}\n",
      "Un isieme vuoto: set()\n"
     ]
    }
   ],
   "source": [
    "print(\"Insieme Universo (tutti gli interi positivi fino a 10):\", Univ)\n",
    "print(\"Tutti gli interi positivi pari fino a 10:\", Super)\n",
    "print(\"Tutti gli interi positivi dispari fino a 10:\", Disj)\n",
    "print(\"Insieme di due elementi, 4 e 6:\", Sub)\n",
    "print(\"Un isieme vuoto:\", Null)\n"
   ]
  },
  {
   "cell_type": "code",
   "execution_count": 13,
   "id": "88b90021-2a53-424f-9097-c102e1eb2776",
   "metadata": {},
   "outputs": [
    {
     "name": "stdout",
     "output_type": "stream",
     "text": [
      "È \"Super\" un sovrainsieme di \"Sub\"? True\n",
      "È \"Super\" un sottoinsieme di \"Univ\"? True\n",
      "È \"Sub\" un sovrainsieme di \"Super\"? False\n",
      "Sono \"Super\" e \"Disj\" insiemi disgiunti? True\n"
     ]
    }
   ],
   "source": [
    "print('È \"Super\" un sovrainsieme di \"Sub\"?', Super.issuperset(Sub))\n",
    "print('È \"Super\" un sottoinsieme di \"Univ\"?', Super.issubset(Univ))\n",
    "print('È \"Sub\" un sovrainsieme di \"Super\"?', Sub.issuperset(Super))\n",
    "print('Sono \"Super\" e \"Disj\" insiemi disgiunti?', Sub.isdisjoint(Disj))\n"
   ]
  },
  {
   "attachments": {},
   "cell_type": "markdown",
   "id": "c7fea443-83f3-48e3-b8c5-8d8630c1ce61",
   "metadata": {},
   "source": [
    "## Operazioni tra insiemi\n",
    "\n",
    "Si definisce *intersezione* di $A$ e $B$ l'insieme $A \\cap B$ di tutti gli elementi $x$ che appartengono ad $A$ e contemporaneamente a $B$:\n",
    "\n",
    "$$\n",
    "A \\cap B = \\{x ~\\vert~ x \\in A \\land x \\in B\\}.\n",
    "$$\n",
    "\n",
    "Si definisce *unione* di $A$ e $B$ l'insieme $A \\cup B$ di tutti gli elementi $x$ che appartengono ad $A$ o a $B$, cioè\n",
    "\n",
    "$$\n",
    "A \\cup B = \\{x ~\\vert~ x \\in A \\lor x \\in B\\}.\n",
    "$$\n",
    "\n",
    "*Differenza*. Si indica con $A \\setminus B$ l'insieme degli elementi di $A$ che non appartengono a $B$:\n",
    "\n",
    "$$\n",
    "A \\setminus B = \\{x ~\\vert~ x \\in A \\land x \\notin B\\}.\n",
    "$$\n",
    "\n",
    "*Insieme complementare*. Nel caso che sia $B \\subseteq A$, l'insieme differenza $A \\setminus B$ è detto insieme complementare di $B$ in $A$ e si indica con $B^C$.\n",
    "\n",
    "Dato un insieme $S$, una *partizione* di $S$ è una collezione di sottoinsiemi di $S$, $S_1, \\dots, S_k$, tali che\n",
    "\n",
    "$$\n",
    "S = S_1 \\cup S_2 \\cup \\dots S_k\n",
    "$$\n",
    "\n",
    "e\n",
    "\n",
    "$$\n",
    "S_i \\cap S_j, \\quad \\text{con } i \\neq j.\n",
    "$$\n",
    "\n",
    "La relazione tra unione, intersezione e insieme complementare è data dalle leggi di DeMorgan:\n",
    "\n",
    "$$\n",
    "(A \\cup B)^c = A^c \\cap B^c,\n",
    "$$ \n",
    "\n",
    "$$\n",
    "(A \\cap B)^c = A^c \\cup B^c.\n",
    "$$\n",
    "\n",
    "In tutte le seguenti figure, $S$ è la regione delimitata dal rettangolo, $L$ è la regione all'interno del cerchio di sinistra e $R$ è la regione all'interno del cerchio di destra. La regione evidenziata mostra l'insieme indicato sotto ciascuna figura.\n",
    "\n",
    "![Diagrammi di Venn](../../figures/sets-venn-diagrams.png)\n",
    "\n",
    "I diagrammi di Eulero-Venn che illustrano le leggi di DeMorgan sono forniti nella figura seguente.\n",
    "\n",
    "![Leggi di DeMorgan](../../figures/demorgan.png)\n",
    "\n",
    "Vediamo ora come si eseguono le operazioni tra insiemi con Python.\n",
    "\n",
    "**Eguaglianza e differenza.**"
   ]
  },
  {
   "cell_type": "code",
   "execution_count": 14,
   "id": "f0eb8563-3568-4682-a08f-c46b616d9766",
   "metadata": {},
   "outputs": [
    {
     "name": "stdout",
     "output_type": "stream",
     "text": [
      "S1 e S2 sono uguali perché l'ordine o la ripetizione di elementi non importano per gli insiemi\n",
      "S1==S2: True\n"
     ]
    }
   ],
   "source": [
    "S1 = {1, 2}\n",
    "S2 = {2, 2, 1, 1, 2}\n",
    "print(\n",
    "    \"S1 e S2 sono uguali perché l'ordine o la ripetizione di elementi non importano per gli insiemi\\nS1==S2:\",\n",
    "    S1 == S2,\n",
    ")\n"
   ]
  },
  {
   "cell_type": "code",
   "execution_count": 15,
   "id": "80e49cf1-b596-4f96-a6cc-7da3a9a972b9",
   "metadata": {},
   "outputs": [
    {
     "name": "stdout",
     "output_type": "stream",
     "text": [
      "S1 e S2 NON sono uguali perché si differenziano per almeno uno dei loro elementi\n",
      "S1==S2: False\n"
     ]
    }
   ],
   "source": [
    "S1 = {1, 2, 3, 4, 5, 6}\n",
    "S2 = {1, 2, 3, 4, 0, 6}\n",
    "print(\n",
    "    \"S1 e S2 NON sono uguali perché si differenziano per almeno uno dei loro elementi\\nS1==S2:\",\n",
    "    S1 == S2,\n",
    ")\n"
   ]
  },
  {
   "attachments": {},
   "cell_type": "markdown",
   "id": "527776fa-d35c-49d9-a353-c01f8c290496",
   "metadata": {},
   "source": [
    "**Intersezione.** Si noti che il connettivo logico `&` corrisponde all'intersezione."
   ]
  },
  {
   "cell_type": "code",
   "execution_count": 9,
   "id": "21c2c2ab-f2db-4027-b69c-bcde96ef0c40",
   "metadata": {},
   "outputs": [
    {
     "name": "stdout",
     "output_type": "stream",
     "text": [
      "S1: {9, 3, 6}\n"
     ]
    }
   ],
   "source": [
    "S1 = set([x for x in range(1, 11) if x % 3 == 0])\n",
    "print(\"S1:\", S1)\n"
   ]
  },
  {
   "cell_type": "code",
   "execution_count": 10,
   "id": "c2e9c880-62b5-4b1c-8577-66760cb6250a",
   "metadata": {},
   "outputs": [
    {
     "name": "stdout",
     "output_type": "stream",
     "text": [
      "S2: {1, 2, 3, 4, 5, 6}\n"
     ]
    }
   ],
   "source": [
    "S2 = set([x for x in range(1, 7)])\n",
    "print(\"S2:\", S2)\n"
   ]
  },
  {
   "cell_type": "code",
   "execution_count": 16,
   "id": "7ef8ab31-9e3b-4033-a556-ccebb6dbfff2",
   "metadata": {},
   "outputs": [
    {
     "name": "stdout",
     "output_type": "stream",
     "text": [
      "Intersezione di S1 e S2: {1, 2, 3, 4, 6}\n",
      "Intersezione di S1 e S2: {1, 2, 3, 4, 6}\n"
     ]
    }
   ],
   "source": [
    "S_intersection = S1.intersection(S2)\n",
    "print(\"Intersezione di S1 e S2:\", S_intersection)\n",
    "\n",
    "S_intersection = S1 & S2\n",
    "print(\"Intersezione di S1 e S2:\", S_intersection)\n"
   ]
  },
  {
   "cell_type": "code",
   "execution_count": 12,
   "id": "1f3cd634-0057-4f75-93ce-9668ea9ddef7",
   "metadata": {},
   "outputs": [
    {
     "name": "stdout",
     "output_type": "stream",
     "text": [
      "S3: {8, 9, 6, 7}\n",
      "Intersection of S1, S2, and S3: {6}\n"
     ]
    }
   ],
   "source": [
    "S3 = set([x for x in range(6, 10)])\n",
    "print(\"S3:\", S3)\n",
    "S1_S2_S3 = S1.intersection(S2).intersection(S3)\n",
    "print(\"Intersection of S1, S2, and S3:\", S1_S2_S3)\n"
   ]
  },
  {
   "attachments": {},
   "cell_type": "markdown",
   "id": "288e0529-0771-49ef-87d0-ef272ced9dcf",
   "metadata": {},
   "source": [
    "**Unione.** Si noti che il connettivo logico `|` corrisponde all'unione."
   ]
  },
  {
   "cell_type": "code",
   "execution_count": 17,
   "id": "4ead6ca4-9519-48de-b4b4-8ed38e149d97",
   "metadata": {},
   "outputs": [
    {
     "name": "stdout",
     "output_type": "stream",
     "text": [
      "S1: {9, 3, 6}\n",
      "S2: {1, 2, 3, 4}\n",
      "Unione di S1 e S2: {1, 2, 3, 4, 6, 9}\n",
      "Unione di S1 e S2: {1, 2, 3, 4, 6, 9}\n"
     ]
    }
   ],
   "source": [
    "S1 = set([x for x in range(1, 11) if x % 3 == 0])\n",
    "print(\"S1:\", S1)\n",
    "S2 = set([x for x in range(1, 5)])\n",
    "print(\"S2:\", S2)\n",
    "\n",
    "S_union = S1.union(S2)\n",
    "print(\"Unione di S1 e S2:\", S_union)\n",
    "S_union = S1 | S2\n",
    "print(\"Unione di S1 e S2:\", S_union)\n"
   ]
  },
  {
   "attachments": {},
   "cell_type": "markdown",
   "id": "f9d8ea47-e386-41aa-a03e-322274d1b950",
   "metadata": {},
   "source": [
    "**Insieme complementare.**"
   ]
  },
  {
   "cell_type": "code",
   "execution_count": 19,
   "id": "ad7b4ea5-dd12-4fb5-99c7-cf32c5c8d4b7",
   "metadata": {},
   "outputs": [
    {
     "name": "stdout",
     "output_type": "stream",
     "text": [
      "S è l'insieme dei numeri interi pari tra 0 e 20: {0, 2, 4, 6, 8, 10, 12, 14, 16, 18, 20}\n"
     ]
    }
   ],
   "source": [
    "S = set([x for x in range(21) if x % 2 == 0])\n",
    "print(\"S è l'insieme dei numeri interi pari tra 0 e 20:\", S)\n"
   ]
  },
  {
   "cell_type": "code",
   "execution_count": 20,
   "id": "e6d98e8c-3455-4ee0-b40a-71d0cd678fc5",
   "metadata": {},
   "outputs": [
    {
     "name": "stdout",
     "output_type": "stream",
     "text": [
      "S_complement è l'insieme dei numeri interi dispari tra 0 e 20: {1, 3, 5, 7, 9, 11, 13, 15, 17, 19}\n"
     ]
    }
   ],
   "source": [
    "S_complement = set([x for x in range(21) if x % 2 != 0])\n",
    "print(\"S_complement è l'insieme dei numeri interi dispari tra 0 e 20:\", S_complement)\n"
   ]
  },
  {
   "cell_type": "code",
   "execution_count": 21,
   "id": "b998b471-3cd8-4e06-803f-3f4fa5b3cd94",
   "metadata": {},
   "outputs": [
    {
     "name": "stdout",
     "output_type": "stream",
     "text": [
      "È l'unione di S e S_complement uguale a tutti i numeri interi tra 0 e 20? True\n"
     ]
    }
   ],
   "source": [
    "print(\n",
    "    \"È l'unione di S e S_complement uguale a tutti i numeri interi tra 0 e 20?\",\n",
    "    S.union(S_complement) == set([x for x in range(21)]),\n",
    ")\n"
   ]
  },
  {
   "attachments": {},
   "cell_type": "markdown",
   "id": "ba765e28-5cac-4659-8d4c-4bbb1f4a1cdc",
   "metadata": {},
   "source": [
    "**Differenza tra insiemi.**"
   ]
  },
  {
   "cell_type": "code",
   "execution_count": 22,
   "id": "b8b9a832-039c-48bb-af01-311110f5f42b",
   "metadata": {},
   "outputs": [
    {
     "name": "stdout",
     "output_type": "stream",
     "text": [
      "Set S1: {0, 3, 6, 9, 12, 15, 18, 21, 24, 27, 30}\n"
     ]
    }
   ],
   "source": [
    "S1 = set([x for x in range(31) if x % 3 == 0])\n",
    "print(\"Set S1:\", S1)\n"
   ]
  },
  {
   "cell_type": "code",
   "execution_count": 23,
   "id": "97c27b9b-3a1f-44d4-b5eb-cb61ba2cfbb5",
   "metadata": {},
   "outputs": [
    {
     "name": "stdout",
     "output_type": "stream",
     "text": [
      "Set S2: {0, 5, 10, 15, 20, 25, 30}\n"
     ]
    }
   ],
   "source": [
    "S2 = set([x for x in range(31) if x % 5 == 0])\n",
    "print(\"Set S2:\", S2)\n"
   ]
  },
  {
   "cell_type": "code",
   "execution_count": 24,
   "id": "adade83d-5253-4a4f-8038-d801201cae94",
   "metadata": {},
   "outputs": [
    {
     "name": "stdout",
     "output_type": "stream",
     "text": [
      "Differenza tra S1 e S2 i.e. S2\\S1: {25, 10, 20, 5}\n",
      "Differenza tra S2 e S1 i.e. S1\\S2: {3, 6, 9, 12, 18, 21, 24, 27}\n"
     ]
    }
   ],
   "source": [
    "S_difference = S2 - S1\n",
    "print(\"Differenza tra S2 e S1, i.e. S2\\S1:\", S_difference)\n",
    "\n",
    "S_difference = S1.difference(S2)\n",
    "print(\"Differenza tra S1 e S2, i.e. S1\\S2:\", S_difference)\n"
   ]
  },
  {
   "attachments": {},
   "cell_type": "markdown",
   "id": "77704991-c61d-43f9-9cfa-06c6cdbead4d",
   "metadata": {},
   "source": [
    "**Differenza simmetrica.** La differenza simmetrica, indicata con il simbolo Δ, è un'operazione insiemistica definita come unione tra la differenza tra il primo e il secondo insieme e la differenza tra il secondo e il primo insieme. In modo equivalente, la differenza simmetrica equivale all'unione tra i due insiemi meno la loro intersezione."
   ]
  },
  {
   "cell_type": "code",
   "execution_count": 25,
   "id": "0eff5478-d411-4224-94db-4cfdf3033541",
   "metadata": {},
   "outputs": [
    {
     "name": "stdout",
     "output_type": "stream",
     "text": [
      "S1 {0, 3, 6, 9, 12, 15, 18, 21, 24, 27, 30}\n",
      "S2 {0, 5, 10, 15, 20, 25, 30}\n",
      "Differenza simmetrica {3, 5, 6, 9, 10, 12, 18, 20, 21, 24, 25, 27}\n",
      "Differenza simmetrica {3, 5, 6, 9, 10, 12, 18, 20, 21, 24, 25, 27}\n"
     ]
    }
   ],
   "source": [
    "print(\"S1\", S1)\n",
    "print(\"S2\", S2)\n",
    "print(\"Differenza simmetrica\", S1 ^ S2)\n",
    "print(\"Differenza simmetrica\", S2.symmetric_difference(S1))\n"
   ]
  },
  {
   "attachments": {},
   "cell_type": "markdown",
   "id": "fe0add71-efb9-4b74-9b2e-62d5951fe7df",
   "metadata": {},
   "source": [
    "## Coppie ordinate e prodotto cartesiano\n",
    "\n",
    "Una coppia ordinata $(x,y)$ è l'insieme i cui elementi sono $x \\in A$ e $y \\in B$ e nella quale $x$ è la prima componente (o prima coordinata) e $y$ la seconda. L'insieme di tutte le coppie ordinate costruite a partire dagli insiemi $A$ e $B$ viene detto **prodotto cartesiano**:\n",
    "\n",
    "$$\n",
    "A \\times B = \\{(x, y) ~\\vert~ x \\in A \\land y \\in B\\}.\n",
    "$$\n",
    "\n",
    "Ad esempio, sia $A = \\{1, 2, 3\\}$ e $B = \\{a, b\\}$. Allora,\n",
    "\n",
    "$$\n",
    "\\{1, 2\\} \\times \\{a, b, c\\} = \\{(1, a), (1, b), (1, c), (2, a), (2, b), (2, c)\\}.\n",
    "$$\n",
    "\n",
    "Più in generale, un prodotto cartesiano di $n$ insiemi può essere rappresentato da un array di $n$ dimensioni, dove ogni elemento è una ennupla o tupla ordinata (ovvero, una collezione o un elenco ordinato di $n$ oggetti). Una n-pla ordinata si distingue da un insieme di $n$ elementi in quanto fra gli elementi di un insieme non è dato alcun ordine. Inoltre gli elementi di una ennupla possono anche essere ripetuti. Essendo la n-pla un elenco ordinato, in generale di ogni suo elemento è possibile dire se sia il primo, il secondo, il terzo, eccetera, fino all'n-esimo. Il prodotto cartesiano prende il nome da René Descartes la cui formulazione della geometria analitica ha dato origine al concetto."
   ]
  },
  {
   "cell_type": "code",
   "execution_count": 26,
   "id": "560e79f1-1415-4f6d-b760-14791a12c85a",
   "metadata": {},
   "outputs": [],
   "source": [
    "A = set([\"a\", \"b\", \"c\"])\n",
    "S = {1, 2, 3}\n"
   ]
  },
  {
   "cell_type": "code",
   "execution_count": 27,
   "id": "98773541-0557-4d3a-9bd9-202acc29f7cc",
   "metadata": {},
   "outputs": [],
   "source": [
    "def cartesian_product(S1, S2):\n",
    "    result = set()\n",
    "    for i in S1:\n",
    "        for j in S2:\n",
    "            result.add(tuple([i, j]))\n",
    "    return result\n"
   ]
  },
  {
   "cell_type": "code",
   "execution_count": 43,
   "id": "c5919425-fafe-40c9-9b09-39b1fcd8ae93",
   "metadata": {},
   "outputs": [
    {
     "name": "stdout",
     "output_type": "stream",
     "text": [
      "Prodotto cartesiano di A e S\n",
      "{'Head', 'Tail'} x {1, 2, 3} = {('Tail', 1), ('Head', 2), ('Head', 1), ('Tail', 3), ('Tail', 2), ('Head', 3)}\n"
     ]
    }
   ],
   "source": [
    "C = cartesian_product(A, S)\n",
    "print(f\"Prodotto cartesiano di A e S\\n{A} x {S} = {C}\")"
   ]
  },
  {
   "attachments": {},
   "cell_type": "markdown",
   "id": "0ec57d7a-b970-4754-95f3-e024483f37e9",
   "metadata": {},
   "source": [
    "Si definisce *cardinalità* (o potenza) di un insieme finito il numero degli elementi dell'insieme. Viene indicata con $\\vert A\\vert, \\#(A)$ o $\\text{c}(A)$."
   ]
  },
  {
   "cell_type": "code",
   "execution_count": 29,
   "id": "c986901d-4d68-4697-a7fb-97fb83c96286",
   "metadata": {},
   "outputs": [
    {
     "name": "stdout",
     "output_type": "stream",
     "text": [
      "La cardinalità dell'insieme prodotto cartesiano è: 9\n"
     ]
    }
   ],
   "source": [
    "print(\"La cardinalità dell'insieme prodotto cartesiano è:\", len(C))\n"
   ]
  },
  {
   "attachments": {},
   "cell_type": "markdown",
   "id": "3ad42b9f-d899-461c-a97e-52aa9f307cf7",
   "metadata": {},
   "source": [
    "Invece di scrivere funzioni noi stessi, è possibile usare la libreria `itertools` di Python. Si ricordi di trasformare l'oggetto risultante in una lista per la visualizzazione e la successiva elaborazione."
   ]
  },
  {
   "cell_type": "code",
   "execution_count": 30,
   "id": "85cf44c2-3737-46b5-ae31-4c2e901f3d71",
   "metadata": {},
   "outputs": [],
   "source": [
    "from itertools import product as prod"
   ]
  },
  {
   "cell_type": "code",
   "execution_count": 31,
   "id": "b25e322f-e415-4c97-a85e-29bbeeda88bf",
   "metadata": {},
   "outputs": [
    {
     "name": "stdout",
     "output_type": "stream",
     "text": [
      "A è l'insieme di tutti i possibili lanci di un dado: {1, 2, 3, 4, 5, 6}\n",
      "B è l'insieme di tutti i possibili lanci di un dado: {1, 2, 3, 4, 5, 6}\n",
      "\n",
      "Il prodotto di A e B è l'insieme dei risultati che si possono ottenere lanciando due dadi:\n",
      " [(1, 1), (1, 2), (1, 3), (1, 4), (1, 5), (1, 6), (2, 1), (2, 2), (2, 3), (2, 4), (2, 5), (2, 6), (3, 1), (3, 2), (3, 3), (3, 4), (3, 5), (3, 6), (4, 1), (4, 2), (4, 3), (4, 4), (4, 5), (4, 6), (5, 1), (5, 2), (5, 3), (5, 4), (5, 5), (5, 6), (6, 1), (6, 2), (6, 3), (6, 4), (6, 5), (6, 6)]\n"
     ]
    }
   ],
   "source": [
    "A = set([x for x in range(1, 7)])\n",
    "B = set([x for x in range(1, 7)])\n",
    "p = list(prod(A, B))\n",
    "\n",
    "print(\"A è l'insieme di tutti i possibili lanci di un dado:\", A)\n",
    "print(\"B è l'insieme di tutti i possibili lanci di un dado:\", B)\n",
    "print(\n",
    "    \"\\nIl prodotto di A e B è l'insieme dei risultati che si possono ottenere lanciando due dadi:\\n\",\n",
    "    p,\n",
    ")\n"
   ]
  },
  {
   "attachments": {},
   "cell_type": "markdown",
   "id": "12ed12e6-a7af-4f35-b210-e04ce4f12882",
   "metadata": {},
   "source": [
    "La cardinalità (cioè il numero di elementi) del prodotto cartesiano tra due o più insiemi è uguale al prodotto delle cardinalità degli insiemi considerati: card(A × B) = card(A) · card(B).\n",
    "\n",
    "Usando `itertools` è facile calcolare la cardinalità del prodotto cartesiano di un insieme per se stesso. Consideriamo il quadrato dell'insieme costituito dai risultati del lancio di una moneta. L'insieme risultante avrà cardinalità $2 \\cdot 2 = 4$."
   ]
  },
  {
   "cell_type": "code",
   "execution_count": 39,
   "id": "b941b7b5-c734-440e-8f8b-ac6e41aef1d8",
   "metadata": {},
   "outputs": [
    {
     "name": "stdout",
     "output_type": "stream",
     "text": [
      "Il quadrato dell'insieme A è un insieme che contiene 4 elementi: [('Head', 'Head'), ('Head', 'Tail'), ('Tail', 'Head'), ('Tail', 'Tail')]\n"
     ]
    }
   ],
   "source": [
    "A = {\"Head\", \"Tail\"} \n",
    "p2 = list(prod(A, repeat=2))  \n",
    "print(f\"Il quadrato dell'insieme A è un insieme che contiene {len(p2)} elementi: {p2}\")"
   ]
  },
  {
   "attachments": {},
   "cell_type": "markdown",
   "id": "4d08771c-2646-440a-a2f0-6c761ad098fa",
   "metadata": {},
   "source": [
    "L'insieme $A$ elevato alla terza potenza produce un insieme la cui cardinalità è"
   ]
  },
  {
   "cell_type": "code",
   "execution_count": 36,
   "id": "a7b6ff79-e427-4ee4-af5a-73df1abbbce1",
   "metadata": {},
   "outputs": [
    {
     "name": "stdout",
     "output_type": "stream",
     "text": [
      "L'insieme A elevato alla terza potenza è costituito da 8 elementi: [('Head', 'Head', 'Head'), ('Head', 'Head', 'Tail'), ('Head', 'Tail', 'Head'), ('Head', 'Tail', 'Tail'), ('Tail', 'Head', 'Head'), ('Tail', 'Head', 'Tail'), ('Tail', 'Tail', 'Head'), ('Tail', 'Tail', 'Tail')]\n"
     ]
    }
   ],
   "source": [
    "p3 = list(prod(A, repeat=3))  \n",
    "print(f\"L'insieme A elevato alla terza potenza è costituito da {len(p3)} elementi: {p3}\")"
   ]
  }
 ],
 "metadata": {
  "kernelspec": {
   "display_name": "pymc",
   "language": "python",
   "name": "python3"
  },
  "language_info": {
   "codemirror_mode": {
    "name": "ipython",
    "version": 3
   },
   "file_extension": ".py",
   "mimetype": "text/x-python",
   "name": "python",
   "nbconvert_exporter": "python",
   "pygments_lexer": "ipython3",
   "version": "3.12.3"
  }
 },
 "nbformat": 4,
 "nbformat_minor": 2
}

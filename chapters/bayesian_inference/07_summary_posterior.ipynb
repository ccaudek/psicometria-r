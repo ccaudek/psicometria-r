{
 "cells": [
  {
   "cell_type": "markdown",
   "id": "0f8992e7-a31f-4361-90b1-2f68450c3c87",
   "metadata": {},
   "source": [
    "# Sintesi a posteriori {#sintesi-distr-post}"
   ]
  },
  {
   "cell_type": "markdown",
   "metadata": {},
   "source": [
    "**Prerequisiti**\n",
    "\n",
    "**Concetti e competenze chiave**\n",
    "\n",
    "**Preparazione del Notebook**"
   ]
  },
  {
   "cell_type": "code",
   "execution_count": 2,
   "id": "7df04cab-dd67-4f5e-af26-691b749f075b",
   "metadata": {
    "ExecuteTime": {
     "end_time": "2024-03-28T11:15:30.279665Z",
     "start_time": "2024-03-28T11:15:28.610854Z"
    }
   },
   "outputs": [],
   "source": [
    "import numpy as np\n",
    "import matplotlib.pyplot as plt\n",
    "import scipy.stats as stats\n",
    "import seaborn as sns\n",
    "import arviz as az"
   ]
  },
  {
   "cell_type": "code",
   "execution_count": 3,
   "id": "d9f9dda9-2722-45f4-8d66-bf873fbeab11",
   "metadata": {
    "ExecuteTime": {
     "end_time": "2024-03-28T11:15:33.266182Z",
     "start_time": "2024-03-28T11:15:33.258952Z"
    }
   },
   "outputs": [],
   "source": [
    "RANDOM_SEED = 8927\n",
    "rng = np.random.default_rng(RANDOM_SEED)\n",
    "sns.set_theme(palette=\"colorblind\")\n",
    "az.style.use(\"arviz-darkgrid\")\n",
    "%config InlineBackend.figure_format = 'retina'"
   ]
  },
  {
   "cell_type": "markdown",
   "id": "2e7f8913-8eba-4830-a4c0-c369478b6ac9",
   "metadata": {},
   "source": [
    "## Introduzione {.unnumbered}\n",
    "\n",
    "In questo capitolo, concentriamo la nostra attenzione sulla sintesi dell'informazione racchiusa nella distribuzione a posteriori, la quale rappresenta il nostro livello di incertezza riguardo al parametro o ai parametri incogniti oggetto dell'inferenza.\n",
    "\n",
    "## Riepilogo numerico\n",
    "\n",
    "La distribuzione a posteriori contiene in sé tutte le informazioni disponibili sui potenziali valori del parametro. Nel caso di un parametro unidimensionale o bidimensionale, possiamo rappresentare la distribuzione a posteriori mediante un grafico $p(\\theta \\mid y)$.\n",
    "\n",
    "Tuttavia, quando ci troviamo di fronte a vettori di parametri con più di due dimensioni, risulta vantaggioso eseguire una sintesi numerica della distribuzione a posteriori. Possiamo distinguere due forme di sintesi numerica della distribuzione a posteriori:\n",
    "\n",
    "- Stima puntuale;\n",
    "- Intervallo di credibilità.\n",
    "\n",
    "## Stima puntuale\n",
    "\n",
    "Nel contesto dell'inferenza bayesiana, il processo di stima del valore più credibile del parametro $\\theta$ tramite la distribuzione a posteriori si avvale di tre statistiche: la moda, la mediana e la media, la cui scelta è guidata dalla forma della distribuzione a posteriori. Queste statistiche sono utilizzate per ottenere una stima puntuale della tendenza centrale della distribuzione a posteriori, che a sua volta fornisce il \"valore più credibile\" del parametro. Questo valore rappresenta la stima a cui attribuiamo il massimo grado di fiducia soggettiva, basandoci sui dati osservati e sulle nostre credenze a priori.\n",
    "\n",
    "1. **Moda (Massimo a posteriori, MAP)**:\n",
    "   La moda rappresenta il valore più probabile di un parametro, ovvero quello che massimizza la distribuzione a posteriori. Questo valore è noto come \"massimo a posteriori\" (MAP). La stima MAP prende origine dalla stima di massima verosimiglianza (MLE), che cerca il valore di $\\theta$, denotato come $\\hat{\\theta}_{ML}$, che massimizza la funzione di verosimiglianza $L(\\theta \\mid y)$:\n",
    "\n",
    "   $$ \\hat{\\theta}_{ML} = \\arg \\max_\\theta L(\\theta \\mid y). $$\n",
    "\n",
    "   Nell'inferenza bayesiana, $\\theta$ è considerato una variabile casuale, e si specifica una distribuzione a priori su $\\theta$ per riflettere l'incertezza sul suo valore. Integrando l'informazione a priori nella funzione di verosimiglianza, si ottiene la formula per la stima MAP:\n",
    "\n",
    "   $$ \\hat{\\theta}_{MAP} = \\arg \\max_\\theta L(\\theta \\mid y)p(\\theta). $$\n",
    "\n",
    "   Questa formula evidenzia che la stima MAP corrisponde al valore che massimizza la densità a posteriori di $\\theta$ dati i dati osservati $y$, ovvero il valore che rappresenta la moda della distribuzione a posteriori.\n",
    "\n",
    "   Sebbene il concetto di MAP sia intuitivo, presenta diversi problemi che ne limitano l'uso nella pratica.\n",
    "\n",
    "   La prima difficoltà è di tipo computazionale: con i metodi MCMC comunemente utilizzati per stimare le distribuzioni a posteriori, è molto difficile individuare con precisione la posizione esatta del MAP nello spazio delle distribuzioni posteriori.\n",
    "\n",
    "   Il secondo problema è legato all'uso dell'inferenza bayesiana in modelli complessi e in situazioni non asintotiche. In questi casi, la verosimiglianza o la distribuzione a posteriori possono avere forme irregolari o non normali. Se la distribuzione a posteriori è molto asimmetrica, il MAP potrebbe non rappresentare adeguatamente dove si concentra la maggior parte della probabilità. Di conseguenza, il MAP non sempre fornisce un'idea accurata del comportamento complessivo della distribuzione a posteriori.\n",
    "\n",
    "2. **Media a posteriori**:\n",
    "   La media a posteriori è il valore atteso del parametro $\\theta$, calcolato sulla base della distribuzione a posteriori. In termini matematici, nel caso continuo, è espressa dalla formula:\n",
    "\n",
    "   $$ E(\\theta \\mid y) = \\int_{-\\infty}^{\\infty} \\theta \\, p(\\theta \\mid y) \\, d\\theta. $$\n",
    "\n",
    "3. **Mediana**:\n",
    "   La mediana è il valore del parametro per cui il 50% della massa di probabilità a posteriori si distribuisce equamente a sinistra e a destra. È una misura robusta della tendenza centrale, particolarmente utile in presenza di distribuzioni asimmetriche o multimodali, dove la moda potrebbe non fornire una stima accurata del valore più probabile del parametro.\n",
    "\n",
    "Per valutare l'incertezza associata al parametro $\\theta$, è utile calcolare la varianza a posteriori. Questa varianza è basata sulla tendenza centrale definita dalla media a posteriori, e la sua radice quadrata fornisce la deviazione standard a posteriori, che misura l'incertezza a posteriori relativa a $\\theta$, espressa nelle stesse unità di misura dei dati. La formula per la varianza a posteriori è data da:\n",
    "\n",
    "$$ \n",
    "V(\\theta|y) = E[((\\theta - E[(\\theta|y)])^2 |y) = \\int_{-\\infty}^{\\infty} (\\theta - E[\\theta | y])^2 p(\\theta | y) d\\theta = E[\\theta^2 |y] - E[\\theta|y]^2. \n",
    "$$\n",
    "\n",
    "In sintesi, la media, la moda e la mediana a posteriori, insieme alla varianza a posteriori, forniscono una descrizione comprensiva del comportamento della distribuzione a posteriori di $\\theta$, permettendoci di derivare stime puntuali e misurare l'incertezza associata a $\\theta$ in modo informativo.\n",
    "\n",
    "## Intervallo di credibilità\n",
    "\n",
    "Nell'inferenza bayesiana, l'intervallo di credibilità è uno strumento utilizzato per definire un intervallo che contiene una determinata percentuale della massa della distribuzione a posteriori del parametro $\\theta$. Questo intervallo riflette l'incertezza associata alla stima del parametro: un intervallo più ampio suggerisce una maggiore incertezza. Lo scopo principale dell'intervallo di credibilità è fornire una misura quantitativa dell'incertezza riguardante $\\theta$.\n",
    "\n",
    "A differenza degli intervalli di confidenza frequentisti, non esiste un unico intervallo di credibilità per un dato livello di confidenza $(1 - \\alpha) \\cdot 100\\%$. In effetti, è possibile costruire un numero infinito di tali intervalli. Per questo motivo, è necessario stabilire criteri aggiuntivi per selezionare l'intervallo di credibilità più appropriato. Tra le opzioni più comuni ci sono l'intervallo di credibilità simmetrico e l'intervallo di massima densità posteriore (HPD).\n",
    "\n",
    "1. **Intervallo di Credibilità Simmetrico**:\n",
    "   Questo tipo di intervallo è centrato rispetto al punto di stima puntuale. Se $\\hat{\\theta}$ rappresenta la stima del parametro, l'intervallo simmetrico avrà la forma $(\\hat{\\theta} - a, \\hat{\\theta} + a)$, dove $a$ è un valore positivo scelto in modo tale che la massa totale inclusa sia pari a $(1 - \\alpha)$. Più formalmente, un intervallo di credibilità simmetrico al livello $\\alpha$ può essere espresso come:\n",
    "\n",
    "   $$ I_{\\alpha} = [q_{\\alpha/2}, q_{1 - \\alpha/2}], $$\n",
    "\n",
    "   dove $q_z$ rappresenta il quantile $z$ della distribuzione a posteriori. Ad esempio, un intervallo di credibilità simmetrico al 94% sarà:\n",
    "\n",
    "   $$ I_{0.06} = [q_{0.03}, q_{0.97}], $$\n",
    "\n",
    "   dove il 3% della massa a posteriori si trova in ciascuna delle due code della distribuzione.\n",
    "\n",
    "2. **Intervallo di Credibilità Più Stretto (Intervallo di Massima Densità Posteriore, HPD)**:\n",
    "   L'intervallo di massima densità posteriore (HPD) è l'intervallo più stretto possibile che contiene il $(1 - \\alpha) \\cdot 100\\%$ della massa a posteriori. A differenza dell'intervallo simmetrico, l'HPD include tutti i valori di $\\theta$ che hanno la maggiore densità a posteriori. Per costruirlo, si disegna una linea orizzontale sulla distribuzione a posteriori e si regola l'altezza della linea in modo che l'area sotto la curva corrisponda a $(1 - \\alpha)$. L'HPD risulta essere il più stretto tra tutti gli intervalli possibili per lo stesso livello di confidenza. Nel caso di una distribuzione a posteriori unimodale e simmetrica, l'HPD coincide con l'intervallo di credibilità simmetrico.\n",
    "\n",
    "### Interpretazione\n",
    "\n",
    "Il calcolo degli intervalli di credibilità, in particolare dell'intervallo di massima densità posteriore (HPD), richiede spesso l'uso di software statistici avanzati. Questo perché determinare manualmente tali intervalli può essere complicato, soprattutto nei modelli bayesiani con distribuzioni posteriori complesse o quando sono necessarie simulazioni numeriche per stimare la distribuzione a posteriori.\n",
    "\n",
    "Un aspetto cruciale dell'inferenza bayesiana riguarda l'interpretazione dell'incertezza. Nel contesto frequentista, si considera il parametro, come ad esempio la media della popolazione $\\mu$, come un valore fisso ma sconosciuto. L'inferenza frequentista si basa sull'immaginare un numero infinito di campioni ripetuti dalla popolazione. Per ogni campione, si può calcolare una media campionaria $\\bar{x}$ e formare un intervallo di confidenza al $100(1-\\alpha)\\%$. L'interpretazione corretta in termini frequentisti è che, nel lungo periodo, il $100(1-\\alpha)\\%$ degli intervalli di confidenza costruiti con questo metodo conterrà il vero valore del parametro $\\mu$. Tuttavia, per un singolo intervallo calcolato, la probabilità che contenga effettivamente $\\mu$ è o 0 o 1, poiché $\\mu$ è considerato un valore fisso.\n",
    "\n",
    "Nel framework bayesiano, invece, il parametro è trattato come una variabile aleatoria con una distribuzione di probabilità. Campionando dalla distribuzione a posteriori dei parametri, possiamo ottenere quantili che ci permettono di calcolare direttamente la probabilità che un parametro rientri in un determinato intervallo. Ad esempio, un intervallo di credibilità al 95% indica che c'è una probabilità del 95% che il parametro sia contenuto all'interno di quell'intervallo, data l'evidenza osservata. Questa interpretazione differisce profondamente da quella frequentista e risulta più intuitiva, poiché riflette direttamente il grado di incertezza che abbiamo riguardo al parametro.\n",
    "\n",
    "In sintesi, mentre l'intervallo di confidenza frequentista riguarda la ripetizione ipotetica del campionamento, l'intervallo di credibilità bayesiano fornisce una misura diretta dell'incertezza attuale sul valore di un parametro, basata sui dati osservati e sulle informazioni a priori. Questo approccio è spesso considerato più vicino al senso comune quando si tratta di interpretare la probabilità associata ai parametri.\n",
    "\n",
    "## Verifica di ipotesi bayesiana\n",
    "\n",
    "L'inferenza bayesiana può essere applicata anche nel contesto della verifica di ipotesi, in un approccio noto come <font color='orange'>verifica di ipotesi bayesiana</font>. In questo tipo di inferenza, l'obiettivo è valutare la plausibilità che un parametro $\\theta$ assuma valori all'interno di un determinato intervallo. Ad esempio, possiamo voler sapere quanto è probabile che $\\theta$ sia maggiore di 0.5 o che rientri in un intervallo specifico, come [0.5, 1.0].\n",
    "\n",
    "In questo approccio, si calcola la <font color='orange'>probabilità a posteriori</font> che $\\theta$ si trovi all'interno dell'intervallo di interesse. Questa probabilità viene ottenuta integrando la distribuzione a posteriori su tale intervallo. Quindi, invece di rifiutare o accettare un'ipotesi come nel test di ipotesi frequentista, la verifica di ipotesi bayesiana fornisce una misura diretta della probabilità che un parametro rientri in un intervallo specifico, dato l'evidenza osservata e le informazioni a priori.\n",
    "\n",
    "In altre parole, questo approccio consente di quantificare la nostra incertezza rispetto all'affermazione che $\\theta$ rientri in un certo intervallo, fornendo una probabilità che rappresenta direttamente la plausibilità di quell'ipotesi."
   ]
  },
  {
   "attachments": {},
   "cell_type": "markdown",
   "id": "ee944b33-c431-438f-9d48-8abf1f3fe697",
   "metadata": {},
   "source": [
    "::: {#exm-}\n",
    "\n",
    "Per comprendere meglio attraverso un esempio pratico, esaminiamo i dati relativi ai punteggi del BDI-II (Beck Depression Inventory - Second Edition) di 30 soggetti clinici, come riportato nello studio condotto da @zetsche_2019future. Il BDI-II è un questionario utilizzato per valutare la gravità dei sintomi depressivi."
   ]
  },
  {
   "cell_type": "code",
   "execution_count": 3,
   "id": "75888346-5319-48b2-a9ea-aae0acf57696",
   "metadata": {
    "ExecuteTime": {
     "end_time": "2024-03-28T11:15:40.189244Z",
     "start_time": "2024-03-28T11:15:40.183137Z"
    }
   },
   "outputs": [
    {
     "name": "stdout",
     "output_type": "stream",
     "text": [
      "26 35 30 25 44 30 33 43 22 43 24 19 39 31 25 28 35 30 26 31 41 36 26 35 33 28 27 34 27 22\n"
     ]
    }
   ],
   "source": [
    "bdi = np.array([\n",
    "    26,\n",
    "    35,\n",
    "    30,\n",
    "    25,\n",
    "    44,\n",
    "    30,\n",
    "    33,\n",
    "    43,\n",
    "    22,\n",
    "    43,\n",
    "    24,\n",
    "    19,\n",
    "    39,\n",
    "    31,\n",
    "    25,\n",
    "    28,\n",
    "    35,\n",
    "    30,\n",
    "    26,\n",
    "    31,\n",
    "    41,\n",
    "    36,\n",
    "    26,\n",
    "    35,\n",
    "    33,\n",
    "    28,\n",
    "    27,\n",
    "    34,\n",
    "    27,\n",
    "    22,\n",
    "])\n",
    "print(*bdi)"
   ]
  },
  {
   "attachments": {},
   "cell_type": "markdown",
   "id": "eb952d94-e1ca-4daf-969f-eacb20b42362",
   "metadata": {},
   "source": [
    "Un valore BDI-II $\\geq 30$ indica la presenza di un livello grave di depressione. Nel campione clinico di {cite:t}`zetsche_2019future`, 17 pazienti su 30 manifestano un livello grave di depressione."
   ]
  },
  {
   "cell_type": "code",
   "execution_count": 4,
   "id": "8b4b55fc-d031-4aaf-bc87-4b09e28e46e5",
   "metadata": {
    "ExecuteTime": {
     "end_time": "2024-03-28T11:15:45.900810Z",
     "start_time": "2024-03-28T11:15:45.892416Z"
    }
   },
   "outputs": [
    {
     "data": {
      "text/plain": [
       "17"
      ]
     },
     "execution_count": 4,
     "metadata": {},
     "output_type": "execute_result"
    }
   ],
   "source": [
    "np.sum(bdi >= 30)"
   ]
  },
  {
   "attachments": {},
   "cell_type": "markdown",
   "id": "df196811-9d53-4f56-a3da-556a902c89c0",
   "metadata": {},
   "source": [
    "Supponiamo di volere stimare la distribuzione a posteriori della probabilità $\\theta$ di depressione grave nei pazienti clinici, così come viene misurata dal test BDI-II, imponendo su $\\theta$ una distribuzione a priori $Beta(8, 2)$. \n",
    "\n",
    "Poiché i dati possono essere concepiti come una sequenza di prove Bernoulliane indipendenti, laddove la presenza di depressione grave viene concepita come un \"successo\", la verosimiglianza sarà Binomiale con paramentri $n$ = 30 e $y$ = 17. \n",
    "\n",
    "Avendo scelto, quale distribuzione a priori, una $Beta(8, 2)$, la distribuzione a posteriori di $\\theta$ sarà una $Beta(8 + 17, 2 + 30 - 17)$:\n",
    "\n",
    "$$\n",
    "f(\\theta \\mid y = 17) = \\frac{\\Gamma(25 + 15)}{\\Gamma(25)\\Gamma(15)}\\theta^{25-1} (1-\\theta)^{15-1} \\;\\; \\text{ for } \\theta \\in [0,1] \\; .\n",
    "$$ (eq-post-beta-25-15)\n"
   ]
  },
  {
   "cell_type": "code",
   "execution_count": 5,
   "id": "9a938f31-4bc2-4fe0-9149-fa4353bf450b",
   "metadata": {
    "ExecuteTime": {
     "end_time": "2024-03-28T11:15:49.774583Z",
     "start_time": "2024-03-28T11:15:49.281433Z"
    }
   },
   "outputs": [
    {
     "data": {
      "image/png": "[encoded data removed]",
      "text/plain": [
       "<Figure size 720x480 with 1 Axes>"
      ]
     },
     "metadata": {
      "image/png": {
       "height": 491,
       "width": 731
      }
     },
     "output_type": "display_data"
    }
   ],
   "source": [
    "theta = np.linspace(0, 1, 200)\n",
    "alpha = 25\n",
    "beta = 15\n",
    "pdf = stats.beta.pdf(theta, alpha, beta)\n",
    "plt.plot(theta, pdf, label=r\"$\\alpha$ = {}, $\\beta$ = {}\".format(alpha, beta))\n",
    "plt.xlabel(r\"$\\theta$\", fontsize=14)\n",
    "plt.ylabel(\"Densità di probabilità\", fontsize=14)\n",
    "plt.legend(loc=1)\n",
    "plt.show()"
   ]
  },
  {
   "attachments": {},
   "cell_type": "markdown",
   "id": "6462082d-3072-4330-beb1-fed3296dc0b8",
   "metadata": {},
   "source": [
    "Vediamo ora come ottenere delle stime puntuali da tale distribuzione a posteriori. \n",
    "\n",
    "per il presente esempio, la media della distribuzione a posteriori di $\\theta$ è\n",
    "\n",
    "$$\n",
    "\\mathbb{E}(\\pi \\mid y = 17) = \\frac{\\alpha}{\\alpha + \\beta} = \\frac{25}{25+15} = 0.625.\n",
    "$$\n",
    "\n",
    "Una stima del massimo della probabilità a posteriori, o brevemente massimo a posteriori, MAP (da *maximum a posteriori probability*), è la moda della distribuzione a posteriori. Nel caso presente, abbiamo\n",
    "\n",
    "$$\n",
    "Mo(\\pi \\mid y = 17) = \\frac{\\alpha-1}{\\alpha + \\beta-2} = \\frac{25-1}{25+15-2} = 0.6316.\n",
    "$$\n",
    "\n",
    "La mediana si ottiene con la funzione `beta.ppf()`:"
   ]
  },
  {
   "cell_type": "code",
   "execution_count": 6,
   "id": "9512c62b-2bbe-4f85-8e5d-44ab6394a6bc",
   "metadata": {
    "ExecuteTime": {
     "end_time": "2024-03-28T11:15:58.032364Z",
     "start_time": "2024-03-28T11:15:58.024101Z"
    }
   },
   "outputs": [
    {
     "data": {
      "text/plain": [
       "0.6271031100419254"
      ]
     },
     "execution_count": 6,
     "metadata": {},
     "output_type": "execute_result"
    }
   ],
   "source": [
    "stats.beta.ppf(0.5, alpha, beta)"
   ]
  },
  {
   "attachments": {},
   "cell_type": "markdown",
   "id": "21ff17b5-de0c-4c59-9b34-98dd1e536c60",
   "metadata": {},
   "source": [
    "L'intervallo di credibilità simmetrico al 94% è dato dalla chiamata a `beta.ppf()`."
   ]
  },
  {
   "cell_type": "code",
   "execution_count": 7,
   "id": "f6dd1edd-bbbe-4abc-9c67-976f76848e36",
   "metadata": {
    "ExecuteTime": {
     "end_time": "2024-03-28T11:16:00.706407Z",
     "start_time": "2024-03-28T11:16:00.699626Z"
    }
   },
   "outputs": [
    {
     "data": {
      "text/plain": [
       "[0.4781025861696672, 0.7612890799836668]"
      ]
     },
     "execution_count": 7,
     "metadata": {},
     "output_type": "execute_result"
    }
   ],
   "source": [
    "[stats.beta.ppf(0.03, alpha, beta), stats.beta.ppf(0.97, alpha, beta)]"
   ]
  },
  {
   "attachments": {},
   "cell_type": "markdown",
   "id": "ad3c48bc-0ce4-47b3-b2a4-4179248b4b0d",
   "metadata": {},
   "source": [
    "Il calcolo precedente evidenzia l'interpretazione intuitiva dell'intervallo di credibilità. Tale intervallo, infatti, può essere interpretato nel modo seguente: possiamo attribuire una certezza soggettiva del 94% all'evento che $\\theta$ assuma un valore compreso tra 0.478 e 0.761. Il valore di 0.94 corrisponde infatti all'area sottesa dalla distribuzione a posteriori nell'intervallo $$0.478, 0.761$$.\n",
    "\n",
    "$$\n",
    "P(\\theta \\in (0.478, 0.761) \\mid Y = 17) = \\int_{0.478}^{0.761} f(\\theta \\mid y=17) d\\theta = 0.94.\n",
    "$$"
   ]
  },
  {
   "cell_type": "code",
   "execution_count": 8,
   "id": "2a36b78b-1cb6-4d44-9041-498876f14812",
   "metadata": {
    "ExecuteTime": {
     "end_time": "2024-03-28T11:16:04.817324Z",
     "start_time": "2024-03-28T11:16:04.808676Z"
    }
   },
   "outputs": [
    {
     "data": {
      "text/plain": [
       "0.9400000000000001"
      ]
     },
     "execution_count": 8,
     "metadata": {},
     "output_type": "execute_result"
    }
   ],
   "source": [
    "betacdf = stats.beta(alpha, beta).cdf\n",
    "betacdf(0.7612890799836668) - betacdf(0.4781025861696672)"
   ]
  },
  {
   "attachments": {},
   "cell_type": "markdown",
   "id": "d458c74f-7968-4951-8b2e-44bf6e219863",
   "metadata": {},
   "source": [
    "Possiamo costruire vari intervalli di credibilità simmetrici. Ad esempio, l'intervallo di credibilità compreso tra il 25-esimo e il 75-esimo percentile:"
   ]
  },
  {
   "cell_type": "code",
   "execution_count": 9,
   "id": "a6355efc-0f26-4c45-a572-885032e6f5a1",
   "metadata": {
    "ExecuteTime": {
     "end_time": "2024-03-28T11:16:07.795638Z",
     "start_time": "2024-03-28T11:16:07.788982Z"
    }
   },
   "outputs": [
    {
     "data": {
      "text/plain": [
       "[0.5743877928498646, 0.6778673380880944]"
      ]
     },
     "execution_count": 9,
     "metadata": {},
     "output_type": "execute_result"
    }
   ],
   "source": [
    "[stats.beta.ppf(0.25, alpha, beta), stats.beta.ppf(0.75, alpha, beta)]"
   ]
  },
  {
   "attachments": {},
   "cell_type": "markdown",
   "id": "990f1c6a-7a49-4164-8adf-11664fd1e669",
   "metadata": {},
   "source": [
    "In questo secondo caso, possiamo affermare con una certezza soggettiva del 50% che la probabilità di depressione grave tra i pazienti clinici si situa tra 0.57 e 0.68.\n",
    "\n",
    "Non esiste un livello \"giusto\" di credibilità soggettiva. I ricercatori adottano livelli differenti, come il 50%, l'80% o il 94%, a seconda del contesto dell'analisi statistica. Ogni intervallo offre una prospettiva unica sulla nostra comprensione della distribuzione a posteriori del parametro d'interesse.\n",
    "\n",
    "Non sempre è appropriato presentare un intervallo di credibilità con le stesse code. Quando la distribuzione a posteriori è marcatamente asimmetrica, risulta più adeguato fornire l'intervallo di credibilità più stretto (o Intervallo di Massima Densità Posteriore, HPD). L'intervallo HPD è più facilmente calcolabile quando si approssima la distribuzione a posteriori con il metodo MCMC.\n",
    "\n",
    "Passiamo ora alla verifica di ipotesi bayesiana. Supponiamo che la nostra ipotesi sia: $\\theta >$ 0.5. La credibilità soggettiva dell'evento $\\theta > 0.5$ può essere ottenuta calcolando il seguente integrale:\n",
    "\n",
    "$$\n",
    "f(\\theta > 0.5 \\; \\mid \\; y = 17) = \\int_{0.5}^{1}f(\\theta \\mid y=17)d\\theta \\;,\n",
    "$$\n",
    "\n",
    "dove $f(\\cdot)$ è la distribuzione Beta(25, 15). \n",
    "\n",
    "È facile trovare questo valore con Python."
   ]
  },
  {
   "cell_type": "code",
   "execution_count": 10,
   "id": "823eb36d-85a2-4e2f-866c-905091c76171",
   "metadata": {
    "ExecuteTime": {
     "end_time": "2024-03-28T11:16:12.036559Z",
     "start_time": "2024-03-28T11:16:12.031101Z"
    }
   },
   "outputs": [
    {
     "name": "stdout",
     "output_type": "stream",
     "text": [
      "La probabilità P(theta < 0.5) per una Beta(25, 15) è: 0.9459\n"
     ]
    }
   ],
   "source": [
    "# Parametri della distribuzione Beta\n",
    "alpha = 25\n",
    "beta = 15\n",
    "\n",
    "# Calcoliamo la probabilità P(theta < 0.5) utilizzando la funzione cdf \n",
    "probability = stats.beta.cdf(0.5, alpha, beta)\n",
    "\n",
    "# La probabilità P(theta < 0.5) è data da 1 - P(theta > 0.5)\n",
    "probability_less_than_0_5 = 1 - probability\n",
    "\n",
    "print(f\"La probabilità P(theta < 0.5) per una Beta(25, 15) è: {probability_less_than_0_5:.4f}\")"
   ]
  },
  {
   "cell_type": "markdown",
   "metadata": {},
   "source": [
    ":::"
   ]
  },
  {
   "cell_type": "markdown",
   "metadata": {},
   "source": [
    "## Sintesi della distribuzione a posteriori: questioni multivariate\n",
    "\n",
    "Quando si affronta un'analisi bayesiana con più parametri, la complessità aumenta. Le principali difficoltà riguardano le interazioni tra i parametri e il modo in cui queste influenzano le distribuzioni marginali. Questi fattori possono complicare notevolmente la sintesi della distribuzione a posteriori e, se non considerati attentamente, possono portare a interpretazioni errate.\n",
    "\n",
    "### Correlazioni nascoste e distribuzioni marginali\n",
    "\n",
    "Un problema comune nelle analisi con più parametri è rappresentato dalle **correlazioni tra i parametri**. Le distribuzioni marginali a posteriori, spesso riportate nei riassunti statistici, possono essere **molto fuorvianti** se considerate isolatamente. Quando i parametri sono fortemente correlati, le distribuzioni marginali possono apparire piatte o poco informative, inducendo a pensare che non ci sia molta informazione nella verosimiglianza.\n",
    "\n",
    "Tuttavia, le correlazioni tra parametri possono restringere notevolmente lo spazio delle combinazioni plausibili, escludendo vaste aree dello spazio dei parametri. Questo significa che, nonostante le marginali possano sembrare non informative, l'analisi congiunta dei parametri può rivelare una struttura sottostante che riduce l'incertezza su specifiche combinazioni. Pertanto, è essenziale esaminare le correlazioni congiunte tra i parametri per ottenere una visione più completa dell'incertezza.\n",
    "\n",
    "Con un numero maggiore di parametri, anche i grafici di correlazione bidimensionali possono diventare limitati, poiché potrebbero esistere correlazioni di ordine superiore che non emergono in rappresentazioni a due dimensioni.\n",
    "\n",
    "### Correlazioni non lineari\n",
    "\n",
    "Un'altra difficoltà significativa riguarda le **correlazioni non lineari** tra i parametri. Quando queste correlazioni sono presenti, il massimo delle distribuzioni marginali non coincide necessariamente con il massimo della distribuzione congiunta. Per esempio, se due parametri presentano una correlazione complessa, come una forma a \"banana\", il massimo delle distribuzioni marginali potrebbe trovarsi in una posizione diversa rispetto al massimo globale della distribuzione congiunta.\n",
    "\n",
    "Questo fenomeno rende più difficile sintetizzare correttamente la distribuzione a posteriori. In tali casi, la stima del **massimo a posteriori (MAP)** o altri riassunti, come gli **intervalli di credibilità (CI)** o gli **intervalli di massima densità a posteriori (HPD)**, calcolati sulle marginali, potrebbero essere fuorvianti. Quando la distribuzione a posteriori è asimmetrica nello spazio multivariato, le distribuzioni marginali non catturano adeguatamente le relazioni tra i parametri. Questa è una fonte comune di confusione, poiché si tende a sottovalutare l'importanza della struttura multivariata nella distribuzione a posteriori.\n",
    "\n",
    "### Strategie per affrontare queste sfide\n",
    "\n",
    "1. **Confronto tra distribuzioni predittive**:\n",
    "   - Confrontare la distribuzione predittiva a priori con quella a posteriori offre una visione più completa della riduzione dell'incertezza.\n",
    "   - Questo approccio è particolarmente utile in presenza di parametri multipli e correlazioni complesse, poiché la distribuzione predittiva a posteriori incorpora le interazioni tra i parametri, fornendo una rappresentazione più accurata della plausibilità dei diversi valori parametrici.\n",
    "\n",
    "2. **Analisi congiunta**:\n",
    "   - Esaminare le distribuzioni congiunte dei parametri, oltre alle distribuzioni marginali.\n",
    "   - Utilizzare grafici di dispersione bivariati o multivariati per visualizzare le relazioni tra i parametri.\n",
    "   - Tecniche avanzate di visualizzazione, come i **pair plots** o le **heatmap**, possono essere utili per esplorare relazioni in spazi ad alta dimensionalità.\n",
    "\n",
    "3. **Misure di dipendenza**:\n",
    "   - Utilizzare misure di dipendenza non lineare, come la **correlazione di Spearman** o l'**informazione mutua**, che possono catturare relazioni complesse che le misure lineari tradizionali potrebbero non rilevare.\n",
    "\n",
    "4. **Analisi di sensibilità**:\n",
    "   - Condurre un'analisi di sensibilità per valutare come i cambiamenti in un parametro influenzano gli altri parametri e le previsioni del modello. Questo permette di capire meglio le relazioni tra i parametri e il loro impatto sulle inferenze.\n",
    "\n",
    "5. **Tecniche di riduzione della dimensionalità**:\n",
    "   - Quando ci sono molti parametri, l'uso di metodi come l'**analisi delle componenti principali (PCA)** o il **t-SNE** può aiutare a identificare strutture latenti e ridurre la complessità del problema, facilitando l'interpretazione dei risultati.\n",
    "\n",
    "In sintesi, l'analisi multivariata in un contesto bayesiano richiede particolare attenzione nella sintesi delle distribuzioni a posteriori. Le distribuzioni marginali possono fornire informazioni utili, ma spesso nascondono importanti correlazioni e strutture di dipendenza tra i parametri. Un'analisi completa dovrebbe combinare l'esame delle marginali con una valutazione attenta delle relazioni congiunte tra i parametri, utilizzando tecniche di visualizzazione e misure di dipendenza adeguate. Questo approccio integrato permette di comprendere più a fondo la distribuzione a posteriori e di trarre inferenze più robuste e accurate."
   ]
  },
  {
   "attachments": {},
   "cell_type": "markdown",
   "id": "fb1aa330-e39a-4e7f-9e58-330b89e27474",
   "metadata": {},
   "source": [
    "## Riflessioni Conclusive\n",
    "\n",
    "In conclusione, la distribuzione a posteriori rappresenta la nostra conoscenza aggiornata sui parametri sconosciuti. L'impiego delle statistiche descrittive e l'analisi degli intervalli di credibilità contribuiscono a tracciare un quadro completo della distribuzione a posteriori e delle nostre inferenze riguardo al parametro di interesse.\n",
    "\n",
    "Le stime puntuali, ottenute attraverso statistiche descrittive come media, mediana o moda a posteriori, offrono una singola valutazione numerica del parametro ignoto. Gli intervalli di credibilità forniscono un intervallo di valori all'interno del quale si ritiene, con un certo grado di probabilità soggettiva, che il parametro incognito possa rientrare. Questi intervalli quantificano l'incertezza associata al parametro e consentono di esprimere il livello di fiducia soggettiva riguardo ai possibili valori del parametro dopo l'analisi dei dati. Abbiamo inoltre esaminato il concetto di test di ipotesi bayesiano, il quale può essere condotto agevolmente calcolando l'area appropriata sotto la distribuzione a posteriori, in accordo con l'ipotesi in questione."
   ]
  },
  {
   "cell_type": "markdown",
   "id": "96199a16-dbe6-46c5-9523-2c6c15cd4cd3",
   "metadata": {
    "collapsed": false
   },
   "source": [
    "## Informazioni sull'Ambiente di Sviluppo {.unnumbered}"
   ]
  },
  {
   "cell_type": "code",
   "execution_count": 12,
   "id": "cfc3cadf-2cc8-43bd-910d-a1fb1bd10c95",
   "metadata": {
    "ExecuteTime": {
     "end_time": "2024-03-28T11:17:25.930402Z",
     "start_time": "2024-03-28T11:17:25.837464Z"
    }
   },
   "outputs": [
    {
     "name": "stdout",
     "output_type": "stream",
     "text": [
      "Last updated: Thu Mar 28 2024\n",
      "\n",
      "Python implementation: CPython\n",
      "Python version       : 3.11.8\n",
      "IPython version      : 8.22.2\n",
      "\n",
      "Compiler    : Clang 16.0.6 \n",
      "OS          : Darwin\n",
      "Release     : 23.4.0\n",
      "Machine     : x86_64\n",
      "Processor   : i386\n",
      "CPU cores   : 8\n",
      "Architecture: 64bit\n",
      "\n",
      "scipy     : 1.12.0\n",
      "numpy     : 1.26.4\n",
      "arviz     : 0.17.1\n",
      "sys       : 3.11.8 | packaged by conda-forge | (main, Feb 16 2024, 20:51:20) [Clang 16.0.6 ]\n",
      "matplotlib: 3.8.3\n",
      "\n",
      "Watermark: 2.4.3\n"
     ]
    }
   ],
   "source": [
    "%load_ext watermark\n",
    "%watermark -n -u -v -iv -w -m"
   ]
  }
 ],
 "metadata": {
  "kernelspec": {
   "display_name": "cmdstan_env",
   "language": "python",
   "name": "python3"
  },
  "language_info": {
   "codemirror_mode": {
    "name": "ipython",
    "version": 3
   },
   "file_extension": ".py",
   "mimetype": "text/x-python",
   "name": "python",
   "nbconvert_exporter": "python",
   "pygments_lexer": "ipython3",
   "version": "3.12.4"
  }
 },
 "nbformat": 4,
 "nbformat_minor": 2
}

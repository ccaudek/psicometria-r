{
 "cells": [
  {
   "attachments": {},
   "cell_type": "markdown",
   "id": "37e48e37-eff3-4098-93d5-5e3cf7d14938",
   "metadata": {},
   "source": [
    "# Intervallo di confidenza {#sec-confidence-interval}"
   ]
  },
  {
   "cell_type": "markdown",
   "id": "34f4c63b-3116-4f7f-8b03-7a5153c148cb",
   "metadata": {},
   "source": [
    "**Prerequisiti**\n",
    "\n",
    "**Concetti e competenze chiave**\n",
    "\n",
    "**Preparazione del Notebook**"
   ]
  },
  {
   "cell_type": "code",
   "execution_count": 1,
   "id": "2d8ace96-38f6-435a-a63b-953be9d38bf8",
   "metadata": {},
   "outputs": [],
   "source": [
    "import numpy as np\n",
    "import pandas as pd\n",
    "import matplotlib.pyplot as plt\n",
    "import scipy.stats as st\n",
    "import arviz as az\n",
    "import seaborn as sns\n",
    "import pymc as pm"
   ]
  },
  {
   "cell_type": "code",
   "execution_count": 2,
   "id": "c5d8c6e1-7a23-415f-826e-6f39357edcef",
   "metadata": {},
   "outputs": [],
   "source": [
    "seed: int = sum(map(ord, \"confidence_intervals\"))\n",
    "rng: np.random.Generator = np.random.default_rng(seed=seed)\n",
    "sns.set_theme(palette=\"colorblind\")\n",
    "az.style.use(\"arviz-darkgrid\")\n",
    "%config InlineBackend.figure_format = \"retina\""
   ]
  },
  {
   "attachments": {},
   "cell_type": "markdown",
   "id": "277004f5-db2d-4102-9e99-282392ec571f",
   "metadata": {},
   "source": [
    "## Introduzione {.unnumbered}\n",
    "\n",
    "Gli intervalli di confidenza sono un pilastro nell'approccio frequentista all'inferenza statistica, fornendo un mezzo per gestire l'incertezza associata ai risultati delle analisi statistiche. Questo capitolo si propone di esplorare in profondità gli intervalli di confidenza, analizzandone il calcolo e la loro interpretazione dal punto di vista frequentista. Sarà messa in luce la sfida nell'interpretare correttamente tali intervalli.\n",
    "\n",
    "## Inferenza Statistica Frequentista: L'Intervallo di Confidenza\n",
    "\n",
    "L'intervallo di confidenza è un concetto fondamentale nell'approccio frequentista alla statistica. Questo strumento è impiegato per valutare la variabilità della stima di un parametro di interesse all'interno di una popolazione, partendo da un campione di essa.\n",
    "\n",
    "Al centro di questo metodo si trova l'errore standard, che misura la deviazione standard della distribuzione campionaria di uno stimatore. Questo indice quantifica quanto la stima del parametro si discosta, in media, dal valore effettivo del parametro nella popolazione. Gli statistici frequentisti sfruttano l'errore standard per definire l'intervallo di confidenza, che rappresenta un intervallo di valori entro cui si ritiene si trovi il vero valore del parametro, come ad esempio la media della popolazione.\n",
    "\n",
    "Per comprendere l'intervallo di confidenza da una prospettiva frequentista è essenziale il concetto di \"procedura di stima\". In base a questo approccio, l'intervallo di confidenza viene costruito in modo che, se la medesima procedura fosse ripetuta su diversi campioni della stessa popolazione, una determinata percentuale degli intervalli di confidenza (ad esempio, il 95%) includerebbe il vero valore del parametro della popolazione.\n",
    "\n",
    "In terminologia frequentista, quindi, non si afferma che un dato intervallo di confidenza possieda una probabilità del 95% di contenere il vero valore del parametro. Piuttosto, si sostiene che, seguendo lo stesso metodo di stima, il 95% degli intervalli di confidenza derivati da campioni differenti racchiuderebbe il vero valore del parametro.\n",
    "\n",
    "In questo quadro, l'intervallo di confidenza non è una dichiarazione sulla probabilità che un particolare intervallo includa il valore del parametro, ma piuttosto un'affermazione sulla regolarità con cui gli intervalli calcolati in un determinato modo riescono a catturare il valore del parametro quando si ripete il medesimo processo su vari campioni. Questa distinzione è cruciale per una corretta comprensione dell'approccio frequentista all'inferenza statistica.\n",
    "\n",
    "Mentre quest'interpretazione dell'intervallo di confidenza può apparire controintuitiva e talvolta poco pratica, riflette il contrasto con l'approccio bayesiano, il quale enfatizza l'aggiornamento delle probabilità sulla base di nuove informazioni, a differenza dell'approccio frequentista, che si basa sulla ripetizione degli esperimenti e sulla valutazione della variabilità campionaria.\n",
    "\n",
    "## Determinazione dell'intervallo di Confidenza per una Media\n",
    "\n",
    "Nei casi in cui la distribuzione delle statistiche campionarie si avvicina a una distribuzione Normale, l'intervallo di confidenza al 95% è calcolato come:\n",
    "\n",
    "$$\n",
    "\\hat{\\theta} \\pm 1.96 \\cdot \\text{SE},\n",
    "$$\n",
    "\n",
    "dove $\\hat{\\theta}$ rappresenta la stima del parametro e SE l'errore standard.\n",
    "\n",
    "### Derivazione dell'Intervallo di Confidenza per una Popolazione Normale con Varianza Nota\n",
    "\n",
    "Consideriamo una popolazione che segue una distribuzione normale con una media nota $\\mu$ e varianza $\\sigma^2$. Prendiamo un campione casuale di dimensione $n$ da questa popolazione, indicato come $X_1, X_2, \\dots, X_n$. Grazie alle proprietà delle distribuzioni normali, la media campionaria $\\bar{X}$ segue anch'essa una distribuzione normale, nello specifico $\\bar{X} \\sim \\mathcal{N}(\\mu, \\sigma^2/n)$.\n",
    "\n",
    "#### Passo 1: Standardizzazione della Media Campionaria\n",
    "\n",
    "- Per standardizzare la media campionaria in una variabile distribuita normalmente standard, sottraiamo la media della popolazione $\\mu$ e dividiamo per lo scarto standard della media campionaria $\\sigma/\\sqrt{n}$. Ciò porta alla seguente trasformazione:\n",
    "  \n",
    "  $$\n",
    "  Z = \\frac{\\bar{X} - \\mu}{\\sigma/\\sqrt{n}} \\sim \\mathcal{N}(0, 1).\n",
    "  $$\n",
    "\n",
    "#### Passo 2: Stabilire il Livello di Confidenza\n",
    "\n",
    "- Definiamo un livello di confidenza $\\gamma = 1 - \\alpha$, ad esempio $\\gamma = 0.95$ per un livello di confidenza del 95%.\n",
    "- Identifichiamo il valore critico $z$, corrispondente al quantile $(1 - \\alpha/2)$ della distribuzione normale standard. Il valore $z$ rappresenta il punto di taglio alle estremità della distribuzione:\n",
    "  \n",
    "  $$\n",
    "  P(-z \\leq Z \\leq z) = \\gamma.\n",
    "  $$\n",
    "\n",
    "#### Passo 3: Formulazione dell'Intervallo di Confidenza\n",
    "\n",
    "- Con il valore $z$ definito, formuliamo l'intervallo di confidenza per la media della popolazione:\n",
    "  \n",
    "  $$\n",
    "  P\\left(-z \\leq \\frac{\\bar{X} - \\mu}{\\sigma/\\sqrt{n}} \\leq z\\right) = \\gamma.\n",
    "  $$\n",
    "\n",
    "#### Passo 4: Manipolazione Algebrica per Definire i Limiti\n",
    "\n",
    "- Rielaboriamo la disuguaglianza per esporre i limiti dell'intervallo di confidenza:\n",
    "  \n",
    "  $$\n",
    "  \\begin{align}\n",
    "  P\\bigg(-z \\leq &\\frac{ \\bar{X} - \\mu } {\\sigma} \\sqrt{n} \\leq z\\bigg) = \\gamma\\notag\\\\\n",
    "  P\\bigg(-z {\\frac{\\sigma}{\\sqrt{n}}} \\leq  &\\bar{X} - \\mu \\leq z \\frac{\\sigma}{\\sqrt{n}}\\bigg) = \\gamma\\notag\\\\\n",
    "  P\\bigg(-\\bar{X}-z {\\frac{\\sigma}{\\sqrt{n}}} \\leq &-\\mu \\leq -\\bar{X} + z \\frac{\\sigma}{\\sqrt{n}}\\bigg) = \\gamma\\notag\\\\\n",
    "  P\\bigg(\\bar{X}+z \\frac{\\sigma}{\\sqrt{n}} \\geq &\\mu \\geq  \\bar{X} -z \\frac{\\sigma}{\\sqrt{n}}\\bigg) = \\gamma.\\notag\n",
    "  \\end{align}\n",
    "  $$   \n",
    "\n",
    "#### Passo 5: Specificazione dei Limiti dell'Intervallo\n",
    "\n",
    "- Definiamo i limiti dell'intervallo di confidenza, $\\hat{a}$ e $\\hat{b}$, come segue:\n",
    "  \n",
    "  $$\n",
    "  \\hat{a} = \\bar{X} - z \\frac{\\sigma}{\\sqrt{n}}, \n",
    "  \\quad \\hat{b} = \\bar{X} + z \\frac{\\sigma}{\\sqrt{n}},\n",
    "  $$\n",
    "  \n",
    "  con $P(\\hat{a} \\leq \\mu \\leq \\hat{b}) = \\gamma$.\n",
    "\n",
    "#### Conclusione: \n",
    "\n",
    "- L'intervallo di confidenza $(\\hat{a}, \\hat{b})$ racchiude il vero valore della media della popolazione $\\mu$ con una probabilità $\\gamma$.\n",
    "\n",
    "\n",
    "### Stima dell'Intervallo di Confidenza per Popolazioni Normali con Varianza Incognita\n",
    "\n",
    "In contesti reali, quando si preleva un campione $X_1, \\dots, X_n$ da una popolazione, la varianza $\\sigma^2$ della popolazione è spesso incognita. Questo aggiunge incertezza riguardo alla media della popolazione $\\mu$, che è il parametro di interesse. In questi casi, si adotta la distribuzione t di Student per la stima dell'intervallo di confidenza della media $\\mu$, a causa della varianza incognita.\n",
    "\n",
    "#### Passo 1: Impiego della Distribuzione t di Student\n",
    "\n",
    "- Applichiamo la formula seguente per calcolare l'intervallo:\n",
    "  \n",
    "  $$\n",
    "  P\\left(−t^{\\ast} \\leq \\frac{\\bar{X} - \\mu}{s/\\sqrt{n}} \\leq t^{\\ast}\\right) = \\gamma,\n",
    "  $$\n",
    "  \n",
    "  dove $\\gamma = 1 - \\alpha$ è il livello di confidenza, $s$ è la stima della deviazione standard $\\sigma$ della popolazione, e $t^{\\ast}$ è il quantile di ordine $1 - \\alpha/2$ della distribuzione t con $n−1$ gradi di libertà. \n",
    "\n",
    "#### Passo 2: Determinazione dei Limiti dell'Intervallo di Confidenza\n",
    "\n",
    "- Calcoliamo i limiti inferiore $\\hat{a}$ e superiore $\\hat{b}$ dell'intervallo di confidenza così:\n",
    "  \n",
    "  $$\n",
    "  \\hat{a} = \\bar{X} - t^{\\ast} \\frac{s}{\\sqrt{n}},\n",
    "  \\quad \\hat{b} = \\bar{X} + t^{\\ast} \\frac{s}{\\sqrt{n}}.\n",
    "  $$\n",
    "\n",
    "In queste circostanze, si sostituisce la varianza sconosciuta $\\sigma^2$ con la sua stima $s$ e si utilizza la distribuzione t di Student invece della normale.\n",
    "\n",
    "Applicabilità e Limitazioni:\n",
    "\n",
    "- Il metodo presuppone che la popolazione segua una distribuzione normale e è valido anche per campioni di piccole dimensioni (ad esempio, $n < 30$) prelevati da tale popolazione.\n",
    "- Se la popolazione non è normalmente distribuita e la dimensione del campione è ridotta, questo metodo potrebbe non essere idoneo.\n",
    "- Tuttavia, per campioni di grandi dimensioni ($n \\geq 30$), questo approccio rimane valido per la stima dell'intervallo di confidenza grazie al teorema del limite centrale, che si applica anche a popolazioni con distribuzioni non normali."
   ]
  },
  {
   "attachments": {},
   "cell_type": "markdown",
   "id": "0c679f0f-ccec-436b-8ece-2faaea88daf9",
   "metadata": {},
   "source": [
    "## Livello di Copertura\n",
    "\n",
    "Per interpretare correttamente gli intervalli di fiducia è fondamentale considerare il concetto di \"livello di copertura\". Questo livello indica la frequenza con cui l'intervallo di fiducia include il valore reale del parametro della popolazione, in una serie di esperimenti ripetuti. \n",
    "\n",
    "Esempio di Livello di Copertura:\n",
    "- Se il livello di copertura è del 95%, significa che, nel lungo periodo, il 95% degli intervalli di fiducia costruiti conterrà il valore vero del parametro. \n",
    "- Importante: Questo non implica che ci sia una probabilità del 95% che il valore vero del parametro cada in un particolare intervallo di fiducia. Infatti, il parametro della popolazione è un valore fisso e non soggetto a probabilità; piuttosto, l'incertezza risiede nell'intervallo di fiducia stesso.\n",
    "\n",
    "Come Funziona la Copertura:\n",
    "- Nel contesto frequentista, la \"probabilità\" si riferisce alla frequenza a lungo termine di un certo evento in un gran numero di ripetizioni dell'esperimento. \n",
    "- Nel caso degli intervalli di fiducia, l'\"esperimento\" è l'estrazione di un campione dalla popolazione, e l'\"evento\" è la generazione di un intervallo di fiducia che contiene il valore vero del parametro.\n",
    "- Il livello di copertura, generalmente indicato come $1-\\alpha$, rappresenta la probabilità a lungo termine che intervalli di fiducia costruiti con questa metodologia includano il vero valore del parametro.\n",
    "\n",
    "### Simulazione\n",
    "\n",
    "- Per illustrare questo concetto, eseguiamo una simulazione con la popolazione degli adulti maschi italiani, assunta come normalmente distribuita con media 175 cm e varianza 49 cm². \n",
    "- Eseguiamo 1000 ripetizioni di un esperimento, estraendo ogni volta un campione di 30 individui. \n",
    "- Per ciascun campione, calcoliamo l'intervallo di fiducia al 95% usando la formula:\n",
    "  \n",
    "  $$\n",
    "  \\bar{X} \\pm t \\frac{s}{\\sqrt{n}},\n",
    "  $$\n",
    "  \n",
    "  dove $\\bar{X}$ è la media campionaria, $s$ è la deviazione standard campionaria e $t$ è il valore critico della distribuzione t-Student per $n-1$ gradi di libertà al livello di significatività $\\alpha/2 = 0.025$.\n",
    "- Registriamo i limiti di ciascun intervallo e controlliamo quanti di essi includono effettivamente il vero valore medio della popolazione.\n",
    "\n",
    "Attraverso questa simulazione, possiamo visualizzare concretamente il concetto di livello di copertura e la sua importanza nella statistica frequentista.\n",
    "\n",
    "Iniziamo generando 1000 campioni casuali di dimensione $n=30$ da una distribuzione normale con media $175$ e deviazione standard $7$."
   ]
  },
  {
   "cell_type": "code",
   "execution_count": 5,
   "id": "f23c57dd-067f-4377-9653-de8a027043ae",
   "metadata": {},
   "outputs": [
    {
     "data": {
      "text/plain": [
       "(1000, 30)"
      ]
     },
     "execution_count": 5,
     "metadata": {},
     "output_type": "execute_result"
    }
   ],
   "source": [
    "mu = 175\n",
    "sigma = 7\n",
    "n = 30\n",
    "n_samples = 1000\n",
    "\n",
    "samples = np.stack([np.random.normal(loc=mu, scale=sigma, size=n) for i in range(n_samples)])\n",
    "samples.shape"
   ]
  },
  {
   "attachments": {},
   "cell_type": "markdown",
   "id": "fa6dfa7f-4098-4ca5-86c7-db4846a726a0",
   "metadata": {},
   "source": [
    "Il primo campione di ampiezza $n$ = 30 che abbiamo ottenuto è il seguente."
   ]
  },
  {
   "cell_type": "code",
   "execution_count": 6,
   "id": "ff48c69d-2933-4400-94f8-36a0d75f391b",
   "metadata": {},
   "outputs": [
    {
     "name": "stdout",
     "output_type": "stream",
     "text": [
      "[164.73077142 178.36458698 178.37872685 174.13939428 171.93750167\n",
      " 183.62660835 166.47855379 166.14290722 190.11028319 178.59315899\n",
      " 171.1696638  173.70591366 170.78474733 175.70917764 168.69153018\n",
      " 177.18965061 184.68306022 180.57048893 182.54977759 179.74984648\n",
      " 167.07981468 185.24317632 176.86968895 177.70411011 171.09097822\n",
      " 166.88189761 176.52572538 175.31383448 173.88320882 169.05527411]\n"
     ]
    }
   ],
   "source": [
    "print(samples[1, :])"
   ]
  },
  {
   "attachments": {},
   "cell_type": "markdown",
   "id": "5e15e29f-de5b-4d64-b6fa-24ab0808d9f3",
   "metadata": {},
   "source": [
    "Stampiamo qui di seguito le medie dei primi dieci campioni."
   ]
  },
  {
   "cell_type": "code",
   "execution_count": 7,
   "id": "42e48169-f4b9-4dc5-9c4c-b5ff69843aac",
   "metadata": {},
   "outputs": [
    {
     "name": "stdout",
     "output_type": "stream",
     "text": [
      "[176.37407572 175.23180193 174.58152045 176.40365999 176.74312635\n",
      " 174.17121749 174.48572499 174.18025492 175.07399899 176.36952714]\n"
     ]
    }
   ],
   "source": [
    "xbar = samples.mean(axis=1)\n",
    "print(xbar[0:10])"
   ]
  },
  {
   "attachments": {},
   "cell_type": "markdown",
   "id": "7db567aa-e20a-4842-bf99-c00711c67f19",
   "metadata": {},
   "source": [
    "Troviamo il valore critico della distribuzione $t$ di Student con (30-1) gradi di libertà."
   ]
  },
  {
   "cell_type": "code",
   "execution_count": 8,
   "id": "2817f829-f2f8-4bc8-b092-dee1a9bb4bb2",
   "metadata": {},
   "outputs": [
    {
     "data": {
      "text/plain": [
       "2.0452296421327034"
      ]
     },
     "execution_count": 8,
     "metadata": {},
     "output_type": "execute_result"
    }
   ],
   "source": [
    "alpha = 0.05\n",
    "t = st.t.ppf(1 - alpha/2, n-1)\n",
    "t"
   ]
  },
  {
   "attachments": {},
   "cell_type": "markdown",
   "id": "db0bcb99-9db5-45ba-8d86-d8fb2ae30f71",
   "metadata": {},
   "source": [
    "Utilizzando le informazioni precedenti, calcoliamo 1000 intervalli di confidenza per la media della popolazione."
   ]
  },
  {
   "cell_type": "code",
   "execution_count": 9,
   "id": "1bd8ae5c-419c-433a-8744-fd3cd97881d6",
   "metadata": {},
   "outputs": [],
   "source": [
    "interval_width = t * samples.std(axis=1, ddof=1) / np.sqrt(n)\n",
    "CI_low = samples.mean(axis=1) - interval_width\n",
    "CI_high = samples.mean(axis=1) + interval_width"
   ]
  },
  {
   "attachments": {},
   "cell_type": "markdown",
   "id": "82aa40e3-9105-4c14-b54a-49fb5efa1569",
   "metadata": {},
   "source": [
    "Troviamo ora il livello di copertura, ovvero il numero di volte in cui l'intervallo di confidenza calcolato contiene il vero valore del parametro."
   ]
  },
  {
   "cell_type": "code",
   "execution_count": 10,
   "id": "c1817876-6dee-4a80-a4fa-603bdb1aa2d7",
   "metadata": {},
   "outputs": [
    {
     "data": {
      "text/plain": [
       "0.958"
      ]
     },
     "execution_count": 10,
     "metadata": {},
     "output_type": "execute_result"
    }
   ],
   "source": [
    "coverage_p = np.sum(np.logical_and(CI_low < mu, mu < CI_high)) / samples.shape[0]\n",
    "coverage_p"
   ]
  },
  {
   "attachments": {},
   "cell_type": "markdown",
   "id": "01972757-3165-4a1f-b456-a6c2b3c999ea",
   "metadata": {},
   "source": [
    "In conclusione, ripetendo la simulazione per 1000 volte, abbiamo ottenuto una proporzione di intervalli di confidenza del 95% che contengono il parametro (ovvero il livello di copertura) molto vicino al valore nominale di $1 - \\alpha = 0.95$.\n",
    "\n",
    "\n",
    "### Il Concetto di Livello di Confidenza\n",
    "Gli intervalli di confidenza sono range di valori che, con una certa sicurezza statistica, si ritiene includano il parametro di interesse. \n",
    "\n",
    "Secondo l'approccio frequentista, l'intervallo di confidenza si deve considerare come una metodologia:\n",
    "- Se ripetiamo l'esperimento (estrarre un campione e calcolare l'intervallo di confidenza) molte volte, il metodo produce un intervallo che coprirà il valore vero del parametro nel 95% dei casi, assumendo un livello di confidenza del 95%.\n",
    "\n",
    "### Un Malinteso Comune nell'Interpretazione degli Intervalli di Confidenza\n",
    "\n",
    "È inesatto affermare che un determinato intervallo di confidenza contenga il valore vero di un parametro con una probabilità del 95%. Questo è un errore diffuso, persino tra i ricercatori, che spesso interpretano l'intervallo di confidenza come indicativo della probabilità che il parametro (ad esempio, la media della popolazione $\\mu$) si trovi effettivamente all'interno di un dato intervallo (es. $[\\hat{a}, \\hat{b}]$).\n",
    "\n",
    "La descrizione corretta è la seguente:\n",
    "- \"La metodologia impiegata per calcolare l'intervallo $[\\hat{a}, \\hat{b}]$ ha il 95% di probabilità di generare un intervallo che include il vero valore del parametro\".\n",
    "- Ciò significa che l'intervallo di confidenza non esprime una probabilità circa la posizione precisa del parametro, ma riflette la probabilità che la procedura adottata per determinarlo generi un intervallo che lo includa.\n",
    "\n",
    "In conclusione, l'intervallo di confidenza ci fornisce una garanzia statistica riguardo alla affidabilità del metodo usato per la sua stima, piuttosto che sulla esatta ubicazione del parametro in questione.\n",
    "\n",
    "### Fraintendimenti Comuni sugli Intervalli di Confidenza\n",
    "\n",
    "Nel loro lavoro, {cite}`hoekstra2014robust` evidenziano come, nonostante l'ampio riconoscimento dei limiti dei test di ipotesi nulle, gli intervalli di confidenza siano spesso consigliati per l'inferenza statistica. Anche l'American Psychological Association (APA) suggerisce che gli intervalli di confidenza siano \"in generale, la migliore strategia di reportistica\". Tuttavia, {cite}`hoekstra2014robust` sottolineano che queste raccomandazioni non considerano la difficoltà nel fornire una corretta interpretazione degli intervalli di confidenza.\n",
    "\n",
    "Per indagare l'interpretazione degli intervalli di confidenza, Hoekstra et al. hanno condotto uno studio con due domande principali:\n",
    "\n",
    "1. Quanto frequentemente intervalli di confidenza sono mal interpretati da studenti e ricercatori?\n",
    "2. L'esperienza nella ricerca riduce le interpretazioni errate degli intervalli di confidenza?\n",
    "\n",
    "Prima di presentare lo studio, {cite}`hoekstra2014robust` ricordano qual è l'interpretazione corretta degli intervalli di confidenza. \n",
    "\n",
    "> A CI is a numerical interval constructed around the estimate of a parameter. Such an interval does not, however, directly indicate a property of the parameter; instead, it indicates a property of the procedure, as is typical for a frequentist technique. Specifically, we may find that a particular procedure, when used repeatedly across a series of hypothetical data sets (i.e., the sample space), yields intervals that contain the true parameter value in 95% of the cases. When such a procedure is applied to a particular data set, the resulting interval is said to be a 95% CI. The key point is that the CIs do not provide for a statement about the parameter as it relates to the particular sample at hand; instead, they provide for a statement about the performance of the procedure of drawing such intervals in repeated use. Hence, it is incorrect to interpret a CI as the probability that the true value is within the interval (e.g., Berger & Wolpert, 1988). As is the case with $p$-values, CIs do not allow one to make probability statements about parameters or hypotheses.\n",
    "\n",
    "Nel loro studio, {cite:t}`hoekstra2014robust` hanno presentato un questionario a 596 partecipanti, tra cui studenti universitari e ricercatori, con le seguenti affermazioni riguardanti l'interpretazione degli intervalli di confidenza.\n",
    "\n",
    "> Professor Bumbledorf conducts an experiment, analyzes the data, and reports: \"The 95% confidence interval for the mean ranges from 0.1 to 0.4.\" Please mark each of the statements below as 'true' or 'false'.\n",
    "\n",
    "> 1.  The probability that the true mean is greater than 0 is at least 95%.\n",
    "> 2.  The probability that the true mean equals 0 is smaller than 5%.\n",
    "> 3.  The \"null hypothesis\" that the true mean equals 0 is likely to be incorrect.\n",
    "> 4.  There is a 95% probability that the true mean lies between 0.1 and 0.4.\n",
    "> 5.  We can be 95% confident that the true mean lies between 0.1 and 0.4.\n",
    "> 6.  If we were to repeat the experiment over and over, then 95% of the time the true mean falls between 0.1 and 0.4.\n",
    "\n",
    "Sorprendentemente, anche se tutte le sei affermazioni nel questionario sono errate, molti partecipanti hanno concordato con esse. I risultati mostrano che, in media, i partecipanti hanno concordato con circa 3.5 affermazioni errate su 6. Non è stata rilevata una differenza di rilievo nell'interpretazione degli intervalli di confidenza tra studenti e ricercatori, suggerendo che l'esperienza nella ricerca non migliora la comprensione di questo concetto.\n",
    "\n",
    "I risultati indicano che molte persone interpretano erroneamente gli intervalli di confidenza, e che anche l'esperienza nella ricerca non garantisce una migliore comprensione. Questo solleva dubbi sull'efficacia degli intervalli di confidenza frequentisti e suggerisce che gli \"intervalli di credibilità\" bayesiani possano rappresentare un'alternativa più vantaggiosa. Quest'ultimi tendono ad essere più intuitivi e di più facile interpretazione corretta.\n",
    "\n",
    "## Confronto tra Intervalli Frequentisti e Bayesiani\n",
    "\n",
    "Concludiamo questo capitolo esaminando le differenze tra l'intervallo di confidenza frequentista e l'intervallo di credibilità bayesiano, utilizzando lo stesso set di dati per entrambi i calcoli.\n",
    "\n",
    "Immaginiamo di avere un gruppo di 20 osservazioni relative alla performance in un test cognitivo. Il nostro obiettivo è stimare la media della popolazione da cui sono state tratte queste osservazioni. Per farlo, simuliamo 20 valori casuali da una popolazione che segue una distribuzione normale con media 50 e deviazione standard 10, rappresentata da $\\mathcal{N}(50, 10)$."
   ]
  },
  {
   "cell_type": "code",
   "execution_count": 11,
   "id": "6e486d21-4104-463d-88a1-e1a2b442ebdc",
   "metadata": {},
   "outputs": [
    {
     "name": "stdout",
     "output_type": "stream",
     "text": [
      "[40.13038118 67.14138507 58.15372819 61.87080597 70.28823876 58.64307551\n",
      " 55.41941724 67.9643939  42.76867878 58.37573589 51.38804991 46.78454195\n",
      " 36.63322195 44.69934389 56.11884628 40.82879678 45.90438324 45.45382291\n",
      " 40.89898539 49.55213524 64.12932274 50.47661058 53.19291531 52.46171204\n",
      " 47.98108743 41.26631945 66.63886733 58.25433261 50.31265781 60.7856227 ]\n"
     ]
    }
   ],
   "source": [
    "sample_size = 20\n",
    "mu = 50\n",
    "sigma = 10\n",
    "sample_data = np.random.normal(loc=mu, scale=sigma, size=n)\n",
    "print(sample_data)"
   ]
  },
  {
   "cell_type": "code",
   "execution_count": 12,
   "id": "616a8f39-d843-4524-983a-db3aeb648dae",
   "metadata": {},
   "outputs": [
    {
     "data": {
      "image/png": "[encoded data removed]",
      "text/plain": [
       "<Figure size 720x480 with 1 Axes>"
      ]
     },
     "metadata": {
      "image/png": {
       "height": 491,
       "width": 731
      }
     },
     "output_type": "display_data"
    }
   ],
   "source": [
    "_ = plt.hist(sample_data, density=True)"
   ]
  },
  {
   "attachments": {},
   "cell_type": "markdown",
   "id": "1e141fff-789c-438e-b8d0-0385c4f49760",
   "metadata": {},
   "source": [
    "### Intervallo di Confidenza Frequentista\n",
    "\n",
    "Quando ci si avvicina al problema di stimare la media della popolazione, $\\mu$, attraverso un approccio frequentista, uno dei metodi più comuni è la stima puntuale. Questo metodo consiste nell'utilizzare un unico valore, solitamente la media del campione, per rappresentare il parametro della popolazione che non conosciamo.\n",
    "\n",
    "La media campionaria, indicata come $\\hat{\\mu}$, è una scelta frequente per la stima puntuale della media della popolazione, $\\mu$. Si calcola sommando tutti i valori osservati nel campione, ovvero $X_1, X_2, ..., X_n$, e dividendo questa somma per il numero totale di osservazioni nel campione, $n$:\n",
    "\n",
    "$$\n",
    "\\hat{\\mu} = \\frac{1}{n} \\sum_{i=1}^n X_i.\n",
    "$$\n",
    "\n",
    "Applicando questa formula ai dati del nostro esempio, otteniamo"
   ]
  },
  {
   "cell_type": "code",
   "execution_count": 13,
   "id": "edf10313-4c23-4d10-b434-080da4405d6a",
   "metadata": {},
   "outputs": [
    {
     "data": {
      "text/plain": [
       "52.81724720110726"
      ]
     },
     "execution_count": 13,
     "metadata": {},
     "output_type": "execute_result"
    }
   ],
   "source": [
    "sample_mean = np.mean(sample_data)\n",
    "sample_mean"
   ]
  },
  {
   "attachments": {},
   "cell_type": "markdown",
   "id": "56b654af-180d-48cb-9bae-f8b1928cf1d0",
   "metadata": {},
   "source": [
    "Mentre le stime puntuali offrono un valore specifico per rappresentare il parametro della popolazione, non riescono da sole a descrivere completamente l'incertezza associata a questa stima. Per affrontare questa lacuna, l'approccio frequentista si avvale degli intervalli di confidenza. Un intervallo di confidenza fornisce una gamma di valori all'interno dei quali si presume che il vero parametro della popolazione cada, basandosi sui dati osservati. Questo intervallo viene definito aggiungendo e sottraendo un margine di errore alla stima puntuale:\n",
    "\n",
    "$$\\hat{\\mu} \\pm m = [\\hat{\\mu} - m, \\hat{\\mu} + m].$$\n",
    "\n",
    "Il margine di errore, che riflette la variabilità dei dati del campione, dipende sia dal livello di confidenza scelto, indicato come $1-\\alpha$, sia dalla dimensione del campione, $n$. Ad esempio, un intervallo di confidenza del 95% significa che ci si aspetta che l'intervallo includa il vero parametro della popolazione nel 95% delle applicazioni di questa procedura.\n",
    "\n",
    "Il margine di errore si calcola normalmente attraverso l'errore standard (SE) della stima puntuale, e viene definito da:\n",
    "\n",
    "$$m = t_{1-\\frac{\\alpha}{2}, n-1} \\times SE,$$\n",
    "\n",
    "dove $t_{1-\\frac{\\alpha}{2}, n-1}$ rappresenta il valore critico dalla distribuzione t per il livello di confidenza desiderato e $n-1$ gradi di libertà.\n",
    "\n",
    "L'errore standard della media campionaria si ottiene dividendo la deviazione standard del campione, $\\sigma$, per la radice quadrata della dimensione del campione:\n",
    "\n",
    "$$SE = \\frac{\\sigma}{\\sqrt{n}}.$$\n",
    "\n",
    "Applicando questa formula ai dati del nostro esempio, la deviazione standard del campione risulta"
   ]
  },
  {
   "cell_type": "code",
   "execution_count": 14,
   "id": "390edc34-cb63-43ac-b01f-62f1396de670",
   "metadata": {},
   "outputs": [
    {
     "data": {
      "text/plain": [
       "9.359341680068068"
      ]
     },
     "execution_count": 14,
     "metadata": {},
     "output_type": "execute_result"
    }
   ],
   "source": [
    "sample_stddev = np.std(sample_data, ddof=1)\n",
    "sample_stddev"
   ]
  },
  {
   "attachments": {},
   "cell_type": "markdown",
   "id": "d5e5b850-21cf-4b5b-9465-b3dcff294abf",
   "metadata": {},
   "source": [
    "L'errore standard della media è"
   ]
  },
  {
   "cell_type": "code",
   "execution_count": 15,
   "id": "6029c0b9-6ca0-4406-8fab-c80fa1335546",
   "metadata": {},
   "outputs": [
    {
     "name": "stdout",
     "output_type": "stream",
     "text": [
      "2.092812422127929\n"
     ]
    }
   ],
   "source": [
    "standard_error = sample_stddev / np.sqrt(sample_size)\n",
    "print(standard_error)"
   ]
  },
  {
   "attachments": {},
   "cell_type": "markdown",
   "id": "eac9f034-8af1-4137-87c0-a0b097fb71dc",
   "metadata": {},
   "source": [
    "L'errore standard della media rappresenta una stima della deviazione standard della distribuzione delle medie campionarie per campioni di dimensione $n$ (in questo caso, $n$ = 20).\n",
    "\n",
    "Supponiamo di voler avere un livello di confidenza del 95%. Per trovare il valore critico della distribuzione $t$ di Student, dobbiamo trovare il valore della statistica $T$ che lascia il 2.5% dell'area sotto la coda a sinistra e il 2.5% dell'area sotto la coda a destra della distribuzione $t$ di Student con 19 gradi di libertà."
   ]
  },
  {
   "cell_type": "code",
   "execution_count": 16,
   "id": "bd62fe51-0343-4715-988c-3502b333deda",
   "metadata": {},
   "outputs": [
    {
     "name": "stdout",
     "output_type": "stream",
     "text": [
      "2.093024054408263\n"
     ]
    }
   ],
   "source": [
    "degrees_of_freedom = sample_size - 1\n",
    "t_val = st.t.ppf(0.975, degrees_of_freedom)\n",
    "print(t_val)"
   ]
  },
  {
   "attachments": {},
   "cell_type": "markdown",
   "id": "ee463854-1523-42a1-8876-5e5a55dac833",
   "metadata": {},
   "source": [
    "Il margine d'errore è uguale a \n",
    "\n",
    "$$t \\cdot SE$$\n",
    "\n",
    "ovvero"
   ]
  },
  {
   "cell_type": "code",
   "execution_count": 17,
   "id": "4819f289-4d24-4f8a-985f-e409abe05de8",
   "metadata": {},
   "outputs": [
    {
     "name": "stdout",
     "output_type": "stream",
     "text": [
      "4.380306740878175\n"
     ]
    }
   ],
   "source": [
    "margin_of_error = t_val * standard_error\n",
    "print(margin_of_error)"
   ]
  },
  {
   "attachments": {},
   "cell_type": "markdown",
   "id": "e55382bb-54aa-49fd-ac04-ffc3694685eb",
   "metadata": {},
   "source": [
    "L'intervallo di confidenza frequentista è uguale a \n",
    "\n",
    "$$\\text{stima del parametro} \\pm \\text{margine d'errore}$$\n",
    "\n",
    "ovvero\n",
    "\n",
    "$$\\bar{x} \\pm t_{\\text{critico}} \\frac{s}{\\sqrt{n}}.$$\n",
    "\n",
    "Per i dati dell'esempio otteniamo"
   ]
  },
  {
   "cell_type": "code",
   "execution_count": 18,
   "id": "1cfe1ee3-3c61-4169-be89-5291789acbf2",
   "metadata": {},
   "outputs": [
    {
     "name": "stdout",
     "output_type": "stream",
     "text": [
      "[48.43694046022908, 57.19755394198543]\n"
     ]
    }
   ],
   "source": [
    "confidence_interval_lower = sample_mean - margin_of_error\n",
    "confidence_interval_upper = sample_mean + margin_of_error\n",
    "confidence_interval = [confidence_interval_lower, confidence_interval_upper]\n",
    "print(confidence_interval)"
   ]
  },
  {
   "attachments": {},
   "cell_type": "markdown",
   "id": "d8284e7c-2ee2-4b44-919e-1902412c4386",
   "metadata": {},
   "source": [
    "Interpretiamo questo risultato dicendo che la procedura utilizzata per calcolare l'intervallo $[42.99, 53.23]$ include $\\mu$ nel 95% dei casi.\n",
    "\n",
    "La figura successiva mostra la distribuzione dei dati, la stima di $\\mu$ (ovvero, la media del campione) e l'intervalli di confidenza al 95%."
   ]
  },
  {
   "cell_type": "code",
   "execution_count": 20,
   "id": "ccc02db6-358a-4e08-9ddc-f855ffd5e4b3",
   "metadata": {},
   "outputs": [],
   "source": [
    "def visualize_output(sample_data, sample_mean, interval, type_interval):\n",
    "    plt.hist(sample_data, density=True, alpha=0.5)\n",
    "    plt.axvline(x=sample_mean, linestyle='dashed', linewidth=2)\n",
    "    plt.axvline(x=interval[0], linewidth=2)\n",
    "    plt.axvline(x=interval[1], linewidth=2)\n",
    "    plt.legend(['Sample Mean', f'{type_interval} interval'])"
   ]
  },
  {
   "cell_type": "code",
   "execution_count": 21,
   "id": "382f9a40-7efd-49f2-8581-b1e90acda1eb",
   "metadata": {},
   "outputs": [
    {
     "data": {
      "image/png": "[encoded data removed]",
      "text/plain": [
       "<Figure size 720x480 with 1 Axes>"
      ]
     },
     "metadata": {
      "image/png": {
       "height": 491,
       "width": 731
      }
     },
     "output_type": "display_data"
    }
   ],
   "source": [
    "visualize_output(sample_data, sample_mean, confidence_interval, 'confidence')"
   ]
  },
  {
   "attachments": {},
   "cell_type": "markdown",
   "id": "bfff142e-1eb6-4d0c-932f-2adf78ca0cb4",
   "metadata": {},
   "source": [
    "### Intervallo di Credibilità Bayesiano\n",
    "\n",
    "Per determinare l'intervallo di credibilità bayesiano, impieghiamo un modello statistico basato sulla distribuzione Normale, integrando distribuzioni a priori che forniscono informazioni iniziali limitate sui parametri. Questa strategia ci consente di inserire delle conoscenze preliminari, pur essendo vaghe, nell'analisi statistica.\n",
    "\n",
    "Dettagli sulle scelte delle distribuzioni a priori:\n",
    "- Per il parametro $\\mu$, impostiamo una distribuzione a priori centrata intorno allo zero, con una deviazione standard piuttosto ampia. Come alternativa, si potrebbe considerare di centrare la distribuzione a priori sulla media campionaria.\n",
    "- Per il parametro $\\sigma$, adottiamo una distribuzione Normale troncata, posizionata anch'essa intorno allo zero, ma con una deviazione standard notevolmente grande.\n",
    "\n",
    "La scelta di centrare le distribuzioni a priori sullo zero è volta a evitare l'introduzione di bias nell'analisi, tendendo verso una stima conservativa, ossia una stima del parametro incline allo zero. La decisione di usare deviazioni standard molto ampie riflette la debolezza delle informazioni preliminari che abbiamo incorporato nel modello.\n",
    "\n",
    "Ciò detto, abbiamo introdotto alcune conoscenze iniziali nell'analisi: in particolare, l'assunzione che valori eccessivamente elevati, sia positivi che negativi, per la media del campione siano improbabili. Questa considerazione riflette una cautela nell'estimare il parametro, evitando di considerare valori estremi come plausibili."
   ]
  },
  {
   "cell_type": "code",
   "execution_count": 22,
   "id": "f937234f-cf53-424f-aefe-a830ee7a3b9f",
   "metadata": {},
   "outputs": [],
   "source": [
    "model = pm.Model()\n",
    "\n",
    "with model:\n",
    "    mu = pm.Normal(\"mu\", mu=0, sigma=200)\n",
    "    sigma = pm.HalfNormal(\"sigma\", 100)\n",
    "    Y_obs = pm.Normal(\"Y_obs\", mu=mu, sigma=sigma, observed=sample_data)"
   ]
  },
  {
   "cell_type": "code",
   "execution_count": 23,
   "id": "c4968afd-ea46-4c0c-b7b9-cfe0c5962394",
   "metadata": {
    "tags": [
     "hide-output"
    ]
   },
   "outputs": [
    {
     "data": {
      "application/vnd.jupyter.widget-view+json": {
       "model_id": "5e9527f52aa24b4bb39a2a267cedc1bd",
       "version_major": 2,
       "version_minor": 0
      },
      "text/plain": [
       "  0%|          | 0/2000 [00:00<?, ?it/s]"
      ]
     },
     "metadata": {},
     "output_type": "display_data"
    },
    {
     "data": {
      "application/vnd.jupyter.widget-view+json": {
       "model_id": "311dc14711ba446cb7f76b190d867401",
       "version_major": 2,
       "version_minor": 0
      },
      "text/plain": [
       "  0%|          | 0/2000 [00:00<?, ?it/s]"
      ]
     },
     "metadata": {},
     "output_type": "display_data"
    },
    {
     "data": {
      "application/vnd.jupyter.widget-view+json": {
       "model_id": "3a3821c6bb5948b29184757f40b3ff58",
       "version_major": 2,
       "version_minor": 0
      },
      "text/plain": [
       "  0%|          | 0/2000 [00:00<?, ?it/s]"
      ]
     },
     "metadata": {},
     "output_type": "display_data"
    },
    {
     "data": {
      "application/vnd.jupyter.widget-view+json": {
       "model_id": "9098efd5ec92454584245e35a42b49c5",
       "version_major": 2,
       "version_minor": 0
      },
      "text/plain": [
       "  0%|          | 0/2000 [00:00<?, ?it/s]"
      ]
     },
     "metadata": {},
     "output_type": "display_data"
    }
   ],
   "source": [
    "with model:\n",
    "    idata = pm.sample(nuts_sampler=\"numpyro\")"
   ]
  },
  {
   "cell_type": "code",
   "execution_count": 24,
   "id": "28a3bba4-bc70-4c60-9ef3-a2cf9f93fee9",
   "metadata": {},
   "outputs": [
    {
     "data": {
      "text/html": [
       "<div>\n",
       "<style scoped>\n",
       "    .dataframe tbody tr th:only-of-type {\n",
       "        vertical-align: middle;\n",
       "    }\n",
       "\n",
       "    .dataframe tbody tr th {\n",
       "        vertical-align: top;\n",
       "    }\n",
       "\n",
       "    .dataframe thead th {\n",
       "        text-align: right;\n",
       "    }\n",
       "</style>\n",
       "<table border=\"1\" class=\"dataframe\">\n",
       "  <thead>\n",
       "    <tr style=\"text-align: right;\">\n",
       "      <th></th>\n",
       "      <th>mean</th>\n",
       "      <th>sd</th>\n",
       "      <th>hdi_2.5%</th>\n",
       "      <th>hdi_97.5%</th>\n",
       "      <th>mcse_mean</th>\n",
       "      <th>mcse_sd</th>\n",
       "      <th>ess_bulk</th>\n",
       "      <th>ess_tail</th>\n",
       "      <th>r_hat</th>\n",
       "    </tr>\n",
       "  </thead>\n",
       "  <tbody>\n",
       "    <tr>\n",
       "      <th>mu</th>\n",
       "      <td>52.89</td>\n",
       "      <td>1.84</td>\n",
       "      <td>49.26</td>\n",
       "      <td>56.53</td>\n",
       "      <td>0.04</td>\n",
       "      <td>0.03</td>\n",
       "      <td>2432.99</td>\n",
       "      <td>2087.60</td>\n",
       "      <td>1.0</td>\n",
       "    </tr>\n",
       "    <tr>\n",
       "      <th>sigma</th>\n",
       "      <td>9.77</td>\n",
       "      <td>1.31</td>\n",
       "      <td>7.47</td>\n",
       "      <td>12.45</td>\n",
       "      <td>0.03</td>\n",
       "      <td>0.02</td>\n",
       "      <td>2652.84</td>\n",
       "      <td>2492.04</td>\n",
       "      <td>1.0</td>\n",
       "    </tr>\n",
       "  </tbody>\n",
       "</table>\n",
       "</div>"
      ],
      "text/plain": [
       "        mean    sd  hdi_2.5%  hdi_97.5%  mcse_mean  mcse_sd  ess_bulk  \\\n",
       "mu     52.89  1.84     49.26      56.53       0.04     0.03   2432.99   \n",
       "sigma   9.77  1.31      7.47      12.45       0.03     0.02   2652.84   \n",
       "\n",
       "       ess_tail  r_hat  \n",
       "mu      2087.60    1.0  \n",
       "sigma   2492.04    1.0  "
      ]
     },
     "execution_count": 24,
     "metadata": {},
     "output_type": "execute_result"
    }
   ],
   "source": [
    "az.summary(idata, hdi_prob=0.95, round_to=2)"
   ]
  },
  {
   "attachments": {},
   "cell_type": "markdown",
   "id": "35025fd2-38cb-46fe-af5a-c05dfa16d780",
   "metadata": {},
   "source": [
    "Si noti che, dati i dati specifici e la formulazione del modello bayesiano in uso, l'intervallo di credibilità ottenuto si mostra molto simile all'intervallo di confidenza calcolato secondo l'approccio frequentista. Tuttavia, l'interpretazione di questi due intervalli differisce in maniera sostanziale.\n",
    "\n",
    "Nel caso dell'intervallo di credibilità bayesiano, possiamo affermare che, in base al nostro grado di credenza soggettiva del 95%, la media della popolazione si trova all'interno dell'intervallo specificato. Questo è un'affermazione diretta sulla probabilità che la media della popolazione rientri in un determinato intervallo, basata sulle informazioni priori e sui dati osservati.\n",
    "\n",
    "In contrasto, l'intervallo di confidenza frequentista non permette un'interpretazione diretta riguardo alla probabilità della media della popolazione di cadere in un dato intervallo. Invece, l'interpretazione frequentista indica che, se ripetessimo il processo di campionamento molte volte, il 95% degli intervalli di confidenza calcolati conterrebbe la vera media della popolazione.\n",
    "\n",
    "Quindi, mentre l'intervallo di credibilità bayesiano fornisce una misura diretta della credenza nella posizione della media della popolazione, l'intervallo di confidenza frequentista fornisce una misura di affidabilità del processo di stima nel lungo termine."
   ]
  },
  {
   "attachments": {},
   "cell_type": "markdown",
   "id": "4dabf525-ad13-47e0-9513-64552ee26cf7",
   "metadata": {},
   "source": [
    "## Riflessioni Conclusive\n",
    "\n",
    "Come sottolineato da {cite:t}`hoekstra2014robust`, è comune riscontrare fraintendimenti riguardo agli intervalli di fiducia. Il \"livello di confidenza del 95%\" è da interpretarsi come la probabilità a lungo termine che, in una serie di intervalli di fiducia calcolati, il 95% di essi includa il vero valore del parametro sconosciuto. Tuttavia, per un singolo intervallo di fiducia, non è possibile dichiarare con sicurezza che questo contenga effettivamente il parametro di interesse. In altre parole, la certezza sulla presenza del parametro sconosciuto all'interno di un dato intervallo di fiducia non è garantita per ogni singolo caso analizzato.\n",
    "\n",
    "È inoltre inesatto presumere che esista un legame diretto tra la varianza e la media di un campione, ipotizzando che un intervallo di fiducia più ristretto implichi maggiore precisione. Nella prospettiva frequentista, la \"precisione\" è strettamente legata al livello di copertura a lungo termine assicurato dal metodo usato per creare gli intervalli di fiducia. Questo concetto non si applica al singolo intervallo di fiducia osservato. Dunque, un intervallo di fiducia che si presenta estremamente ristretto potrebbe in realtà essere significativamente lontano dal valore vero del parametro non noto.\n",
    "\n",
    "È importante sottolineare che l'approccio frequentista offre un metodo per calcolare gli intervalli di confidenza per una vasta gamma di statistiche. Questo include, ad esempio, la stima dell'intervallo di confidenza per la differenza tra due medie, per una proporzione o per la differenza tra due proporzioni. Ecco le formule per calcolare gli intervalli di confidenza per i casi menzionati:\n",
    "\n",
    "1. **Intervallo di confidenza per la differenza tra due medie**:\n",
    "   \n",
    "   Se abbiamo due campioni indipendenti di dimensione $ n_1 $ e $ n_2 $, con medie $ \\bar{x}_1 $ e $ \\bar{x}_2 $ e deviazioni standard $ s_1 $ e $ s_2 $, l'intervallo di confidenza per la differenza tra le medie è calcolato come:\n",
    "   \n",
    "   $$\n",
    "   (\\bar{x}_1 - \\bar{x}_2) \\pm t_{\\alpha/2} \\sqrt{\\frac{s_1^2}{n_1} + \\frac{s_2^2}{n_2}}\n",
    "   $$\n",
    "\n",
    "   Dove $ t_{\\alpha/2} $ è il valore critico della distribuzione t di Student con $ \\alpha/2 $ di probabilità di coda e gradi di libertà $ df = n_1 + n_2 - 2 $.\n",
    "\n",
    "2. **Intervallo di confidenza per una proporzione**:\n",
    "   \n",
    "   Per stimare l'intervallo di confidenza per una proporzione $ p $ in un campione binomiale di dimensione $ n $, la formula è:\n",
    "   \n",
    "   $$\n",
    "   \\hat{p} \\pm z_{\\alpha/2} \\sqrt{\\frac{\\hat{p}(1 - \\hat{p})}{n}}\n",
    "   $$\n",
    "\n",
    "   Dove $ \\hat{p} $ è la proporzione campionaria e $ z_{\\alpha/2} $ è il valore critico della distribuzione normale standard con $ \\alpha/2 $ di probabilità di coda.\n",
    "\n",
    "3. **Intervallo di confidenza per la differenza tra due proporzioni**:\n",
    "   \n",
    "   Per stimare l'intervallo di confidenza per la differenza tra due proporzioni $ p_1 $ e $ p_2 $ in due campioni binomiali di dimensioni $ n_1 $ e $ n_2 $, la formula è:\n",
    "   \n",
    "   $$\n",
    "   (\\hat{p}_1 - \\hat{p}_2) \\pm z_{\\alpha/2} \\sqrt{\\frac{\\hat{p}_1(1 - \\hat{p}_1)}{n_1} + \\frac{\\hat{p}_2(1 - \\hat{p}_2)}{n_2}}\n",
    "   $$\n",
    "\n",
    "   Dove $ \\hat{p}_1 $ e $ \\hat{p}_2 $ sono le proporzioni campionarie e $ z_{\\alpha/2} $ è il valore critico della distribuzione normale standard con $ \\alpha/2 $ di probabilità di coda."
   ]
  },
  {
   "cell_type": "markdown",
   "id": "f90aa196-215f-49e8-8035-ffc6ff0cf2c5",
   "metadata": {},
   "source": [
    "## Informazioni sull'Ambiente di Sviluppo {.unnumbered}"
   ]
  },
  {
   "cell_type": "code",
   "execution_count": 25,
   "id": "39259f3d-fa4a-41b6-9090-4d55e29da3f5",
   "metadata": {},
   "outputs": [
    {
     "name": "stdout",
     "output_type": "stream",
     "text": [
      "Last updated: Sun May 12 2024\n",
      "\n",
      "Python implementation: CPython\n",
      "Python version       : 3.12.3\n",
      "IPython version      : 8.22.2\n",
      "\n",
      "Compiler    : Clang 16.0.6 \n",
      "OS          : Darwin\n",
      "Release     : 23.4.0\n",
      "Machine     : arm64\n",
      "Processor   : arm\n",
      "CPU cores   : 8\n",
      "Architecture: 64bit\n",
      "\n",
      "seaborn   : 0.13.2\n",
      "matplotlib: 3.8.4\n",
      "arviz     : 0.18.0\n",
      "numpy     : 1.26.4\n",
      "scipy     : 1.13.0\n",
      "pandas    : 2.2.2\n",
      "pymc      : 5.14.0\n",
      "\n",
      "Watermark: 2.4.3\n",
      "\n"
     ]
    }
   ],
   "source": [
    "%load_ext watermark\n",
    "%watermark -n -u -v -iv -w -m"
   ]
  }
 ],
 "metadata": {
  "kernelspec": {
   "display_name": "bambi_env",
   "language": "python",
   "name": "python3"
  },
  "language_info": {
   "codemirror_mode": {
    "name": "ipython",
    "version": 3
   },
   "file_extension": ".py",
   "mimetype": "text/x-python",
   "name": "python",
   "nbconvert_exporter": "python",
   "pygments_lexer": "ipython3",
   "version": "3.12.4"
  },
  "vscode": {
   "interpreter": {
    "hash": "e957f8d2d9272acec629608affb587206e5d92bb0d8d335f71da72c549770d8b"
   }
  }
 },
 "nbformat": 4,
 "nbformat_minor": 2
}

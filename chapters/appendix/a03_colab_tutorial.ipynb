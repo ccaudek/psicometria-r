{
 "cells": [
  {
   "cell_type": "markdown",
   "id": "f1aa1b32-1805-4517-acaa-4016651122d0",
   "metadata": {},
   "source": [
    "# Colab: un breve tutorial {#sec-colab-tutorial}"
   ]
  },
  {
   "cell_type": "markdown",
   "id": "9f2a2c00-701f-40db-a94b-d2781574365b",
   "metadata": {},
   "source": [
    "Questo tutorial fornisce una guida dettagliata su come importare un file da Google Drive in Colab.\n",
    "\n",
    "## Preparazione su Google Drive\n",
    "\n",
    "Per iniziare, è necessario effettuare alcune operazioni preliminari su [Google Drive](https://drive.google.com/):\n",
    "\n",
    "1. **Salvataggio dei file necessari**: Accedi al tuo account Google Drive e salva i file di interesse, come un dataset e un Jupyter Notebook. Per esempio, potresti creare un Jupyter Notebook con Visual Studio Code e salvarlo con l'estensione `.ipynb`. In questo esempio, il file `STAR.csv` è stato salvato nella cartella `drive/MyDrive/teaching/psicometria/2024`.\n",
    "\n",
    "2. **Posizionamento dei file**: Assicurati di conoscere con precisione il percorso della cartella in cui hai salvato i tuoi file. È possibile salvare il notebook in qualsiasi cartella, ma è importante ricordare dove si trova. Nel nostro esempio, anche il notebook `import_data.ipynb` è stato salvato nella stessa cartella del dataset.\n",
    "\n",
    "### Collegamento a Google Colab\n",
    "\n",
    "Per collegare il tuo Google Drive a Colab, inserisci il seguente codice nella prima cella del tuo Jupyter Notebook su Colab:\n",
    "\n",
    "```python\n",
    "from google.colab import drive\n",
    "drive.mount('/content/drive')\n",
    "```\n",
    "\n",
    "Esegui questa cella per iniziare il processo di autenticazione. Ti verrà richiesto di inserire le tue credenziali (si consiglia di utilizzare l'account istituzionale) e di concedere i permessi necessari a Colab per accedere al tuo Drive.\n",
    "\n",
    "### Verifica del file\n",
    "\n",
    "Prima di procedere, è utile verificare che il file desiderato si trovi effettivamente nel percorso specificato. Usa un comando simile al seguente per elencare i file presenti nella cartella:\n",
    "\n",
    "```python\n",
    "!ls drive/MyDrive/teaching/psicometria/2024\n",
    "```\n",
    "\n",
    "Se il comando mostra il file `STAR.csv`, significa che è presente nella cartella e pronto per essere utilizzato.\n",
    "\n",
    "### Importazione dei pacchetti e del dataset\n",
    "\n",
    "Prima di importare i dati, importa i pacchetti Python necessari per la tua analisi:\n",
    "\n",
    "```python\n",
    "import numpy as np\n",
    "import pandas as pd\n",
    "import matplotlib.pyplot as plt\n",
    "import seaborn as sns\n",
    "```\n",
    "\n",
    "Successivamente, puoi importare i dati direttamente dal file CSV specificando il percorso completo:\n",
    "\n",
    "```python\n",
    "df = pd.read_csv(\"drive/MyDrive/teaching/psicometria/2024/STAR.csv\")\n",
    "```\n",
    "\n",
    "È fondamentale usare il percorso completo dal punto di montaggio `drive` fino al nome del file. Il percorso varierà a seconda dell'utente e della struttura del suo Drive.\n",
    "\n",
    "### Visualizzazione dei dati\n",
    "\n",
    "Con i dati ora disponibili in `df`, puoi procedere con l'analisi. Per esempio, per creare un istogramma della variabile `reading`, puoi usare il seguente codice:\n",
    "\n",
    "```python\n",
    "_ = sns.histplot(data=df, x=\"reading\", stat='density')\n",
    "```\n",
    "\n",
    "Questo ti permetterà di visualizzare la distribuzione dei dati relativi alla lettura nel dataset `STAR.csv`.\n",
    "\n",
    "Seguendo questi passaggi, puoi facilmente lavorare con i file salvati su Google Drive direttamente all'interno di un Jupyter Notebook su Google Colab."
   ]
  }
 ],
 "metadata": {
  "kernelspec": {
   "display_name": "pymc_env",
   "language": "python",
   "name": "python3"
  },
  "language_info": {
   "name": "python",
   "version": "3.12.3"
  }
 },
 "nbformat": 4,
 "nbformat_minor": 2
}

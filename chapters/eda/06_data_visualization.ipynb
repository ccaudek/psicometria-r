{
 "cells": [
  {
   "attachments": {},
   "cell_type": "markdown",
   "metadata": {},
   "source": [
    "# Principi della visualizzazione dei dati {#sec-data-visualization}"
   ]
  },
  {
   "cell_type": "markdown",
   "metadata": {},
   "source": [
    "**Prerequisiti**\n",
    "\n",
    "- Leggere [*Testing Statistical Charts: What Makes a Good Graph?* (Vanderplas, Cook, and Hofmann 2020)](https://doi.org/10.1146/annurev-statistics-031219-041252). Questo articolo descrive le migliori pratiche per la creazione di grafici.\n",
    "- Consultare il capitolo [Data visualization](https://r4ds.hadley.nz/data-visualize) di @wickham2023r. Questo capitolo fornisce una panoramica degli aspetti fondamentali della visualizzazione dei dati.\n",
    "- Consultare [Data Visualization. A practical introduction](https://socviz.co) di @healy2018data.\n",
    "- Consultare [Fundamentals of Data Visualization](https://clauswilke.com/dataviz/) di @wilke2019fundamentals.\n",
    "- Leggere il post [Open letter to journal editors: dynamite plots must die](https://simplystatistics.org/posts/2019-02-21-dynamite-plots-must-die/) di Rafael Irizarry.\n",
    "- Consultare il post [The top ten worst graphs](https://www.biostat.wisc.edu/~kbroman/topten_worstgraphs/) di Karl Broman.\n",
    "- Leggere il capitolo [Data Visualization](http://rafalab.dfci.harvard.edu/dsbook-part-1/dataviz/intro-dataviz.html) di *Introduction to Data Science*.\n",
    "\n",
    "**Concetti e competenze chiave**\n",
    "\n",
    "- **Segnali visivi principali**: Posizione, lunghezza, angoli, area, luminosità, colore.\n",
    "- **Efficienza dei segnali visivi**: Posizione e lunghezza sono i segnali più efficaci per rappresentare quantità.\n",
    "- **Evitare distorsioni**: Preferire grafici lineari (barplot) a rappresentazioni come cerchi o pie chart che distorcono le proporzioni.\n",
    "- **Includere lo zero**: Nei barplot, l'asse deve iniziare da zero per evitare interpretazioni fuorvianti.\n",
    "- **Ordine delle categorie**: Ordinare categorie per valore e non alfabeticamente per facilitare il confronto.\n",
    "- **Mostrare i dati**: Evitare dynamite plots, preferire grafici che mostrano tutti i dati (es. dot plot).\n",
    "- **Facilitare confronti**: Usare assi comuni per confronti tra distribuzioni.\n",
    "- **Trasformazioni logaritmiche**: Utili per dati distribuiti su ordini di grandezza diversi.\n",
    "- **Codificare una terza variabile**: Utilizzare colore, dimensione o forma nei grafici a dispersione per rappresentare una terza variabile.\n",
    "- **Evitare pseudo-3D**: Preferire grafici bidimensionali per evitare confusione e distorsioni.\n",
    "- **Numero di cifre significative**: Limitare le cifre decimali per evitare eccessiva complessità.\n",
    "- **Adattare al pubblico**: Semplificare le visualizzazioni in base al livello di competenza del pubblico."
   ]
  },
  {
   "cell_type": "markdown",
   "metadata": {},
   "source": [
    "## Introduzione {.unnumbered}\n",
    "\n",
    "In questo capitolo verranno introdotti i principi fondamentali della visualizzazione dei dati, accompagnati da una descrizione concisa. Per un approfondimento su ciascun principio, si rimanda al capitolo [Data Visualization](http://rafalab.dfci.harvard.edu/dsbook-part-1/dataviz/intro-dataviz.html) del libro *Introduction to Data Science*."
   ]
  },
  {
   "cell_type": "markdown",
   "metadata": {},
   "source": [
    "## Codificare i dati attraverso segnali visivi\n",
    "\n",
    "Iniziamo con una panoramica dei principali segnali visivi utilizzati per codificare i dati: posizione, lunghezza, angoli, area, luminosità e tonalità del colore. Tra questi, **posizione e lunghezza** sono i segnali visivi più efficaci e intuitivi, poiché il cervello umano è particolarmente abile nel riconoscere variazioni spaziali. Questo rende la posizione e la lunghezza strumenti potenti per la rappresentazione quantitativa. In altre parole, le persone riescono a confrontare con maggiore precisione altezze e lunghezze (come le barre in un barplot) rispetto ad angoli o aree (come in un grafico a torta).\n",
    "\n",
    "**Angoli e aree**, sebbene comunemente usati, sono segnali visivi meno efficaci. Grafici come i pie chart, che si basano su angoli e aree per rappresentare quantità, risultano spesso meno precisi e più difficili da interpretare, specialmente quando le differenze sono piccole. Anche l'uso dell'**area**, ad esempio nei bubble plot, può distorcere la percezione delle differenze tra i dati, a meno che non venga gestita correttamente. Anche se l'area di una bolla può essere proporzionale al valore rappresentato, la percezione umana tende a sovrastimare le differenze tra aree più grandi.\n",
    "\n",
    "**Luminosità e tonalità del colore** sono utili per rappresentare variabili qualitative o categoriali, ma possono risultare difficili da interpretare quando si tratta di confrontare quantità precise. Tuttavia, il colore gioca un ruolo cruciale nelle visualizzazioni multidimensionali, come le heatmap, dove è necessario rappresentare più di due variabili contemporaneamente. È importante, però, usare il colore con attenzione, soprattutto per garantire l'accessibilità a persone con problemi di daltonismo.\n",
    "\n",
    "Le **tabelle** sono utili quando si ha una quantità limitata di dati e si richiede una precisione numerica rigorosa. Tuttavia, per set di dati più grandi o per evidenziare tendenze e differenze, i grafici (come i barplot) sono generalmente più efficaci. Le tabelle non offrono lo stesso impatto visivo immediato e rendono più difficile l'individuazione di pattern complessi.\n",
    "\n",
    "### Ulteriori considerazioni sulla scelta della visualizzazione\n",
    "\n",
    "La scelta della visualizzazione più appropriata dipende sia dalla natura dei dati che dallo scopo della comunicazione. Per esempio:\n",
    "\n",
    "- **Barplot o dot plot** sono ideali per confrontare valori quantitativi tra categorie.\n",
    "- **Istogrammi**, **boxplot** e [raincloud plots](https://medium.com/@amorimfranchi/raincloud-plots-for-clear-precise-and-efficient-data-communication-4c71d0a37c23) sono più adatti per descrivere la distribuzione di dati continui e fare confronti tra categorie.\n",
    "- **Grafici di dispersione (scatter plot)** sono eccellenti per esplorare relazioni tra due variabili continue.\n",
    "\n",
    "La **chiarezza** e la **leggibilità** sono principi fondamentali nella creazione di visualizzazioni efficaci. L'aggiunta di elementi visivi eccessivi, come decorazioni superflue o troppi colori, può distrarre dal messaggio principale. Un buon grafico deve essere semplice, ma allo stesso tempo completo, includendo solo gli elementi visivi necessari per trasmettere il messaggio desiderato. \n",
    "\n",
    "In conclusione, scegliere i segnali visivi adeguati e il tipo di grafico più appropriato non solo migliora l'accuratezza della comunicazione, ma rende le informazioni più accessibili e comprensibili per il pubblico.\n",
    "\n",
    "## Quando includere lo zero\n",
    "\n",
    "Quando si usa la lunghezza come segnale visivo, come nei barplot, è essenziale che l'asse parta da zero. Non farlo può essere fuorviante e far sembrare le differenze più grandi di quanto non siano in realtà. Questo errore viene spesso sfruttato nei media per esagerare differenze apparentemente significative.\n",
    "\n",
    "Tuttavia, quando si usa la **posizione** (ad esempio in un grafico a dispersione), non è sempre necessario includere lo zero, soprattutto se l'interesse principale è il confronto tra gruppi rispetto alla variabilità interna.\n",
    "\n",
    "## Evitare le distorsioni\n",
    "\n",
    "Una distorsione comune si verifica quando le differenze tra quantità sono rappresentate utilizzando aree, come nei [bubble plot](https://it.wikipedia.org/wiki/Diagramma_a_bolle), dove il raggio dei cerchi è proporzionale al dato. Il problema è che, poiché l'area di un cerchio è proporzionale al quadrato del raggio, le differenze sembrano molto più ampie di quanto siano realmente. Per evitare queste distorsioni, è meglio utilizzare la posizione o la lunghezza, come in un **grafico a barre**, per confrontare direttamente le quantità.\n",
    "\n",
    "## Ordinare le categorie\n",
    "\n",
    "Quando si visualizzano categorie, come nei barplot o nei boxplot, è opportuno ordinarle in base al valore della variabile di interesse, anziché in ordine alfabetico. Questo aiuta a evidenziare pattern significativi e facilita il confronto tra categorie.\n",
    "\n",
    "## Evitare i Dynamite Plots\n",
    "\n",
    "I **dynamite plots**, che mostrano la media e l'errore standard (o la deviazione standard), sono spesso utilizzati in psicologia ma sono fuorvianti. Questi grafici tendono a esagerare le differenze e possono indurre false interpretazioni. È preferibile mostrare tutti i dati, ad esempio tramite un [dot plot](https://en.wikipedia.org/wiki/Dot_plot_(statistics)), che fornisce un'immagine più chiara della distribuzione dei dati [@butler2022popularity].\n",
    "\n",
    "## Facilitare i confronti\n",
    "\n",
    "Quando si confrontano due distribuzioni, come in un [istogramma](https://en.wikipedia.org/wiki/Histogram), è fondamentale mantenere gli stessi assi per entrambi i grafici. Se le distribuzioni sono presentate su assi con scale diverse, il confronto diventa difficile e potrebbe portare a conclusioni errate. Allineare i grafici verticalmente o orizzontalmente consente di percepire più facilmente le differenze tra i gruppi.\n",
    "\n",
    "## Trasformazioni logaritmiche\n",
    "\n",
    "Le **trasformazioni logaritmiche** sono utili quando si lavora con dati distribuiti su più ordini di grandezza o quando le variazioni tra le quantità sono moltiplicative [@west2022best]. L'uso della scala logaritmica in un grafico a barre o a dispersione può ridurre le distorsioni visive e migliorare l'interpretazione dei dati. Questo approccio è particolarmente utile quando alcuni valori estremi potrebbero dominare il grafico, nascondendo dettagli rilevanti.\n",
    "\n",
    "## Codificare una terza variabile\n",
    "\n",
    "Per rappresentare tre variabili, è possibile utilizzare un [grafico di dispersione](https://it.wikipedia.org/wiki/Grafico_di_dispersione) con variabili codificate attraverso dimensioni aggiuntive come il colore, la dimensione o la forma dei punti. Ad esempio, in un grafico che confronta aspettativa di vita e reddito, la dimensione dei punti potrebbe rappresentare la popolazione e il colore la regione geografica. Quando si utilizza il colore per rappresentare una variabile, è importante scegliere palette cromatiche accessibili anche per chi è affetto da **daltonismo**, evitando combinazioni problematiche come rosso-verde.\n",
    "\n",
    "## Evitare pseudo-tre dimensioni\n",
    "\n",
    "Grafici tridimensionali, come barre o pie chart 3D, spesso aggiungono confusione senza fornire informazioni aggiuntive significative. Sebbene visivamente accattivanti, questi grafici distorcono la percezione e rendono difficile l'interpretazione accurata dei dati. È preferibile mantenere le visualizzazioni bidimensionali, a meno che la terza dimensione non rappresenti effettivamente una variabile aggiuntiva.\n",
    "\n",
    "## Scegliere il numero giusto di cifre significative\n",
    "\n",
    "È importante evitare l'uso di troppe cifre decimali nelle tabelle e nei grafici. Spesso, una o due cifre significative sono sufficienti per rappresentare accuratamente i dati, mentre l'aggiunta di cifre inutili può confondere il lettore e dare un falso senso di precisione. Limitiamoci a mostrare solo le cifre necessarie per trasmettere il messaggio in modo chiaro.\n",
    "\n",
    "## Conoscere il pubblico\n",
    "\n",
    "Infine, è fondamentale adattare la visualizzazione dei dati al pubblico di riferimento. Grafici progettati per l'analisi esplorativa interna possono contenere dettagli tecnici complessi, ma quando si comunica a un pubblico più ampio o non specializzato, è necessario semplificare. Ad esempio, utilizzare una scala logaritmica può essere utile per un pubblico esperto, ma confondere un pubblico generale. In questi casi, mantenere la scala lineare e spiegare chiaramente i dati aiuta a evitare malintesi.\n",
    "\n",
    "## Conclusioni\n",
    "\n",
    "I principi di visualizzazione dei dati trattati in questo capitolo sono strumenti fondamentali per garantire chiarezza e accuratezza nella rappresentazione delle informazioni. Scelte appropriate di grafici, segnali visivi e trasformazioni facilitano la comprensione, riducendo la possibilità di distorsioni o interpretazioni errate."
   ]
  }
 ],
 "metadata": {
  "kernelspec": {
   "display_name": "Python 3",
   "language": "python",
   "name": "python3"
  },
  "language_info": {
   "codemirror_mode": {
    "name": "ipython",
    "version": 3
   },
   "file_extension": ".py",
   "mimetype": "text/x-python",
   "name": "python",
   "nbconvert_exporter": "python",
   "pygments_lexer": "ipython3",
   "version": "3.12.4"
  },
  "vscode": {
   "interpreter": {
    "hash": "2fb22ef73048ab480306a3a8971dd9d9ae74918bef9be9e93ea3e01644b9825e"
   }
  }
 },
 "nbformat": 4,
 "nbformat_minor": 2
}

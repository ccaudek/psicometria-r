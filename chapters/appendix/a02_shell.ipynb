{
 "cells": [
  {
   "attachments": {},
   "cell_type": "markdown",
   "id": "11719ea1-4f39-4532-8878-0842b102f998",
   "metadata": {},
   "source": [
    "# La Shell {#sec-shell}"
   ]
  },
  {
   "cell_type": "markdown",
   "id": "0a6a41e5-3009-4a71-bffc-e842e56d1fdc",
   "metadata": {},
   "source": [
    "## Che cos'è una Shell?\n",
    "\n",
    "Una shell è un programma che riceve comandi dall'utente tramite tastiera (o da file) e li passa al sistema operativo per l'esecuzione. Può essere accessibile tramite un terminale (o un emulatore di terminale).\n",
    "\n",
    "### Breve Storia della Shell\n",
    "\n",
    "- **1971**: Ken Thompson di Bell Labs sviluppa la shell per UNIX.\n",
    "- **1977**: Stephen Bourne introduce la Bourne shell (sh).\n",
    "- **Dopo il 1977**: Viene sviluppata la C shell (csh) e tcsh.\n",
    "- **Bash**: Sviluppata da Brian Fox come sostituto migliorato della Bourne shell.\n",
    "- **1990**: Paul Falsted sviluppa Zsh, che diventa la shell predefinita per macOS dal 2019.\n",
    "\n",
    "### Windows vs macOS/Linux\n",
    "\n",
    "- **Windows 10**: È possibile utilizzare Bash attivando il Windows Subsystem for Linux. Tuttavia, l'ambiente preferito è solitamente PowerShell.\n",
    "- **macOS/Linux**: Zsh è la shell predefinita in entrambi i sistemi. È consigliabile sfruttare l'applicazione [warp](https://www.warp.dev/) per un'esperienza utente moderna e ottimizzata.\n",
    "\n",
    "### Comandi di Base Unix\n",
    "\n",
    "- `pwd`: Mostra il percorso della directory corrente.\n",
    "- `ls`: Elenca file e cartelle nella directory corrente.\n",
    "- `cd`: Cambia directory. Senza argomenti, ti porta alla directory home.\n",
    "- `mkdir`: Crea una nuova directory.\n",
    "- `rmdir`: Rimuove una directory vuota.\n",
    "- **Importante**: Evitare spazi nei nomi di file e cartelle.\n",
    "\n",
    "#### Gestione File\n",
    "\n",
    "- `mv`: Rinomina o sposta file (usa `\\` o `''` per i nomi di file con spazi).\n",
    "- `cp`: Copia file o cartelle (usa `-r` per le cartelle).\n",
    "- `rm`: Rimuove file o cartelle (usa `-i` per confermare prima di eliminare).\n",
    "\n",
    "#### Visualizzazione e Manipolazione Contenuti dei File\n",
    "\n",
    "- `less`/`more`: Visualizza il contenuto dei file con possibilità di navigazione.\n",
    "- `cat`: Mostra l'intero contenuto di un file.\n",
    "- `head`: Mostra le prime righe di un file.\n",
    "- `tail`: Mostra le ultime righe di un file.\n",
    "\n",
    "### Comandi di Base PowerShell\n",
    "\n",
    "Per adattare i comandi Unix per l'utilizzo in PowerShell di Windows, molti dei comandi rimangono simili grazie alla natura cross-platform di PowerShell e alla sua flessibilità nel gestire sia gli stili di comando Unix che quelli tradizionali di Windows. Ecco come si traducono i comandi:\n",
    "\n",
    "- `Get-Location` o semplicemente `pwd`: Mostra il percorso della directory corrente, simile a `pwd` in Unix.\n",
    "- `Get-ChildItem` o semplicemente `ls`: Elenca file e cartelle nella directory corrente, equivalente a `ls` in Unix.\n",
    "- `Set-Location` o semplicemente `cd`: Cambia directory. `cd` senza argomenti ti porta alla directory home in PowerShell con `cd ~`.\n",
    "- `New-Item -ItemType Directory -Name 'nomeDirectory'`: Crea una nuova directory, simile a `mkdir` in Unix.\n",
    "- `Remove-Item -Path 'nomeDirectory' -Force`: Rimuove una directory, anche se non vuota. Equivalente a `rmdir` in Unix, ma più potente perché può rimuovere anche directory con contenuti utilizzando il parametro `-Force`.\n",
    "\n",
    "#### Gestione File\n",
    "\n",
    "- `Move-Item -Path 'origine' -Destination 'destinazione'`: Rinomina o sposta file, equivalente a `mv` in Unix.\n",
    "- `Copy-Item -Path 'origine' -Destination 'destinazione'`: Copia file o cartelle, simile a `cp` in Unix. Usa `-Recurse` per copiare cartelle.\n",
    "- `Remove-Item -Path 'file' -Force`: Rimuove file o cartelle, simile a `rm` in Unix. Usa `-Force` per rimuovere senza conferme e `-Recurse` per rimuovere cartelle con contenuti.\n",
    "\n",
    "#### Visualizzazione e Manipolazione Contenuti dei File\n",
    "\n",
    "- `Get-Content 'file' | More`: Visualizza il contenuto dei file con possibilità di navigazione, simile a `less`/`more` in Unix.\n",
    "- `Get-Content 'file'`: Mostra l'intero contenuto di un file, equivalente a `cat` in Unix.\n",
    "- `Get-Content 'file' -Head <numero>`: Mostra le prime righe di un file, simile a `head` in Unix.\n",
    "- `Get-Content 'file' -Tail <numero>`: Mostra le ultime righe di un file, equivalente a `tail` in Unix.\n",
    "\n",
    "::: {.callout-tip}\n",
    "\n",
    "È cruciale familiarizzarsi con l'utilizzo dei percorsi relativi per semplificare gli spostamenti tra le diverse directory. L'impiego dei percorsi relativi rende il processo di navigazione più intuitivo e meno incline agli errori.\n",
    "\n",
    "- **Nomi Chiari e Concisi**: Evitate di includere spazi nei nomi dei file e delle cartelle. Preferite l'utilizzo di trattini bassi (_) per separare le parole e mantenere una struttura leggibile e facilmente comprensibile.\n",
    "\n",
    "- **Evitare Caratteri Speciali**: È importante evitare l'inserimento di caratteri speciali come asterischi (*), dollari ($), slash (/, \\), punti (.), virgole (,), punti e virgole (;), parentesi (()), parentesi quadre ([]), parentesi graffe ({}), ampersand (&), barre verticali (|), punti esclamativi (!), punti interrogativi (?) nei nomi dei file e delle cartelle. Talvolta, anche l'uso del trattino (-) può causare problemi; quindi è consigliabile evitarlo. Questi caratteri possono generare problemi di compatibilità con alcuni sistemi operativi o applicazioni, rendendo più complessa la gestione dei file.\n",
    "\n",
    "- **Differenziazione tra Maiuscole e Minuscole**: Unix distingue tra maiuscole e minuscole (tratta le lettere come oggetti distinti), mentre Windows non lo fa. Per evitare confusioni, è consigliabile adottare una politica conservativa: considerate i nomi che differiscono solo per la case delle lettere come distinti.\n",
    "\n",
    "Seguendo questi consigli, è possibile ottimizzare notevolmente l'organizzazione e la gestione dei propri file, migliorando l'efficienza del lavoro e riducendo il rischio di errori.\n",
    ":::\n",
    "\n",
    "Con la pratica, la riga di comando diventa uno strumento molto efficiente. Questa breve guida fornisce le basi per iniziare a esplorare e gestire i file dal terminale, offrendo una base di partenza per ulteriori apprendimenti. La familiarità con la shell è fondamentale nella data science."
   ]
  }
 ],
 "metadata": {
  "kernelspec": {
   "display_name": "bambi_env",
   "language": "python",
   "name": "python3"
  },
  "language_info": {
   "codemirror_mode": {
    "name": "ipython",
    "version": 3
   },
   "file_extension": ".py",
   "mimetype": "text/x-python",
   "name": "python",
   "nbconvert_exporter": "python",
   "pygments_lexer": "ipython3",
   "version": "3.12.3"
  },
  "vscode": {
   "interpreter": {
    "hash": "e957f8d2d9272acec629608affb587206e5d92bb0d8d335f71da72c549770d8b"
   }
  }
 },
 "nbformat": 4,
 "nbformat_minor": 2
}

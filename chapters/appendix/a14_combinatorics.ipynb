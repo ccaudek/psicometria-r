{
 "cells": [
  {
   "attachments": {},
   "cell_type": "markdown",
   "id": "c99bf439-f352-4422-a6de-a2e7032dbfea",
   "metadata": {},
   "source": [
    "# Calcolo combinatorio {#sec-combinatorics}"
   ]
  },
  {
   "attachments": {},
   "cell_type": "markdown",
   "id": "87dd5e48-50d5-41ab-bff9-0e0f0f969a2e",
   "metadata": {},
   "source": [
    "Il calcolo combinatorio si pone il problema di determinare il numero dei modi mediante i quali gli elementi di uno stesso insieme o di più insiemi possono essere associati, seguendo regole prestabilite. Alcuni dei problemi del calcolo delle probabilità per essere risolti richiedono l'utilizzo dei metodi del calcolo combinatorio. \n",
    "\n",
    "In questo capitolo verranno discussi alcuni concetti del calcolo combinatorio. In particolare, verranno introdotti il principio del prodotto, il principio della somma e il modello dell'urna. Verranno inoltre descritte le nozioni di permutazione semplice, disposizione semplice e di combinazione semplice."
   ]
  },
  {
   "cell_type": "code",
   "execution_count": 1,
   "id": "a1075851-add7-49b5-9bea-5be86273061b",
   "metadata": {},
   "outputs": [],
   "source": [
    "import numpy as np\n",
    "import pandas as pd\n",
    "import itertools as it\n",
    "import math\n",
    "import matplotlib.pyplot as plt\n",
    "import seaborn as sns\n",
    "import arviz as az"
   ]
  },
  {
   "cell_type": "code",
   "execution_count": 2,
   "id": "6e303527-9ae8-44c3-b87e-a0b3a6f638f5",
   "metadata": {},
   "outputs": [],
   "source": [
    "RANDOM_SEED = 42\n",
    "rng = np.random.default_rng(RANDOM_SEED)\n",
    "az.style.use(\"arviz-darkgrid\")\n",
    "sns.set_theme(palette=\"colorblind\")\n",
    "%config InlineBackend.figure_format = 'retina'"
   ]
  },
  {
   "attachments": {},
   "cell_type": "markdown",
   "id": "a89bacc6-ddd1-487f-aa2a-738ce0c26085",
   "metadata": {},
   "source": [
    "## Principio del prodotto\n",
    "I metodi di base del calcolo combinatorio applicano due principi: la regola del prodotto e la regola della somma. Consideriamo il principio del prodotto.\n",
    "\n",
    "In generale, una scelta può essere effettuata in più fasi, ad esempio $k$. Supponiamo che per ogni $i = 1, \\dots, k$ la scelta da compiere al $i$-esimo stadio possa essere effettuata in $n_i$ modi. Secondo il principio del prodotto, il numero totale di possibili scelte è dato dal prodotto dei singoli numeri, ovvero:\n",
    "\n",
    "$$\n",
    "n_{\\text{tot}} = n_1 \\cdot  n_2 \\cdots n_{k-1} \\cdot n_k.\n",
    "$$\n",
    "\n",
    "**Esempio 1.** Ho a disposizione 2 paia di scarpe, 3 paia di pantaloni e 5 magliette. In quanti modi diversi mi\n",
    "posso vestire? \n",
    "\n",
    "$$\n",
    "2 \\cdot 3 \\cdot 5 = 30\n",
    "$$\n",
    "\n",
    "**Esempio 2.** In Minnesota le targhe delle automobili sono costituite da tre lettere (da A a Z) seguite da tre numeri (da 0 a 9). Qual è la proporzione di targhe che iniziano con GZN?\n",
    "\n",
    "La soluzione è data dal numero di targhe che iniziano con GZN diviso per il numero totale di targhe possibili. \n",
    "\n",
    "Il numero totale di targe è $26 \\cdot 26 \\cdot 26 \\cdot 10 \\cdot 10 \\cdot 10 = 17,576,000$. Per calcolare il numero di targhe che iniziano con GZN, consideriamo le targhe che hanno la forma GZN \\_ \\_ \\_. Per i tre simboli mancanti ci sono $10 \\cdot 10 \\cdot 10$ possibilità. Dunque la proporzione cercata è \n",
    "\n",
    "$$\n",
    "10^3/(26^3 \\cdot 10^3) = 1/26^3 = 0.0000569.\n",
    "$$"
   ]
  },
  {
   "cell_type": "code",
   "execution_count": 3,
   "id": "d16903b5-8560-4778-b306-6f3d037c1453",
   "metadata": {},
   "outputs": [
    {
     "data": {
      "text/plain": [
       "5.689576695493855e-05"
      ]
     },
     "execution_count": 3,
     "metadata": {},
     "output_type": "execute_result"
    }
   ],
   "source": [
    "10**3 / (26**3 * 10**3)"
   ]
  },
  {
   "attachments": {},
   "cell_type": "markdown",
   "id": "2a688a75-4005-46a2-9209-ffdd819783d3",
   "metadata": {},
   "source": [
    "## Principio della somma\n",
    "\n",
    "Il principio della somma afferma che se un insieme può essere suddiviso in due o più sottoinsiemi disgiunti, allora il numero totale di elementi nell'insieme è dato dalla somma dei numeri di elementi in ciascun sottoinsieme.\n",
    "\n",
    "In altre parole, se si vuole determinare il numero totale di modi in cui è possibile realizzare un certo evento, e questo evento può essere realizzato in modo esclusivo in modo A oppure B, allora il numero totale di modi in cui è possibile realizzare l'evento è dato dalla somma dei modi in cui può essere realizzato in modo A e dei modi in cui può essere realizzato in modo B.\n",
    "\n",
    "Ad esempio, se si vuole determinare il numero totale di modi in cui è possibile scegliere un dolce da una tavola con due tipi di dolci (ad esempio torta e biscotti), il principio della somma afferma che il numero totale di modi è dato dalla somma del numero di modi in cui è possibile scegliere la torta e del numero di modi in cui è possibile scegliere i biscotti.\n",
    "\n",
    "**Esempio 3.** L'urna $A$ contiene $5$ palline numerate da $1$ a $5$, l'urna $B$ contiene $6$ palline numerate da $6$ a $11$, l'urna $C$ contiene $3$ palline numerate da $12$ a $14$ e l'urna $D$ contiene $2$ palline numerate $15$ e $16$. Quanti insiemi composti da due palline, ciascuna estratta da un'urna differente, si possono formare?\n",
    "\n",
    "Il numero di insiemi di tipo $AB$ è dato dal prodotto delle palline che possono essere estratte dall'urna $A$ (5) e da quelle che possono essere estratte dall'urna $B$ (6), ovvero $5 \\cdot 6 = 30$. In modo analogo, si ottengono 15 insiemi di tipo $AC$, 10 di tipo $AD$, 18 di tipo $BC$, 12 di tipo $BD$, 6 di tipo $CD$. Quindi, per la regola della somma, il numero totale di insiemi distinti che si possono formare con due palline provenienti dalle quattro urne è dato dalla somma di questi valori, ovvero $30 + 15 + 10 + 18 + 12 + 6 = 91$. Pertanto, ci sono 91 insiemi composti da due palline, ciascuna estratta da un'urna differente, che si possono formare.\n",
    "\n",
    "In conclusione, il principio del prodotto e il principio della somma sono due concetti fondamentali del calcolo combinatorio. In generale, il principio del prodotto si applica quando si tratta di eventi *indipendenti che si verificano in successione*, mentre il principio della somma si applica quando si tratta di eventi *mutuamente esclusivi* (cioè non possono accadere contemporaneamente) e si cerca di calcolare il numero totale di possibili risultati.\n",
    "\n",
    "## Il modello dell'urna\n",
    "\n",
    "I problemi di combinatoria spesso coinvolgono l'estrazione di palline da urne, le quali rappresentano dei modelli delle corrispondenti situazioni considerate. Una procedura comune per rappresentare queste situazioni è il modello dell'urna, che consiste nell'estrazione di $k$ palline da un'urna contenente $n$ palline. Le palline possono essere tutte diverse, oppure alcune palline possono essere indistinguibili tra loro. Tra le possibili modalità di estrazione, sono particolarmente importanti:\n",
    "\n",
    "- L'*estrazione Bernoulliana* di $k$ palline, che si ottiene estraendo una pallina alla volta e rimettendola nell'urna dopo ogni estrazione;\n",
    "- L'*estrazione senza ripetizione* di $k$ palline, che si ottiene estraendo una pallina alla volta senza rimetterla nell'urna dopo l'estrazione;\n",
    "- L'*estrazione in blocco* di $k$ palline, che si ottiene estraendo $k$ palline contemporaneamente.\n",
    "\n",
    "Per esempio, nel caso di campioni di ampiezza 2 estratti da un'urna con tre elementi $\\{1, 2, 3\\}$, abbiamo i seguenti quattro casi:\n",
    "\n",
    "- campionamento con reimmissione tenendo conto dell'ordine di estrazione: $\\{1,  1\\}, \\{2,  1\\}, \\{3,  1\\}, \\{1,  2\\}, \\{2,  2\\}, \\{3,  2\\}, \\{1,  3\\}, \\{2,  3\\}, \\{3,  3\\}$;\n",
    "- campionamento con reimmissione senza tenere conto dell'ordine di estrazione: $\\{1,  1\\}, \\{1,  2\\}, \\{1,  3\\}, \\{2,  2\\}, \\{2,  3\\}, \\{3,  3\\}$;\n",
    "- campionamento senza reimmissione tenendo conto dell'ordine di estrazione:\n",
    "$\\{1,  2\\}, \\{2,  1\\}, \\{1,  3\\}, \\{3,  1\\}, \\{2,  3\\}, \\{3,  2\\}$;\n",
    "- campionamento senza reimmissione e senza tenere conto dell'ordine di estrazione: $\\{1 , 2\\}, \\{1,  3\\}, \\{2, 3\\}$.\n",
    "\n",
    "## Permutazioni semplici\n",
    "\n",
    "Le permutazioni semplici sono il risultato di uno scambio dell'ordine degli elementi di un insieme che contiene elementi distinti tra loro. Queste permutazioni sono indicate con il simbolo $P_n$, e il numero di permutazioni semplici di $n$ elementi distinti è pari al fattoriale di $n$, cioè $n!$, come espresso dall'eq. {eq}`eq-permsem`:\n",
    "\n",
    "$$\n",
    "P_n = n!\n",
    "$$ (eq-permsem)\n",
    "\n",
    "dove il simbolo $n!$ si legge $n$ fattoriale ed è uguale al prodotto di $n$ numeri interi decrescenti da $n$ fino a 1. Per definizione, il fattoriale di 0 è 1.\n",
    "\n",
    "Il numero di permutazioni di $n$ elementi distinti può essere visto come l'estrazione senza rimessa di $n$ elementi diversi da un'urna contenente gli $n$ oggetti. Questo ci consente di applicare il principio del prodotto, il quale afferma che il numero di modi in cui è possibile combinare o disporre un insieme di oggetti è dato dal prodotto del numero di scelte possibili per ciascuna categoria di oggetti. Nel caso delle permutazioni, il principio del prodotto si applica nel seguente modo: se abbiamo $n$ oggetti distinti da disporre in un ordine particolare, il numero di permutazioni possibili è dato dal prodotto del numero di scelte possibili per la prima posizione, per la seconda posizione, per la terza posizione, e così via, fino alla $n$-esima posizione.\n",
    "\n",
    "Per esempio, consideriamo il caso di disporre tre oggetti, A, B e C. Ci sono tre modi per scegliere il primo oggetto: A, B o C. Una volta scelto il primo oggetto, ci sono due modi per scegliere il secondo oggetto. Infine, rimane un solo modo per scegliere l'ultimo oggetto. Possiamo concettualizzare questo processo come un albero, dove il numero totale di foglie è uguale al numero di permutazioni. Per calcolare il numero di foglie, basta moltiplicare sequenzialmente il numero di rami a ogni livello, cioè $3 \\times 2 \\times 1$. \n",
    "\n",
    "**Esempio 4.** Consideriamo l'insieme: $A = \\{a, b, c\\}$. Calcoliamo il numero di permutazioni semplici.\n",
    "\n",
    "Le permutazioni semplici di $A$ sono: $\\{a, b, c\\}$, $\\{a, c, b\\}$, $\\{b, c, a\\}$, $\\{b, a, c\\}$, $\\{c, a, b\\}$, $\\{c, b, a\\}$, ovvero 6. Applichiamo l'eq. {ref}`eq-permsem`:\n",
    "\n",
    "$$\n",
    "P_n = P_3 = 3! = 3 \\cdot 2 \\cdot 1 = 6.\n",
    "$$"
   ]
  },
  {
   "attachments": {},
   "cell_type": "markdown",
   "id": "cd321d2a-5f06-4f3b-8f16-b0ea81caa7d4",
   "metadata": {},
   "source": [
    "Lo strumento principale che usiamo in Python per trovare le permutazioni di un insieme è una libreria specificamente progettata per iterare sugli oggetti in modi diversi, ovvero `itertools`. Con `itertools.permutations()` generiamo le permutazioni. "
   ]
  },
  {
   "cell_type": "code",
   "execution_count": 4,
   "id": "2df10958-f7ba-4102-9998-0069a72836ec",
   "metadata": {},
   "outputs": [
    {
     "name": "stdout",
     "output_type": "stream",
     "text": [
      "{'A', 'B', 'C'}\n"
     ]
    }
   ],
   "source": [
    "A = {\"A\", \"B\", \"C\"}\n",
    "print(A)\n"
   ]
  },
  {
   "cell_type": "code",
   "execution_count": 5,
   "id": "8e74b18c-c03a-4304-beb6-9f2a1338a8fe",
   "metadata": {},
   "outputs": [],
   "source": [
    "permutations = it.permutations(A)"
   ]
  },
  {
   "attachments": {},
   "cell_type": "markdown",
   "id": "da41376f-63f6-4685-a9f0-40f4c7525157",
   "metadata": {},
   "source": [
    "Per visualizzare il risultato dobbiamo trasformarlo in una tupla:"
   ]
  },
  {
   "cell_type": "code",
   "execution_count": 6,
   "id": "cf9b4b95-ca77-4c67-a164-634887684cf2",
   "metadata": {},
   "outputs": [
    {
     "data": {
      "text/plain": [
       "(('A', 'B', 'C'),\n",
       " ('A', 'C', 'B'),\n",
       " ('B', 'A', 'C'),\n",
       " ('B', 'C', 'A'),\n",
       " ('C', 'A', 'B'),\n",
       " ('C', 'B', 'A'))"
      ]
     },
     "execution_count": 6,
     "metadata": {},
     "output_type": "execute_result"
    }
   ],
   "source": [
    "tuple(permutations)"
   ]
  },
  {
   "attachments": {},
   "cell_type": "markdown",
   "id": "4f67d524-174c-471d-a7d3-43e1a919e9b8",
   "metadata": {},
   "source": [
    "Lo stesso risultato si ottiene con"
   ]
  },
  {
   "cell_type": "code",
   "execution_count": 7,
   "id": "1215787e-ecd9-48d3-9b32-265fa30b6675",
   "metadata": {},
   "outputs": [
    {
     "data": {
      "text/plain": [
       "(('A', 'B', 'C'),\n",
       " ('A', 'C', 'B'),\n",
       " ('B', 'A', 'C'),\n",
       " ('B', 'C', 'A'),\n",
       " ('C', 'A', 'B'),\n",
       " ('C', 'B', 'A'))"
      ]
     },
     "execution_count": 7,
     "metadata": {},
     "output_type": "execute_result"
    }
   ],
   "source": [
    "permutations = it.permutations(\"ABC\")\n",
    "permutations = tuple(permutations)\n",
    "permutations"
   ]
  },
  {
   "attachments": {},
   "cell_type": "markdown",
   "id": "7ae994da-a482-4e9b-a102-af88d494ed76",
   "metadata": {},
   "source": [
    "Possiamo ora contare quanti elementi ci sono nella tupla usando la funzione `len()`: "
   ]
  },
  {
   "cell_type": "code",
   "execution_count": 8,
   "id": "1030d7a7-74bb-4fe9-87ce-eb481ffbc81a",
   "metadata": {},
   "outputs": [
    {
     "data": {
      "text/plain": [
       "6"
      ]
     },
     "execution_count": 8,
     "metadata": {},
     "output_type": "execute_result"
    }
   ],
   "source": [
    "len(permutations)"
   ]
  },
  {
   "attachments": {},
   "cell_type": "markdown",
   "id": "20dad97c-1573-4a73-aa51-01e0f7dc6039",
   "metadata": {},
   "source": [
    "Oppure, possiamo appliare la formula {eq}`eq-permsem` mediante la funzione `factorial()` contenuta nella libreria `math` di Numpy:"
   ]
  },
  {
   "cell_type": "code",
   "execution_count": 10,
   "id": "040b2379-64ad-447b-b110-da65e570bfae",
   "metadata": {},
   "outputs": [
    {
     "data": {
      "text/plain": [
       "6"
      ]
     },
     "execution_count": 10,
     "metadata": {},
     "output_type": "execute_result"
    }
   ],
   "source": [
    "math.factorial(3)"
   ]
  },
  {
   "attachments": {},
   "cell_type": "markdown",
   "id": "6377ebc2-24b1-4fba-b386-8db70ad4f049",
   "metadata": {},
   "source": [
    "**Esempio 5.** Gli anagrammi  sono  le permutazioni che si ottengono da una parola variando l'ordine delle lettere. Le permutazioni semplici si applicano al caso di parole costituite da lettere tutte diverse tra loro. Ad esempio, con la parola  NUMERO si ottengono $P_6 = 6! = 6\\cdot5\\cdot4\\cdot3\\cdot2\\cdot1 = 720$ anagrammi. "
   ]
  },
  {
   "cell_type": "code",
   "execution_count": 11,
   "id": "10acd119-c3c6-4ce5-b749-77c15a97756f",
   "metadata": {},
   "outputs": [
    {
     "data": {
      "text/plain": [
       "(('N', 'U', 'M', 'E', 'O', 'R'),\n",
       " ('N', 'U', 'M', 'R', 'E', 'O'),\n",
       " ('N', 'U', 'M', 'R', 'O', 'E'),\n",
       " ('N', 'U', 'M', 'O', 'E', 'R'),\n",
       " ('N', 'U', 'M', 'O', 'R', 'E'),\n",
       " ('N', 'U', 'E', 'M', 'R', 'O'),\n",
       " ('N', 'U', 'E', 'M', 'O', 'R'),\n",
       " ('N', 'U', 'E', 'R', 'M', 'O'),\n",
       " ('N', 'U', 'E', 'R', 'O', 'M'))"
      ]
     },
     "execution_count": 11,
     "metadata": {},
     "output_type": "execute_result"
    }
   ],
   "source": [
    "permutations = it.permutations(\"NUMERO\")\n",
    "permutations = tuple(permutations)\n",
    "permutations[1:10]"
   ]
  },
  {
   "cell_type": "code",
   "execution_count": 12,
   "id": "bd379dac-b687-4de3-b38d-fb4cab15538d",
   "metadata": {},
   "outputs": [
    {
     "data": {
      "text/plain": [
       "720"
      ]
     },
     "execution_count": 12,
     "metadata": {},
     "output_type": "execute_result"
    }
   ],
   "source": [
    "len(permutations)"
   ]
  },
  {
   "cell_type": "code",
   "execution_count": 14,
   "id": "a205579e-36bb-4af6-8a07-932359ba32c5",
   "metadata": {},
   "outputs": [
    {
     "data": {
      "text/plain": [
       "720"
      ]
     },
     "execution_count": 14,
     "metadata": {},
     "output_type": "execute_result"
    }
   ],
   "source": [
    "math.factorial(6)"
   ]
  },
  {
   "attachments": {},
   "cell_type": "markdown",
   "id": "2b4b4cfd-5d46-4bda-a7cf-b8c7b09527e2",
   "metadata": {},
   "source": [
    "**Esempio 6.** Un altro esempio riguarda i giochi di carte. Ci sono 52! $\\approx 8 \\times 10^{67}$ modi di ordinare un mazzo di carte da poker; questo numero è \"quasi\" grande come il numero di atomi dell'universo che si stima essere uguale a circa $10^{80}$."
   ]
  },
  {
   "cell_type": "code",
   "execution_count": 15,
   "id": "b292720d-8f7f-4f41-b7e8-50cd62f3a38a",
   "metadata": {},
   "outputs": [
    {
     "data": {
      "text/plain": [
       "80658175170943878571660636856403766975289505440883277824000000000000"
      ]
     },
     "execution_count": 15,
     "metadata": {},
     "output_type": "execute_result"
    }
   ],
   "source": [
    "math.factorial(52)"
   ]
  },
  {
   "cell_type": "code",
   "execution_count": 16,
   "id": "afcece6c-031a-45a7-b7d3-daa49ccc8bf7",
   "metadata": {},
   "outputs": [
    {
     "name": "stdout",
     "output_type": "stream",
     "text": [
      "8.07e+67\n"
     ]
    }
   ],
   "source": [
    "print(\"{:.2e}\".format(math.factorial(52)))"
   ]
  },
  {
   "attachments": {},
   "cell_type": "markdown",
   "id": "59298b0a-59db-4fc6-a5c6-d35a490350e5",
   "metadata": {},
   "source": [
    "**Esempio 7.** Le cifre 1, 2, 3, 4 e 5 sono disposte in ordine casuale per formare un numero di cinque cifre.\n",
    "\n",
    "- Quanti diversi numeri di cinque cifre possono essere formati?\n",
    "- Quanti diversi numeri di cinque cifre sono dispari?\n",
    "\n",
    "Iniziamo a creare una tupla con le cinque cifre:"
   ]
  },
  {
   "cell_type": "code",
   "execution_count": 17,
   "id": "84b72980-4b33-4e05-876c-8a289adc378a",
   "metadata": {},
   "outputs": [
    {
     "data": {
      "text/plain": [
       "(1, 2, 3, 4, 5)"
      ]
     },
     "execution_count": 17,
     "metadata": {},
     "output_type": "execute_result"
    }
   ],
   "source": [
    "tuple(range(1, 6))"
   ]
  },
  {
   "attachments": {},
   "cell_type": "markdown",
   "id": "6edb267c-da66-4530-aaab-5d59150b97eb",
   "metadata": {},
   "source": [
    "Come in precedenza, possiamo usare `it.permutations()`:"
   ]
  },
  {
   "cell_type": "code",
   "execution_count": 18,
   "id": "87b81af2-8caa-4fbf-af36-e0d20190f7dd",
   "metadata": {},
   "outputs": [
    {
     "data": {
      "text/plain": [
       "((1, 2, 3, 5, 4),\n",
       " (1, 2, 4, 3, 5),\n",
       " (1, 2, 4, 5, 3),\n",
       " (1, 2, 5, 3, 4),\n",
       " (1, 2, 5, 4, 3),\n",
       " (1, 3, 2, 4, 5),\n",
       " (1, 3, 2, 5, 4),\n",
       " (1, 3, 4, 2, 5),\n",
       " (1, 3, 4, 5, 2))"
      ]
     },
     "execution_count": 18,
     "metadata": {},
     "output_type": "execute_result"
    }
   ],
   "source": [
    "permutations = it.permutations(range(1, 6))\n",
    "permutations = tuple(permutations)\n",
    "permutations[1:10]"
   ]
  },
  {
   "attachments": {},
   "cell_type": "markdown",
   "id": "a2a7d908-d1f8-4fae-be86-4382fa5da1f8",
   "metadata": {},
   "source": [
    "Ci sono 120 permutazioni."
   ]
  },
  {
   "cell_type": "code",
   "execution_count": 19,
   "id": "d38da0b9-092f-4d80-9823-305cd35d310f",
   "metadata": {},
   "outputs": [
    {
     "data": {
      "text/plain": [
       "120"
      ]
     },
     "execution_count": 19,
     "metadata": {},
     "output_type": "execute_result"
    }
   ],
   "source": [
    "len(permutations)"
   ]
  },
  {
   "attachments": {},
   "cell_type": "markdown",
   "id": "4b01db9b-1672-42b7-bbc7-db2482522a6f",
   "metadata": {},
   "source": [
    "Per trovare i numeri dispari tra queste 120 permutazioni utilizziamo la funzione `sum()` in Python abbinato alle espressioni `for` e `in`. Accediamo al quinto elemento di una permutazione utilizzando la notazione `[4]` (il primo elemento è indicato con 0, quindi il quinto è 4):"
   ]
  },
  {
   "cell_type": "code",
   "execution_count": 20,
   "id": "bc3085fd-b3c2-481e-956f-d17acb5af574",
   "metadata": {},
   "outputs": [
    {
     "data": {
      "text/plain": [
       "72"
      ]
     },
     "execution_count": 20,
     "metadata": {},
     "output_type": "execute_result"
    }
   ],
   "source": [
    "sum(permutation[4] % 2 for permutation in permutations)"
   ]
  },
  {
   "attachments": {},
   "cell_type": "markdown",
   "id": "f1d28b6e-e8f4-470e-9af8-a3a90166bc84",
   "metadata": {},
   "source": [
    "Possiamo controllare questo teoricamente: nel caso presente, ci sono tre possibili cifre dispari per l'ultima posizione di un numero di cinque cifre: 1, 3 e 5. Dopo aver scelto una di queste, le cifre rimanenti nelle prime quattro posizioni possono essere formate in 4! modi. Pertanto:"
   ]
  },
  {
   "cell_type": "code",
   "execution_count": 21,
   "id": "75aebca4-839f-496a-8ac2-c5bfc6b84f42",
   "metadata": {},
   "outputs": [
    {
     "data": {
      "text/plain": [
       "72"
      ]
     },
     "execution_count": 21,
     "metadata": {},
     "output_type": "execute_result"
    }
   ],
   "source": [
    "math.factorial(4) * 3"
   ]
  },
  {
   "attachments": {},
   "cell_type": "markdown",
   "id": "05fee761-8b6a-4088-906f-43ff5f8af2e8",
   "metadata": {},
   "source": [
    "## Disposizioni semplici\n",
    "\n",
    "Le disposizioni semplici rappresentano tutti i modi in cui un insieme di oggetti può essere disposto in sequenza, tenendo conto dell'ordine in cui gli oggetti vengono scelti e senza permettere la scelta di un oggetto più di una volta.\n",
    "\n",
    "Quindi, se abbiamo un insieme di $n$ oggetti distinti e vogliamo selezionarne $k$ per formare una sequenza, le disposizioni semplici rappresentano tutti i sottoinsiemi di $k$ oggetti distinti che possono essere selezionati dall'insieme di $n$ oggetti distinti in modo tale che l'ordine in cui vengono selezionati sia importante.\n",
    "\n",
    "Ad esempio, se abbiamo l'insieme di oggetti ${a,b,c}$ e vogliamo selezionare due oggetti per formare una sequenza, le disposizioni semplici sarebbero: $ab$, $ba$, $ac$, $ca$, $bc$, $cb$. Nota che, in questo caso, l'ordine in cui gli oggetti vengono scelti è importante e ogni oggetto viene scelto una sola volta.\n",
    "\n",
    "Il numero di disposizioni semplici di $n$ elementi distinti della classe $k$ è indicato con $D_{n,k}$ e può essere calcolato dividendo il numero di permutazioni di $n$ oggetti distinti per il numero di permutazioni dei restanti $n-k$ oggetti distinti, poiché ogni disposizione semplice può essere ottenuta come una permutazione di un sottoinsieme di $k$ oggetti distinti.\n",
    "\n",
    "Quindi, il numero di disposizioni semplici di $n$ elementi distinti della classe $k$ è dato da\n",
    "\n",
    "$$\n",
    "D_{n,k} = \\frac{n!}{(n-k)!},\n",
    "$$ (eq_disp_simple)\n",
    "\n",
    "dove $n!$ rappresenta il numero di permutazioni di $n$ oggetti distinti e $(n-k)!$ rappresenta il numero di permutazioni dei restanti $n-k$ oggetti distinti.\n",
    "\n",
    "\n",
    "**Esempio 8.** Consideriamo l'insieme: $A = \\{a, b, c\\}$. Qual è il numero di disposizioni semplici di classe 2? Come abbiamo visto sopra, le disposizioni semplici di classe 2 sono $\\{a, b\\}$, $\\{b, a\\}$, $\\{a, c\\}$, $\\{c, a\\}$, $\\{b, c\\}$, $\\{c, b\\}$, ovvero 6. \n",
    "\n",
    "Applichiamo l'eq. {eq}`eq_disp_simple`:\n",
    "\n",
    "$$\n",
    "D_{n,k} = \\frac{n!}{(n-k)!} = 3 \\cdot 2 = 6.\n",
    "$$ "
   ]
  },
  {
   "attachments": {},
   "cell_type": "markdown",
   "id": "7fe55b5f-4e62-43d6-b09c-0b50db093da1",
   "metadata": {},
   "source": [
    "In maniera equivalente possiamo trovare il risultato usando `itertools.permutations(iterable, k)`. Tale istruzione ci consente di trovare il numero di permutazioni possibili di tutti i sottoinsiemi di $k$ elementi distinti, ovvero il numero di diverse sequenze ordinate che possiamo ottenere scegliendo $k$ oggetti dall'insieme."
   ]
  },
  {
   "cell_type": "code",
   "execution_count": 22,
   "id": "0829b696-b397-4dac-8efd-c411a3863fd3",
   "metadata": {},
   "outputs": [
    {
     "data": {
      "text/plain": [
       "(('A', 'B'), ('A', 'C'), ('B', 'A'), ('B', 'C'), ('C', 'A'), ('C', 'B'))"
      ]
     },
     "execution_count": 22,
     "metadata": {},
     "output_type": "execute_result"
    }
   ],
   "source": [
    "tuple(it.permutations(\"ABC\", 2))"
   ]
  },
  {
   "cell_type": "code",
   "execution_count": 23,
   "id": "2d2a204c-cc04-4522-8bfa-fccd7fab1056",
   "metadata": {},
   "outputs": [
    {
     "data": {
      "text/plain": [
       "6"
      ]
     },
     "execution_count": 23,
     "metadata": {},
     "output_type": "execute_result"
    }
   ],
   "source": [
    "res = tuple(it.permutations(\"ABC\", 2))\n",
    "len(res)"
   ]
  },
  {
   "attachments": {},
   "cell_type": "markdown",
   "id": "791362a5-4a38-441e-a8aa-265f959e28df",
   "metadata": {},
   "source": [
    "Oppure possiamo implementare l'eq. {eq}`eq_disp_simple`:"
   ]
  },
  {
   "cell_type": "code",
   "execution_count": 25,
   "id": "c5e9fec8-07e2-4185-ae03-7cee45c57e72",
   "metadata": {},
   "outputs": [
    {
     "data": {
      "text/plain": [
       "6.0"
      ]
     },
     "execution_count": 25,
     "metadata": {},
     "output_type": "execute_result"
    }
   ],
   "source": [
    "def simple_disp(n, k):\n",
    "    return math.factorial(n) / math.factorial(n - k)\n",
    "\n",
    "\n",
    "simple_disp(3, 2)"
   ]
  },
  {
   "attachments": {},
   "cell_type": "markdown",
   "id": "90486bc7-ec15-4280-82be-f9a699dd2ec9",
   "metadata": {},
   "source": [
    "## Combinazioni semplici {#sec-combinazione-semplice}\n",
    "\n",
    "Le combinazioni sono simili alle permutazioni, ma ignorano l'ordine degli elementi. In altre parole, le combinazioni rappresentano i modi di scegliere $k$ elementi distinti da$n$elementi senza considerare l'ordine. Ad esempio, scegliendo 2 elementi da 3 (A, B e C), le permutazioni sono 6 (AB, BA, AC, CA, BC, CB), mentre le combinazioni sono 3 (AB, AC, BC).\n",
    "\n",
    "Per calcolare le combinazioni, prima calcoliamo le permutazioni $D_{n,k}$ e poi dividiamo per $k!$. Questo perché ci sono $k!$ modi per disporre $k$ elementi in ordine diverso, ma tutte queste disposizioni contano come una singola combinazione. La formula generale per le combinazioni è:\n",
    "\n",
    "$$\n",
    "C_{n,k} = \\binom{n}{k} = \\frac{D_{n,k}}{P_k} = \\frac{n!}{k!(n-k)!},\n",
    "$$ (eq_combsemp)\n",
    "\n",
    "che è spesso indicata con il simbolo $\\binom{n}{k}$ e viene chiamato \"coefficiente binomiale\". In sintesi, le combinazioni semplici rappresentano il numero di sottoinsiemi di $k$ elementi distinti scelti da un insieme di $n$ elementi distinti senza considerare l'ordine di estrazione.\n",
    "\n",
    "**Esempio 9.** Per l'insieme $A = \\{a, b, c\\}$ si trovino le combinazioni semplici di classe 2.\n",
    "\n",
    "Le combinazioni semplici dell'insieme $A$ sono \n",
    "$\\{a, b\\}$, $\\{a, c\\}$, $\\{b, c\\}$, ovvero 3. Applichiamo l'eq. {eq}`eq_combsemp`:\n",
    "\n",
    "$$\n",
    "C_{n,k} = \\binom{n}{k} = \\binom{3}{2} = 3.\n",
    "$$\n"
   ]
  },
  {
   "attachments": {},
   "cell_type": "markdown",
   "id": "2bf4b92f-c730-46f7-b8d4-8a871bfcb2a0",
   "metadata": {},
   "source": [
    "Usiamo `itertools`:"
   ]
  },
  {
   "cell_type": "code",
   "execution_count": 26,
   "id": "70b4c35d-4f94-492c-b099-45d54ab38178",
   "metadata": {},
   "outputs": [
    {
     "data": {
      "text/plain": [
       "(('A', 'B'), ('A', 'C'), ('B', 'C'))"
      ]
     },
     "execution_count": 26,
     "metadata": {},
     "output_type": "execute_result"
    }
   ],
   "source": [
    "c_nk = tuple(it.combinations(\"ABC\", 2))\n",
    "c_nk"
   ]
  },
  {
   "cell_type": "code",
   "execution_count": 27,
   "id": "1b43c7a7-0fe6-4a50-a05e-0137bbdfb2b8",
   "metadata": {},
   "outputs": [
    {
     "data": {
      "text/plain": [
       "3"
      ]
     },
     "execution_count": 27,
     "metadata": {},
     "output_type": "execute_result"
    }
   ],
   "source": [
    "len(c_nk)"
   ]
  },
  {
   "attachments": {},
   "cell_type": "markdown",
   "id": "c8503066-a86a-43e2-832e-abeab95a7453",
   "metadata": {},
   "source": [
    "La soluzione si trova anche usando la funzione `comb()` della libreria `math`."
   ]
  },
  {
   "cell_type": "code",
   "execution_count": 28,
   "id": "b5c3b342-3bbb-45ab-b002-523fa4c15b49",
   "metadata": {},
   "outputs": [
    {
     "data": {
      "text/plain": [
       "3"
      ]
     },
     "execution_count": 28,
     "metadata": {},
     "output_type": "execute_result"
    }
   ],
   "source": [
    "math.comb(3, 2)"
   ]
  },
  {
   "attachments": {},
   "cell_type": "markdown",
   "id": "7c48fdf1-0f39-4959-b1f4-3f8e68293515",
   "metadata": {},
   "source": [
    "Oppure usando la funzione `comb()` della libreria `scipy.special`."
   ]
  },
  {
   "cell_type": "code",
   "execution_count": 29,
   "id": "90256fbd-a538-4e57-a260-20015b6d4833",
   "metadata": {},
   "outputs": [
    {
     "data": {
      "text/plain": [
       "3.0"
      ]
     },
     "execution_count": 29,
     "metadata": {},
     "output_type": "execute_result"
    }
   ],
   "source": [
    "import scipy.special as sp\n",
    "\n",
    "sp.comb(3, 2)"
   ]
  },
  {
   "attachments": {},
   "cell_type": "markdown",
   "id": "6cd15ccc-e0cc-4d90-b769-9deda419dffc",
   "metadata": {},
   "source": [
    "**Esempio 10.** Quanti gruppi di 2 si possono formare con 5 individui? "
   ]
  },
  {
   "cell_type": "code",
   "execution_count": 30,
   "id": "48452fa7-3142-44b8-8f5b-6056abfa6094",
   "metadata": {},
   "outputs": [
    {
     "data": {
      "text/plain": [
       "((0, 1),\n",
       " (0, 2),\n",
       " (0, 3),\n",
       " (0, 4),\n",
       " (1, 2),\n",
       " (1, 3),\n",
       " (1, 4),\n",
       " (2, 3),\n",
       " (2, 4),\n",
       " (3, 4))"
      ]
     },
     "execution_count": 30,
     "metadata": {},
     "output_type": "execute_result"
    }
   ],
   "source": [
    "c_nk = tuple(it.combinations(range(5), 2))\n",
    "c_nk"
   ]
  },
  {
   "cell_type": "code",
   "execution_count": 31,
   "id": "08b456a9-1ef1-4eac-b372-692bab44221c",
   "metadata": {},
   "outputs": [
    {
     "data": {
      "text/plain": [
       "10"
      ]
     },
     "execution_count": 31,
     "metadata": {},
     "output_type": "execute_result"
    }
   ],
   "source": [
    "len(c_nk)"
   ]
  },
  {
   "attachments": {},
   "cell_type": "markdown",
   "id": "dabbbd17-fced-4004-9fd8-0daee530d29e",
   "metadata": {},
   "source": [
    "ovvero"
   ]
  },
  {
   "cell_type": "code",
   "execution_count": 32,
   "id": "73813352-d47d-4503-b351-e9552e46b87a",
   "metadata": {},
   "outputs": [
    {
     "data": {
      "text/plain": [
       "10"
      ]
     },
     "execution_count": 32,
     "metadata": {},
     "output_type": "execute_result"
    }
   ],
   "source": [
    "math.comb(5, 2)"
   ]
  },
  {
   "attachments": {},
   "cell_type": "markdown",
   "id": "4fdc4181-4d57-4b93-b9a7-8d8c742ff0d7",
   "metadata": {},
   "source": [
    "**Esempio 11.** Ho un’associazione con 50 soci. Devo scegliere 5 membri che compongano il comitato direttivo.\n",
    "Quante possibili scelte? "
   ]
  },
  {
   "cell_type": "code",
   "execution_count": 33,
   "id": "aadfcba5-5bd4-4c12-a7d6-4fb9611dca83",
   "metadata": {},
   "outputs": [
    {
     "data": {
      "text/plain": [
       "2118760"
      ]
     },
     "execution_count": 33,
     "metadata": {},
     "output_type": "execute_result"
    }
   ],
   "source": [
    "math.comb(50, 5)"
   ]
  },
  {
   "attachments": {},
   "cell_type": "markdown",
   "id": "3a3b9dd2-2bec-4760-b964-57bc66ee668e",
   "metadata": {},
   "source": [
    "**Esempio 12.** Una gelateria offre 15 gusti di gelato differenti. Quante coppe diverse posso formare se ognuna\n",
    "contiene 3 gusti di gelato differenti tra loro? "
   ]
  },
  {
   "cell_type": "code",
   "execution_count": 34,
   "id": "b4c5249c-714e-490a-ad1d-94040a6d79ec",
   "metadata": {},
   "outputs": [
    {
     "data": {
      "text/plain": [
       "455"
      ]
     },
     "execution_count": 34,
     "metadata": {},
     "output_type": "execute_result"
    }
   ],
   "source": [
    "math.comb(15, 3)"
   ]
  },
  {
   "attachments": {},
   "cell_type": "markdown",
   "id": "5e3a6bf7-f1ce-48d8-8ac4-c1d969d054ac",
   "metadata": {},
   "source": [
    "**Esempio 13.** Uno studente deve rispondere a 5 domande su 10. Solo 5 su 10. Quante possibili scelte ha? "
   ]
  },
  {
   "cell_type": "code",
   "execution_count": 35,
   "id": "8f7df10c-82f4-4dcf-8aba-3e73ac5e7d43",
   "metadata": {},
   "outputs": [
    {
     "data": {
      "text/plain": [
       "252"
      ]
     },
     "execution_count": 35,
     "metadata": {},
     "output_type": "execute_result"
    }
   ],
   "source": [
    "math.comb(10, 5)"
   ]
  },
  {
   "cell_type": "markdown",
   "metadata": {},
   "source": [
    "**Esempio 14.** Consideriamo un incidente del 2009 quando il Governatore della California Arnold Schwarzenegger inviò un messaggio all'assemblea statale riguardo il veto al disegno di legge 1176. Questo messaggio formava un acrostico volgare con le prime lettere di ogni riga.\n",
    "\n",
    "::: {#fig-arnold}\n",
    "![](../../figures/arnold.png){width=\"80%\"}\n",
    "Il Messaggio di Schwarzenegger.\n",
    ":::\n",
    "\n",
    "Ci possiamo chiedere quale sia la probabilità che questo acrostico sia stato casuale. Per rispondere a questa domanda, calcoliamo le combinazioni di due diversi eventi.\n",
    "\n",
    "Il messaggio di Arnold Schwarzenegger è composto da 85 parole. Supponiamo che il messaggio sia stato diviso in 7 righe in modo casuale. Per creare 7 righe, dobbiamo inserire 6 interruzioni di riga. Queste interruzioni di riga possono essere inserite in qualsiasi posizione tra le parole. \n",
    "\n",
    "Poiché ci sono 85 parole, ci sono 84 spazi tra le parole (prima della seconda parola, terza parola, e così via). Il numero di modi in cui possiamo inserire 6 interruzioni di riga in 84 spazi è dato dalla combinazione:\n",
    "\n",
    "$$\n",
    "\\binom{84}{6} = \\frac{84!}{6!(78!)} \\approx 406,481,544.\n",
    "$$\n",
    "\n",
    "Calcoliamo ora il numero di modi in cui questo particolare acrostico può essere ottenuto.\n",
    "\n",
    "Supponiamo che l'acrostico \"FUCKYOU\" possa essere formato solo in un numero limitato di combinazioni specifiche. Per calcolare queste combinazioni, dobbiamo considerare le parole che iniziano con ciascuna delle lettere dell'acrostico e le posizioni in cui possono essere inserite le interruzioni di riga.\n",
    "\n",
    "1. **Identificazione delle parole chiave**: \n",
    "   - F: \"For\"\n",
    "   - U: \"unnecessary\"\n",
    "   - C: \"conversation\"\n",
    "   - K: \"keeping\"\n",
    "   - Y: \"you\"\n",
    "   - O: \"over\"\n",
    "   - U: \"until\"\n",
    "\n",
    "2. **Determinazione delle possibili interruzioni di riga**:\n",
    "   Per formare l'acrostico, dobbiamo posizionare le interruzioni di riga in modo che le parole chiave siano all'inizio delle righe. Le interruzioni possono essere inserite tra le parole chiave, con un certo numero di parole tra di esse.\n",
    "\n",
    "3. **Conteggio delle combinazioni**:\n",
    "   - Tra \"For\" e \"unnecessary\": 11 possibilità\n",
    "   - Tra \"unnecessary\" e \"conversation\": 3 possibilità\n",
    "   - Tra \"conversation\" e \"keeping\": 9 possibilità\n",
    "   - Tra \"keeping\" e \"you\": 2 possibilità\n",
    "   - Tra \"you\" e \"over\": 2 possibilità\n",
    "   - Tra \"over\" e \"until\": 1 possibilità\n",
    "\n",
    "   Quindi, il numero totale di combinazioni è:\n",
    "\n",
    "   $$\n",
    "   11 \\times 3 \\times 9 \\times 2 \\times 2 \\times 1 = 1,188.\n",
    "   $$\n",
    "\n",
    "In conclusione, la probabilità che l'acrostico volgare si verifichi casualmente è data dal rapporto tra il numero di combinazioni specifiche che formano l'acrostico (1,188) e il numero totale di modi per inserire 6 interruzioni di riga in 84 spazi (406,481,544):\n",
    "\n",
    "$$\n",
    "\\frac{1,188}{406,481,544} \\approx 2.92 \\times 10^{-6} \\approx 1 \\text{ su } 342,000.\n",
    "$$\n",
    "\n",
    "Questa analisi ci mostra che è estremamente improbabile che l'acrostico volgare sia stato il risultato di una divisione casuale delle righe del messaggio. In altre parole, la probabilità che questo acrostico sia stato generato casualmente è trascurabile."
   ]
  }
 ],
 "metadata": {
  "kernelspec": {
   "display_name": "pymc",
   "language": "python",
   "name": "python3"
  },
  "language_info": {
   "codemirror_mode": {
    "name": "ipython",
    "version": 3
   },
   "file_extension": ".py",
   "mimetype": "text/x-python",
   "name": "python",
   "nbconvert_exporter": "python",
   "pygments_lexer": "ipython3",
   "version": "3.12.3"
  },
  "vscode": {
   "interpreter": {
    "hash": "cbb367cc0128e23b7454d788d5a4229ca1f9848fd2e857f4797fbd26ab3b0776"
   }
  }
 },
 "nbformat": 4,
 "nbformat_minor": 2
}

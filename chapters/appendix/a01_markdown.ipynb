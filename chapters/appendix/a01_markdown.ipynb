{
 "cells": [
  {
   "attachments": {},
   "cell_type": "markdown",
   "id": "a33d074e-bcd1-47f5-b373-c4fcccf8bdf1",
   "metadata": {},
   "source": [
    "# Jupyter Notebook {#sec-markdown}\n",
    "\n",
    "Il Jupyter Notebook si configura come uno strumento estremamente potente e flessibile per la programmazione in Python, permettendo di integrare codice, note e documentazione in un unico ambiente interattivo. Questa piattaforma è particolarmente apprezzata nell'ambito della data science, dell'analisi di dati, e dell'insegnamento, grazie alla sua capacità di combinare esecuzione di codice, visualizzazione di risultati, annotazioni testuali, e molto altro, in un formato facilmente condivisibile e riproducibile.\n",
    "\n",
    "## Configurazione Locale per Jupyter Notebook\n",
    "\n",
    "Per iniziare a lavorare con i Jupyter Notebook nel proprio ambiente di sviluppo locale, è necessario completare alcuni passaggi preliminari che assicurano una configurazione ottimale:\n",
    "\n",
    "1. **Installazione di Python tramite Anaconda**: Anaconda è una distribuzione di Python che include già Jupyter e altre librerie utili per la data science e l'analisi di dati. Seguendo le istruzioni dettagliate disponibili sul sito di Anaconda (e fornite in precedenza in questa dispensa), si può facilmente installare Python e Jupyter sul proprio sistema.\n",
    "\n",
    "2. **Selezione di un Ambiente di Sviluppo Integrato (IDE)**: Visual Studio Code (VS Code) rappresenta una scelta eccellente per chi cerca un IDE versatile e gratuito. Disponibile al download dal [sito ufficiale](https://code.visualstudio.com), VS Code supporta Python tramite l'installazione di una specifica estensione. Dopo aver installato VS Code, è possibile aggiungere il supporto per Python e per i Jupyter Notebook installando l'estensione \"Python\" disponibile nella sezione \"Extensions\", identificabile dall'icona dei quattro quadrati. Per una completa integrazione dei notebook Jupyter, potrebbe essere necessario installare anche la libreria `ipykernel`.\n",
    "\n",
    "## Celle\n",
    "\n",
    "I Jupyter Notebook sono organizzati in celle, elementi discreti che possono contenere codice o testo (markdown). La possibilità di cambiare il tipo di una cella tramite il menu \"Cell\" o la barra degli strumenti, selezionando \"Code\" per codice Python o \"Markdown\" per annotazioni testuali, rende i notebook estremamente versatili.\n",
    "\n",
    "## Formattazione del Testo con Markdown\n",
    "\n",
    "Markdown permette di arricchire le celle di testo con formattazioni varie, creando un documento strutturato e leggibile. Ecco alcuni esempi:\n",
    "\n",
    "- **Titoli**: `# Titolo` per un titolo di primo livello, `## Sottotitolo` per un secondo livello, e così via.\n",
    "- **Elenchi**: `- Elemento` per elenchi puntati, `1. Elemento` per elenchi numerati.\n",
    "- **Collegamenti**: `[Testo del link](URL)` per inserire un link.\n",
    "- **Enfasi**: `**grassetto**` per il testo in grassetto, `*corsivo*` per il corsivo.\n",
    "\n",
    "## Comandi Magici in Jupyter Notebook\n",
    "\n",
    "I Jupyter Notebook supportano i \"comandi magici\", comandi speciali che iniziano con `%` (per comandi su una singola riga) o `%%` (per comandi che occupano un'intera cella). Questi comandi offrono funzionalità avanzate come:\n",
    "\n",
    "- `%run`: esegue un file Python esterno.\n",
    "- `%timeit`: valuta il tempo di esecuzione di una singola riga di codice.\n",
    "- `%matplotlib inline`: integra grafici Matplotlib direttamente nel notebook.\n",
    "- `%load`: carica il codice da un file esterno in una cella.\n",
    "- `%reset`: cancella tutte le variabili definite nel notebook.\n",
    "- `%pwd` e `%cd`: gestiscono il percorso della directory di lavoro.\n",
    "\n",
    "Digitando `%lsmagic` in una cella, si può accedere all'elenco completo dei comandi magici disponibili, esplorando così ulteriori strumenti e funzionalità offerte da Jupyter Notebook.\n",
    "\n",
    "In conclusione, i Jupyter Notebook rappresentano uno strumento indispensabile per chi lavora nel campo della programmazione e dell'analisi dati, grazie alla loro capacità di unire codice, visualizzazione dei dati, e annotazioni testuali in un unico documento interattivo e facilmente condivisibile."
   ]
  }
 ],
 "metadata": {
  "kernelspec": {
   "display_name": "bambi_env",
   "language": "python",
   "name": "python3"
  },
  "language_info": {
   "codemirror_mode": {
    "name": "ipython",
    "version": 3
   },
   "file_extension": ".py",
   "mimetype": "text/x-python",
   "name": "python",
   "nbconvert_exporter": "python",
   "pygments_lexer": "ipython3",
   "version": "3.12.3"
  },
  "vscode": {
   "interpreter": {
    "hash": "e957f8d2d9272acec629608affb587206e5d92bb0d8d335f71da72c549770d8b"
   }
  }
 },
 "nbformat": 4,
 "nbformat_minor": 2
}

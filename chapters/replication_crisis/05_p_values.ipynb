{
 "cells": [
  {
   "cell_type": "markdown",
   "metadata": {},
   "source": [
    "# La fragilità del *p*-valore {#sec-p-value}\n",
    "\n",
    "**Prerequisiti**\n",
    "\n",
    "**Concetti e competenze chiave**\n",
    "\n",
    "**Preparazione del Notebook**"
   ]
  },
  {
   "cell_type": "code",
   "execution_count": 2,
   "id": "58b9eff0-a43a-440f-a08f-d5b7029f1c5e",
   "metadata": {},
   "outputs": [],
   "source": [
    "import numpy as np\n",
    "import scipy.stats as stats\n",
    "import matplotlib.pyplot as plt\n",
    "import seaborn as sns\n",
    "import arviz as az"
   ]
  },
  {
   "cell_type": "code",
   "execution_count": 3,
   "id": "c546b8eb-385a-434d-b4f0-01df3714bd34",
   "metadata": {},
   "outputs": [],
   "source": [
    "seed: int = sum(map(ord, \"s_m_errors\"))\n",
    "rng: np.random.Generator = np.random.default_rng(seed=seed)\n",
    "sns.set_theme(palette=\"colorblind\")\n",
    "az.style.use(\"arviz-darkgrid\")\n",
    "%config InlineBackend.figure_format = \"retina\""
   ]
  },
  {
   "cell_type": "markdown",
   "metadata": {},
   "source": [
    "## Introduzione\n",
    "\n",
    "Il codice seguente è ispirato da un [post](https://statmodeling.stat.columbia.edu) sul blog di Andrew Gelman.\n",
    "\n",
    "\n",
    "## Simulazione \n",
    "\n",
    "La seguente simulazione ha l’obiettivo di mostrare quanto i p-valori possano essere \"fragili\" e variare notevolmente da campione a campione, anche quando i dati provengono da una distribuzione con parametri molto simili. Questo serve a dimostrare che il p-valore, spesso usato per determinare la significatività statistica di un effetto, può essere influenzato pesantemente dalla variabilità campionaria, soprattutto in campioni di piccole dimensioni o con effetti deboli. Gelman esprime [questo concetto](http://stat.columbia.edu/~gelman/research/published/signif4.pdf) dicendo che\n",
    "\n",
    "> the difference between \"significant\" and \"not significant\" is not itself statistically significant.\n",
    "\n",
    "### Logica della Simulazione\n",
    "\n",
    "1. **Obiettivo:**\n",
    "   - Dimostrare la variabilità dei p-valori calcolati per diversi campioni estratti da una popolazione con una media molto vicina a zero.\n",
    "   - Mostrare come, nonostante l'effetto vero sia piccolo, i p-valori possano essere significativamente diversi tra loro, a seconda della variabilità e delle dimensioni del campione.\n",
    "\n",
    "2. **Setup della Simulazione:**\n",
    "   - Generiamo $J = 10$ campioni indipendenti, ognuno con un numero ridotto di osservazioni ($n = 10$), per massimizzare la variabilità dei risultati.\n",
    "   - Ogni campione è generato da una distribuzione normale con una media vera di $\\mu = 0.05$ e una deviazione standard di $\\sigma = 0.1$. Questi parametri sono scelti per rendere la media dei campioni vicina a zero e, al tempo stesso, abbastanza variabile.\n",
    "\n",
    "3. **Calcolo della media campionaria:**\n",
    "   - Per ciascun campione, calcoliamo la media ($\\hat{\\mu}$) e la deviazione standard ($\\hat{\\sigma}$).\n",
    "   - La media del campione ($\\hat{\\mu}$) è utilizzata come stima del parametro.\n",
    "\n",
    "4. **Calcolo del p-valore:**\n",
    "   - Applichiamo un t-test per ciascun campione per verificare l'ipotesi nulla ($H_0$) che la media del campione sia zero. \n",
    "   - Il p-valore viene calcolato utilizzando la formula classica del t-test:\n",
    "     \\[\n",
    "     t = \\frac{\\hat{\\mu}}{\\frac{\\hat{\\sigma}}{\\sqrt{n}}}\n",
    "     \\]\n",
    "     dove:\n",
    "     - $\\hat{\\mu}$ è la media del campione,\n",
    "     - $\\hat{\\sigma}$ è la deviazione standard del campione,\n",
    "     - $n$ è il numero di osservazioni per campione.\n",
    "   - Successivamente, il p-valore è calcolato come:\n",
    "     \\[\n",
    "     \\text{p-value} = 2 \\times (1 - \\text{CDF}(|t|))\n",
    "     \\]\n",
    "     dove $\\text{CDF}$ è la funzione cumulativa della distribuzione t con $n-1$ gradi di libertà.\n",
    "\n",
    "### Descrizione della Sintassi\n",
    "\n",
    "Il codice Python è strutturato come segue:\n",
    "\n",
    "1. **Importazione delle librerie:**\n",
    "   - Usiamo `numpy` per generare i campioni casuali e calcolare le medie e le deviazioni standard.\n",
    "   - `scipy.stats` fornisce la distribuzione t per calcolare il p-valore.\n",
    "\n",
    "2. **Generazione dei campioni:**\n",
    "   ```python\n",
    "   samples = [np.random.normal(true_mean, se, n) for _ in range(J)]\n",
    "   ```\n",
    "   - Creiamo una lista di campioni (10 campioni in totale), ognuno con 10 osservazioni, utilizzando la distribuzione normale con media 0.05 e deviazione standard 0.1.\n",
    "\n",
    "3. **Calcolo delle medie e dei p-valori:**\n",
    "   - Iteriamo su ciascun campione per calcolare la media ($\\hat{\\mu}$) e la deviazione standard ($\\hat{\\sigma}$).\n",
    "   - Calcoliamo il valore statistico $t$ e il corrispondente p-valore utilizzando la distribuzione t.\n",
    "\n",
    "4. **Stampa dei risultati:**\n",
    "   - I p-valori vengono arrotondati e stampati per osservare quanto siano variabili."
   ]
  },
  {
   "cell_type": "code",
   "execution_count": 13,
   "id": "75012632-6b52-4ce6-89b0-5f2975b219fb",
   "metadata": {},
   "outputs": [
    {
     "name": "stdout",
     "output_type": "stream",
     "text": [
      "[0.336 0.118 0.094 0.003 0.311 0.153 0.282 0.05  0.181 0.245]\n"
     ]
    }
   ],
   "source": [
    "# Imposta il seme per la riproducibilità\n",
    "np.random.seed(1234)\n",
    "\n",
    "# Parametri della simulazione\n",
    "J = 10  # Numero di campioni\n",
    "n = 10  # Numero di osservazioni per campione\n",
    "true_mean = 0.05  # Media vera vicina a zero\n",
    "se = 0.1  # Deviazione standard\n",
    "\n",
    "# Genera i campioni casuali\n",
    "samples = [np.random.normal(true_mean, se, n) for _ in range(J)]\n",
    "\n",
    "# Calcola la media di ciascun campione e i p-valori usando il t-test\n",
    "p_values = []\n",
    "for sample in samples:\n",
    "    sample_mean = np.mean(sample)  # Media campionaria\n",
    "    sample_std = np.std(sample, ddof=1)  # Deviazione standard campionaria\n",
    "    t_statistic = sample_mean / (sample_std / np.sqrt(n))  # Calcolo della statistica t\n",
    "    p_value = 2 * (1 - stats.t.cdf(np.abs(t_statistic), df=n - 1))  # Calcolo del p-valore\n",
    "    p_values.append(p_value)\n",
    "\n",
    "# Stampa i p-valori arrotondati a 3 cifre decimali\n",
    "print(np.round(p_values, 3))"
   ]
  },
  {
   "cell_type": "markdown",
   "metadata": {},
   "source": [
    "Immagina che questo fosse un esperimento reale. Alcuni campioni mostrano risultati che potrebbero essere compatibili con puro rumore, alcuni sembrano fornire prove deboli contro l'ipotesi nulla, e altri mostrano risultati altamente significativi dal punto di vista statistico. Sarebbe naturale cercare di categorizzare questi risultati in qualche modo. Certo, la differenza tra \"significativo\" e \"non significativo\" non è di per sé statisticamente significativa, ma un p-valore di 0.336 in un caso e di 0.003 in un altro... sicuramente deve essere rilevante, giusto? No.\n",
    "\n",
    "Questo è un caso estremo, in quanto non c'è una variazione sottostante reale; infatti, se si adatta un modello multilivello, si potrebbe vedere la mancanza di evidenza di una variazione effettiva sottostante.\n",
    "\n",
    "I punti principali sono:\n",
    "\n",
    "1. Il p-valore è una dichiarazione relativa all'ipotesi nulla di assenza di effetto. Non ha molto significato rispetto a un effetto reale, anche se piccolo.\n",
    "\n",
    "2. Il p-valore è estremamente variabile. È una trasformazione non lineare e strana dello z-score (che invece ha un'interpretazione più chiara) e può comportarsi in modi non intuitivi.\n",
    "\n",
    "E inoltre:\n",
    "\n",
    "3. Si può imparare molto da una simulazione. Anche un esperimento semplice come questo può essere estremamente istruttivo!\n",
    "\n",
    "Si noti che anche le inferenze bayesiane sono altamente variabili. Qualsiasi sintesi dei dati presenterà variabilità! Il problema non è tanto con i p-valori, quanto con il loro utilizzo scorretto (come nel punto 1) e quando vengono presi come una dichiarazione forte sulla realtà (come nel punto 2), invece di essere visti come un riassunto rumoroso di un esperimento specifico. Se si fraintendono e si sovrainterpretano le inferenze bayesiane—ad esempio, adattando un modello con prior non informativi, prendendo la probabilità posteriore che il parametro sia maggiore di zero e poi decidendo sulla base di una soglia arbitraria—ci si ritrova in una situazione altrettanto problematica.\n",
    "\n",
    "### Conclusioni\n",
    "\n",
    "La simulazione mostra che, nonostante le medie dei campioni siano generate con una distribuzione simile, i p-valori possono variare drasticamente. Questo effetto è amplificato dalla scelta di campioni piccoli e di una media vera molto vicina all'ipotesi nulla (zero). Dimostra quanto il p-valore possa essere influenzato da piccole variazioni nei dati e perché non sia sempre un indicatore affidabile per valutare l'efficacia o la presenza di un effetto."
   ]
  },
  {
   "cell_type": "markdown",
   "id": "a1b8a29d-aab9-4a79-8485-9408f84e4296",
   "metadata": {},
   "source": [
    "## Informazioni sull'Ambiente di Sviluppo"
   ]
  },
  {
   "cell_type": "code",
   "execution_count": 5,
   "id": "eb9665af-fffb-4717-ba12-37c54403a7a4",
   "metadata": {},
   "outputs": [
    {
     "name": "stdout",
     "output_type": "stream",
     "text": [
      "Last updated: Wed Oct 09 2024\n",
      "\n",
      "Python implementation: CPython\n",
      "Python version       : 3.12.4\n",
      "IPython version      : 8.26.0\n",
      "\n",
      "matplotlib: 3.9.1\n",
      "seaborn   : 0.13.2\n",
      "numpy     : 1.26.4\n",
      "arviz     : 0.18.0\n",
      "scipy     : 1.14.0\n",
      "\n",
      "Watermark: 2.4.3\n",
      "\n"
     ]
    }
   ],
   "source": [
    "%load_ext watermark\n",
    "%watermark -n -u -v -iv -w"
   ]
  }
 ],
 "metadata": {
  "kernelspec": {
   "display_name": "cmdstan_env",
   "language": "python",
   "name": "python3"
  },
  "language_info": {
   "codemirror_mode": {
    "name": "ipython",
    "version": 3
   },
   "file_extension": ".py",
   "mimetype": "text/x-python",
   "name": "python",
   "nbconvert_exporter": "python",
   "pygments_lexer": "ipython3",
   "version": "3.12.4"
  }
 },
 "nbformat": 4,
 "nbformat_minor": 2
}

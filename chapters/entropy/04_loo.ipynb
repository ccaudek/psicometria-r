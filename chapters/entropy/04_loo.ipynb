{
 "cells": [
  {
   "cell_type": "markdown",
   "id": "239ed652-5e3e-4270-b5a3-f3437e6cae2b",
   "metadata": {},
   "source": [
    "# Validazione Incrociata Leave-One-Out {#sec-loo}"
   ]
  },
  {
   "cell_type": "markdown",
   "metadata": {},
   "source": [
    "**Prerequisiti**\n",
    "\n",
    "**Concetti e competenze chiave**\n",
    "\n",
    "- Comprendere il concetto di validazione incrociata Leave-One-Out.\n",
    "- Calcolare LOO-CV usando ArviZ.\n",
    "- Usare LOO-CV nel confronto tra modelli.\n",
    "- Comprendere e calcolare i valori diagnostici Pareto $k$.\n",
    "\n",
    "**Preparazione del Notebook**"
   ]
  },
  {
   "cell_type": "code",
   "execution_count": 2,
   "id": "1f7e8373-5106-49b7-8158-9333e9f8a2e7",
   "metadata": {},
   "outputs": [],
   "source": [
    "import os\n",
    "import itertools\n",
    "import logging\n",
    "import pandas as pd\n",
    "import numpy as np\n",
    "import matplotlib.pyplot as plt\n",
    "import arviz as az\n",
    "from scipy import stats\n",
    "import pingouin as pg\n",
    "import cmdstanpy\n",
    "from cmdstanpy import CmdStanModel\n",
    "cmdstanpy.utils.get_logger().setLevel(logging.ERROR)\n",
    "import warnings\n",
    "\n",
    "warnings.simplefilter(action=\"ignore\")"
   ]
  },
  {
   "cell_type": "code",
   "execution_count": 3,
   "id": "c3bb4024-72a5-4b17-badf-153ef30671bd",
   "metadata": {},
   "outputs": [],
   "source": [
    "seed: int = sum(map(ord, \"stan_loo\"))\n",
    "rng: np.random.Generator = np.random.default_rng(seed=seed)\n",
    "az.style.use(\"arviz-darkgrid\")\n",
    "%config InlineBackend.figure_format = \"retina\"\n",
    "\n",
    "# Get the home directory\n",
    "home_directory = os.path.expanduser(\"~\")\n",
    "# Construct the path to the Quarto project directory \n",
    "project_directory = os.path.join(\n",
    "    home_directory, '_repositories', 'psicometria')"
   ]
  },
  {
   "cell_type": "markdown",
   "metadata": {},
   "source": [
    "## Introduzione {.unnumbered}\n",
    "\n",
    "La capacità di generalizzazione di un modello statistico, ossia la sua abilità di fare previsioni accurate su nuovi dati, è un aspetto cruciale nella modellazione statistica (per uno studio recente, si veda, ad esempio, @chekroud2024illusory). Per valutare quantitativamente questa capacità, sono state sviluppate diverse metriche. Tra queste, la Densità Predittiva Logaritmica Attesa (Expected Log Predictive Density, ELPD) è particolarmente apprezzata per la sua efficacia. L'ELPD fornisce una stima diretta della capacità di un modello di prevedere nuovi dati, rendendola un indicatore fondamentale della sua capacità di generalizzazione.\n",
    "\n",
    "Uno dei metodi più efficaci e comunemente utilizzati per stimare l'ELPD è la validazione incrociata Leave-One-Out (LOO-CV), come discusso nella sezione @sec-kl-elpd. Questo metodo simula uno scenario di previsione su nuovi dati escludendo sistematicamente ogni singola osservazione dal set di addestramento e valutando la capacità del modello di predire l'osservazione esclusa. In questo capitolo, approfondiremo la metodologia LOO-CV e mostreremo come essa venga applicata per valutare e selezionare modelli statistici in base alla loro capacità di generalizzare.\n",
    "\n",
    "Negli esempio successivi, mostreremo come applicare questi concetti utilizzando `cmdstan`. Questo approccio pratico illustrerà l'intero processo di selezione e valutazione del modello, fornendo un metodo robusto per scegliere il modello più appropriato, tenendo conto sia della sua capacità predittiva che della sua adeguatezza ai dati osservati.\n",
    "\n",
    "## Il Problema del Sovra-adattamento\n",
    "\n",
    "Uno dei problemi più comuni che emerge durante la costruzione di un modello statistico è il sovra-adattamento, o overfitting. Questo fenomeno si verifica quando un modello si adatta eccessivamente ai dati di addestramento, catturando non solo le tendenze generali, ma anche le fluttuazioni casuali e gli errori presenti nei dati.\n",
    "\n",
    "### Perché il Sovra-adattamento è un Problema?\n",
    "\n",
    "Un modello sovra-adattato può mostrare prestazioni eccellenti sui dati di addestramento, ma tende a fallire quando applicato a nuovi dati. In altre parole, il modello \"impara a memoria\" i dati di addestramento piuttosto che apprendere le regole generali che li governano. Questo compromette la sua capacità di generalizzazione, rendendolo inaffidabile per previsioni future.\n",
    "\n",
    "Per evitare il sovra-adattamento, è necessario bilanciare la capacità del modello di adattarsi ai dati di addestramento con la sua capacità di generalizzare a nuovi dati. Questo equilibrio è noto come il \"trade-off\" tra bias e varianza.\n",
    "\n",
    "### Tecniche di Validazione\n",
    "\n",
    "Per prevenire il sovra-adattamento, si utilizzano tecniche di validazione, che permettono di valutare quanto bene un modello si comporterà su dati non visti. Una delle tecniche più importanti in questo contesto è la *validazione incrociata* (cross-validation).\n",
    "\n",
    "### Validazione Incrociata (Cross-Validation)\n",
    "\n",
    "La validazione incrociata è una metodologia che consente di testare il modello su dati che non ha mai visto durante l'addestramento. Esistono diverse varianti di validazione incrociata, tra cui:\n",
    "\n",
    "1. **K-fold cross-validation**:\n",
    "\n",
    "   - I dati vengono divisi in K gruppi (o \"fold\").\n",
    "   - Si addestra il modello su K-1 gruppi e si testa sull'ultimo gruppo.\n",
    "   - Questo processo viene ripetuto K volte, utilizzando ogni volta un gruppo diverso per il test.\n",
    "   - I risultati vengono poi mediati per ottenere una stima complessiva della performance del modello.\n",
    "\n",
    "   Ad esempio, con K = 5, i dati vengono suddivisi in 5 parti; il modello viene addestrato su 4 parti e testato sulla quinta, ripetendo il processo 5 volte.\n",
    "\n",
    "2. **Leave-one-out cross-validation (LOO-CV)**:\n",
    "\n",
    "   - È una forma estrema di K-fold in cui K è pari al numero totale di osservazioni.\n",
    "   - Ogni volta, si esclude una singola osservazione dal set di addestramento e si utilizza il modello per prevedere quell'osservazione.\n",
    "   - Questo processo viene ripetuto per ogni osservazione nel dataset.\n",
    "\n",
    "   Il LOO-CV è particolarmente utile per ottenere una stima precisa della capacità del modello di generalizzare, ma può essere computazionalmente intensivo.\n",
    "\n",
    "Queste tecniche di validazione forniscono una misura accurata della capacità di un modello di generalizzare su nuovi dati.\n",
    "\n",
    "## Applicazioni Pratiche\n",
    "\n",
    "Nel contesto dell'inferenza bayesiana, la selezione del modello si basa principalmente sul confronto delle stime dell'ELPD ottenute tramite la Leave-One-Out Cross-Validation (LOO-CV). Questo processo può essere implementato in modo efficiente utilizzando le funzioni del pacchetto ArviZ.\n",
    "\n",
    "È importante notare che l'affidabilità di questi confronti dipende dalla qualità dei dati e dall'adeguatezza dei modelli. Per ottenere valutazioni accurate, è essenziale che i modelli si adattino in modo appropriato ai dati disponibili. Un aspetto cruciale di questa valutazione è rappresentato dal calcolo dei valori diagnostici di Pareto $k$. \n",
    "\n",
    "## Valori Diagnostici Pareto $k$\n",
    "\n",
    "I valori diagnostici di Pareto $k$ sono fondamentali per valutare la stabilità e l'affidabilità delle stime ottenute tramite la Leave-One-Out Cross-Validation (LOO-CV). In particolare, essi misurano l'influenza di singoli punti dati sulle stime del modello. Valori di $k$ elevati possono indicare che alcune osservazioni hanno un'influenza eccessiva, il che può compromettere la validità delle stime fornite dalla LOO-CV.\n",
    "\n",
    "Il valore di Pareto $k$ fornisce un'indicazione dell'affidabilità della stima:\n",
    "\n",
    "- $k < 0.5$: L'approssimazione è eccellente e l'errore nella stima dell'ELPD è trascurabile.\n",
    "- $0.5 \\leq k < 0.7$: L'approssimazione è accettabile, ma potrebbe essere utile esaminare più attentamente il modello e i dati.\n",
    "- $0.7 \\leq k < 1$: L'approssimazione diventa mediocre, rendendo i risultati della LOO-CV meno affidabili e potenzialmente inadeguati.\n",
    "- $k \\geq 1$: Un valore così elevato segnala un'approssimazione inadeguata, suggerendo che i risultati ottenuti potrebbero essere significativamente distorti, evidenziando problemi nel modello o nella metodologia.\n",
    "\n",
    "Il valore di Pareto $k$ si basa sulla distribuzione di Pareto per valutare le discrepanze nelle log-verosimiglianze, cioè le differenze tra la log-verosimiglianza calcolata escludendo un dato e quella ottenuta utilizzando l'intero dataset. Valori alti di $k$ indicano code più pesanti del previsto nella distribuzione delle discrepanze, suggerendo che l'approssimazione potrebbe non essere accurata.\n",
    "\n",
    "In sintesi, i valori di Pareto $k$ forniscono un indicatore chiave dell'accuratezza dell'approssimazione fornita dalla LOO-CV e aiutano a identificare eventuali problemi nel modello statistico o nella metodologia utilizzata."
   ]
  },
  {
   "cell_type": "markdown",
   "id": "98060785-3cf3-4587-9e7e-f9586851cc92",
   "metadata": {},
   "source": [
    "::: {#exm-}\n",
    "\n",
    "Per fare un esempio relativo al calcolo dei valore di Pareto $k$, generiamo un set di dati artificiali seguendo una distribuzione normale con una media di 5 e una deviazione standard di 2. Scegliamo una dimensione del campione di 100."
   ]
  },
  {
   "cell_type": "code",
   "execution_count": 4,
   "id": "f6ab5d6a-14ec-4c81-9fa5-bc56400f99e6",
   "metadata": {},
   "outputs": [
    {
     "name": "stdout",
     "output_type": "stream",
     "text": [
      "[ 3.55144618  7.24614848  3.17600124 10.48005661  0.24404946  3.9483861\n",
      "  3.47263944  1.50310884  4.7620044   6.45235628]\n"
     ]
    }
   ],
   "source": [
    "y = np.random.normal(loc=5, scale=2, size=100)\n",
    "print(y[0:10])"
   ]
  },
  {
   "cell_type": "markdown",
   "metadata": {},
   "source": [
    "Inseriamo i dati in un dizionario nel formato atteso da Stan."
   ]
  },
  {
   "cell_type": "code",
   "execution_count": 7,
   "metadata": {},
   "outputs": [],
   "source": [
    "stan_data = {\"N\": len(y), \"y\": y}"
   ]
  },
  {
   "cell_type": "markdown",
   "id": "7f3fdcc7-9846-4847-8810-c433422462ab",
   "metadata": {},
   "source": [
    "Adattiamo ai dati un modello normale stimando la media (`mu`) e la deviazione standard (`sigma`) del modello attraverso il campionamento MCMC."
   ]
  },
  {
   "cell_type": "code",
   "execution_count": 8,
   "metadata": {},
   "outputs": [
    {
     "name": "stdout",
     "output_type": "stream",
     "text": [
      "data {\n",
      "  int<lower=0> N;\n",
      "  vector[N] y;\n",
      "}\n",
      "parameters {\n",
      "  real mu;\n",
      "  real<lower=0> sigma;\n",
      "}\n",
      "model {\n",
      "  // Priors\n",
      "  mu ~ normal(5, 2);         // Prior for mu, centered around the known mean with some uncertainty\n",
      "  sigma ~ normal(0, 2);      // Half-normal prior for sigma (implying positive values)\n",
      "  \n",
      "  // Likelihood\n",
      "  y ~ normal(mu, sigma);\n",
      "}\n",
      "generated quantities {\n",
      "  vector[N] log_lik;\n",
      "  for (n in 1:N)\n",
      "    log_lik[n] = normal_lpdf(y[n] | mu, sigma);\n",
      "}\n",
      "\n"
     ]
    }
   ],
   "source": [
    "stan_file = os.path.join(\n",
    "    project_directory, 'stan', 'gaussian-mod-log-lik.stan')\n",
    "\n",
    "model = CmdStanModel(stan_file=stan_file)\n",
    "print(model.code())"
   ]
  },
  {
   "cell_type": "markdown",
   "metadata": {},
   "source": [
    "Eseguiamo il campionamento."
   ]
  },
  {
   "cell_type": "code",
   "execution_count": 9,
   "metadata": {},
   "outputs": [],
   "source": [
    "fit = model.sample(\n",
    "    data=stan_data,\n",
    "    iter_warmup=2_000,\n",
    "    iter_sampling=2_000,\n",
    "    seed=123,\n",
    "    show_progress=False, \n",
    "    show_console=False\n",
    ")"
   ]
  },
  {
   "cell_type": "markdown",
   "metadata": {},
   "source": [
    "Esaminiamo le distribuzioni a posteriori."
   ]
  },
  {
   "cell_type": "code",
   "execution_count": 10,
   "metadata": {},
   "outputs": [
    {
     "data": {
      "text/html": [
       "<div>\n",
       "<style scoped>\n",
       "    .dataframe tbody tr th:only-of-type {\n",
       "        vertical-align: middle;\n",
       "    }\n",
       "\n",
       "    .dataframe tbody tr th {\n",
       "        vertical-align: top;\n",
       "    }\n",
       "\n",
       "    .dataframe thead th {\n",
       "        text-align: right;\n",
       "    }\n",
       "</style>\n",
       "<table border=\"1\" class=\"dataframe\">\n",
       "  <thead>\n",
       "    <tr style=\"text-align: right;\">\n",
       "      <th></th>\n",
       "      <th>mean</th>\n",
       "      <th>sd</th>\n",
       "      <th>hdi_3%</th>\n",
       "      <th>hdi_97%</th>\n",
       "      <th>mcse_mean</th>\n",
       "      <th>mcse_sd</th>\n",
       "      <th>ess_bulk</th>\n",
       "      <th>ess_tail</th>\n",
       "      <th>r_hat</th>\n",
       "    </tr>\n",
       "  </thead>\n",
       "  <tbody>\n",
       "    <tr>\n",
       "      <th>mu</th>\n",
       "      <td>4.73</td>\n",
       "      <td>0.21</td>\n",
       "      <td>4.33</td>\n",
       "      <td>5.12</td>\n",
       "      <td>0.0</td>\n",
       "      <td>0.0</td>\n",
       "      <td>6461.15</td>\n",
       "      <td>5090.21</td>\n",
       "      <td>1.0</td>\n",
       "    </tr>\n",
       "    <tr>\n",
       "      <th>sigma</th>\n",
       "      <td>2.12</td>\n",
       "      <td>0.15</td>\n",
       "      <td>1.84</td>\n",
       "      <td>2.40</td>\n",
       "      <td>0.0</td>\n",
       "      <td>0.0</td>\n",
       "      <td>6389.72</td>\n",
       "      <td>5247.38</td>\n",
       "      <td>1.0</td>\n",
       "    </tr>\n",
       "  </tbody>\n",
       "</table>\n",
       "</div>"
      ],
      "text/plain": [
       "       mean    sd  hdi_3%  hdi_97%  mcse_mean  mcse_sd  ess_bulk  ess_tail  \\\n",
       "mu     4.73  0.21    4.33     5.12        0.0      0.0   6461.15   5090.21   \n",
       "sigma  2.12  0.15    1.84     2.40        0.0      0.0   6389.72   5247.38   \n",
       "\n",
       "       r_hat  \n",
       "mu       1.0  \n",
       "sigma    1.0  "
      ]
     },
     "execution_count": 10,
     "metadata": {},
     "output_type": "execute_result"
    }
   ],
   "source": [
    "az.summary(fit, var_names=['mu', 'sigma'], round_to=2)"
   ]
  },
  {
   "cell_type": "markdown",
   "metadata": {},
   "source": [
    "Convertiamo l'oggetto creato da cmdstanpy nella classe InferenceData richiesta da ArviZ:"
   ]
  },
  {
   "cell_type": "code",
   "execution_count": 11,
   "metadata": {},
   "outputs": [],
   "source": [
    "fit_az = az.from_cmdstanpy(posterior=fit)"
   ]
  },
  {
   "cell_type": "markdown",
   "metadata": {},
   "source": [
    "Eseguiamo la LOO-CV usando ArviZ:"
   ]
  },
  {
   "cell_type": "code",
   "execution_count": 12,
   "metadata": {},
   "outputs": [
    {
     "name": "stdout",
     "output_type": "stream",
     "text": [
      "Computed from 8000 posterior samples and 100 observations log-likelihood matrix.\n",
      "\n",
      "         Estimate       SE\n",
      "elpd_loo  -217.79     6.76\n",
      "p_loo        1.92        -\n",
      "------\n",
      "\n",
      "Pareto k diagnostic values:\n",
      "                         Count   Pct.\n",
      "(-Inf, 0.5]   (good)      100  100.0%\n",
      " (0.5, 0.7]   (ok)          0    0.0%\n",
      "   (0.7, 1]   (bad)         0    0.0%\n",
      "   (1, Inf)   (very bad)    0    0.0%\n",
      "\n"
     ]
    }
   ],
   "source": [
    "loo_result = az.loo(fit_az)\n",
    "print(loo_result)"
   ]
  },
  {
   "cell_type": "markdown",
   "metadata": {},
   "source": [
    "Poiché il modello si adatta bene a questi dati, tutti i valori di Pareto $k$ sono molto bassi, indicando che nessuna osservazione ha un'influenza eccessiva sulle stime del modello. Di conseguenza, non vi è alcuna evidenza che la stima dell'ELPD, che in questo caso è pari a -217.79, possa essere distorta. Questo suggerisce che la stima è affidabile e rappresenta accuratamente la capacità predittiva del modello.\n",
    "\n",
    ":::"
   ]
  },
  {
   "cell_type": "markdown",
   "id": "93dc969d-68d6-4911-91d2-f83992d39c15",
   "metadata": {},
   "source": [
    "## Il Ruolo dell'ELPD nella Valutazione Comparativa dei Modelli\n",
    "\n",
    "L'ELPD svolge un ruolo cruciale nel confronto tra diversi modelli statistici. Grazie a metodologie come la Leave-One-Out Cross-Validation (LOO-CV), è possibile stimare l'ELPD e ottenere una valutazione oggettiva dell'adeguatezza di ciascun modello rispetto ai dati. Questo è particolarmente importante quando si tratta di scegliere il modello più appropriato tra diverse opzioni o di valutare se un modello più complesso offre un vantaggio significativo rispetto a uno più semplice.\n",
    "\n",
    "In sintesi, l'ELPD fornisce un indicatore affidabile della capacità predittiva di un modello. La LOO-CV, a sua volta, rappresenta un metodo efficace per stimare questa metrica, consentendo un'analisi precisa e robusta delle prestazioni dei diversi modelli. L'automazione di queste procedure attraverso software come PyMC e Arviz rende l'intero processo ancora più pratico e accessibile, consolidando l'ELPD come uno strumento essenziale per la selezione e la validazione dei modelli statistici.\n",
    "\n",
    "### Simulazione\n",
    "\n",
    "Per dimostrare come confrontare i modelli utilizzando la LOO-CV, procediamo con una simulazione. Genereremo dati sintetici in cui esiste una relazione lineare tra le variabili $x$ e $y$. In questo contesto, confronteremo un modello lineare con un modello più semplice che considera solo il termine dell'intercetta. Utilizzeremo la LOO-CV per determinare quale dei due modelli si adatta meglio ai dati. La stima dell'ELPD sarà il criterio quantitativo che guiderà la scelta del modello più appropriato."
   ]
  },
  {
   "cell_type": "code",
   "execution_count": 16,
   "id": "0320358f-313d-48f9-b017-22d5e704f522",
   "metadata": {},
   "outputs": [
    {
     "name": "stdout",
     "output_type": "stream",
     "text": [
      "-2.19824158875781e-16 1.0\n"
     ]
    }
   ],
   "source": [
    "# Generate synthetic data\n",
    "np.random.seed(42)\n",
    "x = np.linspace(0, 10, 100)\n",
    "y_true = 3 + 2 * x\n",
    "y_obs = y_true + np.random.normal(scale=3, size=100)\n",
    "zx = stats.zscore(x)\n",
    "zy = stats.zscore(y_obs)\n",
    "print(np.mean(zy), np.std(zy))"
   ]
  },
  {
   "cell_type": "markdown",
   "id": "1b08a8dc-2d60-43af-9946-7d4e8413c213",
   "metadata": {},
   "source": [
    "Adattiamo ai dati un modello che rispecchia il vero meccanismo generativo dei dati.\n",
    "\n",
    "Si noti che, per calcolare LOO e WAIC, ArviZ ha bisogno di accedere alla log-likelihood per ogni campione posteriore. Possiamo trovarla tramite `compute_log_likelihood()`. In alternativa, possiamo passare `idata_kwargs={\"log_likelihood\": True}` a `sample()` per farla calcolare automaticamente alla fine del campionamento."
   ]
  },
  {
   "cell_type": "code",
   "execution_count": 17,
   "metadata": {},
   "outputs": [
    {
     "name": "stdout",
     "output_type": "stream",
     "text": [
      "// all data should be scaled to mean 0 and std 1:\n",
      "data {\n",
      "  int<lower=1> N;\n",
      "  vector[N] x;\n",
      "  vector[N] y;\n",
      "}\n",
      "parameters {\n",
      "  real alpha;\n",
      "  real beta;\n",
      "  real<lower=0> sigma;\n",
      "}\n",
      "model {\n",
      "  y ~ normal(alpha + beta * x, sigma);\n",
      "  alpha ~ normal(0, 2.5);\n",
      "  beta ~ normal(0, 2.5);\n",
      "  sigma ~ cauchy(0, 2.5);\n",
      "}\n",
      "generated quantities {\n",
      "  vector[N] log_lik;\n",
      "  vector[N] y_rep;\n",
      "  for (n in 1:N) {\n",
      "    log_lik[n] = normal_lpdf(y[n] | alpha + beta * x[n], sigma);\n",
      "    y_rep[n] = normal_rng(alpha + beta * x[n], sigma);\n",
      "  }\n",
      "}\n",
      "\n"
     ]
    }
   ],
   "source": [
    "stan_lin_reg_file = os.path.join(\n",
    "    project_directory, 'stan', 'linear-regression.stan'\n",
    ")\n",
    "\n",
    "model_lin_reg = CmdStanModel(stan_file=stan_lin_reg_file)\n",
    "print(model_lin_reg.code())"
   ]
  },
  {
   "cell_type": "markdown",
   "metadata": {},
   "source": [
    "Inseriamo i dati simulati in un dizionario."
   ]
  },
  {
   "cell_type": "code",
   "execution_count": 18,
   "metadata": {},
   "outputs": [],
   "source": [
    "# Prepare the stan_data dictionary\n",
    "stan_data = {\n",
    "    'N': len(zx),\n",
    "    'x': zx,\n",
    "    'y': zy\n",
    "}"
   ]
  },
  {
   "cell_type": "markdown",
   "metadata": {},
   "source": [
    "Eseguiamo il campionamento."
   ]
  },
  {
   "cell_type": "code",
   "execution_count": 25,
   "metadata": {},
   "outputs": [],
   "source": [
    "fit2 = model_lin_reg.sample(\n",
    "    data=stan_data,\n",
    "    iter_warmup=2_000,\n",
    "    iter_sampling=2_000,\n",
    "    seed=123,\n",
    "    show_progress=False, \n",
    "    show_console=False\n",
    ")"
   ]
  },
  {
   "cell_type": "markdown",
   "metadata": {},
   "source": [
    "Esaminiamo le stime a posteriori dei parametri del modello."
   ]
  },
  {
   "cell_type": "code",
   "execution_count": 26,
   "metadata": {},
   "outputs": [
    {
     "data": {
      "text/html": [
       "<div>\n",
       "<style scoped>\n",
       "    .dataframe tbody tr th:only-of-type {\n",
       "        vertical-align: middle;\n",
       "    }\n",
       "\n",
       "    .dataframe tbody tr th {\n",
       "        vertical-align: top;\n",
       "    }\n",
       "\n",
       "    .dataframe thead th {\n",
       "        text-align: right;\n",
       "    }\n",
       "</style>\n",
       "<table border=\"1\" class=\"dataframe\">\n",
       "  <thead>\n",
       "    <tr style=\"text-align: right;\">\n",
       "      <th></th>\n",
       "      <th>mean</th>\n",
       "      <th>sd</th>\n",
       "      <th>hdi_3%</th>\n",
       "      <th>hdi_97%</th>\n",
       "      <th>mcse_mean</th>\n",
       "      <th>mcse_sd</th>\n",
       "      <th>ess_bulk</th>\n",
       "      <th>ess_tail</th>\n",
       "      <th>r_hat</th>\n",
       "    </tr>\n",
       "  </thead>\n",
       "  <tbody>\n",
       "    <tr>\n",
       "      <th>beta</th>\n",
       "      <td>0.91</td>\n",
       "      <td>0.04</td>\n",
       "      <td>0.83</td>\n",
       "      <td>0.99</td>\n",
       "      <td>0.0</td>\n",
       "      <td>0.0</td>\n",
       "      <td>7484.76</td>\n",
       "      <td>6278.45</td>\n",
       "      <td>1.0</td>\n",
       "    </tr>\n",
       "    <tr>\n",
       "      <th>sigma</th>\n",
       "      <td>0.42</td>\n",
       "      <td>0.03</td>\n",
       "      <td>0.37</td>\n",
       "      <td>0.48</td>\n",
       "      <td>0.0</td>\n",
       "      <td>0.0</td>\n",
       "      <td>7021.01</td>\n",
       "      <td>5523.71</td>\n",
       "      <td>1.0</td>\n",
       "    </tr>\n",
       "  </tbody>\n",
       "</table>\n",
       "</div>"
      ],
      "text/plain": [
       "       mean    sd  hdi_3%  hdi_97%  mcse_mean  mcse_sd  ess_bulk  ess_tail  \\\n",
       "beta   0.91  0.04    0.83     0.99        0.0      0.0   7484.76   6278.45   \n",
       "sigma  0.42  0.03    0.37     0.48        0.0      0.0   7021.01   5523.71   \n",
       "\n",
       "       r_hat  \n",
       "beta     1.0  \n",
       "sigma    1.0  "
      ]
     },
     "execution_count": 26,
     "metadata": {},
     "output_type": "execute_result"
    }
   ],
   "source": [
    "az.summary(fit2, var_names=['beta', 'sigma'], round_to=2)"
   ]
  },
  {
   "cell_type": "markdown",
   "metadata": {},
   "source": [
    "Replichiamo i risultati usando le funzioni di pingouin:"
   ]
  },
  {
   "cell_type": "code",
   "execution_count": 27,
   "metadata": {},
   "outputs": [
    {
     "name": "stdout",
     "output_type": "stream",
     "text": [
      "       names          coef        se             T          pval        r2  \\\n",
      "0  Intercept -2.220446e-16  0.041834 -5.307754e-15  1.000000e+00  0.828492   \n",
      "1          x  9.102152e-01  0.041834  2.175778e+01  2.661609e-39  0.828492   \n",
      "\n",
      "     adj_r2  CI[2.5%]  CI[97.5%]  \n",
      "0  0.826742 -0.083018   0.083018  \n",
      "1  0.826742  0.827197   0.993233  \n"
     ]
    }
   ],
   "source": [
    "# Create a DataFrame\n",
    "df = pd.DataFrame({\n",
    "    \"x\": zx,\n",
    "    \"y\": zy\n",
    "})\n",
    "\n",
    "# Perform linear regression using pingouin\n",
    "regression_results = pg.linear_regression(df[['x']], df['y'])\n",
    "\n",
    "# Print the regression results\n",
    "print(regression_results)"
   ]
  },
  {
   "cell_type": "markdown",
   "metadata": {},
   "source": [
    "Calcoliamo l'ELPD con il metodo LOO-CV."
   ]
  },
  {
   "cell_type": "code",
   "execution_count": 28,
   "metadata": {},
   "outputs": [
    {
     "name": "stdout",
     "output_type": "stream",
     "text": [
      "Computed from 8000 posterior samples and 100 observations log-likelihood matrix.\n",
      "\n",
      "         Estimate       SE\n",
      "elpd_loo   -56.70     6.89\n",
      "p_loo        2.78        -\n",
      "------\n",
      "\n",
      "Pareto k diagnostic values:\n",
      "                         Count   Pct.\n",
      "(-Inf, 0.5]   (good)      100  100.0%\n",
      " (0.5, 0.7]   (ok)          0    0.0%\n",
      "   (0.7, 1]   (bad)         0    0.0%\n",
      "   (1, Inf)   (very bad)    0    0.0%\n",
      "\n"
     ]
    }
   ],
   "source": [
    "# Convert CmdStanPy fit to ArviZ InferenceData\n",
    "fit2_az = az.from_cmdstanpy(posterior=fit2)\n",
    "\n",
    "# Perform LOO-CV using ArviZ\n",
    "loo2_result = az.loo(fit2_az)\n",
    "print(loo2_result)"
   ]
  },
  {
   "cell_type": "markdown",
   "id": "ba40cc0c-d72a-463a-ab7c-069980141523",
   "metadata": {},
   "source": [
    "Adattiamo ora ai dati un secondo modello che non tiene conto della relazione lineare tra $x$ e $y$, ovvero contiene solo l'intercetta."
   ]
  },
  {
   "cell_type": "code",
   "execution_count": 29,
   "metadata": {},
   "outputs": [
    {
     "name": "stdout",
     "output_type": "stream",
     "text": [
      "// all data should be scaled to mean 0 and std 1:\n",
      "data {\n",
      "  int<lower=1> N;\n",
      "  vector[N] x;\n",
      "  vector[N] y;\n",
      "}\n",
      "parameters {\n",
      "  real alpha;\n",
      "  real<lower=0> sigma;\n",
      "}\n",
      "model {\n",
      "  y ~ normal(alpha, sigma);\n",
      "  alpha ~ normal(0, 2.5);\n",
      "  sigma ~ cauchy(0, 2.5);\n",
      "}\n",
      "generated quantities {\n",
      "  vector[N] log_lik;\n",
      "  vector[N] y_rep;\n",
      "  for (n in 1:N) {\n",
      "    log_lik[n] = normal_lpdf(y[n] | alpha, sigma);\n",
      "    y_rep[n] = normal_rng(alpha, sigma);\n",
      "  }\n",
      "}\n",
      "\n"
     ]
    }
   ],
   "source": [
    "stan_lin_reg_file_only_alpha = os.path.join(\n",
    "    project_directory, 'stan', 'linear-regression-only-alpha.stan')\n",
    "\n",
    "model_lin_reg_only_alpha = CmdStanModel(stan_file=stan_lin_reg_file_only_alpha)\n",
    "print(model_lin_reg_only_alpha.code())"
   ]
  },
  {
   "cell_type": "markdown",
   "metadata": {},
   "source": [
    "Eseguiamo il campionamento."
   ]
  },
  {
   "cell_type": "code",
   "execution_count": 30,
   "metadata": {},
   "outputs": [],
   "source": [
    "fit3 = model_lin_reg_only_alpha.sample(\n",
    "    data=stan_data,\n",
    "    iter_warmup = 2_000,\n",
    "    iter_sampling = 2_000,\n",
    "    seed = 123,\n",
    "    show_progress = False, \n",
    "    show_console = False\n",
    ")"
   ]
  },
  {
   "cell_type": "code",
   "execution_count": 31,
   "metadata": {},
   "outputs": [
    {
     "data": {
      "text/html": [
       "<div>\n",
       "<style scoped>\n",
       "    .dataframe tbody tr th:only-of-type {\n",
       "        vertical-align: middle;\n",
       "    }\n",
       "\n",
       "    .dataframe tbody tr th {\n",
       "        vertical-align: top;\n",
       "    }\n",
       "\n",
       "    .dataframe thead th {\n",
       "        text-align: right;\n",
       "    }\n",
       "</style>\n",
       "<table border=\"1\" class=\"dataframe\">\n",
       "  <thead>\n",
       "    <tr style=\"text-align: right;\">\n",
       "      <th></th>\n",
       "      <th>mean</th>\n",
       "      <th>sd</th>\n",
       "      <th>hdi_3%</th>\n",
       "      <th>hdi_97%</th>\n",
       "      <th>mcse_mean</th>\n",
       "      <th>mcse_sd</th>\n",
       "      <th>ess_bulk</th>\n",
       "      <th>ess_tail</th>\n",
       "      <th>r_hat</th>\n",
       "    </tr>\n",
       "  </thead>\n",
       "  <tbody>\n",
       "    <tr>\n",
       "      <th>alpha</th>\n",
       "      <td>-0.00</td>\n",
       "      <td>0.10</td>\n",
       "      <td>-0.19</td>\n",
       "      <td>0.20</td>\n",
       "      <td>0.0</td>\n",
       "      <td>0.0</td>\n",
       "      <td>5474.54</td>\n",
       "      <td>4913.19</td>\n",
       "      <td>1.0</td>\n",
       "    </tr>\n",
       "    <tr>\n",
       "      <th>sigma</th>\n",
       "      <td>1.02</td>\n",
       "      <td>0.07</td>\n",
       "      <td>0.89</td>\n",
       "      <td>1.16</td>\n",
       "      <td>0.0</td>\n",
       "      <td>0.0</td>\n",
       "      <td>5742.53</td>\n",
       "      <td>4496.71</td>\n",
       "      <td>1.0</td>\n",
       "    </tr>\n",
       "  </tbody>\n",
       "</table>\n",
       "</div>"
      ],
      "text/plain": [
       "       mean    sd  hdi_3%  hdi_97%  mcse_mean  mcse_sd  ess_bulk  ess_tail  \\\n",
       "alpha -0.00  0.10   -0.19     0.20        0.0      0.0   5474.54   4913.19   \n",
       "sigma  1.02  0.07    0.89     1.16        0.0      0.0   5742.53   4496.71   \n",
       "\n",
       "       r_hat  \n",
       "alpha    1.0  \n",
       "sigma    1.0  "
      ]
     },
     "execution_count": 31,
     "metadata": {},
     "output_type": "execute_result"
    }
   ],
   "source": [
    "az.summary(fit3, var_names=['alpha', 'sigma'], round_to=2)"
   ]
  },
  {
   "cell_type": "markdown",
   "metadata": {},
   "source": [
    "Stimiamo l'ELPD con il metodo LOO-CV per il modello che ignora la relazione lineare."
   ]
  },
  {
   "cell_type": "code",
   "execution_count": 32,
   "metadata": {},
   "outputs": [
    {
     "name": "stdout",
     "output_type": "stream",
     "text": [
      "Computed from 8000 posterior samples and 100 observations log-likelihood matrix.\n",
      "\n",
      "         Estimate       SE\n",
      "elpd_loo  -143.65     4.52\n",
      "p_loo        1.43        -\n",
      "------\n",
      "\n",
      "Pareto k diagnostic values:\n",
      "                         Count   Pct.\n",
      "(-Inf, 0.5]   (good)      100  100.0%\n",
      " (0.5, 0.7]   (ok)          0    0.0%\n",
      "   (0.7, 1]   (bad)         0    0.0%\n",
      "   (1, Inf)   (very bad)    0    0.0%\n",
      "\n"
     ]
    }
   ],
   "source": [
    "# Convert CmdStanPy fit to ArviZ InferenceData\n",
    "fit3_az = az.from_cmdstanpy(posterior=fit3)\n",
    "\n",
    "# Perform LOO-CV using ArviZ\n",
    "loo3_result = az.loo(fit3_az)\n",
    "print(loo3_result)"
   ]
  },
  {
   "cell_type": "markdown",
   "id": "92b778c1-4fe1-4727-b212-07683299f8a2",
   "metadata": {},
   "source": [
    "Infine, calcoliamo la differenza tra le stime dell'ELPD (`elpd_diff`) dei due modelli. L'incertezza associata a questa differenza è espressa dal suo errore standard (`dse`). Se il rapporto tra `elpd_diff` e `dse` è pari o superiore a 2, possiamo concludere che esiste una differenza significativa e credibile tra i due modelli.\n",
    "\n",
    "Nell'output del comando `az.compare()`, il modello con il valore di `elpd_loo` più alto (indicativo di una migliore capacità predittiva) viene elencato per primo."
   ]
  },
  {
   "cell_type": "code",
   "execution_count": 22,
   "id": "3b62bb9b-9c39-4310-a793-bffe742cb5bd",
   "metadata": {},
   "outputs": [
    {
     "data": {
      "text/html": [
       "<div>\n",
       "<style scoped>\n",
       "    .dataframe tbody tr th:only-of-type {\n",
       "        vertical-align: middle;\n",
       "    }\n",
       "\n",
       "    .dataframe tbody tr th {\n",
       "        vertical-align: top;\n",
       "    }\n",
       "\n",
       "    .dataframe thead th {\n",
       "        text-align: right;\n",
       "    }\n",
       "</style>\n",
       "<table border=\"1\" class=\"dataframe\">\n",
       "  <thead>\n",
       "    <tr style=\"text-align: right;\">\n",
       "      <th></th>\n",
       "      <th>rank</th>\n",
       "      <th>elpd_loo</th>\n",
       "      <th>p_loo</th>\n",
       "      <th>elpd_diff</th>\n",
       "      <th>weight</th>\n",
       "      <th>se</th>\n",
       "      <th>dse</th>\n",
       "      <th>warning</th>\n",
       "      <th>scale</th>\n",
       "    </tr>\n",
       "  </thead>\n",
       "  <tbody>\n",
       "    <tr>\n",
       "      <th>linear_model</th>\n",
       "      <td>0</td>\n",
       "      <td>-56.814716</td>\n",
       "      <td>2.873961</td>\n",
       "      <td>0.000000</td>\n",
       "      <td>1.000000e+00</td>\n",
       "      <td>6.890641</td>\n",
       "      <td>0.000000</td>\n",
       "      <td>False</td>\n",
       "      <td>log</td>\n",
       "    </tr>\n",
       "    <tr>\n",
       "      <th>intercept_model</th>\n",
       "      <td>1</td>\n",
       "      <td>-143.633507</td>\n",
       "      <td>1.403145</td>\n",
       "      <td>86.818792</td>\n",
       "      <td>2.428635e-11</td>\n",
       "      <td>4.516124</td>\n",
       "      <td>7.956892</td>\n",
       "      <td>False</td>\n",
       "      <td>log</td>\n",
       "    </tr>\n",
       "  </tbody>\n",
       "</table>\n",
       "</div>"
      ],
      "text/plain": [
       "                 rank    elpd_loo     p_loo  elpd_diff        weight  \\\n",
       "linear_model        0  -56.814716  2.873961   0.000000  1.000000e+00   \n",
       "intercept_model     1 -143.633507  1.403145  86.818792  2.428635e-11   \n",
       "\n",
       "                       se       dse  warning scale  \n",
       "linear_model     6.890641  0.000000    False   log  \n",
       "intercept_model  4.516124  7.956892    False   log  "
      ]
     },
     "execution_count": 22,
     "metadata": {},
     "output_type": "execute_result"
    }
   ],
   "source": [
    "df_comp_loo = az.compare({\"linear_model\": loo2_result, \"intercept_model\": loo3_result})\n",
    "df_comp_loo"
   ]
  },
  {
   "cell_type": "markdown",
   "id": "c024a169-f7f1-434d-a311-ef269446d266",
   "metadata": {},
   "source": [
    "Nel caso attuale, il modello `linear_model` riflette accuratamente il modo in cui i dati sono stati generati. Questo è confermato dal fatto che viene preferito in base al valore di `elpd_loo`. Inoltre, il rapporto tra `elpd_diff` e il suo errore standard è notevolmente superiore a 2, il che indica chiaramente che, per questi dati, il modello lineare è nettamente preferibile rispetto al modello che include solo l'intercetta."
   ]
  },
  {
   "cell_type": "code",
   "execution_count": 23,
   "id": "4ce8b961-d93d-4f8b-8a5b-1cab1dccab6c",
   "metadata": {},
   "outputs": [
    {
     "data": {
      "image/png": "[encoded data removed]",
      "text/plain": [
       "<Figure size 600x200 with 1 Axes>"
      ]
     },
     "metadata": {
      "image/png": {
       "height": 211,
       "width": 611
      }
     },
     "output_type": "display_data"
    }
   ],
   "source": [
    "_ = az.plot_compare(df_comp_loo, insample_dev=False)"
   ]
  },
  {
   "cell_type": "markdown",
   "id": "b318aa0d-78b8-4f73-80e0-117f3ccfb08f",
   "metadata": {},
   "source": [
    "## Riflessioni Conclusive\n",
    "\n",
    "In questo capitolo, abbiamo esplorato in dettaglio il metodo della Validazione Incrociata Leave-One-Out (LOO-CV) e il suo utilizzo nel framework `cmdstan`, sottolineando la sua importanza nella pratica della modellazione statistica.\n",
    "\n",
    "Un punto centrale della discussione è stato il ruolo fondamentale della LOO-CV nel confronto tra diversi modelli. Questo metodo non solo consente di valutare la capacità predittiva di un singolo modello, ma si rivela anche indispensabile quando si tratta di scegliere il modello più adeguato tra diverse alternative. La LOO-CV fornisce infatti una base di confronto oggettiva e affidabile, permettendo di identificare il modello che meglio si adatta ai dati e che possiede la maggiore capacità di generalizzazione.\n",
    "\n",
    "Inoltre, abbiamo approfondito l'importanza dei valori diagnostici Pareto $k$ nell'interpretazione delle stime ottenute tramite LOO-CV. Questi valori diagnostici sono cruciali per valutare l'affidabilità delle stime dell'ELPD derivate dalla LOO-CV, poiché forniscono un'indicazione sulla precisione e robustezza di queste stime. Valori di Pareto $k$ elevati possono segnalare che alcune osservazioni influenzano eccessivamente le stime, indicando possibili problemi di modellizzazione che potrebbero compromettere la validità delle conclusioni.\n",
    "\n",
    "In sintesi, la combinazione di LOO-CV e dei valori diagnostici Pareto $k$ offre un approccio robusto e affidabile per la valutazione e selezione dei modelli statistici, garantendo che le scelte effettuate siano basate su criteri solidi e verificabili. Questo metodo si dimostra quindi essenziale non solo per valutare la qualità di un singolo modello, ma anche per assicurare che la selezione del modello ottimale sia supportata da una rigorosa analisi quantitativa."
   ]
  },
  {
   "cell_type": "markdown",
   "id": "d72cccc5-45c3-490e-9350-4784000555a9",
   "metadata": {},
   "source": [
    "## Informazioni sull'Ambiente di Sviluppo {.unnumbered}"
   ]
  },
  {
   "cell_type": "code",
   "execution_count": 24,
   "id": "f8e66e80-23a6-444f-9107-c91518f69c09",
   "metadata": {},
   "outputs": [
    {
     "name": "stdout",
     "output_type": "stream",
     "text": [
      "Last updated: Sat Jul 13 2024\n",
      "\n",
      "Python implementation: CPython\n",
      "Python version       : 3.12.3\n",
      "IPython version      : 8.25.0\n",
      "\n",
      "pingouin  : 0.5.4\n",
      "logging   : 0.5.1.2\n",
      "numpy     : 1.26.4\n",
      "arviz     : 0.18.0\n",
      "cmdstanpy : 1.2.3\n",
      "matplotlib: 3.8.4\n",
      "pandas    : 2.2.2\n",
      "scipy     : 1.13.1\n",
      "\n",
      "Watermark: 2.4.3\n",
      "\n"
     ]
    }
   ],
   "source": [
    "%load_ext watermark\n",
    "%watermark -n -u -v -iv -w "
   ]
  }
 ],
 "metadata": {
  "kernelspec": {
   "display_name": "pymc5_env",
   "language": "python",
   "name": "python3"
  },
  "language_info": {
   "codemirror_mode": {
    "name": "ipython",
    "version": 3
   },
   "file_extension": ".py",
   "mimetype": "text/x-python",
   "name": "python",
   "nbconvert_exporter": "python",
   "pygments_lexer": "ipython3",
   "version": "3.12.4"
  }
 },
 "nbformat": 4,
 "nbformat_minor": 2
}

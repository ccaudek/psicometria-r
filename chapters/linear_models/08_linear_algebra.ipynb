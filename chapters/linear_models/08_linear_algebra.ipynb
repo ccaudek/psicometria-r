{
 "cells": [
  {
   "cell_type": "markdown",
   "metadata": {},
   "source": [
    "# Elementi di algebra lineare {#sec-linear-algebra}"
   ]
  },
  {
   "cell_type": "markdown",
   "metadata": {},
   "source": [
    "**Prerequisiti**\n",
    "\n",
    "**Concetti e competenze chiave**\n",
    "\n",
    "**Preparazione del Notebook**"
   ]
  },
  {
   "cell_type": "code",
   "execution_count": 26,
   "metadata": {},
   "outputs": [
    {
     "name": "stdout",
     "output_type": "stream",
     "text": [
      "Directory del progetto: /Users/corradocaudek/_repositories/psicometria\n"
     ]
    }
   ],
   "source": [
    "# Importazioni dalla libreria standard\n",
    "import os\n",
    "\n",
    "# Importazioni di librerie di terze parti\n",
    "import numpy as np\n",
    "import pandas as pd\n",
    "import matplotlib.pyplot as plt\n",
    "import seaborn as sns\n",
    "import arviz as az\n",
    "import scipy.stats as stats\n",
    "from cmdstanpy import CmdStanModel\n",
    "import statsmodels.api as sm\n",
    "import pingouin as pg\n",
    "\n",
    "# Configurazione\n",
    "seed = sum(map(ord, \"linear_algebra\"))  # Genera un seme basato sulla somma dei valori ASCII della stringa \"linear_algebra\"\n",
    "rng = np.random.default_rng(seed=seed)  # Crea un generatore di numeri casuali con il seme specificato\n",
    "sns.set_theme(palette=\"colorblind\")  # Imposta il tema di Seaborn per grafici accessibili ai daltonici\n",
    "az.style.use(\"arviz-darkgrid\")  # Imposta lo stile dei grafici di ArviZ\n",
    "%config InlineBackend.figure_format = \"retina\"  # Migliora la risoluzione dei grafici inline\n",
    "\n",
    "# Definizione delle directory\n",
    "home_directory = os.path.expanduser(\"~\")  # Ottiene la directory home dell'utente\n",
    "project_directory = f\"{home_directory}/_repositories/psicometria\"  # Definisce la directory del progetto\n",
    "\n",
    "# Stampa la directory del progetto per verificarla\n",
    "print(f\"Directory del progetto: {project_directory}\")"
   ]
  },
  {
   "cell_type": "markdown",
   "metadata": {},
   "source": [
    "## Introduzione \n",
    "\n",
    "Questo capitolo presenta alcune nozioni di base dell'algebra lineare, una branca della matematica essenziale per la comprensione e l'analisi dei modelli di regressione lineare. \n",
    "\n",
    "## Rappresentazione dei Vettori\n",
    "\n",
    "Nell'algebra lineare, un vettore, che rappresenta una lista ordinata di scalari, è solitamente indicato con una lettera minuscola in grassetto, come $\\mathbf{v}$. Gli elementi di un vettore sono generalmente indicati con un indice, ad esempio $\\mathbf{v}_1$ si riferisce al primo elemento del vettore $\\mathbf{v}$.\n",
    "\n",
    "Un vettore $\\mathbf{v}$ di $n$ elementi può essere rappresentato sia come una colonna che come una riga, a seconda della convenzione scelta. Ad esempio, un vettore colonna di $n$ elementi è scritto come:\n",
    "\n",
    "$$\n",
    "\\mathbf{v} = \\begin{bmatrix} v_1 \\\\ v_2 \\\\ \\vdots \\\\ v_n \\end{bmatrix},\n",
    "$$\n",
    "\n",
    "mentre un vettore riga appare come:\n",
    "\n",
    "$$\n",
    "\\mathbf{v} = \\begin{bmatrix} v_1 & v_2 & \\cdots & v_n \\end{bmatrix}.\n",
    "$$\n",
    "\n",
    "Questa notazione consente di visualizzare chiaramente i singoli elementi del vettore e di riferirsi a ciascuno di essi in modo specifico.\n",
    "\n",
    "Una lista di $n$ scalari organizzata in un vettore $\\mathbf{v}$ è chiamata \"dimensione\" del vettore. Formalmente, si esprime come $\\mathbf{v} \\in \\mathbb{R}^n$, indicando che il vettore $\\mathbf{v}$ appartiene all'insieme di tutti i vettori reali di dimensione $n$.\n",
    "\n",
    "\n",
    "## Visualizzazione Geometrica dei Vettori\n",
    "\n",
    "I vettori possono essere rappresentati come frecce in uno spazio $n$-dimensionale, con l'origine come punto di partenza e la punta della freccia che corrisponde alle coordinate specificate dal vettore. La norma $L_2$ (o lunghezza) di un vettore, denotata come $\\|\\mathbf{v}\\|$, rappresenta la distanza euclidea dall'origine alla punta del vettore.\n",
    "\n",
    "Per un vettore $\\mathbf{v} = [v_1, v_2, \\ldots, v_n]$, la norma è definita come:\n",
    "\n",
    "$$\n",
    "\\|\\mathbf{v}\\| = \\sqrt{v_1^2 + v_2^2 + \\cdots + v_n^2}.\n",
    "$$\n",
    "\n",
    "### Esempio Numerico\n",
    "\n",
    "Consideriamo un vettore in uno spazio bidimensionale, ad esempio $\\mathbf{v} = [3, 4]$. Geometricamente, questo vettore parte dall'origine $(0, 0)$ e termina nel punto $(3, 4)$ del piano cartesiano.\n",
    "\n",
    "Per calcolare la norma $L_2$ di questo vettore, applichiamo la formula:\n",
    "\n",
    "$$\n",
    "\\|\\mathbf{v}\\| = \\sqrt{3^2 + 4^2} = \\sqrt{9 + 16} = \\sqrt{25} = 5.\n",
    "$$\n",
    "\n",
    "Quindi, la norma del vettore $\\mathbf{v} = [3, 4]$ è 5, che rappresenta la lunghezza della freccia dal punto di origine $(0, 0)$ al punto $(3, 4)$ nello spazio bidimensionale.\n",
    "\n",
    "### Rappresentazione Geometrica\n",
    "\n",
    "```\n",
    "y\n",
    "^\n",
    "|       * (3, 4)\n",
    "|      /\n",
    "|     /\n",
    "|    /\n",
    "|   /\n",
    "|  /\n",
    "| / \n",
    "|/____________> x\n",
    "(0, 0)\n",
    "```\n",
    "\n",
    "In questo diagramma, il punto `*` rappresenta la fine del vettore $\\mathbf{v}$ e la linea inclinata mostra il vettore stesso che parte dall'origine. L'altezza della linea fino al punto `(3, 4)` rappresenta visivamente la norma del vettore, che è la distanza di 5 unità dall'origine.\n",
    "\n",
    "Questo esempio illustra chiaramente la relazione tra la rappresentazione numerica di un vettore e la sua interpretazione geometrica, facilitando la comprensione della lunghezza del vettore e della sua direzione nello spazio bidimensionale.\n",
    "\n",
    "Sebbene noi siamo principalmente limitati a ragionare su spazi bidimensionali (2D) e tridimensionali (3D), i dati che raccogliamo spesso risiedono in spazi di dimensioni superiori. L'algebra lineare permette di ragionare e sviluppare intuizioni su vettori e spazi di dimensioni molto più elevate, superando i limiti della visualizzazione diretta.\n",
    "\n",
    "## Operazioni di Base sui Vettori\n",
    "\n",
    "### 1. Moltiplicazione di un Vettore per uno Scalare\n",
    "\n",
    "La moltiplicazione di un vettore per uno scalare produce un nuovo vettore. Questa operazione può essere interpretata come una \"scalatura\" del vettore nello spazio: il vettore risultante mantiene la stessa direzione dell'originale, ma la sua lunghezza viene modificata in base allo scalare.\n",
    "\n",
    "Se $\\mathbf{v} = [v_1, v_2, \\ldots, v_n]$ è un vettore e $c$ è uno scalare, la moltiplicazione del vettore per lo scalare è data da:\n",
    "\n",
    "$$\n",
    "c\\mathbf{v} = [cv_1, cv_2, \\ldots, cv_n]\n",
    "$$\n",
    "\n",
    "### 2. Addizione di Vettori\n",
    "\n",
    "È possibile sommare due vettori della stessa dimensione. La somma vettoriale si ottiene sommando gli elementi corrispondenti di ciascun vettore.\n",
    "\n",
    "Se $\\mathbf{u} = [u_1, u_2, \\ldots, u_n]$ e $\\mathbf{v} = [v_1, v_2, \\ldots, v_n]$ sono due vettori di dimensione $n$, la loro somma è:\n",
    "\n",
    "$$\n",
    "\\mathbf{u} + \\mathbf{v} = [u_1 + v_1, u_2 + v_2, \\ldots, u_n + v_n]\n",
    "$$\n",
    "\n",
    "### 3. Prodotto Scalare (o Prodotto Interno)\n",
    "\n",
    "Il prodotto scalare tra due vettori della stessa dimensione è uno scalare che fornisce informazioni sull'angolo tra i vettori nello spazio. Formalmente, il prodotto scalare di $\\mathbf{u} = [u_1, u_2, \\ldots, u_n]$ e $\\mathbf{v} = [v_1, v_2, \\ldots, v_n]$ è definito come:\n",
    "\n",
    "$$\n",
    "\\mathbf{u} \\cdot \\mathbf{v} = u_1v_1 + u_2v_2 + \\cdots + u_nv_n\n",
    "$$\n",
    "\n",
    "Questo prodotto scalare può anche essere espresso in termini dell'angolo $\\theta$ tra i vettori:\n",
    "\n",
    "$$\n",
    "\\mathbf{u} \\cdot \\mathbf{v} = \\|\\mathbf{u}\\| \\|\\mathbf{v}\\| \\cos(\\theta)\n",
    "$$\n",
    "\n",
    "Se due vettori sono ortogonali, ovvero formano un angolo di $90^\\circ$ tra loro, il loro prodotto scalare è zero: $\\mathbf{u} \\cdot \\mathbf{v} = 0$.\n",
    "\n",
    "### 4. Prodotto Scalare di un Vettore con Se Stesso\n",
    "\n",
    "Il prodotto scalare di un vettore con se stesso fornisce il quadrato della sua lunghezza. Se $\\mathbf{v} = [v_1, v_2, \\ldots, v_n]$, allora:\n",
    "\n",
    "$$\n",
    "\\mathbf{v} \\cdot \\mathbf{v} = v_1^2 + v_2^2 + \\cdots + v_n^2 = \\|\\mathbf{v}\\|^2\n",
    "$$\n",
    "\n",
    "Queste operazioni di base sui vettori sono fondamentali per molte applicazioni in matematica, fisica, informatica e altre scienze, fornendo una struttura potente per analizzare e risolvere problemi in spazi multidimensionali."
   ]
  },
  {
   "cell_type": "markdown",
   "metadata": {},
   "source": [
    "## Vettori in NumPy\n",
    "\n",
    "**NumPy** è la libreria di Python più usata per manipolare vettori e matrici.\n",
    "\n",
    "Usiamo NumPy per creare  un vettore con tre elementi: 1, 2 e 3:"
   ]
  },
  {
   "cell_type": "code",
   "execution_count": 3,
   "metadata": {},
   "outputs": [
    {
     "name": "stdout",
     "output_type": "stream",
     "text": [
      "[1 2 3]\n"
     ]
    }
   ],
   "source": [
    "v = np.array([1, 2, 3])\n",
    "print(v)"
   ]
  },
  {
   "cell_type": "markdown",
   "metadata": {},
   "source": [
    "In questo esempio, `v` è un array NumPy che rappresenta un vettore con tre elementi: 1, 2 e 3.\n",
    "\n",
    "Per fare il prodotto tra un vettore e uno scalare, puoi semplicemente moltiplicare l'array NumPy per uno scalare. Questa operazione moltiplica ogni elemento del vettore per lo scalare:"
   ]
  },
  {
   "cell_type": "code",
   "execution_count": 4,
   "metadata": {},
   "outputs": [
    {
     "name": "stdout",
     "output_type": "stream",
     "text": [
      "[ 5 10 15]\n"
     ]
    }
   ],
   "source": [
    "a = 5\n",
    "\n",
    "# Prodotto vettore-scalare\n",
    "va = v * a\n",
    "print(va)"
   ]
  },
  {
   "cell_type": "markdown",
   "metadata": {},
   "source": [
    "Questo moltiplicherà ogni elemento del `vettore` per `5`, dando come risultato `[5, 10, 15]`.\n",
    "\n",
    "Il prodotto interno (o prodotto scalare) tra due vettori è una somma dei prodotti dei loro elementi corrispondenti. In NumPy, si può calcolare usando la funzione `np.dot()` oppure l'operatore `@`:"
   ]
  },
  {
   "cell_type": "code",
   "execution_count": 5,
   "metadata": {},
   "outputs": [
    {
     "name": "stdout",
     "output_type": "stream",
     "text": [
      "32\n",
      "32\n"
     ]
    }
   ],
   "source": [
    "v2 = np.array([4, 5, 6])\n",
    "\n",
    "# Prodotto interno usando np.dot()\n",
    "prodotto_interno = np.dot(v, v2)\n",
    "print(prodotto_interno)\n",
    "\n",
    "# Prodotto interno usando l'operatore @\n",
    "prodotto_interno2 = v @ v2\n",
    "print(prodotto_interno2)"
   ]
  },
  {
   "cell_type": "markdown",
   "metadata": {},
   "source": [
    "Entrambi i metodi daranno il risultato `32`, dato che il prodotto interno è calcolato come $1*4 + 2*5 + 3*6 = 32$.\n",
    "\n",
    "Il prodotto esterno tra due vettori produce una matrice dove ogni elemento è il prodotto degli elementi dei due vettori. In NumPy, si utilizza la funzione `np.outer()`:"
   ]
  },
  {
   "cell_type": "code",
   "execution_count": 6,
   "metadata": {},
   "outputs": [
    {
     "name": "stdout",
     "output_type": "stream",
     "text": [
      "[[ 4  5  6]\n",
      " [ 8 10 12]\n",
      " [12 15 18]]\n"
     ]
    }
   ],
   "source": [
    "# Prodotto esterno\n",
    "prodotto_esterno = np.outer(v, v2)\n",
    "print(prodotto_esterno)"
   ]
  },
  {
   "cell_type": "markdown",
   "metadata": {},
   "source": [
    "Ogni elemento di questa matrice è il risultato della moltiplicazione degli elementi corrispondenti dei due vettori."
   ]
  },
  {
   "cell_type": "markdown",
   "metadata": {},
   "source": [
    "## Matrici\n",
    "\n",
    "Una matrice è una struttura matematica bidimensionale costituita da elementi disposti in righe e colonne. Formalmente, una matrice $\\mathbf{A}$ di dimensioni $m \\times n$ (si legge \"m per n\") è un array rettangolare di numeri reali o complessi, denotato come:\n",
    "\n",
    "$$ \\mathbf{A} = (a_{ij})_{m \\times n} = \\begin{bmatrix} \n",
    "a_{11} & a_{12} & \\cdots & a_{1n} \\\\ \n",
    "a_{21} & a_{22} & \\cdots & a_{2n} \\\\ \n",
    "\\vdots & \\vdots & \\ddots & \\vdots \\\\ \n",
    "a_{m1} & a_{m2} & \\cdots & a_{mn}\n",
    "\\end{bmatrix} $$\n",
    "\n",
    "dove $a_{ij}$ rappresenta l'elemento nella $i$-esima riga e $j$-esima colonna della matrice.\n",
    "\n",
    "Le matrici sono comunemente indicate con lettere maiuscole in grassetto, come $\\mathbf{A}$, $\\mathbf{B}$, $\\mathbf{C}$, etc. Una matrice con $m$ righe e $n$ colonne si dice di ordine $m \\times n$.\n",
    "\n",
    "In molte matrici di dati, ogni elemento $a_{ij}$ è uno scalare che rappresenta il valore della $j$-esima variabile del $i$-esimo campione. Formalmente, possiamo indicare $\\mathbf{A} \\in \\mathbb{R}^{m \\times n}$, il che significa che la matrice $\\mathbf{A}$ ha $m$ righe e $n$ colonne. Si dice comunemente che la \"dimensione\" di $\\mathbf{A}$ è $m \\times n$.\n",
    "\n",
    "### Matrici come Collezioni di Vettori Colonna\n",
    "\n",
    "Le matrici possono essere interpretate come collezioni di vettori colonna. Ad esempio, una matrice di dati può essere rappresentata come:\n",
    "\n",
    "$$\n",
    "\\mathbf{A} = \\begin{bmatrix} \\mathbf{a}_1 & \\mathbf{a}_2 & \\cdots & \\mathbf{a}_n \\end{bmatrix}\n",
    "$$\n",
    "\n",
    "In questo caso, $\\mathbf{A}$ è composta da una sequenza di $n$ vettori colonna $\\mathbf{a}_1, \\mathbf{a}_2, \\ldots, \\mathbf{a}_n$, ciascuno dei quali è un vettore di dimensione $m$. Più precisamente, ogni vettore colonna $\\mathbf{a}_j$ rappresenta i dati di tutti i campioni per la $j$-esima variabile o feature.\n",
    "\n",
    "### Matrici come Collezioni di Vettori Riga\n",
    "\n",
    "In alternativa, una matrice può essere vista come una collezione di vettori riga. In questo contesto, ogni riga di $\\mathbf{A}$ rappresenta tutte le variabili misurate per un dato campione:\n",
    "\n",
    "$$\n",
    "\\mathbf{A} = \\begin{bmatrix} \n",
    "\\mathbf{a}_1^T \\\\ \n",
    "\\mathbf{a}_2^T \\\\ \n",
    "\\vdots \\\\ \n",
    "\\mathbf{a}_m^T \n",
    "\\end{bmatrix}\n",
    "$$\n",
    "\n",
    "Qui, la matrice $\\mathbf{A}$ è composta da $m$ vettori riga, denotati come $\\mathbf{a}_i^T$. Ognuno di questi vettori riga $\\mathbf{a}_i^T$ è di dimensione $n$, indicando che ciascun campione ha $n$ variabili o feature associate. \n",
    "\n",
    "### Trasposta di una Matrice\n",
    "\n",
    "Il simbolo $T$ rappresenta la trasposta di una matrice. La trasposta di una matrice, denotata con un apice $T$ (es. $\\mathbf{A}^T$), è un'operazione che trasforma ciascuna delle righe di $\\mathbf{A}$ in colonne di $\\mathbf{A}^T$. In altre parole, se $\\mathbf{A}$ ha dimensione $m \\times n$, allora $\\mathbf{A}^T$ avrà dimensione $n \\times m$:\n",
    "\n",
    "$$\n",
    "\\mathbf{A}^T = \\begin{bmatrix} \n",
    "a_{11} & a_{21} & \\cdots & a_{m1} \\\\ \n",
    "a_{12} & a_{22} & \\cdots & a_{m2} \\\\ \n",
    "\\vdots & \\vdots & \\ddots & \\vdots \\\\ \n",
    "a_{1n} & a_{2n} & \\cdots & a_{mn} \n",
    "\\end{bmatrix}\n",
    "$$\n",
    "\n",
    "Con la trasposta, le variabili misurate diventano colonne e i campioni diventano righe. Essenzialmente, i vettori riga sono le trasposte dei vettori colonna. Questo concetto è molto utile in algebra lineare, poiché permette di passare facilmente da una rappresentazione dei dati a un'altra.\n",
    "\n",
    "In NumPy, una matrice è semplicemente un array bidimensionale. Per esempio, possiamo creare una matrice 3x4 utilizzando la funzione `np.array()` e fornendo una lista di liste (dove ogni lista interna rappresenta una riga della matrice).\n",
    "\n",
    "Ecco come definire una matrice 3x4:"
   ]
  },
  {
   "cell_type": "code",
   "execution_count": 7,
   "metadata": {},
   "outputs": [
    {
     "name": "stdout",
     "output_type": "stream",
     "text": [
      "[[ 1  2  3  4]\n",
      " [ 5  6  7  8]\n",
      " [ 9 10 11 12]]\n"
     ]
    }
   ],
   "source": [
    "# Definizione della matrice 3x4\n",
    "M = np.array([\n",
    "    [1, 2, 3, 4], \n",
    "    [5, 6, 7, 8], \n",
    "    [9, 10, 11, 12]\n",
    "    ])\n",
    "print(M)"
   ]
  },
  {
   "cell_type": "markdown",
   "metadata": {},
   "source": [
    "In NumPy, puoi calcolare la trasposta di una matrice utilizzando l'attributo `.T` o la funzione `np.transpose()`."
   ]
  },
  {
   "cell_type": "code",
   "execution_count": 8,
   "metadata": {},
   "outputs": [
    {
     "name": "stdout",
     "output_type": "stream",
     "text": [
      "\n",
      "Trasposta della matrice:\n",
      "[[ 1  5  9]\n",
      " [ 2  6 10]\n",
      " [ 3  7 11]\n",
      " [ 4  8 12]]\n"
     ]
    }
   ],
   "source": [
    "# Calcolo della trasposta\n",
    "trasposta = M.T\n",
    "\n",
    "print(\"\\nTrasposta della matrice:\")\n",
    "print(trasposta)"
   ]
  },
  {
   "cell_type": "markdown",
   "metadata": {},
   "source": [
    "## Moltiplicazione tra Matrici\n",
    "\n",
    "La moltiplicazione tra matrici è un'operazione fondamentale nell'algebra lineare. Per poter moltiplicare due matrici, è necessario che siano **conformabili**, il che significa che il numero di colonne della prima matrice deve essere uguale al numero di righe della seconda matrice.\n",
    "\n",
    "Se abbiamo una matrice $\\mathbf{A}$ di dimensioni $m \\times n$ (cioè, $m$ righe e $n$ colonne) e una matrice $\\mathbf{B}$ di dimensioni $n \\times p$ (cioè, $n$ righe e $p$ colonne), allora il prodotto delle due matrici $\\mathbf{A} \\mathbf{B}$ sarà una matrice $\\mathbf{C}$ di dimensioni $m \\times p$.\n",
    "\n",
    "Il prodotto tra due matrici $\\mathbf{A}$ e $\\mathbf{B}$ si ottiene calcolando il prodotto interno tra le righe della prima matrice e le colonne della seconda matrice.\n",
    "\n",
    "Per ciascun elemento $c_{ij}$ della matrice risultante $\\mathbf{C}$, si esegue il seguente calcolo:\n",
    "\n",
    "$$\n",
    "c_{ij} = \\sum_{k=1}^{n} a_{ik} b_{kj}.\n",
    "$$\n",
    "\n",
    "Questo significa che l'elemento $c_{ij}$ è il risultato del prodotto interno tra la $i$-esima riga della matrice $\\mathbf{A}$ e la $j$-esima colonna della matrice $\\mathbf{B}$.\n",
    "\n",
    "La moltiplicazione di una matrice per un vettore è un caso particolare della moltiplicazione tra matrici, dove il vettore può essere visto come una matrice con una delle dimensioni uguale a 1.\n",
    "\n",
    "Se $\\mathbf{A}$ è una matrice $m \\times n$ e $\\mathbf{x}$ è un vettore di dimensione $n$ (cioè una matrice di dimensione $n \\times 1$), allora il prodotto $\\mathbf{A} \\mathbf{x}$ è un vettore di dimensione $m$. Ogni elemento del vettore risultante è il prodotto interno tra una riga della matrice $\\mathbf{A}$ e il vettore $\\mathbf{x}$.\n",
    "\n",
    "Consideriamo le seguenti matrici:\n",
    "\n",
    "$$\n",
    "\\mathbf{A} = \\begin{bmatrix}\n",
    "1 & 2 & 3 \\\\\n",
    "4 & 5 & 6\n",
    "\\end{bmatrix}, \\quad \\mathbf{B} = \\begin{bmatrix}\n",
    "7 & 8 \\\\\n",
    "9 & 10 \\\\\n",
    "11 & 12\n",
    "\\end{bmatrix}\n",
    "$$\n",
    "\n",
    "- $\\mathbf{A}$ è una matrice $2 \\times 3$.\n",
    "- $\\mathbf{B}$ è una matrice $3 \\times 2$.\n",
    "\n",
    "Il prodotto $\\mathbf{A} \\mathbf{B}$ è una matrice $2 \\times 2$ calcolata come segue:\n",
    "\n",
    "$$\n",
    "\\mathbf{C} = \\mathbf{A} \\mathbf{B} = \\begin{bmatrix}\n",
    "(1 \\cdot 7 + 2 \\cdot 9 + 3 \\cdot 11) & (1 \\cdot 8 + 2 \\cdot 10 + 3 \\cdot 12) \\\\\n",
    "(4 \\cdot 7 + 5 \\cdot 9 + 6 \\cdot 11) & (4 \\cdot 8 + 5 \\cdot 10 + 6 \\cdot 12)\n",
    "\\end{bmatrix}\n",
    "$$\n",
    "\n",
    "Calcolando ogni elemento:\n",
    "\n",
    "$$\n",
    "\\mathbf{C} = \\begin{bmatrix}\n",
    "58 & 64 \\\\\n",
    "139 & 154\n",
    "\\end{bmatrix}\n",
    "$$\n",
    "\n",
    "In questo esempio, ogni elemento della matrice risultante $\\mathbf{C}$ è stato ottenuto calcolando il prodotto interno tra le righe di $\\mathbf{A}$ e le colonne di $\\mathbf{B}$.\n",
    "\n",
    "Svolgiamo ora i calcoli usando NumPy."
   ]
  },
  {
   "cell_type": "code",
   "execution_count": 10,
   "metadata": {},
   "outputs": [
    {
     "name": "stdout",
     "output_type": "stream",
     "text": [
      "\n",
      "Prodotto A * B usando np.dot():\n",
      "[[ 58  64]\n",
      " [139 154]]\n",
      "\n",
      "Prodotto A * B usando l'operatore @:\n",
      "[[ 58  64]\n",
      " [139 154]]\n"
     ]
    }
   ],
   "source": [
    "# Definizione della matrice A (2x3)\n",
    "A = np.array([[1, 2, 3], [4, 5, 6]])\n",
    "\n",
    "# Definizione della matrice B (3x2)\n",
    "B = np.array([[7, 8], [9, 10], [11, 12]])\n",
    "\n",
    "# Calcolo del prodotto A * B usando np.dot()\n",
    "prodotto_AB = np.dot(A, B)\n",
    "print(\"\\nProdotto A * B usando np.dot():\")\n",
    "print(prodotto_AB)\n",
    "\n",
    "# Calcolo del prodotto A * B usando l'operatore @\n",
    "prodotto_AB_operator = A @ B\n",
    "print(\"\\nProdotto A * B usando l'operatore @:\")\n",
    "print(prodotto_AB_operator)"
   ]
  },
  {
   "cell_type": "markdown",
   "metadata": {},
   "source": [
    "### Matrice Identità e Matrice Inversa \n",
    "\n",
    "### Matrice Identità\n",
    "\n",
    "La matrice identità, denotata come $\\mathbf{I}_n$, è una matrice quadrata di dimensione $n \\times n$ con tutti gli elementi sulla diagonale principale uguali a 1 e tutti gli altri elementi uguali a 0. Ad esempio, una matrice identità 3x3 è:\n",
    "\n",
    "$$\n",
    "\\mathbf{I}_3 = \\begin{bmatrix}\n",
    "1 & 0 & 0 \\\\\n",
    "0 & 1 & 0 \\\\\n",
    "0 & 0 & 1\n",
    "\\end{bmatrix}\n",
    "$$\n",
    "\n",
    "In generale, una matrice identità di dimensione $n \\times n$ è:\n",
    "\n",
    "$$\n",
    "\\mathbf{I}_n = \\begin{bmatrix}\n",
    "1 & 0 & \\cdots & 0 \\\\\n",
    "0 & 1 & \\cdots & 0 \\\\\n",
    "\\vdots & \\vdots & \\ddots & \\vdots \\\\\n",
    "0 & 0 & \\cdots & 1\n",
    "\\end{bmatrix}\n",
    "$$\n",
    "\n",
    "La matrice identità ha la proprietà fondamentale di essere l'elemento neutro per la moltiplicazione matriciale. Per qualsiasi matrice $\\mathbf{A}$ di dimensioni $n \\times n$:\n",
    "\n",
    "$$\n",
    "\\mathbf{A} \\mathbf{I}_n = \\mathbf{A} \\quad \\text{e} \\quad \\mathbf{I}_n \\mathbf{A} = \\mathbf{A}.\n",
    "$$\n",
    "\n",
    "In NumPy, per creare la matrice identià usiamo il modulo `.eye()`. Per esempio:"
   ]
  },
  {
   "cell_type": "code",
   "execution_count": 11,
   "metadata": {},
   "outputs": [
    {
     "name": "stdout",
     "output_type": "stream",
     "text": [
      "[[1. 0. 0.]\n",
      " [0. 1. 0.]\n",
      " [0. 0. 1.]]\n"
     ]
    }
   ],
   "source": [
    "I = np.eye(3)\n",
    "print(I)"
   ]
  },
  {
   "cell_type": "markdown",
   "metadata": {},
   "source": [
    "### Determinante di una Matrice\n",
    "\n",
    "Il **determinante** è un numero associato a una matrice quadrata che fornisce informazioni essenziali sulle proprietà della matrice stessa. È uno scalare che può indicare se una matrice è invertibile, se un sistema di equazioni lineari ha una soluzione unica, e molto altro. \n",
    "\n",
    "Il determinante di una matrice può essere interpretato in diversi modi:\n",
    "\n",
    "1. In termini geometrici, il determinante di una matrice $2 \\times 2$ o $3 \\times 3$ rappresenta rispettivamente l'area o il volume del parallelogramma o del parallelepipedo definito dai vettori delle righe (o colonne) della matrice. Un determinante pari a zero indica che i vettori sono linearmente dipendenti e che l'area o il volume è nullo, suggerendo che la matrice non ha un'inversa.\n",
    "\n",
    "2. Algebraicamente, il determinante di una matrice quadrata può dirci se la matrice è **invertibile**. Se il determinante è diverso da zero, la matrice è invertibile, cioè esiste una matrice inversa tale che il prodotto delle due sia la matrice identità. Se il determinante è zero, la matrice non è invertibile.\n",
    "\n",
    "3. Nel contesto dei sistemi di equazioni lineari, se il determinante del coefficiente della matrice associata a un sistema è zero, il sistema può non avere soluzioni o avere un numero infinito di soluzioni. Se è diverso da zero, il sistema ha una soluzione unica.\n",
    "\n",
    "#### Calcolo del Determinante per una Matrice 2x2\n",
    "\n",
    "Per una matrice $2 \\times 2$:\n",
    "\n",
    "$$\n",
    "\\mathbf{A} = \\begin{bmatrix}\n",
    "a & b \\\\\n",
    "c & d\n",
    "\\end{bmatrix}\n",
    "$$\n",
    "\n",
    "il determinante è calcolato come:\n",
    "\n",
    "$$\n",
    "\\det(\\mathbf{A}) = ad - bc\n",
    "$$\n",
    "\n",
    "Questo semplice calcolo deriva dalla differenza tra il prodotto degli elementi della diagonale principale (dall'angolo superiore sinistro all'angolo inferiore destro) e il prodotto degli elementi della diagonale secondaria (dall'angolo superiore destro all'angolo inferiore sinistro).\n",
    "\n",
    "#### Calcolo del Determinante per Matrici di Dimensioni Superiori\n",
    "\n",
    "Per matrici di dimensioni superiori a $2 \\times 2$, il calcolo del determinante diventa più complesso. Un metodo comune per calcolare il determinante di matrici più grandi è l'*espansione di Laplace* o *espansione per cofattori*. Questo metodo si basa sulla ricorsione, calcolando il determinante attraverso una somma pesata di determinanti di matrici più piccole (minori) che si ottengono eliminando una riga e una colonna dalla matrice originale.\n",
    "\n",
    "#### Calcolo del Determinante con NumPy\n",
    "\n",
    "È possibile calcolare il determinante di una matrice utilizzando la funzione `np.linalg.det()`. Questa funzione può essere utilizzata per calcolare il determinante di matrici quadrate di qualsiasi dimensione.\n",
    "\n",
    "Ecco come calcolare il determinante di una matrice $2 \\times 2$ con NumPy:"
   ]
  },
  {
   "cell_type": "code",
   "execution_count": 12,
   "metadata": {},
   "outputs": [
    {
     "name": "stdout",
     "output_type": "stream",
     "text": [
      "Determinante di A: -2.0000000000000004\n"
     ]
    }
   ],
   "source": [
    "# Definizione di una matrice 2x2\n",
    "A = np.array([[1, 2], [3, 4]])\n",
    "\n",
    "# Calcolo del determinante\n",
    "determinante = np.linalg.det(A)\n",
    "print(\"Determinante di A:\", determinante)"
   ]
  },
  {
   "cell_type": "markdown",
   "metadata": {},
   "source": [
    "Per una matrice $3 \\times 3$ o di dimensioni superiori, il procedimento è lo stesso:"
   ]
  },
  {
   "cell_type": "code",
   "execution_count": 13,
   "metadata": {},
   "outputs": [
    {
     "name": "stdout",
     "output_type": "stream",
     "text": [
      "Determinante di B: -306.0\n"
     ]
    }
   ],
   "source": [
    "# Definizione di una matrice 3x3\n",
    "B = np.array([[6, 1, 1], [4, -2, 5], [2, 8, 7]])\n",
    "\n",
    "# Calcolo del determinante\n",
    "determinante_B = np.linalg.det(B)\n",
    "print(\"Determinante di B:\", determinante_B)"
   ]
  },
  {
   "cell_type": "markdown",
   "metadata": {},
   "source": [
    "In conclusione, il determinante è uno strumento fondamentale per la comprensione delle proprietà di una matrice. Attraverso il determinante, è possibile comprendere la geometria della trasformazione rappresentata dalla matrice, verificare l'invertibilità e determinare il comportamento di sistemi di equazioni lineari. "
   ]
  },
  {
   "cell_type": "markdown",
   "metadata": {},
   "source": [
    "### Inversa di una Matrice\n",
    "\n",
    "L'inversa di una matrice quadrata $\\mathbf{A}$, denotata come $\\mathbf{A}^{-1}$, è una matrice che, moltiplicata per $\\mathbf{A}$, restituisce la matrice identità $\\mathbf{I}_n$. L'inversa di una matrice esiste solo per matrici quadrate *non singolari*, ovvero matrici il cui determinante è diverso da zero.\n",
    "\n",
    "La proprietà fondamentale dell'inversa è:\n",
    "\n",
    "$$\n",
    "\\mathbf{A} \\mathbf{A}^{-1} = \\mathbf{I}_n \\quad \\text{e} \\quad \\mathbf{A}^{-1} \\mathbf{A} = \\mathbf{I}_n.\n",
    "$$\n",
    "\n",
    "dove $\\mathbf{I}_n$ è la matrice identità di dimensione $n \\times n$.\n",
    "\n",
    "#### Esempio: Calcolo dell'Inversa di una Matrice $2 \\times 2$\n",
    "\n",
    "Per una matrice $2 \\times 2$:\n",
    "\n",
    "$$\n",
    "\\mathbf{A} = \\begin{bmatrix}\n",
    "a & b \\\\\n",
    "c & d\n",
    "\\end{bmatrix}\n",
    "$$\n",
    "\n",
    "l'inversa, se esiste, è data dalla formula:\n",
    "\n",
    "$$\n",
    "\\mathbf{A}^{-1} = \\frac{1}{ad-bc} \\begin{bmatrix}\n",
    "d & -b \\\\\n",
    "-c & a\n",
    "\\end{bmatrix}\n",
    "$$\n",
    "\n",
    "dove $ad-bc$ è il determinante della matrice $\\mathbf{A}$. L'inversa esiste solo se questo determinante è diverso da zero (cioè, se $\\mathbf{A}$ è non singolare).\n",
    "\n",
    "### Utilizzo dell'Inversa di una Matrice\n",
    "\n",
    "L'inversa di una matrice è particolarmente utile per risolvere sistemi di equazioni lineari. Ad esempio, consideriamo un sistema rappresentato in forma matriciale come $\\mathbf{A} \\mathbf{x} = \\mathbf{b}$, dove $\\mathbf{A}$ è la matrice dei coefficienti, $\\mathbf{x}$ è il vettore delle variabili incognite e $\\mathbf{b}$ è il vettore dei termini noti.\n",
    "\n",
    "Se $\\mathbf{A}$ è una matrice invertibile, possiamo risolvere per $\\mathbf{x}$ moltiplicando entrambi i lati dell'equazione per $\\mathbf{A}^{-1}$:\n",
    "\n",
    "$$\n",
    "\\mathbf{A}^{-1} \\mathbf{A} \\mathbf{x} = \\mathbf{A}^{-1} \\mathbf{b}.\n",
    "$$\n",
    "\n",
    "Poiché $\\mathbf{A}^{-1} \\mathbf{A} = \\mathbf{I}$, otteniamo:\n",
    "\n",
    "$$\n",
    "\\mathbf{I} \\mathbf{x} = \\mathbf{A}^{-1} \\mathbf{b},\n",
    "$$\n",
    "\n",
    "$$\n",
    "\\mathbf{x} = \\mathbf{A}^{-1} \\mathbf{b}.\n",
    "$$\n",
    "\n",
    "Questa proprietà è utile anche per altre applicazioni, come nella derivazione della formula per i coefficienti della regressione lineare.\n",
    "\n",
    "### Calcolo dell'Inversa con NumPy\n",
    "\n",
    "In Python, possiamo usare la libreria NumPy per calcolare l'inversa di una matrice in modo semplice ed efficiente. La funzione `np.linalg.inv()` permette di calcolare l'inversa di una matrice quadrata, a condizione che sia invertibile (cioè, il suo determinante non è zero).\n",
    "\n",
    "Ecco come calcolare l'inversa di una matrice $2 \\times 2$ utilizzando NumPy:"
   ]
  },
  {
   "cell_type": "code",
   "execution_count": 14,
   "metadata": {},
   "outputs": [
    {
     "name": "stdout",
     "output_type": "stream",
     "text": [
      "Inversa di A:\n",
      "[[-2.   1. ]\n",
      " [ 1.5 -0.5]]\n"
     ]
    }
   ],
   "source": [
    "# Definizione di una matrice 2x2\n",
    "A = np.array([[1, 2], [3, 4]])\n",
    "\n",
    "# Calcolo dell'inversa\n",
    "A_inv = np.linalg.inv(A)\n",
    "print(\"Inversa di A:\")\n",
    "print(A_inv)"
   ]
  },
  {
   "cell_type": "markdown",
   "metadata": {},
   "source": [
    "Per verificare che il calcolo dell'inversa sia corretto, possiamo moltiplicare la matrice originale $\\mathbf{A}$ per la sua inversa $\\mathbf{A}^{-1}$ e verificare che il risultato sia la matrice identità:"
   ]
  },
  {
   "cell_type": "code",
   "execution_count": 15,
   "metadata": {},
   "outputs": [
    {
     "name": "stdout",
     "output_type": "stream",
     "text": [
      "Prodotto di A e A_inv (matrice identità):\n",
      "[[1.0000000e+00 0.0000000e+00]\n",
      " [8.8817842e-16 1.0000000e+00]]\n"
     ]
    }
   ],
   "source": [
    "# Verifica del calcolo dell'inversa\n",
    "identita = np.dot(A, A_inv)\n",
    "print(\"Prodotto di A e A_inv (matrice identità):\")\n",
    "print(identita)"
   ]
  },
  {
   "cell_type": "markdown",
   "metadata": {},
   "source": [
    "In conclusione, l'inversa di una matrice è uno strumento utile per risolvere sistemi di equazioni lineari e molte altre applicazioni. Con NumPy, calcolare l'inversa di una matrice è semplice e veloce, permettendo di eseguire operazioni complesse in modo efficiente. Tuttavia, è importante ricordare che non tutte le matrici hanno un'inversa; una matrice deve essere quadrata e avere un determinante diverso da zero per essere invertibile."
   ]
  },
  {
   "cell_type": "markdown",
   "metadata": {},
   "source": [
    "## Regressione Lineare e Stima dei Coefficienti\n",
    "\n",
    "La regressione lineare è una tecnica statistica utilizzata per modellare la relazione tra una variabile dipendente (o risposta) e una o più variabili indipendenti (o predittori). È possibile rappresentare questo modello in termini di algebra matriciale per semplificare il calcolo dei coefficienti.\n",
    "\n",
    "### Regressione Lineare Semplice\n",
    "\n",
    "La regressione lineare semplice descrive una relazione lineare tra una variabile indipendente $x$ e una variabile dipendente $y$. Quando abbiamo un campione di $n$ osservazioni, il modello assume la seguente forma:\n",
    "\n",
    "$$\n",
    "y_i = \\beta_0 + \\beta_1 x_i + e_i, \\quad \\text{per} \\; i = 1, 2, \\ldots, n,\n",
    "$$\n",
    "\n",
    "dove:\n",
    "\n",
    "- $y_i$ è il valore osservato della variabile dipendente per l'osservazione $i$,\n",
    "- $\\beta_0$ è l'intercetta, che rappresenta il valore di $y$ quando $x = 0$,\n",
    "- $\\beta_1$ è il coefficiente di regressione, che indica quanto varia $y$ per una variazione unitaria di $x$,\n",
    "- $x_i$ è il valore della variabile indipendente per l'osservazione $i$,\n",
    "- $e_i$ è l'errore o residuo per l'osservazione $i$, rappresenta la differenza tra il valore osservato $y_i$ e il valore previsto $\\hat{y}_i = \\beta_0 + \\beta_1 x_i$.\n",
    "\n",
    "Per un campione di $n$ osservazioni, possiamo rappresentare la regressione lineare in forma matriciale, che rende il modello più compatto e facilita i calcoli statistici. La rappresentazione matriciale del modello di regressione lineare è:\n",
    "\n",
    "$$\n",
    "\\mathbf{y} = \\mathbf{Xb} + \\mathbf{e},\n",
    "$$\n",
    "\n",
    "dove:\n",
    "\n",
    "- $\\mathbf{y} = \\begin{bmatrix} y_1 \\\\ y_2 \\\\ \\vdots \\\\ y_n \\end{bmatrix}$ è il vettore delle osservazioni della variabile dipendente,\n",
    "- $\\mathbf{X} = \\begin{bmatrix} 1 & x_1 \\\\ 1 & x_2 \\\\ \\vdots & \\vdots \\\\ 1 & x_n \\end{bmatrix}$ è la matrice di design, in cui la prima colonna è costituita da 1 per includere l'intercetta $\\beta_0$,\n",
    "- $\\mathbf{b} = \\begin{bmatrix} \\beta_0 \\\\ \\beta_1 \\end{bmatrix}$ è il vettore dei coefficienti del modello,\n",
    "- $\\mathbf{e} = \\begin{bmatrix} e_1 \\\\ e_2 \\\\ \\vdots \\\\ e_n \\end{bmatrix}$ è il vettore degli errori o residui.\n",
    "\n",
    "Questa forma matriciale sintetizza tutte le $n$ equazioni del modello di regressione lineare semplice in un'unica espressione compatta, che rappresenta la relazione tra le osservazioni della variabile dipendente $y$ e le corrispondenti osservazioni della variabile indipendente $x$, tenendo conto degli errori di previsione.\n",
    "\n",
    "### Regressione Lineare Multipla\n",
    "\n",
    "La regressione lineare multipla estende la regressione lineare semplice includendo più variabili indipendenti, consentendo di modellare la relazione tra una variabile dipendente e diverse variabili indipendenti. Il modello di regressione lineare multipla per un campione di $n$ osservazioni con $p$ variabili indipendenti può essere scritto come:\n",
    "\n",
    "$$\n",
    "y_i = \\beta_0 + \\beta_1 x_{i1} + \\beta_2 x_{i2} + \\cdots + \\beta_p x_{ip} + e_i, \\quad \\text{per} \\; i = 1, 2, \\ldots, n,\n",
    "$$\n",
    "\n",
    "dove:\n",
    "\n",
    "- $y_i$ è il valore osservato della variabile dipendente per l'osservazione $i$,\n",
    "- $\\beta_0$ è l'intercetta del modello,\n",
    "- $\\beta_1, \\beta_2, \\ldots, \\beta_p$ sono i coefficienti di regressione associati alle variabili indipendenti,\n",
    "- $x_{i1}, x_{i2}, \\ldots, x_{ip}$ sono i valori delle variabili indipendenti per l'osservazione $i$,\n",
    "- $e_i$ è l'errore o residuo per l'osservazione $i$, che rappresenta la differenza tra il valore osservato $y_i$ e il valore previsto $\\hat{y}_i = \\beta_0 + \\beta_1 x_{i1} + \\beta_2 x_{i2} + \\cdots + \\beta_p x_{ip}$.\n",
    "\n",
    "In termini matriciali, il modello di regressione lineare multipla può essere scritto come:\n",
    "\n",
    "$$\n",
    "\\mathbf{y} = \\mathbf{Xb} + \\mathbf{e},\n",
    "$$\n",
    "\n",
    "dove:\n",
    "\n",
    "- $\\mathbf{y} = \\begin{bmatrix} y_1 \\\\ y_2 \\\\ \\vdots \\\\ y_n \\end{bmatrix}$ è il vettore delle osservazioni della variabile dipendente, di dimensione $n \\times 1$,\n",
    "- $\\mathbf{X} = \\begin{bmatrix} 1 & x_{11} & x_{12} & \\cdots & x_{1p} \\\\ 1 & x_{21} & x_{22} & \\cdots & x_{2p} \\\\ \\vdots & \\vdots & \\vdots & \\ddots & \\vdots \\\\ 1 & x_{n1} & x_{n2} & \\cdots & x_{np} \\end{bmatrix}$ è la matrice di design, di dimensione $n \\times (p+1)$, dove la prima colonna è composta da 1 per includere l'intercetta $\\beta_0$,\n",
    "- $\\mathbf{b} = \\begin{bmatrix} \\beta_0 \\\\ \\beta_1 \\\\ \\beta_2 \\\\ \\vdots \\\\ \\beta_p \\end{bmatrix}$ è il vettore dei coefficienti, di dimensione $(p+1) \\times 1$,\n",
    "- $\\mathbf{e} = \\begin{bmatrix} e_1 \\\\ e_2 \\\\ \\vdots \\\\ e_n \\end{bmatrix}$ è il vettore degli errori o residui, di dimensione $n \\times 1$.\n",
    "\n",
    "L'equazione in forma matriciale esplicita per il campione di $n$ osservazioni con $p$ variabili indipendenti è:\n",
    "\n",
    "$$\n",
    "\\begin{bmatrix}\n",
    "y_1 \\\\\n",
    "y_2 \\\\\n",
    "\\vdots \\\\\n",
    "y_n\n",
    "\\end{bmatrix} =\n",
    "\\begin{bmatrix}\n",
    "1 & x_{11} & x_{12} & \\cdots & x_{1p} \\\\\n",
    "1 & x_{21} & x_{22} & \\cdots & x_{2p} \\\\\n",
    "\\vdots & \\vdots & \\vdots & \\ddots & \\vdots \\\\\n",
    "1 & x_{n1} & x_{n2} & \\cdots & x_{np}\n",
    "\\end{bmatrix}\n",
    "\\begin{bmatrix}\n",
    "\\beta_0 \\\\\n",
    "\\beta_1 \\\\\n",
    "\\beta_2 \\\\\n",
    "\\vdots \\\\\n",
    "\\beta_p\n",
    "\\end{bmatrix} +\n",
    "\\begin{bmatrix}\n",
    "e_1 \\\\\n",
    "e_2 \\\\\n",
    "\\vdots \\\\\n",
    "e_n\n",
    "\\end{bmatrix}.\n",
    "$$\n",
    "\n",
    "In questa rappresentazione:\n",
    "\n",
    "- Il prodotto $\\mathbf{Xb}$ rappresenta i valori previsti (o stimati) del modello come combinazione lineare delle colonne della matrice di design $\\mathbf{X}$, ponderata dai coefficienti $\\mathbf{b}$.\n",
    "- Il vettore $\\mathbf{e}$ rappresenta gli errori o residui, che sono le differenze tra i valori osservati $\\mathbf{y}$ e i valori previsti $\\mathbf{Xb}$.\n",
    "\n",
    "Questa forma compatta e ordinata consente un'efficiente analisi statistica e facilita i calcoli necessari per stimare i coefficienti del modello di regressione.\n",
    "\n",
    "## Stima dei Coefficienti con il Metodo dei Minimi Quadrati\n",
    "\n",
    "Per ogni osservazione $i$, l'errore (o residuo) è definito come la differenza tra il valore osservato $y_i$ e il valore predetto $\\hat{y}_i$ dal modello:\n",
    "\n",
    "$$\n",
    "e_i = y_i - \\hat{y}_i,\n",
    "$$\n",
    "\n",
    "dove:\n",
    "\n",
    "- $y_i$ è il valore osservato dell'output per l'osservazione $i$,\n",
    "- $\\hat{y}_i$ è il valore predetto dal modello per l'osservazione $i$.\n",
    "\n",
    "In forma matriciale, possiamo rappresentare l'errore per tutte le $n$ osservazioni come segue:\n",
    "\n",
    "$$\n",
    "\\mathbf{e} = \\mathbf{y} - \\hat{\\mathbf{y}},\n",
    "$$\n",
    "\n",
    "dove:\n",
    "\n",
    "- $\\mathbf{e} = \\begin{bmatrix} e_1 \\\\ e_2 \\\\ \\vdots \\\\ e_n \\end{bmatrix}$ è il vettore degli errori o residui,\n",
    "- $\\mathbf{y} = \\begin{bmatrix} y_1 \\\\ y_2 \\\\ \\vdots \\\\ y_n \\end{bmatrix}$ è il vettore delle osservazioni della variabile dipendente,\n",
    "- $\\hat{\\mathbf{y}} = \\begin{bmatrix} \\hat{y}_1 \\\\ \\hat{y}_2 \\\\ \\vdots \\\\ \\hat{y}_n \\end{bmatrix} = \\mathbf{Xb}$ è il vettore dei valori predetti dal modello.\n",
    "\n",
    "L'equazione matriciale esplicita per il vettore degli errori $\\mathbf{e}$ è quindi:\n",
    "\n",
    "$$\n",
    "\\mathbf{e} = \\mathbf{y} - \\mathbf{Xb}.\n",
    "$$\n",
    "\n",
    "Questa equazione mostra che il vettore degli errori $\\mathbf{e}$ è la differenza tra il vettore delle osservazioni $\\mathbf{y}$ e il vettore dei valori predetti $\\hat{\\mathbf{y}} = \\mathbf{Xb}$. In altre parole, ogni elemento $e_i$ del vettore degli errori rappresenta la differenza tra il valore osservato $y_i$ e il valore predetto $\\hat{y}_i$ per l'osservazione $i$. \n",
    "\n",
    "\n",
    "\n",
    "L'obiettivo della regressione lineare è minimizzare la somma degli errori quadrati ($SSE$, Sum of Squared Errors) per tutte le osservazioni. Questa somma è data da:\n",
    "\n",
    "$$\n",
    "\\text{SSE} = \\sum_{i=1}^m e_i^2 = \\sum_{i=1}^m (y_i - \\hat{y}_i)^2.\n",
    "$$\n",
    "\n",
    "Utilizzando la notazione matriciale, possiamo esprimere la somma degli errori quadrati come:\n",
    "\n",
    "$$\n",
    "\\text{SSE} = \\mathbf{e}^T \\mathbf{e} = (\\mathbf{y} - \\mathbf{X} \\mathbf{b})^T (\\mathbf{y} - \\mathbf{X} \\mathbf{b}).\n",
    "$$\n",
    "\n",
    "Il problema di ottimizzazione per minimizzare la somma degli errori quadrati si traduce in:\n",
    "\n",
    "$$\n",
    "\\min_{\\mathbf{b}} (\\mathbf{y} - \\mathbf{X} \\mathbf{b})^T (\\mathbf{y} - \\mathbf{X} \\mathbf{b}),\n",
    "$$\n",
    "\n",
    "dove:\n",
    "\n",
    "- $\\mathbf{b}$ è il vettore dei coefficienti da stimare.\n",
    "- $\\mathbf{X}$ è la matrice di design che include tutte le osservazioni delle variabili indipendenti.\n",
    "- $\\mathbf{y}$ è il vettore delle osservazioni della variabile dipendente.\n",
    "\n",
    "Per trovare i coefficienti ottimali $\\mathbf{b}$, calcoliamo la derivata parziale dell'errore quadratico totale rispetto a $\\mathbf{b}$ e la impostiamo a zero:\n",
    "\n",
    "$$\n",
    "\\frac{\\partial}{\\partial \\mathbf{b}} (\\mathbf{y} - \\mathbf{X} \\mathbf{b})^T (\\mathbf{y} - \\mathbf{X} \\mathbf{b}) = -2 \\mathbf{X}^T (\\mathbf{y} - \\mathbf{X} \\mathbf{b}).\n",
    "$$\n",
    "\n",
    "Impostando questa derivata uguale a zero, otteniamo:\n",
    "\n",
    "$$\n",
    "-2 \\mathbf{X}^T (\\mathbf{y} - \\mathbf{X} \\mathbf{b}) = 0.\n",
    "$$\n",
    "\n",
    "Semplificando, possiamo riscrivere l'equazione come:\n",
    "\n",
    "$$\n",
    "\\mathbf{X}^T \\mathbf{y} = \\mathbf{X}^T \\mathbf{X} \\mathbf{b}.\n",
    "$$\n",
    "\n",
    "Assumendo che la matrice $\\mathbf{X}^T \\mathbf{X}$ sia invertibile, risolviamo per $\\mathbf{b}$:\n",
    "\n",
    "$$\n",
    "\\mathbf{b} = (\\mathbf{X}^T \\mathbf{X})^{-1} \\mathbf{X}^T \\mathbf{y}.\n",
    "$$\n",
    "\n",
    "Per gli scopi presenti, non è necessario comprendere la derivazione formale in dettaglio. Tuttavia, possiamo fare un parallelo con il metodo dei minimi quadrati per il caso univariato per ottenere un'intuizione geometrica su cosa stiamo facendo.\n",
    "\n",
    "Nel caso della regressione lineare semplice (univariata), minimizzare la somma degli errori quadrati significa trovare la retta che meglio si adatta ai dati in uno spazio bidimensionale (2D). Dal punto di vista geometrico, questo processo equivale a calcolare la derivata della funzione di errore rispetto ai coefficienti della retta, quindi impostando la derivata a zero per trovare il punto in cui la pendenza della tangente è piatta. In altre parole, cerchiamo il punto in cui la pendenza della funzione di errore è zero, che corrisponde a un minimo della funzione.\n",
    "\n",
    "Nel caso della regressione lineare multipla, invece di lavorare in uno spazio bidimensionale, stiamo operando in uno spazio multidimensionale. Ogni dimensione aggiuntiva rappresenta una variabile indipendente (regressore) nel nostro modello. Quando prendiamo la derivata dell'errore quadratico totale rispetto ai coefficienti $\\mathbf{b}$ e la impostiamo a zero, stiamo essenzialmente cercando il punto in questo spazio multidimensionale in cui tutte le \"pendenze\" (derivate parziali) sono zero. Questo punto rappresenta il minimo dell'errore quadratico totale e corrisponde alla migliore stima dei coefficienti del nostro modello di regressione lineare, minimizzando l'errore di previsione su tutti i dati.\n",
    "\n",
    "Quindi, mentre nel caso univariato minimizzare l'errore quadratico trova la migliore linea retta che si adatta ai dati in 2D, nel caso multivariato troviamo il miglior piano o iperpiano che si adatta ai dati in uno spazio di dimensioni superiori.\n",
    "\n",
    "### Stima dei Coefficienti OLS\n",
    "\n",
    "Questa formula:\n",
    "\n",
    "$$\n",
    "\\mathbf{b} = (\\mathbf{X}^T \\mathbf{X})^{-1} \\mathbf{X}^T \\mathbf{y}\n",
    "$$\n",
    "\n",
    "è conosciuta come *stima dei minimi quadrati ordinari* (Ordinary Least Squares, OLS) per i coefficienti della regressione lineare multivariata. Essa fornisce i valori dei coefficienti $\\mathbf{b}$ che minimizzano la somma degli errori quadrati e, quindi, rappresenta la migliore approssimazione lineare dei dati osservati.\n",
    "\n",
    "Per fare un esempio, consideriamo un piccolo insieme di dati nel caso della regressione bivariata e implementiamo la formula precedente in NumPy per trovare i coefficienti dei minimi quadrati. "
   ]
  },
  {
   "cell_type": "code",
   "execution_count": 23,
   "metadata": {},
   "outputs": [
    {
     "name": "stdout",
     "output_type": "stream",
     "text": [
      "Valori veri di b:\n",
      " [[ 3.4 ]\n",
      " [12.35]]\n",
      "La nostra stima:\n",
      " [[ 2.06167676]\n",
      " [12.96660755]]\n"
     ]
    }
   ],
   "source": [
    "# Simulazione di una regressione lineare semplice\n",
    "\n",
    "# Scegli valori casuali per b_0 e b_1\n",
    "b = np.array([3.4, 12.35])  # pendenza e intercetta\n",
    "b = b[:, np.newaxis]\n",
    "\n",
    "# Simula n punti dati. x è distribuito normalmente\n",
    "n = 30\n",
    "data_mean = 0\n",
    "data_std = 1\n",
    "data = np.random.normal(\n",
    "    data_mean, data_std, size=(n, 1)\n",
    ")  # rendi l'array 2D per semplificare\n",
    "\n",
    "# Poiché abbiamo b_0 nel nostro vettore dei pesi, aggiungiamo una colonna di 1s alla nostra matrice di dati\n",
    "ones = np.ones((n, 1))\n",
    "x = np.hstack((ones, data))  # x è la nostra matrice di design\n",
    "\n",
    "# Aggiungi rumore gaussiano\n",
    "noise_loc = 0\n",
    "noise_scale = 5\n",
    "e = np.random.normal(loc=noise_loc, scale=noise_scale, size=(n, 1))\n",
    "\n",
    "# Simula i valori di y\n",
    "y = x.dot(b) + e\n",
    "\n",
    "# Calcola le stime per b, le predizioni\n",
    "b_hat = np.linalg.inv(x.T @ x) @ x.T @ y\n",
    "\n",
    "print(\"Valori veri di b:\\n\", b)\n",
    "print(\"La nostra stima:\\n\", b_hat)"
   ]
  },
  {
   "cell_type": "markdown",
   "metadata": {},
   "source": [
    "Utilizziamo i coefficienti dei minimi quadrati per calcolare i valori predetti e il coefficiente di determinazione."
   ]
  },
  {
   "cell_type": "code",
   "execution_count": 24,
   "metadata": {},
   "outputs": [
    {
     "name": "stdout",
     "output_type": "stream",
     "text": [
      "[[0.85247043]]\n"
     ]
    }
   ],
   "source": [
    "y_hat = x.dot(b_hat)\n",
    "\n",
    "# Calcola R^2\n",
    "SS_res = e.T @ e\n",
    "std = y - y.mean()\n",
    "SS_tot = std.T @ std\n",
    "r2 = 1 - (SS_res / SS_tot)\n",
    "\n",
    "print(r2)"
   ]
  },
  {
   "cell_type": "markdown",
   "metadata": {},
   "source": [
    "Rappresentiamo ora i valori predetti con la retta di regressione sovrapposta al diagramma a dispersione del campione dei dati."
   ]
  },
  {
   "cell_type": "code",
   "execution_count": 28,
   "metadata": {},
   "outputs": [
    {
     "data": {
      "image/png": "[encoded data removed]",
      "text/plain": [
       "<Figure size 720x480 with 1 Axes>"
      ]
     },
     "metadata": {
      "image/png": {
       "height": 491,
       "width": 731
      }
     },
     "output_type": "display_data"
    }
   ],
   "source": [
    "# Grafico dei dati\n",
    "fig, ax = plt.subplots()\n",
    "ax.scatter(data, y)  # Tracciamento dei dati\n",
    "ax.set(xlabel=\"x\", ylabel=\"y\", title=\"Regressione lineare semplice\")\n",
    "\n",
    "# Traccia la linea vera\n",
    "b_0, b_1 = b\n",
    "ax.plot(data, b_0 + (b_1 * data), color=\"k\", label=\"Valore reale\")\n",
    "\n",
    "# Traccia il nostro fit\n",
    "ax.plot(data, y_hat, color=\"r\", label=\"Il nostro fit\")\n",
    "_ = ax.legend()"
   ]
  },
  {
   "cell_type": "markdown",
   "metadata": {},
   "source": [
    "Replichiamo i risultati usando `pingouin`:"
   ]
  },
  {
   "cell_type": "code",
   "execution_count": 40,
   "metadata": {},
   "outputs": [
    {
     "data": {
      "text/html": [
       "<div>\n",
       "<style scoped>\n",
       "    .dataframe tbody tr th:only-of-type {\n",
       "        vertical-align: middle;\n",
       "    }\n",
       "\n",
       "    .dataframe tbody tr th {\n",
       "        vertical-align: top;\n",
       "    }\n",
       "\n",
       "    .dataframe thead th {\n",
       "        text-align: right;\n",
       "    }\n",
       "</style>\n",
       "<table border=\"1\" class=\"dataframe\">\n",
       "  <thead>\n",
       "    <tr style=\"text-align: right;\">\n",
       "      <th></th>\n",
       "      <th>names</th>\n",
       "      <th>coef</th>\n",
       "      <th>se</th>\n",
       "      <th>T</th>\n",
       "      <th>pval</th>\n",
       "      <th>r2</th>\n",
       "      <th>adj_r2</th>\n",
       "      <th>CI[2.5%]</th>\n",
       "      <th>CI[97.5%]</th>\n",
       "    </tr>\n",
       "  </thead>\n",
       "  <tbody>\n",
       "    <tr>\n",
       "      <th>0</th>\n",
       "      <td>Intercept</td>\n",
       "      <td>2.06</td>\n",
       "      <td>1.02</td>\n",
       "      <td>2.02</td>\n",
       "      <td>0.05</td>\n",
       "      <td>0.86</td>\n",
       "      <td>0.86</td>\n",
       "      <td>-0.03</td>\n",
       "      <td>4.16</td>\n",
       "    </tr>\n",
       "    <tr>\n",
       "      <th>1</th>\n",
       "      <td>x2</td>\n",
       "      <td>12.97</td>\n",
       "      <td>0.98</td>\n",
       "      <td>13.29</td>\n",
       "      <td>0.00</td>\n",
       "      <td>0.86</td>\n",
       "      <td>0.86</td>\n",
       "      <td>10.97</td>\n",
       "      <td>14.97</td>\n",
       "    </tr>\n",
       "  </tbody>\n",
       "</table>\n",
       "</div>"
      ],
      "text/plain": [
       "       names   coef    se      T  pval    r2  adj_r2  CI[2.5%]  CI[97.5%]\n",
       "0  Intercept   2.06  1.02   2.02  0.05  0.86    0.86     -0.03       4.16\n",
       "1         x2  12.97  0.98  13.29  0.00  0.86    0.86     10.97      14.97"
      ]
     },
     "execution_count": 40,
     "metadata": {},
     "output_type": "execute_result"
    }
   ],
   "source": [
    "y = np.array(y).flatten()\n",
    "lm = pg.linear_regression(x, y)\n",
    "lm.round(2)"
   ]
  },
  {
   "cell_type": "markdown",
   "metadata": {},
   "source": [
    "## Informazioni sull'Ambiente di Sviluppo {.unnumbered}"
   ]
  },
  {
   "cell_type": "code",
   "execution_count": 1,
   "metadata": {},
   "outputs": [
    {
     "name": "stdout",
     "output_type": "stream",
     "text": [
      "Last updated: Tue Aug 27 2024\n",
      "\n",
      "Python implementation: CPython\n",
      "Python version       : 3.12.4\n",
      "IPython version      : 8.26.0\n",
      "\n",
      "Compiler    : Clang 16.0.6 \n",
      "OS          : Darwin\n",
      "Release     : 23.6.0\n",
      "Machine     : arm64\n",
      "Processor   : arm\n",
      "CPU cores   : 8\n",
      "Architecture: 64bit\n",
      "\n",
      "Watermark: 2.4.3\n",
      "\n"
     ]
    }
   ],
   "source": [
    "%load_ext watermark\n",
    "%watermark -n -u -v -iv -w -m "
   ]
  }
 ],
 "metadata": {
  "kernelspec": {
   "display_name": "cmdstan_env",
   "language": "python",
   "name": "python3"
  },
  "language_info": {
   "codemirror_mode": {
    "name": "ipython",
    "version": 3
   },
   "file_extension": ".py",
   "mimetype": "text/x-python",
   "name": "python",
   "nbconvert_exporter": "python",
   "pygments_lexer": "ipython3",
   "version": "3.12.4"
  }
 },
 "nbformat": 4,
 "nbformat_minor": 2
}

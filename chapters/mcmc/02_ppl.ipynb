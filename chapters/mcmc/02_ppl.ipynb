{
 "cells": [
  {
   "cell_type": "markdown",
   "metadata": {},
   "source": [
    "# Linguaggi di programmazione probabilistici {#sec-ppl}"
   ]
  },
  {
   "cell_type": "markdown",
   "metadata": {},
   "source": [
    "**Prerequisiti**\n",
    "\n",
    "**Concetti e competenze chiave**\n"
   ]
  },
  {
   "cell_type": "markdown",
   "metadata": {},
   "source": [
    "## Cos'è la programmazione probabilistica\n",
    "\n",
    "La **programmazione probabilistica** è un paradigma della programmazione informatica che consente di creare modelli e algoritmi capaci di gestire l'incertezza e la casualità. Combina i principi della teoria delle probabilità con la programmazione, permettendo di costruire sistemi in grado di ragionare su dati incerti e di prendere decisioni informate. Questo approccio consente di esprimere modelli complessi in modo naturale e intuitivo, facilitando il processo di inferenza bayesiana.\n",
    "\n",
    "La programmazione probabilistica si colloca all'intersezione tra algoritmi di machine learning, statistica e linguaggi di programmazione. I suoi obiettivi principali sono semplificare il processo di inferenza e automatizzarlo.\n",
    "\n",
    "La gerarchia logica generale della programmazione probabilistica può essere vista così:\n",
    "\n",
    "**Inferenza** &rarr; **Sistema di programmazione probabilistica** &rarr; **Linguaggio di programmazione probabilistica** &rarr; **Modelli** &rarr; **Applicazioni**\n",
    "\n",
    "## Perché abbiamo bisogno della programmazione probabilistica?\n",
    "\n",
    "Scrivere un proprio campionatore per l'inferenza bayesiana è un compito estremamente difficile.  Richiede competenze matematiche avanzate e una profonda conoscenza degli algoritmi di campionamento (sia MCMC che approssimati). Inoltre, ci sono numerosi problemi potenziali legati alla stabilità numerica e ai costi computazionali. Questo significa che per riuscirci bisogna essere allo stesso tempo degli ottimi sviluppatori e degli esperti statistici.\n",
    "\n",
    "È però possibile delegare tutti questi compiti a un sistema che li automatizzi, permettendoci di concentrarci sulla risoluzione dei problemi scientifici.\n",
    "\n",
    "## Linguaggi di programmazione probabilistica (PPLs)\n",
    "\n",
    "In questa sezione esamineremo il panorama moderno dei **linguaggi di programmazione probabilistica (PPLs)** e, nella sezione successiva, esploreremo le funzionalità di uno di questi, [Stan](https://mc-stan.org).\n",
    "\n",
    "Un PPL ci consente di formalizzare un modello bayesiano e di eseguire l'inferenza grazie a potenti algoritmi. L'utente deve solo definire il modello, scegliere un campionatore (se necessario) e \"premere il pulsante dell'inferenza\".\n",
    "\n",
    "In generale, ciò che si richiede da un linguaggio di programmazione probabilistica è la capacità di:\n",
    "- estrarre valori casuali da distribuzioni;\n",
    "- condizionare i valori delle variabili su osservazioni (dati).\n",
    "\n",
    "Alcuni dei primi linguaggi e strumenti di programmazione probabilistica, come BUGS e WinBUGS, hanno aperto la strada, offrendo tre capacità chiave:\n",
    "\n",
    "- `random`: per creare variabili casuali,\n",
    "- `constraint`: per vincolare variabili ai dati osservati,\n",
    "- `infer`: per restituire la distribuzione di una variabile.\n",
    "\n",
    "L'elenco dei linguaggi di programmazione probabilistica attualmente esistenti è molto lungo e in continua crescita. Ecco alcuni esempi:\n",
    "\n",
    "- BUGS, WinBUGS, JAGS,\n",
    "- Stan,\n",
    "- PyMC3, PyMC4, PyMC,\n",
    "- Nimble,\n",
    "- Pyro, NumPyro,\n",
    "- Edward, TensorFlow Probability, Edward 2,\n",
    "- Gen,\n",
    "- Turing,\n",
    "- Stheno,\n",
    "- SOSS,\n",
    "- Omega,\n",
    "- Infer.NET.\n",
    "\n",
    "## Come scegliere un PPL?\n",
    "\n",
    "Dal punto di vista pratico, come si può decidere quale linguaggio di programmazione probabilistica scegliere? Ecco alcuni fattori chiave da considerare:\n",
    "\n",
    "- **Funzionalità**: valuta il linguaggio in base alla disponibilità di un ampio range di distribuzioni probabilistiche e campionatori.\n",
    "- **Personalizzazione**: verifica se il PPL permette di definire distribuzioni e campionatori personalizzati.\n",
    "- **Performance**: alcuni PPL offrono ottimizzazioni o capacità di elaborazione parallela per migliorare le prestazioni.\n",
    "- **Documentazione**: la disponibilità di risorse ben documentate, come guide, tutorial e documentazione ufficiale, può avere un grande impatto sulla tua curva di apprendimento e produttività.\n",
    "- **Supporto della comunità**: una comunità attiva e di supporto può essere una risorsa preziosa quando incontri difficoltà o hai domande. Forum, gruppi di discussione e contenuti condivisi dagli utenti possono offrire soluzioni e suggerimenti.\n",
    "- **Integrazione**: valuta se il PPL si integra facilmente con altri strumenti e framework che potresti utilizzare nel tuo progetto. La compatibilità con librerie per la manipolazione dei dati, la visualizzazione o il machine learning può semplificare il flusso di lavoro.\n",
    "\n",
    "Questi criteri ci aiutano a scegliere il PPL più adatto alle nostre esigenze."
   ]
  }
 ],
 "metadata": {
  "kernelspec": {
   "display_name": "cmdstan_env",
   "language": "python",
   "name": "python3"
  },
  "language_info": {
   "codemirror_mode": {
    "name": "ipython",
    "version": 3
   },
   "file_extension": ".py",
   "mimetype": "text/x-python",
   "name": "python",
   "nbconvert_exporter": "python",
   "pygments_lexer": "ipython3",
   "version": "3.12.4"
  }
 },
 "nbformat": 4,
 "nbformat_minor": 2
}

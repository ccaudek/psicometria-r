{
 "cells": [
  {
   "cell_type": "markdown",
   "id": "239ed652-5e3e-4270-b5a3-f3437e6cae2b",
   "metadata": {},
   "source": [
    "# Limiti dell'inferenza induttiva {#sec-inductive-inference}"
   ]
  },
  {
   "cell_type": "markdown",
   "metadata": {},
   "source": [
    "**Prerequisiti**\n",
    "\n",
    "- Leggere *Between the devil and the deep blue sea: Tensions between scientific judgement and statistical model selection* di @navarro2019between per un'introduzione ai limiti dell'inferenza induttiva.\n",
    "\n",
    "**Concetti e competenze chiave**\n",
    "\n",
    "- Selezione di ipotesi attraverso il teorema di Bayes.\n",
    "- Distinzione tra \"Grande Mondo\" e \"Piccolo Mondo\" secondo @McElreath_rethinking.\n",
    "- \"Validità poetica\" e disconnessione tra teoria e osservazione.\n",
    "- Concetti di Paul Meehl sulla teoria sostanziale, ipotesi statistica testabile e osservazioni.\n",
    "- Problemi epistemologici e operazionalizzazione dei concetti teorici in concetti empirici.\n",
    "- Selezione dei modelli e capacità di generalizzazione."
   ]
  },
  {
   "cell_type": "markdown",
   "metadata": {},
   "source": [
    "## Introduzione {.unnumbered}\n",
    "\n",
    "La selezione delle ipotesi attraverso il teorema di Bayes e l'uso di strumenti come l'Expected Log Predictive Density (ELPD) per il confronto tra modelli costituiscono approcci potenti, ma non risolvono completamente il problema dell'inferenza statistica. Come sottolineato da @McElreath_rethinking, queste metodologie operano all'interno di un \"piccolo mondo\" teorico, e non è sempre chiaro come tali soluzioni si estendano al \"grande mondo\" complesso e variabile che desideriamo realmente comprendere. Questo capitolo si propone di esplorare questa disconnessione, esaminando la distanza tra la teoria empirica dei fenomeni e i modelli statistici semplificati che possiamo effettivamente testare.\n",
    "\n",
    "## Inferenza Statistica\n",
    "\n",
    "L'inferenza statistica è un processo induttivo in cui i dati osservati non forniscono informazioni sufficienti per determinare con certezza il processo che li ha generati. La regola di Bayes offre una soluzione ottimale per aggiornare le nostre convinzioni alla luce di nuovi dati. @McElreath_rethinking introduce il concetto di “Grande Mondo,” un universo infinito di processi che potrebbero spiegare le nostre osservazioni. Poiché è impossibile considerare tutte le possibilità di questo \"Grande Mondo,\" ci concentriamo sul “Piccolo Mondo,” una rappresentazione semplificata che limita l'analisi a un insieme finito di modelli e parametri pertinenti.\n",
    "\n",
    "Ad esempio, consideriamo l'analisi dell'altezza umana utilizzando un modello probabilistico in cui l'altezza segue una distribuzione normale, caratterizzata da una media (µ) e una deviazione standard (σ). L'obiettivo è stimare questi parametri sconosciuti. La funzione di verosimiglianza, derivata dalle distribuzioni di probabilità nel Piccolo Mondo, rappresenta questo insieme di possibilità. Tuttavia, questo insieme può essere troppo vasto per essere gestito in modo efficace, quindi utilizziamo la nostra conoscenza pregressa per restringere il campo.\n",
    "\n",
    "Nell'inferenza bayesiana, queste conoscenze preesistenti vengono espresse tramite una distribuzione di probabilità a priori, che riflette le nostre convinzioni iniziali sui parametri del modello. La regola di Bayes permette di aggiornare queste convinzioni alla luce dei nuovi dati, producendo una distribuzione a posteriori che offre una stima più accurata dei parametri che descrivono il processo generativo dei dati.\n",
    "\n",
    "In sintesi, l'inferenza statistica ci avvicina alla comprensione di fenomeni complessi attraverso la modellazione semplificata nel \"Piccolo Mondo\". L'inferenza bayesiana integra le conoscenze pregresse con i nuovi dati per perfezionare le nostre stime, con l'obiettivo di individuare modelli del \"Piccolo Mondo\" che, pur non essendo perfetti, siano efficaci nel fare previsioni e nel migliorare la nostra comprensione del fenomeno in esame.\n",
    "\n",
    "## Validità Poetica {#sec-poetic-validity}\n",
    "\n",
    "Abbiamo esplorato il teorema di Bayes come metodo per valutare la plausibilità di un'ipotesi, uno dei motivi principali della sua importanza. Tuttavia, è cruciale riconoscere che quantificare la plausibilità di un'ipotesi non risolve pienamente il problema scientifico dell'inferenza. Come illustrato da @navarro2019between, usando una metafora di @box1976science:\n",
    "\n",
    "> Since all models are wrong, the scientist must be alert to what is importantly wrong. It is inappropriate to be concerned about mice when there are tigers abroad.\n",
    "\n",
    "In questa metafora, i \"topi\" rappresentano i dettagli del nostro modello statistico, mentre la \"tigre\" è la disconnessione tra i dati osservati, modellizzati con il teorema di Bayes, e la teoria del fenomeno, che è al centro del nostro interesse.\n",
    "\n",
    "Paul Meehl ha ulteriormente articolato questo problema distinguendo tre livelli: la teoria sostanziale (A), l'ipotesi statistica testabile (T) e le osservazioni (O). La relazione tra questi tre livelli solleva difficoltà significative:\n",
    "\n",
    "> The map from substantive theory (A) to testable statistical hypothesis (T) goes through a derivation chain involving auxiliary theories, instruments, ceteris paribus assertions, and experimental conditions. The map from hypothesis to observation is through the statistical model manufactured by the derivation chain.\n",
    "\n",
    "La teoria statistica offre vari strumenti per inferire la veridicità di T da O, spesso utilizzando la regola di Bayes. Tuttavia, anche se possiamo concludere che T è altamente probabile dato O, non risolviamo il problema di calcolare la probabilità di A da T. Meehl sosteneva che non esiste una procedura formale capace di tradurre rigorosamente le osservazioni empiriche (O) nella teoria scientifica (A).\n",
    "\n",
    "Il concetto di [\"validità poetica\"](https://kevinmunger.substack.com/p/do-echo-chambers-cause-echo-chambers) descrive questa disconnessione. La validità poetica si riferisce alla capacità di un'idea di risuonare con l'intelletto umano e con l'esperienza, anche quando non può essere rigorosamente validata scientificamente o statisticamente. Sottolinea l'importanza dell'intuizione e della comprensione qualitativa nella teoria scientifica, completando l'approccio puramente quantitativo e formale [@hardt2022patterns].\n",
    "\n",
    "La dicotomia tra concetti teorici ed empirici, manifestata nel processo di operazionalizzazione, chiarisce ulteriormente questa problematica [@hempel1970formazione]. L'operazionalizzazione dei concetti teorici in concetti empirici è un processo arbitrario e comporta un mapping uno-a-molti, che comporta diverse implicazioni:\n",
    "\n",
    "- *Sottodeterminazione delle teorie:* Nessun test di ipotesi può essere considerato un test diretto di una teoria, poiché l'operazionalizzazione introduce un elemento di arbitrarietà.\n",
    "- *Flessibilità teorica:* La relazione uno-a-molti tra concetti teorici ed empirici consente un raffinamento progressivo delle teorie.\n",
    "- *Ambiguità empirica:* Operazionalizzazioni diverse possono portare a risultati contraddittori rispetto alla stessa teoria.\n",
    "- *Necessità di formalizzazione:* Le teorie psicologiche devono essere espresse in termini formali per permettere predizioni quantitative.\n",
    "\n",
    "In conclusione, il problema della demarcazione tra teoria e osservazione in psicologia rimane un tema aperto e cruciale. La consapevolezza di queste limitazioni epistemologiche dovrebbe guidare la pratica della ricerca empirica e l'interpretazione dei suoi risultati, promuovendo un approccio più critico alla costruzione, validazione e interpretazione delle teorie psicologiche.\n",
    "\n",
    "### Tra il Diavolo e il Mare Aperto\n",
    "\n",
    "Nel campo della selezione dei modelli, ci troviamo spesso di fronte a teorie concorrenti, ognuna rappresentata da modelli computazionali che offrono interpretazioni diverse degli stessi dati. La questione cruciale è: come decidere quale modello sia meglio supportato dai dati? Questo è un problema centrale dell'inferenza statistica, e la cross-validation è uno dei metodi utilizzati per cercare una risposta, come abbiamo visto nel @sec-loo.\n",
    "\n",
    "Tuttavia, @navarro2019between sottolinea che, sebbene la selezione dei modelli sia un passaggio importante, applicare questa procedura a problemi semplificati non è sufficiente per affrontare le complesse questioni inferenziali che gli scienziati devono affrontare. Gli scienziati sono consapevoli che tutti i modelli sono, in una certa misura, errati; non comprendiamo pienamente i fenomeni che studiamo, e ogni descrizione formale è inevitabilmente approssimativa e soggetta a errori sistematici. Pertanto, devono navigare tra il diavolo della decisione statistica e il mare aperto delle questioni scientifiche sostanziali. \n",
    "\n",
    "Un approccio più utile potrebbe essere quello di concentrarsi su come i pattern qualitativi emergano dai dati empirici attraverso un modello computazionale di un processo psicologico, piuttosto che limitarsi a presentare misure quantitative delle prestazioni del modello. Dato quanto poco ancora sappiamo sul comportamento e sulla cognizione umana, e considerando l'artificialità di molti studi sperimentali, è lecito chiedersi quale sia il reale valore di quantificare la capacità di un modello di prevedere ogni dettaglio dei dati. In pratica, una selezione dei modelli basata esclusivamente su misure quantitative tende a privilegiare modelli che fanno affidamento su assunzioni accessorie, senza necessariamente risolvere i problemi scientifici fondamentali.\n",
    "\n",
    "La vera forza di una teoria scientifica, quindi, non risiede solo nella sua capacità di prevedere nuovi dati derivati da esperimenti passati, ma soprattutto nel suo potenziale di aprire la strada a nuove esplorazioni e scoperte."
   ]
  },
  {
   "cell_type": "markdown",
   "id": "b318aa0d-78b8-4f73-80e0-117f3ccfb08f",
   "metadata": {},
   "source": [
    "## Riflessioni Conclusive \n",
    "\n",
    "In questo capitolo, abbiamo esaminato le complessità e le sfide dell'inferenza statistica e della selezione dei modelli attraverso una lente bayesiana. Sebbene il teorema di Bayes e i suoi strumenti derivati, come l'Expected Log Predictive Density (ELPD), siano potenti per aggiornare e confrontare modelli, essi operano principalmente in un \"Piccolo Mondo\" semplificato. Questo limita la nostra capacità di trarre conclusioni definitive sul \"Grande Mondo\" reale che ci interessa.\n",
    "\n",
    "La \"validità poetica\" sottolinea l'importanza di riconoscere le limitazioni intrinseche delle nostre rappresentazioni statistiche e di valorizzare l'intuizione e la comprensione qualitativa nel contesto scientifico. La distinzione tra concetti teorici e osservazioni empiriche ci ricorda che, nonostante i progressi metodologici, rimane una disconnessione fondamentale tra la teoria e le osservazioni empiriche.\n",
    "\n",
    "Infine, la capacità di un modello di generalizzare, piuttosto che di prevedere perfettamente i dati osservati, emerge come un criterio cruciale per la sua utilità scientifica. L'esempio del modello di Rescorla-Wagner illustra come un buon modello possa stimolare nuove esplorazioni e approfondimenti, dimostrando che il vero valore di una teoria scientifica risiede nella sua capacità di guidare l'indagine futura piuttosto che semplicemente adattarsi ai dati esistenti.\n",
    "\n",
    "In sintesi, le riflessioni presentate in questo capitolo ci invitano a mantenere un equilibrio tra rigore quantitativo e intuizione qualitativa, riconoscendo i limiti delle nostre tecniche e cercando continuamente di migliorare le nostre rappresentazioni del mondo reale."
   ]
  }
 ],
 "metadata": {
  "kernelspec": {
   "display_name": "pymc5_env",
   "language": "python",
   "name": "python3"
  },
  "language_info": {
   "codemirror_mode": {
    "name": "ipython",
    "version": 3
   },
   "file_extension": ".py",
   "mimetype": "text/x-python",
   "name": "python",
   "nbconvert_exporter": "python",
   "pygments_lexer": "ipython3",
   "version": "3.12.4"
  }
 },
 "nbformat": 4,
 "nbformat_minor": 2
}

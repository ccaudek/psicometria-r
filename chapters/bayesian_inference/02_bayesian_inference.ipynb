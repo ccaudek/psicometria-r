{
 "cells": [
  {
   "attachments": {},
   "cell_type": "markdown",
   "id": "5db39144-cf42-4b5b-838d-f3b7a933bf08",
   "metadata": {},
   "source": [
    "# Inferenza bayesiana {#sec-bayes-inference}"
   ]
  },
  {
   "cell_type": "markdown",
   "metadata": {},
   "source": [
    "**Prerequisiti**\n",
    "\n",
    "- Leggere il capitolo *Bayes' Rule* di @Johnson2022bayesrules.\n",
    "\n",
    "**Concetti e Competenze Chiave**\n",
    "\n",
    "- Distribuzione marginale.\n",
    "- Approccio analitico e numerico per determinare la distribuzione a posteriori.\n",
    "- Linguaggi di programmazione probabilistici.\n",
    "- Inferenza predittiva.\n",
    "\n",
    "**Preparazione del Notebook**"
   ]
  },
  {
   "cell_type": "code",
   "execution_count": 22,
   "id": "78e81b90-bd60-436f-8c5d-44ae936ff8a3",
   "metadata": {
    "tags": [
     "hide-output"
    ]
   },
   "outputs": [],
   "source": [
    "import numpy as np\n",
    "import matplotlib.pyplot as plt\n",
    "import arviz as az\n",
    "import scipy.stats as stats\n",
    "from scipy.stats import beta\n",
    "from scipy.special import factorial\n",
    "from scipy.special import comb\n",
    "import scipy.special as sp\n",
    "from scipy.stats import beta\n",
    "from scipy.integrate import quad"
   ]
  },
  {
   "cell_type": "code",
   "execution_count": 2,
   "id": "be83839b-9f17-4242-a3f0-52d1a6716585",
   "metadata": {},
   "outputs": [],
   "source": [
    "RANDOM_SEED = 8927\n",
    "rng = np.random.default_rng(RANDOM_SEED)\n",
    "az.style.use(\"arviz-darkgrid\")\n",
    "%config InlineBackend.figure_format = 'retina'"
   ]
  },
  {
   "cell_type": "markdown",
   "metadata": {},
   "source": [
    "## Introduzione {.unnumbered}\n",
    "\n",
    "Questo capitolo approfondisce i concetti introdotti nel capitolo precedente, presentando l'aggiornamento bayesiano in modo più formale e dettagliato.\n",
    "\n",
    "## Paradigma Bayesiano\n",
    "\n",
    "L'approccio bayesiano alla statistica si fonda sull'idea di rappresentare la conoscenza a priori sui parametri che governano un fenomeno attraverso distribuzioni di probabilità. Queste distribuzioni a priori riflettono le credenze iniziali del ricercatore riguardo ai parametri, prima di osservare i dati. Quando nuovi dati vengono raccolti, l'informazione fornita da tali dati viene integrata nel modello tramite la funzione di verosimiglianza, che rappresenta la probabilità di osservare quei dati dati i parametri ipotizzati.\n",
    "\n",
    "Attraverso l'applicazione del Teorema di Bayes, le credenze a priori vengono aggiornate combinando la distribuzione a priori con la verosimiglianza dei dati. Questo processo produce la distribuzione a posteriori, che rappresenta una nuova e più informata stima dei parametri, tenendo conto sia delle credenze iniziali sia dei dati osservati.\n",
    "\n",
    "L'approccio bayesiano richiede un cambiamento di prospettiva rispetto ai metodi classici di stima dei parametri. Non ci si limita più a trovare un singolo valore \"ottimale\" per i parametri del modello. Invece, l'obiettivo è determinare l'intera distribuzione a posteriori dei parametri, che descrive in modo completo lo stato di conoscenza attuale. Solo questa distribuzione fornisce una rappresentazione adeguata dell'incertezza associata ai parametri, permettendo di quantificare non solo quali valori sono più probabili, ma anche l'ampiezza dell'incertezza su tali stime.\n",
    "\n",
    "### Vantaggi dell'Approccio Bayesiano\n",
    "\n",
    "Un aspetto distintivo dell'inferenza bayesiana è la sua capacità di gestire l'incertezza in modo esplicito. Invece di limitarsi a una singola stima puntuale, l'approccio bayesiano considera l'intero spettro di valori possibili per i parametri e le loro rispettive probabilità. Questo consente una rappresentazione più ricca delle informazioni disponibili e una valutazione più robusta delle ipotesi.\n",
    "\n",
    "Inoltre, l'approccio bayesiano è altamente flessibile, permettendo di incorporare informazioni precedenti sotto forma di distribuzioni a priori. In contesti in cui si dispone di conoscenze pregresse, come dati di studi precedenti o teorie consolidate, questa caratteristica offre un vantaggio notevole rispetto agli approcci frequentisti, che non integrano facilmente tali informazioni.\n",
    "\n",
    "In conclusione, il paradigma bayesiano offre una visione più ampia e completa dell'incertezza e della variabilità dei parametri rispetto ai metodi tradizionali, rappresentando un quadro teorico e pratico fondamentale per l'inferenza statistica e la modellazione.\n",
    "\n",
    "## Densità di Probabilità\n",
    "\n",
    "Nei capitoli precedenti abbiamo esaminato alcuni esempi di <font color='orange'>funzioni di densità di probabilità (PDF)</font>. Ma quali sono le caratteristiche generali di una PDF?\n",
    "\n",
    "Se $X$ è una variabile casuale con una funzione di densità di probabilità $p(x)$, la probabilità che $X$ assuma un valore nell'intervallo $(a, b)$ può essere calcolata come:\n",
    "\n",
    "$$\n",
    "p(X \\in (a,b)) = \\int_a^b p(x)dx.\n",
    "$$\n",
    "\n",
    "Per variabili discrete, l'integrazione si trasforma in una somma.\n",
    "\n",
    "### Le Regole di Somma e Prodotto\n",
    "\n",
    "Date due variabili casuali continue $x$ e $y$, le regole di somma e prodotto per le densità di probabilità si esprimono come:\n",
    "\n",
    "$$\n",
    "\\begin{align*}\n",
    "p(y) = \\int p(x,y)dx \\quad &\\text{- regola della somma},\\\\\n",
    "p(x,y) = p(y|x) p(x) = p(x|y) p(y) \\quad &\\text{- regola del prodotto}.\n",
    "\\end{align*}\n",
    "$$\n",
    "\n",
    "La probabilità $p(y)$ è chiamata <font color='orange'>probabilità marginale</font>.\n",
    "\n",
    "La regola del prodotto specifica che la distribuzione congiunta di due variabili può essere espressa come il prodotto di una distribuzione condizionata $p(y \\mid x)$ e una distribuzione marginale $p(x)$, o viceversa.\n",
    "\n",
    "### La Distribuzione Marginale\n",
    "\n",
    "La distribuzione marginale si riferisce alla distribuzione di probabilità di una variabile quando si tiene conto di tutte le possibili variazioni dell'altra variabile in una distribuzione congiunta. In altre parole, essa descrive la probabilità di una variabile indipendentemente dall'altra.\n",
    "\n",
    "Consideriamo due variabili correlate, $x$ e $y$. Possiamo esprimere la relazione tra di esse con la <font color='orange'>regola del prodotto</font>:\n",
    "\n",
    "$$\n",
    "p(x, y) = p(y \\mid x)p(x),\n",
    "$$\n",
    "\n",
    "dove $p(y \\mid x)$ è la probabilità di $y$ dato un certo valore di $x$, e $p(x)$ è la distribuzione di probabilità di $x$.\n",
    "\n",
    "Per ottenere la distribuzione marginale di $y$, dobbiamo sommare o integrare $p(y \\mid x)$ su tutti i possibili valori di $x$:\n",
    "\n",
    "$$\n",
    "p(y) = \\int p(y \\mid x)p(x)dx.\n",
    "$$\n",
    "\n",
    "In questo modo, la distribuzione marginale di $y$ rappresenta la probabilità di $y$, tenendo conto di tutte le possibili variazioni di $x$."
   ]
  },
  {
   "cell_type": "markdown",
   "metadata": {},
   "source": [
    "### Il Teorema di Bayes\n",
    "\n",
    "Dalla regola di prodotto, e sfruttando la proprietà di simmetria $p(x \\mid y)p(y) = p(y \\mid x)p(x)$, deriviamo immediatamente la regola di Bayes:\n",
    "\n",
    "$$\n",
    "p(y \\mid x) = \\frac{p(x \\mid y)p(y)}{p(x)} = \\frac{p(x \\mid y)p(y)}{\\int p(x \\mid y)p(y)dy}.\n",
    "$$\n",
    "\n",
    "Questa formula è l'elemento chiave nell'inferenza bayesiana, poiché definisce la densità a posteriori di $y$, $p(y \\mid x)$, dopo aver incorporato l'informazione $x$ attraverso il modello di probabilità condizionata $p(x \\mid y)$. La probabilità marginale di $x$, $p(x)$, funge da costante di normalizzazione, garantendo che $p(y \\mid x)$ sia una corretta funzione di densità di probabilità."
   ]
  },
  {
   "cell_type": "markdown",
   "metadata": {},
   "source": [
    "### Modellizzazione e Inferenza Bayesiana\n",
    "\n",
    "La modellizzazione bayesiana consiste nel descrivere matematicamente tutti i dati osservabili $y$ e i parametri non osservabili, detti anche parametri \"latenti\" $\\theta$, definendo la distribuzione congiunta di dati e parametri $p(y, \\theta)$.\n",
    "\n",
    "Si costruiscono modelli probabilistici per le quantità osservate condizionate ai parametri $p(y \\mid \\theta)$ e per le quantità non osservate, rappresentate dalla distribuzione a priori $p(\\theta)$, che rappresenta le nostre conoscenze precedenti sui parametri. Questi due elementi vengono combinati, seguendo la regola del prodotto, per formare una distribuzione congiunta:\n",
    "\n",
    "$$\n",
    "p(y, \\theta) = p(y \\mid \\theta)p(\\theta).\n",
    "$$\n",
    "\n",
    "### Il Modello Osservazionale\n",
    "\n",
    "La funzione\n",
    "\n",
    "$$\n",
    "p(y \\mid \\theta)\n",
    "$$\n",
    "\n",
    "è un <font color='orange'>modello probabilistico dei dati osservati</font> che mette in relazione $y$ con i parametri sconosciuti $\\theta$ che vogliamo stimare. Questo modello rappresenta l'evidenza fornita dai dati e costituisce la principale fonte di informazione. In questo contesto, viene chiamato <font color='orange'>funzione di verosimiglianza</font> (*likelihood*). È importante notare che la funzione di verosimiglianza nel contesto bayesiano non è diversa da quella utilizzata nell'approccio frequentista: in entrambi i casi collega i dati osservati ai parametri sconosciuti.\n",
    "\n",
    "### La Distribuzione a Priori\n",
    "\n",
    "La distribuzione\n",
    "\n",
    "$$\n",
    "p(\\theta)\n",
    "$$\n",
    "\n",
    "rappresenta la <font color='orange'>distribuzione a priori</font> dei parametri, che codifica le conoscenze preesistenti sui parametri stessi. Questa distribuzione a priori può essere <font color='orange'>informativa</font> o <font color='orange'>non informativa</font>, a seconda della quantità di informazioni affidabili che si possiedono sui parametri. Uno degli aspetti principali che differenziano l'approccio bayesiano da quello frequentista è l'uso delle distribuzioni di probabilità per i parametri sconosciuti. Queste distribuzioni vengono poi combinate con la funzione di verosimiglianza per ottenere una distribuzione a posteriori, che incorpora sia le informazioni precedenti che le evidenze fornite dai nuovi dati."
   ]
  },
  {
   "cell_type": "markdown",
   "metadata": {},
   "source": [
    "### Inferenza sui Parametri\n",
    "\n",
    "Ottenere la distribuzione a posteriori dei parametri sconosciuti è l'elemento centrale dell'approccio bayesiano. Riformulando la regola di Bayes in termini di $y$ e $\\theta$, otteniamo una formula che ci mostra come calcolare la distribuzione a posteriori:\n",
    "\n",
    "$$\n",
    "p(\\theta \\mid y) = \\frac{p(y \\mid \\theta)p(\\theta)}{p(y)} = \\frac{p(y \\mid \\theta)p(\\theta)}{\\int p(y \\mid \\theta)p(\\theta) d\\theta}.\n",
    "$$\n",
    "\n",
    "Il denominatore della regola di Bayes,\n",
    "\n",
    "$$\n",
    "p(y) = \\int p(y \\mid \\theta)p(\\theta) d \\theta,\n",
    "$$\n",
    "\n",
    "è chiamato <font color='orange'>verosimiglianza marginale</font>, poiché integra la verosimiglianza rispetto all'informazione a priori sui parametri. Questa quantità è anche nota come <font color='orange'>evidenza</font> del modello e serve a normalizzare la distribuzione a posteriori, rendendola una vera distribuzione di probabilità. L'inferenza finale sarà un compromesso tra l'evidenza fornita dai dati e l'informazione a priori disponibile."
   ]
  },
  {
   "cell_type": "markdown",
   "metadata": {},
   "source": [
    "### Inferenza bayesiana in sintesi: verosimiglianza, prior, posteriore\n",
    "\n",
    "Per riassumere, ecco tutti i componenti fondamentali dell'inferenza bayesiana.\n",
    "\n",
    "Il teorema di Bayes, espresso in termini di dati $y$ e parametri del modello $\\theta$, è\n",
    "\n",
    "$$\n",
    "p(\\theta \\mid y) = \\frac{p(y \\mid \\theta)p(\\theta)}{p(y)},\n",
    "$$\n",
    "\n",
    "dove:\n",
    "\n",
    "- Il denominatore $p(y)$ è la costante di normalizzazione o *evidenza*.\n",
    "- $p(\\theta)$ rappresenta il *prior*, ovvero le credenze iniziali sui parametri.\n",
    "- $p(y \\mid \\theta)$ è la *verosimiglianza*, che collega i dati osservati ai parametri del modello.\n",
    "- $p(\\theta \\mid y)$ è la *distribuzione a posteriori*, che rappresenta le credenze aggiornate sui parametri dopo aver osservato i dati.\n",
    "\n",
    "La distribuzione a posteriori riassume il nostro stato di credenza sui possibili valori di $\\theta$, aggiornato sulla base delle evidenze fornite dai dati.\n",
    "\n",
    "Si noti che $p(y)$ non dipende dai parametri $\\theta$. Pertanto, in molte situazioni pratiche, è sufficiente calcolare la distribuzione a posteriori fino a una costante. Per questo motivo, spesso la regola di Bayes viene riassunta come:\n",
    "\n",
    "$$p(\\theta \\mid y) \\propto p(y \\mid \\theta)p(\\theta).$$\n",
    "\n",
    "In questa forma, si ignora il denominatore poiché è una costante (indipendente da $\\theta$). "
   ]
  },
  {
   "cell_type": "markdown",
   "metadata": {},
   "source": [
    "### Il Ruolo dei Priors\n",
    "\n",
    "Una delle caratteristiche distintive dell'approccio bayesiano è l'incorporazione delle conoscenze a priori riguardo ai parametri del modello. Dichiarare questi priors ci obbliga a esplicitare tutte le assunzioni che facciamo sulla struttura del modello e sui suoi parametri. Allo stesso tempo, i priors sono spesso oggetto di critica nell'inferenza bayesiana a causa della soggettività che possono introdurre.\n",
    "\n",
    "Tuttavia, l'inferenza bayesiana offre alcuni vantaggi meno evidenti a prima vista, tra cui:\n",
    "\n",
    "- la capacità di lavorare efficacemente con piccoli set di dati,\n",
    "- la capacità di eseguire la regolarizzazione del modello. \n",
    "\n",
    "Questi aspetti rendono l'approccio bayesiano particolarmente utile in situazioni in cui i dati sono scarsi o le assunzioni esplicite sul modello possono contribuire a migliorare le previsioni."
   ]
  },
  {
   "cell_type": "markdown",
   "metadata": {},
   "source": [
    "## Inferenza Predittiva\n",
    "\n",
    "La distribuzione a posteriori dei parametri può essere utilizzata per modellare l'incertezza nelle previsioni $\\tilde{y}$ relative a nuove osservazioni. La <font color='orange'>distribuzione predittiva a posteriori</font> di $\\tilde{y}$ si ottiene marginalizzando la distribuzione congiunta delle previsioni $\\tilde{y}$ e dei parametri $\\theta$ rispetto ai parametri del modello:\n",
    "\n",
    "$$\n",
    "p(\\tilde{y} \\mid y) = \\int p(\\tilde{y}, \\theta \\mid y)d \\theta = \\int p(\\tilde{y} \\mid \\theta, y)p(\\theta|y)d\\theta.\n",
    "$$\n",
    "\n",
    "In questo modo, la distribuzione predittiva può essere vista come una media delle previsioni del modello $p(\\tilde{y} \\mid \\theta, y)$ ponderata sulla distribuzione a posteriori dei parametri del modello $p(\\theta \\mid y)$. Questo consente di incorporare l'incertezza sui parametri nel processo di previsione, rendendo le stime più robuste."
   ]
  },
  {
   "cell_type": "markdown",
   "metadata": {},
   "source": [
    "## Come possiamo eseguire l'inferenza bayesiana?\n",
    "\n",
    "Esistono due approcci principali per determinare la distribuzione posteriore:\n",
    "\n",
    "1. **Approccio Analitico (o Coniugato)**: Questo metodo è applicabile quando la distribuzione a priori scelta e la funzione di verosimiglianza appartengono alla stessa famiglia di distribuzioni, definite *coniugate*. In questi casi, la distribuzione posteriore può essere calcolata analiticamente, ovvero attraverso formule matematiche esatte. L'approccio coniugato è computazionalmente efficiente ma presenta una limitazione significativa: è applicabile solo in situazioni in cui si può assumere una coniugazione tra la distribuzione a priori e la verosimiglianza. Di conseguenza, trova un impiego limitato nelle analisi di dati reali, dove spesso le assunzioni di coniugazione risultano troppo restrittive.\n",
    "   \n",
    "2. **Approccio Numerico**: Quando non è possibile ottenere una forma analitica chiusa per la distribuzione posteriore, a causa della complessità del modello o della mancanza di coniugazione tra la distribuzione a priori e la verosimiglianza, si ricorre a metodi numerici. Questi algoritmi consentono di ottenere una stima approssimata, ma spesso accurata, della distribuzione posteriore.\n",
    "\n",
    "### Metodi Numerici\n",
    "\n",
    "Le catene di Markov Monte Carlo (MCMC) sono una classe di algoritmi ampiamente utilizzati in questo contesto. Essi costruiscono una catena di Markov che converge alla distribuzione posteriore desiderata. Tra i metodi MCMC più comuni troviamo:\n",
    "\n",
    "- *Metropolis-Hastings*: Un algoritmo generale che consente di campionare da una vasta gamma di distribuzioni posteriori.\n",
    "- *Gibbs Sampling*: Un caso particolare di Metropolis-Hastings, particolarmente efficiente quando la distribuzione congiunta è difficile da campionare direttamente, ma le distribuzioni condizionali sono note.\n",
    "\n",
    "Oltre alle MCMC, esistono altre tecniche numeriche:\n",
    "\n",
    "- *Variational Bayes*: Questo approccio consiste nel trovare la distribuzione $q(z)$ che meglio approssima la distribuzione posteriore $p(z \\mid x)$, secondo un criterio di divergenza (ad esempio, la divergenza di Kullback-Leibler). L'obiettivo è trasformare il problema di inferenza esatta in un problema di ottimizzazione. Variational Bayes offre spesso una soluzione più veloce rispetto alle MCMC, ma l'approssimazione può essere meno accurata in alcuni casi.\n",
    "- *Laplace approximation*: Questa tecnica consiste nell'approssimare la distribuzione posteriore con una distribuzione normale centrata sul massimo a posteriori (MAP) e con matrice di covarianza pari all'inverso della matrice di Hessiano negativa calcolata nel MAP. L'approssimazione di Laplace è computazionalmente efficiente, ma è valida solo localmente attorno al MAP e può portare a stime inaccurate della varianza posteriore.\n",
    "\n",
    "Vantaggi: \n",
    "\n",
    "- Versatilità: L'approccio numerico è applicabile a una vasta gamma di modelli e distribuzioni. \n",
    "- Flessibilità: Consente di incorporare facilmente informazioni a priori complesse. \n",
    "\n",
    "Svantaggi:\n",
    "\n",
    "- Costo computazionale: Può richiedere un tempo di calcolo considerevole, soprattutto per modelli complessi o grandi dataset.\n",
    "- Tuning: La scelta dei parametri degli algoritmi MCMC (ad esempio, la proposta iniziale) può influenzare la convergenza e l'efficienza del campionamento.\n",
    "\n",
    "In sintesi, l'approccio numerico offre una soluzione generale e flessibile per l'inferenza bayesiana, ma richiede una maggiore attenzione alla scelta degli algoritmi e alla valutazione della convergenza delle catene.\n",
    "\n",
    "## Programmazione Probabilistica\n",
    "\n",
    "I linguaggi di programmazione probabilistica (PPL) rappresentano un'importante innovazione nella modellazione bayesiana, facilitando l'uso di tecniche di approssimazione numerica per stimare le distribuzioni posteriori. Grazie ai PPL, la modellizzazione probabilistica diventa più accessibile, riducendo le barriere tecniche e computazionali. Questi strumenti consentono di definire modelli in modo dichiarativo, descrivendo le relazioni tra le variabili in termini probabilistici senza doversi occupare dei dettagli algoritmici sottostanti. In altre parole, i PPL permettono ai ricercatori di concentrarsi sull'espressione del modello, lasciando ai linguaggi il compito di gestire l'implementazione computazionale.\n",
    "\n",
    "Tra i PPL più utilizzati troviamo:\n",
    "\n",
    "- **Stan**: Uno dei linguaggi più popolari, noto per la sua efficienza e flessibilità.\n",
    "- **PyMC**: Molto utilizzato nell'ecosistema Python, offre un'interfaccia user-friendly per la modellazione bayesiana.\n",
    "- **TensorFlow**: Un framework che combina un approccio probabilistico con le reti neurali.\n",
    "\n",
    "### Vantaggi della Programmazione Probabilistica in Psicologia\n",
    "\n",
    "La programmazione probabilistica offre numerosi vantaggi per la ricerca psicologica, in particolare per l'analisi di processi complessi come l'apprendimento, le emozioni e il comportamento. Alcuni dei principali vantaggi includono:\n",
    "\n",
    "- **Flessibilità**: I PPL, come Stan, Pyro, Numpyro, PyMC e Turing.jl, offrono un quadro flessibile per la definizione e la personalizzazione dei modelli probabilistici. In psicologia, questa flessibilità è cruciale, poiché i modelli devono adattarsi a una vasta gamma di processi mentali e comportamentali che variano tra individui e contesti.\n",
    "\n",
    "- **Quantificazione dell'Incertezza**: La programmazione probabilistica permette di rappresentare esplicitamente e quantificare l'incertezza, un aspetto fondamentale in psicologia, dove molte variabili di interesse, come stati emotivi o atteggiamenti, sono latenti e soggette a incertezza. Incorporare questa incertezza nei modelli consente di ottenere stime più realistiche e affidabili.\n",
    "\n",
    "- **Validazione del Modello**: I PPL facilitano la validazione dei modelli psicologici, consentendo ai ricercatori di confrontare le previsioni dei modelli con i dati osservati. Tecniche come i *posterior predictive checks* permettono di valutare la qualità e l'affidabilità del modello, contribuendo a una maggiore solidità delle conclusioni.\n",
    "\n",
    "- **Modellazione Gerarchica**: Molti studi psicologici raccolgono dati a più livelli (ad esempio, misurazioni ripetute per individuo, sessioni sperimentali, contesti diversi). I PPL semplificano la costruzione e l'analisi di modelli gerarchici, catturando la variabilità sia intra- che inter-individuale.\n",
    "\n",
    "- **Selezione e Confronto dei Modelli**: In psicologia è spesso necessario confrontare modelli con strutture diverse o ipotesi alternative. I PPL permettono di confrontare le capacità predittive dei modelli in modo sistematico e rigoroso, supportando la scelta del modello più adatto basandosi sull'accuratezza predittiva e non solo sulla complessità.\n",
    "\n",
    "- **Comunicazione Trasparente**: La programmazione probabilistica favorisce la trasparenza nella modellizzazione. I ricercatori possono specificare chiaramente le assunzioni del modello, i *prior* e le funzioni di verosimiglianza, rendendo più facile la comunicazione e la collaborazione con altri esperti.\n",
    "\n",
    "- **Librerie Estensibili**: I PPL offrono librerie estese e strumenti avanzati per lo sviluppo di modelli, l'inferenza e la visualizzazione. Questo riduce il carico computazionale e di implementazione, rendendo più agevole l'analisi di dati complessi tipici della psicologia sperimentale e clinica.\n",
    "\n",
    "### Come Funzionano i PPL?\n",
    "\n",
    "I linguaggi di programmazione probabilistica richiedono semplicemente la descrizione del modello probabilistico. Successivamente, utilizzano algoritmi di inferenza, come le catene di Markov Monte Carlo (MCMC) o l'inferenza variazionale, per stimare la distribuzione posteriore delle variabili di interesse. Ciò consente ai ricercatori di ottenere stime delle variabili sconosciute e di valutare l'incertezza associata.\n",
    "\n",
    "In conclusione, i linguaggi di programmazione probabilistica hanno trasformato il modo in cui affrontiamo l'inferenza bayesiana, rendendola più accessibile e potente. Grazie alla loro semplicità d'uso e alla potenza computazionale, i PPL hanno reso l'inferenza bayesiana uno strumento sempre più diffuso in molte discipline, inclusa la psicologia. Questo approccio facilita la modellazione di fenomeni complessi e l'analisi rigorosa di dati, offrendo un metodo efficace per rispondere a domande di ricerca psicologica in modo trasparente e accurato."
   ]
  },
  {
   "cell_type": "markdown",
   "metadata": {},
   "source": [
    "## Notazione\n",
    "\n",
    "In seguito, utilizzeremo $y$ per rappresentare i dati osservati e $\\theta$ per indicare i parametri sconosciuti di un modello statistico. Entrambi, $y$ e $\\theta$, saranno trattati come variabili casuali. Utilizzeremo $x$ per denotare le quantità note, come i predittori di un modello lineare.\n",
    "\n",
    "È comune scrivere modelli statistici utilizzando la seguente notazione:\n",
    "\n",
    "$$\n",
    "\\begin{aligned}\n",
    "y & \\sim \\mathrm{normal}(\\mu, \\sigma) \\\\\n",
    "\\mu & \\sim \\mathrm{normal}(0, 10) \\\\\n",
    "\\sigma & \\sim \\mathrm{normal}^+(\\sigma \\mid  0, 1),\n",
    "\\end{aligned}\n",
    "$$\n",
    "\n",
    "dove il simbolo $\\sim$ è chiamato *tilde* (`\\sim` in LaTeX). \n",
    "\n",
    "In generale, possiamo leggere $\\sim$ come *\"è distribuito come\"*, e questa notazione è usata come una scorciatoia per definire distribuzioni. L'esempio sopra può essere scritto anche come:\n",
    "\n",
    "$$\n",
    "\\begin{aligned}\n",
    "   p(y \\mid \\mu, \\sigma) & = \\mathrm{normal}(y \\mid  \\mu, \\sigma)\\\\\n",
    "   p(\\mu) & = \\mathrm{normal}(\\mu \\mid 0, 10)\\\\\n",
    "   p(\\sigma) & = \\mathrm{normal}^+(\\sigma \\mid  0, 1).\n",
    "\\end{aligned}\n",
    "$$"
   ]
  },
  {
   "cell_type": "markdown",
   "metadata": {},
   "source": [
    "## Addendum: La Verosimiglianza Marginale\n",
    "\n",
    "Nella discussione precedente, abbiamo introdotto la verosimiglianza marginale $p(y)$ come una costante di normalizzazione. Ma <font color='orange'>perché è così importante normalizzare la distribuzione posteriore?</font> La verosimiglianza marginale rappresenta la probabilità dei dati osservati, integrata su tutti i possibili valori del parametro $\\theta$. In altre parole, esprime la probabilità di osservare i dati senza fare riferimento a un particolare valore del parametro.\n",
    "\n",
    "Per comprendere intuitivamente, immagina di voler stimare la temperatura media di una stanza. Usando un termometro, ottieni una misurazione, ma sei consapevole che variabili come la posizione del termometro o l'ora del giorno potrebbero influenzare la lettura. La verosimiglianza marginale è equivalente a considerare la probabilità di ottenere una certa misurazione, prendendo in considerazione tutte queste possibili variabili.\n",
    "\n",
    "Senza la normalizzazione, la somma delle probabilità assegnate ai diversi valori del parametro non sarebbe uguale a 1, il che significherebbe che non avremmo una distribuzione di probabilità valida. Questo renderebbe difficile interpretare correttamente i risultati. La verosimiglianza marginale agisce come una costante di normalizzazione, garantendo che l'area sotto la curva della distribuzione posteriore sia esattamente pari a 1, come richiesto da una distribuzione di probabilità.\n",
    "\n",
    "La verosimiglianza marginale si calcola integrando (o sommando, nel caso di parametri discreti) la funzione di verosimiglianza rispetto a tutti i possibili valori del parametro, pesando ciascun valore con la sua probabilità a priori.\n",
    "\n",
    "Consideriamo un esempio con una variabile casuale binomiale $Y$, la cui funzione di massa di probabilità (PMF) $p(Y)$ dipende dal parametro $\\theta$. Supponiamo che $\\theta$ possa assumere uno tra tre valori specifici: 0.1, 0.5 o 0.9, ciascuno con una probabilità a priori di $\\frac{1}{3}$.\n",
    "\n",
    "Se i dati indicano $n = 10$ prove e $k = 7$ successi, la funzione di verosimiglianza è data da:\n",
    "\n",
    "$$\n",
    "p(k = 7, n = 10 \\mid \\theta) = \\binom{10}{7} \\theta^7 (1 - \\theta)^3.\n",
    "$$\n",
    "\n",
    "Per calcolare la verosimiglianza marginale $p(k = 7, n = 10)$, marginalizziamo su $\\theta$, valutando la verosimiglianza per ciascun valore di $\\theta$, moltiplicando per la probabilità a priori di ciascun $\\theta$, e sommando i risultati:\n",
    "\n",
    "$$\n",
    "p(k = 7, n = 10) = \\sum_{i=1}^{3} p(k = 7, n = 10 \\mid \\theta_i) \\cdot p(\\theta_i).\n",
    "$$\n",
    "\n",
    "Sostituendo i valori di $\\theta$ e le probabilità corrispondenti:\n",
    "\n",
    "$$\n",
    "p(k = 7, n = 10) = \\frac{1}{3} \\binom{10}{7} 0.1^7 (1 - 0.1)^3 + \\frac{1}{3} \\binom{10}{7} 0.5^7 (1 - 0.5)^3 + \\frac{1}{3} \\binom{10}{7} 0.9^7 (1 - 0.9)^3.\n",
    "$$\n",
    "\n",
    "Questo calcolo dimostra come la marginalizzazione su $\\theta$ incorpori tutte le sue possibili variazioni, ottenendo una stima complessiva che tiene conto dell'incertezza su $\\theta$.\n",
    "\n",
    "### Implementazione in Python\n",
    "\n",
    "Per implementare questo calcolo in Python, possiamo definire una funzione per calcolare la verosimiglianza per i valori discreti di $\\theta$ e poi sommare i risultati. Se invece i parametri sono continui, possiamo usare la libreria `scipy` per eseguire l'integrazione numerica.\n",
    "\n",
    "Ecco un esempio di codice Python per il calcolo della verosimiglianza marginale nel caso discreto:"
   ]
  },
  {
   "cell_type": "code",
   "execution_count": 17,
   "metadata": {},
   "outputs": [
    {
     "name": "stdout",
     "output_type": "stream",
     "text": [
      "Likelihood Marginale (discreta): 0.05819729199999999\n"
     ]
    }
   ],
   "source": [
    "def likelihood_binomial(theta, k, n):\n",
    "    return sp.comb(n, k) * (theta**k) * ((1 - theta) ** (n - k))\n",
    "\n",
    "\n",
    "# Valori di theta e probabilità a priori\n",
    "theta_values = [0.1, 0.5, 0.9]\n",
    "prior = 1 / 3  # Probabilità a priori per ciascun theta\n",
    "k = 7\n",
    "n = 10\n",
    "\n",
    "# Calcolo della verosimiglianza marginale\n",
    "marginal_likelihood_discrete = sum(\n",
    "    prior * likelihood_binomial(theta, k, n) for theta in theta_values\n",
    ")\n",
    "\n",
    "print(f\"Likelihood Marginale (discreta): {marginal_likelihood_discrete}\")"
   ]
  },
  {
   "cell_type": "markdown",
   "metadata": {},
   "source": [
    "Per l'integrazione continua, si può utilizzare `scipy.integrate.quad`:"
   ]
  },
  {
   "cell_type": "code",
   "execution_count": 20,
   "metadata": {},
   "outputs": [
    {
     "name": "stdout",
     "output_type": "stream",
     "text": [
      "Likelihood Marginale (continua): 0.09090909090909091\n"
     ]
    }
   ],
   "source": [
    "# Likelihood marginale su un intervallo continuo [0, 1]\n",
    "marginal_likelihood_continuous, _ = quad(\n",
    "    lambda theta: likelihood_binomial(theta, k, n), 0, 1\n",
    ")\n",
    "\n",
    "print(f\"Likelihood Marginale (continua): {marginal_likelihood_continuous}\")"
   ]
  },
  {
   "cell_type": "markdown",
   "metadata": {},
   "source": [
    "Nel codice precedente, utilizzando l'integrazione continua con `quad`, si calcola la verosimiglianza marginale integrando la funzione di verosimiglianza $p(k \\mid \\theta)$ rispetto a $\\theta$ su quell'intervallo. In questo modo, implicitamente, si sta usando una <font color='orange'>distribuzione a priori uniforme</font> su $[0, 1]$. Questo perché la verosimiglianza non è stata moltiplicata per una funzione di densità a priori, quindi il peso che si assegna a ciascun valore di $\\theta$ è lo stesso in tutto l'intervallo. La distribuzione uniforme assegna uguale probabilità a tutti i valori di $\\theta$ tra 0 e 1, quindi si sta trattando $\\theta$ come se provenisse da una distribuzione uniforme $\\theta \\sim \\text{Uniform}(0, 1)$.\n",
    "\n",
    "Se si desidera utilizzare una distribuzione a priori diversa (ad esempio, una Beta), è necessario moltiplicare la verosimiglianza per la densità di probabilità della distribuzione a priori prima di integrare. Ecco un esempio con una distribuzione Beta come prior:"
   ]
  },
  {
   "cell_type": "code",
   "execution_count": 23,
   "metadata": {},
   "outputs": [
    {
     "name": "stdout",
     "output_type": "stream",
     "text": [
      "Likelihood Marginale con prior Beta: 0.1118881118881119\n"
     ]
    }
   ],
   "source": [
    "# Definisci la distribuzione a priori come Beta(alpha, beta)\n",
    "alpha_prior = 2\n",
    "beta_prior = 2\n",
    "\n",
    "# Likelihood marginale con prior Beta\n",
    "marginal_likelihood_continuous_beta, _ = quad(\n",
    "    lambda theta: likelihood_binomial(theta, k, n)\n",
    "    * beta.pdf(theta, alpha_prior, beta_prior),\n",
    "    0,\n",
    "    1,\n",
    ")\n",
    "\n",
    "print(f\"Likelihood Marginale con prior Beta: {marginal_likelihood_continuous_beta}\")"
   ]
  },
  {
   "cell_type": "markdown",
   "metadata": {},
   "source": [
    "In questo caso, il prior è una Beta(2,2), che dà più peso ai valori di $\\theta$ vicini a 0.5, riflettendo una distribuzione a priori che preferisce valori intermedi di $\\theta$."
   ]
  },
  {
   "cell_type": "markdown",
   "metadata": {},
   "source": [
    "## Riflessioni Conclusive\n",
    "\n",
    "Al cuore della ricerca scientifica c'è una domanda del tipo: \"dimmi qualcosa sulla variabile $\\theta$ dato che ho osservato i dati $D$ e ho una certa conoscenza del meccanismo sottostante che genera i dati\". La regola di Bayes fornisce la seguente risposta:\n",
    "\n",
    "$$\n",
    "p(\\theta \\mid D) = \\frac{p(D \\mid\\theta) p(\\theta)}{p(D)} = \\frac{p(D \\mid \\theta) p(\\theta)}{\\int_\\theta p(D \\mid\\theta) p(\\theta) d\\theta}.\n",
    "$$\n",
    "\n",
    "Questa equazione mostra come, partendo da un modello generativo $p(D \\mid\\theta)$ dei dati osservati e abbinato a una credenza a priori $p(\\theta)$ su quali valori della variabile $\\theta$ siano plausibili, possiamo inferire la distribuzione a posteriori $p(\\theta \\mid D)$ della variabile alla luce dei dati osservati.\n",
    "\n",
    "La stima MAP (Massimo A Posteriori), che corrisponde al valore di $\\theta$ che massimizza la distribuzione a posteriori, rappresenta una stima puntuale del parametro:\n",
    "\n",
    "$$\n",
    "\\theta^* = \\arg \\max_\\theta p(\\theta \\mid D).\n",
    "$$\n",
    "\n",
    "Nel caso di un prior non informativo (piatto), la stima MAP coincide con la stima di massima verosimiglianza, ovvero il valore di $\\theta$ che massimizza la probabilità che il modello generi i dati osservati."
   ]
  },
  {
   "cell_type": "markdown",
   "metadata": {},
   "source": [
    "## Informazioni sull'Ambiente di Sviluppo {.unnumbered}"
   ]
  },
  {
   "cell_type": "code",
   "execution_count": 14,
   "metadata": {},
   "outputs": [
    {
     "name": "stdout",
     "output_type": "stream",
     "text": [
      "The watermark extension is already loaded. To reload it, use:\n",
      "  %reload_ext watermark\n",
      "Last updated: Sat Oct 12 2024\n",
      "\n",
      "Python implementation: CPython\n",
      "Python version       : 3.12.4\n",
      "IPython version      : 8.26.0\n",
      "\n",
      "Compiler    : Clang 16.0.6 \n",
      "OS          : Darwin\n",
      "Release     : 24.0.0\n",
      "Machine     : arm64\n",
      "Processor   : arm\n",
      "CPU cores   : 8\n",
      "Architecture: 64bit\n",
      "\n",
      "arviz     : 0.18.0\n",
      "scipy     : 1.14.0\n",
      "numpy     : 1.26.4\n",
      "matplotlib: 3.9.1\n",
      "\n",
      "Watermark: 2.4.3\n",
      "\n"
     ]
    }
   ],
   "source": [
    "%load_ext watermark\n",
    "%watermark -n -u -v -iv -w -m"
   ]
  }
 ],
 "metadata": {
  "kernelspec": {
   "display_name": "cmdstan_env",
   "language": "python",
   "name": "python3"
  },
  "language_info": {
   "codemirror_mode": {
    "name": "ipython",
    "version": 3
   },
   "file_extension": ".py",
   "mimetype": "text/x-python",
   "name": "python",
   "nbconvert_exporter": "python",
   "pygments_lexer": "ipython3",
   "version": "3.12.4"
  }
 },
 "nbformat": 4,
 "nbformat_minor": 4
}

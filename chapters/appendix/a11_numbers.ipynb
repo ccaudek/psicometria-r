{
 "cells": [
  {
   "cell_type": "markdown",
   "id": "a14b5775-11e4-4e5b-9ee3-fc43c5c96cae",
   "metadata": {},
   "source": [
    "# Numeri e intervalli {#sec-numbers}"
   ]
  },
  {
   "cell_type": "markdown",
   "id": "b051c20a-8f1a-432e-a1ea-4626cb065d38",
   "metadata": {},
   "source": [
    "## Numeri binari\n",
    "\n",
    "I numeri binari costituiscono la forma più fondamentale di sistema numerico in informatica, essendo composto esclusivamente da due simboli, ovvero 0 e 1. Questo sistema è frequentemente impiegato per rappresentare dualità logiche, come vero/falso o presenza/assenza, in virtù della sua innata semplicità binaria. La sua applicazione è particolarmente efficace nell'elaborazione di dati per generare statistiche sintetiche in modo efficiente e rapido.\n",
    "\n",
    "Immaginiamo di porre la seguente domanda a 10 studenti: \"Ti piacciono i mirtilli?\" Le risposte potrebbero essere le seguenti:"
   ]
  },
  {
   "cell_type": "code",
   "execution_count": 1,
   "id": "0ecd7dc4-e2f4-44d2-aa3c-bd74a09b42d9",
   "metadata": {},
   "outputs": [
    {
     "data": {
      "text/plain": [
       "(True, False, True, True, True, False, True, True, True, False)"
      ]
     },
     "execution_count": 1,
     "metadata": {},
     "output_type": "execute_result"
    }
   ],
   "source": [
    "opinion = (True, False, True, True, True, False, True, True, True, False)\n",
    "opinion"
   ]
  },
  {
   "cell_type": "markdown",
   "id": "959f6d3e-4a6d-4c27-9a45-9d1a038b8a7d",
   "metadata": {},
   "source": [
    "In questo caso, abbiamo utilizzato i numeri binari 0 e 1 per rappresentare risposte diverse, dove `False` indica \"No\" e `True` indica \"Si\". Questa rappresentazione binaria ci consente di ottenere facilmente una panoramica delle preferenze degli studenti riguardo i mirtilli.\n",
    "\n",
    "In Python `True` equivale a 1 e `False` a zero. Possiamo dunque calcolare la proporzione di risposte positive nel modo seguente:"
   ]
  },
  {
   "cell_type": "code",
   "execution_count": 2,
   "id": "0c953497-6ad0-40ec-896a-543815463f83",
   "metadata": {},
   "outputs": [
    {
     "data": {
      "text/plain": [
       "0.7"
      ]
     },
     "execution_count": 2,
     "metadata": {},
     "output_type": "execute_result"
    }
   ],
   "source": [
    "sum(opinion) / len(opinion)"
   ]
  },
  {
   "attachments": {},
   "cell_type": "markdown",
   "id": "c8ba7f87-9036-48dd-be69-7ab654e8b96c",
   "metadata": {},
   "source": [
    "## Numeri interi\n",
    "\n",
    "I numeri interi sono numeri privi di decimali e comprendono sia i numeri naturali utilizzati per il conteggio, come 1, 2, ..., sia i numeri con il segno, necessari per rappresentare grandezze negative. L'insieme dei numeri naturali è indicato con il simbolo $\\mathbb{N}$. L'insieme numerico dei numeri interi relativi si rappresenta come $\\mathbb{Z} = \\{0, \\pm 1, \\pm 2, \\dots \\}$.\n",
    "\n",
    "## Numeri razionali\n",
    "\n",
    "I numeri razionali sono numeri frazionari rappresentabili come $m/n$, dove $m$ e $n$ sono numeri interi e $n$ è diverso da zero. Gli elementi dell'insieme dei numeri razionali sono quindi dati da $\\mathbb{Q} = \\{\\frac{m}{n} \\,\\vert\\, m, n \\in \\mathbb{Z}, n \\neq 0\\}$. È importante notare che l'insieme dei numeri naturali è incluso in quello dei numeri interi, che a sua volta è incluso in quello dei numeri razionali, ovvero $\\mathbb{N} \\subseteq \\mathbb{Z} \\subseteq \\mathbb{Q}$. Per rappresentare solo i numeri razionali non negativi, utilizziamo il simbolo $\\mathbb{Q^+} = \\{q \\in \\mathbb{Q} \\,\\vert\\, q \\geq 0\\}$.\n",
    "\n",
    "## Numeri irrazionali\n",
    "\n",
    "Tuttavia, alcune grandezze non possono essere esprimibili come numeri interi o razionali. Questi numeri sono noti come numeri irrazionali e sono rappresentati dall'insieme $\\mathbb{R}$. Essi comprendono numeri illimitati e non periodici, che non possono essere scritti come frazioni. Ad esempio, $\\sqrt{2}$, $\\sqrt{3}$ e $\\pi = 3.141592\\ldots$ sono esempi di numeri irrazionali.\n",
    "\n",
    "## Numeri reali\n",
    "\n",
    "I numeri razionali rappresentano solo una parte dei punti sulla retta $r$. Per rappresentare ogni possibile punto sulla retta, è necessario introdurre i numeri *reali*. L'insieme dei numeri reali comprende numeri positivi, negativi e nulli, e contiene come casi particolari i numeri interi, razionali e irrazionali. In statistica, il numero di decimali spesso indica il grado di precisione della misurazione.\n",
    "\n",
    "## Intervalli\n",
    "\n",
    "Questo ci porta a esplorare gli intervalli, una struttura matematica che ci aiuta a definire sottoinsiemi specifici sulla retta numerica. Gli intervalli aperti, che escludono i punti di inizio e fine. D'altro canto, gli intervalli chiusi includono sia il punto di inizio che quello di fine, fornendo una copertura di valori senza tralasciare i confini. Le caratteristiche degli intervalli sono riportate nella tabella seguente.\n",
    "\n",
    "|             Intervallo              |          |                   |\n",
    "|:-----------------------------------:|----------|-------------------|\n",
    "|               chiuso                | $[a, b]$ | $a \\leq x \\leq b$ |\n",
    "|               aperto                | $(a, b)$ | $a < x < b$       |\n",
    "| chiuso a sinistra e aperto a destra | $[a, b)$ | $a \\leq x < b$    |\n",
    "| aperto a sinistra e chiuso a destra | $(a, b]$ | $a < x \\leq b$    |"
   ]
  }
 ],
 "metadata": {
  "kernelspec": {
   "display_name": "bambi_env",
   "language": "python",
   "name": "python3"
  },
  "language_info": {
   "codemirror_mode": {
    "name": "ipython",
    "version": 3
   },
   "file_extension": ".py",
   "mimetype": "text/x-python",
   "name": "python",
   "nbconvert_exporter": "python",
   "pygments_lexer": "ipython3",
   "version": "3.12.3"
  },
  "vscode": {
   "interpreter": {
    "hash": "e957f8d2d9272acec629608affb587206e5d92bb0d8d335f71da72c549770d8b"
   }
  }
 },
 "nbformat": 4,
 "nbformat_minor": 2
}
